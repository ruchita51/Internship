{
 "cells": [
  {
   "cell_type": "markdown",
   "id": "4a64fd9e",
   "metadata": {},
   "source": [
    "# 1.Write a python program which searches all the product under a particular product from www.amazon.in.\n",
    "The product to be searched will be taken as input from user. For e.g. If user input is ‘guitar’. Then search for guitars."
   ]
  },
  {
   "cell_type": "code",
   "execution_count": 70,
   "id": "c3ae4afe",
   "metadata": {},
   "outputs": [],
   "source": [
    "import pandas as pd\n",
    "import selenium\n",
    "from selenium import webdriver\n",
    "import warnings\n",
    "warnings.filterwarnings(\"ignore\")"
   ]
  },
  {
   "cell_type": "code",
   "execution_count": 219,
   "id": "faf231ed",
   "metadata": {},
   "outputs": [],
   "source": [
    "driver=webdriver.Chrome(r'C:/Users/RUCHITA/Downloads/chromedriver_win32/chromedriver.exe')"
   ]
  },
  {
   "cell_type": "code",
   "execution_count": 220,
   "id": "7006fd8e",
   "metadata": {},
   "outputs": [],
   "source": [
    "url = \"https://www.amazon.in\" \n",
    "driver.get(url)"
   ]
  },
  {
   "cell_type": "code",
   "execution_count": 221,
   "id": "4824fcd3",
   "metadata": {},
   "outputs": [],
   "source": [
    "search_bar = driver.find_element_by_id(\"twotabsearchtextbox\")    # Locating searc_bar by id\n",
    "search_bar.clear()                                               # clearing search_bar\n",
    "search_bar.send_keys(\"guitar\") "
   ]
  },
  {
   "cell_type": "code",
   "execution_count": 222,
   "id": "424c1f94",
   "metadata": {},
   "outputs": [],
   "source": [
    "search_button = driver.find_element_by_xpath('//span[@id=\"nav-search-submit-text\"]')       # Locating search_button by xpath\n",
    "search_button.click()"
   ]
  },
  {
   "cell_type": "code",
   "execution_count": 159,
   "id": "dc94a736",
   "metadata": {},
   "outputs": [],
   "source": [
    "name=[]\n",
    "page = []\n",
    "\n",
    "#time.sleep(5)\n",
    "# scrape next pages urls\n",
    "nxt_page = driver.find_elements_by_class_name(\"s-pagination-item\")\n",
    "for i in nxt_page:\n",
    "    page.append(i.get_attribute('href'))\n",
    "    \n",
    "\n",
    "#for url in page_urls[:3]:\n",
    "   # driver.get(url)\n",
    "    Names=driver.find_elements_by_tag_name(\"h2\")  #for scrapping product names\n",
    "    for i in Names:\n",
    "        name.append(i.text)\n",
    "    "
   ]
  },
  {
   "cell_type": "code",
   "execution_count": 117,
   "id": "e2f4fc7a",
   "metadata": {},
   "outputs": [
    {
     "data": {
      "text/html": [
       "<div>\n",
       "<style scoped>\n",
       "    .dataframe tbody tr th:only-of-type {\n",
       "        vertical-align: middle;\n",
       "    }\n",
       "\n",
       "    .dataframe tbody tr th {\n",
       "        vertical-align: top;\n",
       "    }\n",
       "\n",
       "    .dataframe thead th {\n",
       "        text-align: right;\n",
       "    }\n",
       "</style>\n",
       "<table border=\"1\" class=\"dataframe\">\n",
       "  <thead>\n",
       "    <tr style=\"text-align: right;\">\n",
       "      <th></th>\n",
       "      <th>products_name</th>\n",
       "    </tr>\n",
       "  </thead>\n",
       "  <tbody>\n",
       "    <tr>\n",
       "      <th>0</th>\n",
       "      <td>Kadence Frontier guitar with Online Guitar lea...</td>\n",
       "    </tr>\n",
       "    <tr>\n",
       "      <th>1</th>\n",
       "      <td>Kadence Frontier Jumbo Semi Acoustic Guitar Wi...</td>\n",
       "    </tr>\n",
       "    <tr>\n",
       "      <th>2</th>\n",
       "      <td>Vault Traveller 34 Inch Acoustic Guitar With B...</td>\n",
       "    </tr>\n",
       "    <tr>\n",
       "      <th>3</th>\n",
       "      <td>Photron Acoustic Guitar, 38 Inch Cutaway, PH38...</td>\n",
       "    </tr>\n",
       "    <tr>\n",
       "      <th>4</th>\n",
       "      <td>Juarez Acoustic Guitar, 38 Inch Curved Body Cu...</td>\n",
       "    </tr>\n",
       "    <tr>\n",
       "      <th>...</th>\n",
       "      <td>...</td>\n",
       "    </tr>\n",
       "    <tr>\n",
       "      <th>460</th>\n",
       "      <td>Cort AD810 Dreadnought Acoustic Guitar with Gi...</td>\n",
       "    </tr>\n",
       "    <tr>\n",
       "      <th>461</th>\n",
       "      <td>Blueberry 38C IN TrussRod Acoustic Guitar Kit ...</td>\n",
       "    </tr>\n",
       "    <tr>\n",
       "      <th>462</th>\n",
       "      <td>Blueberry B-40, 40\" Acoustic Guitar Kit with B...</td>\n",
       "    </tr>\n",
       "    <tr>\n",
       "      <th>463</th>\n",
       "      <td>NEED HELP?</td>\n",
       "    </tr>\n",
       "    <tr>\n",
       "      <th>464</th>\n",
       "      <td>Top Smart Home Products For You</td>\n",
       "    </tr>\n",
       "  </tbody>\n",
       "</table>\n",
       "<p>465 rows × 1 columns</p>\n",
       "</div>"
      ],
      "text/plain": [
       "                                         products_name\n",
       "0    Kadence Frontier guitar with Online Guitar lea...\n",
       "1    Kadence Frontier Jumbo Semi Acoustic Guitar Wi...\n",
       "2    Vault Traveller 34 Inch Acoustic Guitar With B...\n",
       "3    Photron Acoustic Guitar, 38 Inch Cutaway, PH38...\n",
       "4    Juarez Acoustic Guitar, 38 Inch Curved Body Cu...\n",
       "..                                                 ...\n",
       "460  Cort AD810 Dreadnought Acoustic Guitar with Gi...\n",
       "461  Blueberry 38C IN TrussRod Acoustic Guitar Kit ...\n",
       "462  Blueberry B-40, 40\" Acoustic Guitar Kit with B...\n",
       "463                                         NEED HELP?\n",
       "464                    Top Smart Home Products For You\n",
       "\n",
       "[465 rows x 1 columns]"
      ]
     },
     "execution_count": 117,
     "metadata": {},
     "output_type": "execute_result"
    }
   ],
   "source": [
    "df=pd.DataFrame()\n",
    "df['products_name']=name\n",
    "df"
   ]
  },
  {
   "cell_type": "markdown",
   "id": "4bd13c52",
   "metadata": {},
   "source": [
    "# In the above question, now scrape the following details of each product listed in first 3 pages of your\n",
    "search results and save it in a data frame and csv. In case if any product has less than 3 pages in search\n",
    "results then scrape all the products available under that product name. Details to be scraped are: \"Brand\n",
    "Name\", \"Name of the Product\", \"Price\", \"Return/Exchange\", \"Expected Delivery\", \"Availability\" and\n",
    "“Product URL”. In case, if any of the details are missing for any of the product then replace it by “-“."
   ]
  },
  {
   "cell_type": "code",
   "execution_count": 232,
   "id": "151d8737",
   "metadata": {},
   "outputs": [],
   "source": [
    "price_=[]\n",
    "page = []\n",
    "rating=[]\n",
    "product=[]\n",
    "\n",
    "#time.sleep(5)\n",
    "# scrape next pages urls\n",
    "nxt_page = driver.find_elements_by_class_name(\"s-pagination-item\")\n",
    "for i in nxt_page:\n",
    "    page.append(i.get_attribute('href'))\n",
    "    \n",
    "\n",
    "\n",
    "for page in range(0,3):\n",
    "    price=driver.find_elements_by_class_name(\"a-price-whole\")  #for scrapping product price\n",
    "    for i in price:\n",
    "        price_.append(i.text)\n",
    "    \n",
    "    \n",
    "    rat=driver.find_elements_by_class_name(\"a-icon-alt\")  #for scrapping product names\n",
    "    for i in rat:\n",
    "        if i.text is None :\n",
    "            rating.append(\"--\") \n",
    "        else:\n",
    "            rating.append(i.text)\n",
    "    product_name=driver.find_elements_by_tag_name(\"h2\")  #for scrapping product names\n",
    "    for i in product_name:\n",
    "        if i.text is None :\n",
    "            product.append(\"--\") \n",
    "        else:\n",
    "            product.append(i.text)"
   ]
  },
  {
   "cell_type": "code",
   "execution_count": 298,
   "id": "6eb0f74e",
   "metadata": {},
   "outputs": [],
   "source": [
    "product_link=[]\n",
    "link = driver.find_element_by_xpath(\"//a[@class='a-link-normal a-text-normal']\").get_attribute('href')\n",
    "product_link.append(link)"
   ]
  },
  {
   "cell_type": "code",
   "execution_count": 295,
   "id": "caf2ec96",
   "metadata": {},
   "outputs": [
    {
     "data": {
      "text/plain": [
       "1"
      ]
     },
     "execution_count": 295,
     "metadata": {},
     "output_type": "execute_result"
    }
   ],
   "source": [
    "len(product_link)"
   ]
  },
  {
   "cell_type": "code",
   "execution_count": 296,
   "id": "15949de9",
   "metadata": {},
   "outputs": [
    {
     "data": {
      "text/plain": [
       "['https://aax-eu.amazon.in/x/c/QoQ9TOSh4fT0vLiriknqxCkAAAF_6cq6WwMAAAH2AYuZ_I0/https://www.amazon.in/dp/B0757H5P13?pd_rd_i=B0757H5P13&pd_rd_w=7XjLS&pf_rd_p=d882f7bc-c7c5-4887-b939-1af6f91cc448&pd_rd_wg=Pjl3A&pf_rd_r=DS0M60WH1CJFBAH7RFR1&pd_rd_r=7799de66-fb4c-4839-9b66-9a325a8fa57b']"
      ]
     },
     "execution_count": 296,
     "metadata": {},
     "output_type": "execute_result"
    }
   ],
   "source": [
    "product_link"
   ]
  },
  {
   "cell_type": "markdown",
   "id": "be4b006b",
   "metadata": {},
   "source": [
    "# .3 Write a python program to access the search bar and search button on images.google.com and scrape 10\n",
    "images each for keywords ‘fruits’, ‘cars’ and ‘Machine Learning’, ‘Guitar’, ‘Cakes’.\n"
   ]
  },
  {
   "cell_type": "code",
   "execution_count": 418,
   "id": "9a485e7a",
   "metadata": {},
   "outputs": [],
   "source": [
    "import pandas as pd\n",
    "import selenium\n",
    "from selenium import webdriver\n",
    "import warnings\n",
    "warnings.filterwarnings(\"ignore\")"
   ]
  },
  {
   "cell_type": "code",
   "execution_count": 340,
   "id": "b24e0c0e",
   "metadata": {},
   "outputs": [],
   "source": [
    "driver=webdriver.Chrome(r'C:/Users/RUCHITA/Downloads/chromedriver_win32/chromedriver.exe')"
   ]
  },
  {
   "cell_type": "code",
   "execution_count": 341,
   "id": "1eba85d4",
   "metadata": {},
   "outputs": [],
   "source": [
    "url='https://images.google.com'\n",
    "driver.get(url)"
   ]
  },
  {
   "cell_type": "code",
   "execution_count": 342,
   "id": "c5a0e556",
   "metadata": {},
   "outputs": [
    {
     "data": {
      "text/plain": [
       "<selenium.webdriver.remote.webelement.WebElement (session=\"e72a251d718a27f8c66957564ae83153\", element=\"44a2e667-d1e3-44c5-a49d-23412216b53b\")>"
      ]
     },
     "execution_count": 342,
     "metadata": {},
     "output_type": "execute_result"
    }
   ],
   "source": [
    "search_fruits=driver.find_element_by_xpath('/html/body/div[1]/div[3]/form/div[1]/div[1]/div[1]/div/div[2]/input')\n",
    "search_fruits"
   ]
  },
  {
   "cell_type": "code",
   "execution_count": 343,
   "id": "4e9585a2",
   "metadata": {},
   "outputs": [],
   "source": [
    "search_fruits.send_keys(\"fruits\")"
   ]
  },
  {
   "cell_type": "code",
   "execution_count": 344,
   "id": "bde1be52",
   "metadata": {},
   "outputs": [],
   "source": [
    "search_btn=driver.find_element_by_xpath('/html/body/div[1]/div[3]/form/div[1]/div[1]/div[1]/button/div/span')\n"
   ]
  },
  {
   "cell_type": "code",
   "execution_count": 345,
   "id": "48265c42",
   "metadata": {},
   "outputs": [],
   "source": [
    "search_btn.click()"
   ]
  },
  {
   "cell_type": "code",
   "execution_count": 356,
   "id": "ffea5de0",
   "metadata": {},
   "outputs": [
    {
     "data": {
      "text/plain": [
       "[<selenium.webdriver.remote.webelement.WebElement (session=\"e72a251d718a27f8c66957564ae83153\", element=\"732ea536-4540-49fb-bc4b-1da5db33f3d3\")>,\n",
       " <selenium.webdriver.remote.webelement.WebElement (session=\"e72a251d718a27f8c66957564ae83153\", element=\"eff64e27-580e-49eb-858e-1ee5003d3a40\")>,\n",
       " <selenium.webdriver.remote.webelement.WebElement (session=\"e72a251d718a27f8c66957564ae83153\", element=\"2bd8498d-6913-4ce6-b063-a7eb09626b7e\")>,\n",
       " <selenium.webdriver.remote.webelement.WebElement (session=\"e72a251d718a27f8c66957564ae83153\", element=\"2af616aa-48e4-46d2-acf9-7960b175d457\")>,\n",
       " <selenium.webdriver.remote.webelement.WebElement (session=\"e72a251d718a27f8c66957564ae83153\", element=\"241f4c23-30a9-454a-b14f-da9b0c13bd91\")>,\n",
       " <selenium.webdriver.remote.webelement.WebElement (session=\"e72a251d718a27f8c66957564ae83153\", element=\"bbab7dc1-d79b-461d-8f12-f46c75d52a7b\")>,\n",
       " <selenium.webdriver.remote.webelement.WebElement (session=\"e72a251d718a27f8c66957564ae83153\", element=\"0987dcb5-b67f-4868-8daa-cf447922558a\")>,\n",
       " <selenium.webdriver.remote.webelement.WebElement (session=\"e72a251d718a27f8c66957564ae83153\", element=\"c609f6cc-4e91-4b84-9522-224475282195\")>,\n",
       " <selenium.webdriver.remote.webelement.WebElement (session=\"e72a251d718a27f8c66957564ae83153\", element=\"73fa0bce-da35-4187-a5c2-5920cc3d6579\")>,\n",
       " <selenium.webdriver.remote.webelement.WebElement (session=\"e72a251d718a27f8c66957564ae83153\", element=\"5088e39d-9711-4fb1-a0da-0ee153328ae5\")>,\n",
       " <selenium.webdriver.remote.webelement.WebElement (session=\"e72a251d718a27f8c66957564ae83153\", element=\"fb6d207e-3f93-4100-b3c0-785bdb08e65a\")>,\n",
       " <selenium.webdriver.remote.webelement.WebElement (session=\"e72a251d718a27f8c66957564ae83153\", element=\"db3deba2-5395-441a-833f-0b12330cf12d\")>,\n",
       " <selenium.webdriver.remote.webelement.WebElement (session=\"e72a251d718a27f8c66957564ae83153\", element=\"93aa7b3b-27e6-4553-ac56-4c23767e606d\")>,\n",
       " <selenium.webdriver.remote.webelement.WebElement (session=\"e72a251d718a27f8c66957564ae83153\", element=\"9612e30d-57e3-45bd-b060-252fe7ecb9e6\")>,\n",
       " <selenium.webdriver.remote.webelement.WebElement (session=\"e72a251d718a27f8c66957564ae83153\", element=\"18694890-6168-4621-89de-a0d9961a36c8\")>,\n",
       " <selenium.webdriver.remote.webelement.WebElement (session=\"e72a251d718a27f8c66957564ae83153\", element=\"b32246d1-2883-4243-ab4a-3969c6ed3518\")>,\n",
       " <selenium.webdriver.remote.webelement.WebElement (session=\"e72a251d718a27f8c66957564ae83153\", element=\"e559e27a-55e2-4f7d-b906-4b4a4a5f06c2\")>,\n",
       " <selenium.webdriver.remote.webelement.WebElement (session=\"e72a251d718a27f8c66957564ae83153\", element=\"988eea1e-cbb1-48ab-b1ad-200274e1d6cc\")>,\n",
       " <selenium.webdriver.remote.webelement.WebElement (session=\"e72a251d718a27f8c66957564ae83153\", element=\"78453733-8233-40ee-be69-044b851c706f\")>,\n",
       " <selenium.webdriver.remote.webelement.WebElement (session=\"e72a251d718a27f8c66957564ae83153\", element=\"9cf58ab8-3709-4ccf-a154-3ef75d93f545\")>,\n",
       " <selenium.webdriver.remote.webelement.WebElement (session=\"e72a251d718a27f8c66957564ae83153\", element=\"17335b04-f97f-4ef8-a0f4-0c969e13342c\")>,\n",
       " <selenium.webdriver.remote.webelement.WebElement (session=\"e72a251d718a27f8c66957564ae83153\", element=\"b3fc9695-a130-4987-8072-768b3afbbfc1\")>,\n",
       " <selenium.webdriver.remote.webelement.WebElement (session=\"e72a251d718a27f8c66957564ae83153\", element=\"5d161c16-20f6-4a00-bce4-25007069fc12\")>,\n",
       " <selenium.webdriver.remote.webelement.WebElement (session=\"e72a251d718a27f8c66957564ae83153\", element=\"673d7b1b-e25d-45d7-8394-53bb6d890625\")>,\n",
       " <selenium.webdriver.remote.webelement.WebElement (session=\"e72a251d718a27f8c66957564ae83153\", element=\"9b9da829-fbb4-4326-ad7a-f571f1592346\")>,\n",
       " <selenium.webdriver.remote.webelement.WebElement (session=\"e72a251d718a27f8c66957564ae83153\", element=\"4c44d6bc-8033-4196-b34b-1f6bde8f99d7\")>,\n",
       " <selenium.webdriver.remote.webelement.WebElement (session=\"e72a251d718a27f8c66957564ae83153\", element=\"2da79958-33ed-4388-8f72-b22d39a5848c\")>,\n",
       " <selenium.webdriver.remote.webelement.WebElement (session=\"e72a251d718a27f8c66957564ae83153\", element=\"f3c9f7b1-d22a-4f5c-9491-12832d4ae076\")>,\n",
       " <selenium.webdriver.remote.webelement.WebElement (session=\"e72a251d718a27f8c66957564ae83153\", element=\"216c0091-7bd3-4c6e-bd28-f42401d4f5fd\")>,\n",
       " <selenium.webdriver.remote.webelement.WebElement (session=\"e72a251d718a27f8c66957564ae83153\", element=\"528e2b04-d3ac-4303-9c0e-f067364b126d\")>,\n",
       " <selenium.webdriver.remote.webelement.WebElement (session=\"e72a251d718a27f8c66957564ae83153\", element=\"b9cc650c-0e93-4de2-bc78-7a2699ded93f\")>,\n",
       " <selenium.webdriver.remote.webelement.WebElement (session=\"e72a251d718a27f8c66957564ae83153\", element=\"39742d5f-c821-4998-8e1d-2755d4c5b903\")>,\n",
       " <selenium.webdriver.remote.webelement.WebElement (session=\"e72a251d718a27f8c66957564ae83153\", element=\"5a0eed68-7943-4f6e-b2c1-00de7483e477\")>,\n",
       " <selenium.webdriver.remote.webelement.WebElement (session=\"e72a251d718a27f8c66957564ae83153\", element=\"37ffdb65-8fbe-4f53-a686-af63d4da9aa9\")>,\n",
       " <selenium.webdriver.remote.webelement.WebElement (session=\"e72a251d718a27f8c66957564ae83153\", element=\"7c5dc4d7-4f8c-459a-9e79-7bc0ba6e5819\")>,\n",
       " <selenium.webdriver.remote.webelement.WebElement (session=\"e72a251d718a27f8c66957564ae83153\", element=\"d5555c7b-2a36-4094-90c6-739c14b9a57f\")>,\n",
       " <selenium.webdriver.remote.webelement.WebElement (session=\"e72a251d718a27f8c66957564ae83153\", element=\"22c0d861-8edb-4976-a56d-efe867407dd3\")>,\n",
       " <selenium.webdriver.remote.webelement.WebElement (session=\"e72a251d718a27f8c66957564ae83153\", element=\"d4016258-801f-4212-8298-ab8a10630dd0\")>,\n",
       " <selenium.webdriver.remote.webelement.WebElement (session=\"e72a251d718a27f8c66957564ae83153\", element=\"bd26e28d-5008-4f96-ae77-e6380f5cf5ad\")>,\n",
       " <selenium.webdriver.remote.webelement.WebElement (session=\"e72a251d718a27f8c66957564ae83153\", element=\"b2967013-d5e7-49b0-a0a9-8025036dc5dd\")>,\n",
       " <selenium.webdriver.remote.webelement.WebElement (session=\"e72a251d718a27f8c66957564ae83153\", element=\"005a5635-5811-42a6-a423-e946b9c8edd5\")>,\n",
       " <selenium.webdriver.remote.webelement.WebElement (session=\"e72a251d718a27f8c66957564ae83153\", element=\"19f33ab4-3736-44d2-b6a8-5bc1ef61df8f\")>,\n",
       " <selenium.webdriver.remote.webelement.WebElement (session=\"e72a251d718a27f8c66957564ae83153\", element=\"b45862fe-49bc-4317-b371-ec26cf4edba8\")>,\n",
       " <selenium.webdriver.remote.webelement.WebElement (session=\"e72a251d718a27f8c66957564ae83153\", element=\"fd28ef21-d923-4bae-b328-ec4f3807a137\")>,\n",
       " <selenium.webdriver.remote.webelement.WebElement (session=\"e72a251d718a27f8c66957564ae83153\", element=\"316a087a-9a60-4e13-b77d-b9e21fff7127\")>,\n",
       " <selenium.webdriver.remote.webelement.WebElement (session=\"e72a251d718a27f8c66957564ae83153\", element=\"09aa6de8-f7ab-4dba-8556-e445f1277dbb\")>,\n",
       " <selenium.webdriver.remote.webelement.WebElement (session=\"e72a251d718a27f8c66957564ae83153\", element=\"420839df-d859-434b-8dda-6d223064f5a7\")>,\n",
       " <selenium.webdriver.remote.webelement.WebElement (session=\"e72a251d718a27f8c66957564ae83153\", element=\"2b5e44a3-5212-4ce8-ac41-49889e386838\")>]"
      ]
     },
     "execution_count": 356,
     "metadata": {},
     "output_type": "execute_result"
    }
   ],
   "source": [
    "f=driver.find_elements_by_class_name(\"rg_i\")\n",
    "f\n"
   ]
  },
  {
   "cell_type": "code",
   "execution_count": 357,
   "id": "ce2ae7bc",
   "metadata": {},
   "outputs": [
    {
     "name": "stdout",
     "output_type": "stream",
     "text": [
      "data:image/jpeg;base64,/9j/4AAQSkZJRgABAQAAAQABAAD/2wCEAAkGBxMTEhUTExMWFhUXGB8cGBgYGCAcIBweIxgeGyAfGx4eHykhGyImHhwhIjIiKCosLy8vGyA0OTQuOCkuLywBCgoKDg0OHBAQHDMmIScxLiwwLy4zLjYwLjAxLi4wNjguMC4uLi4uMC4zLi4uMC4xLi4uLjAuLjAuLi4uMDAuLv/AABEIALcBEwMBIgACEQEDEQH/xAAcAAACAwEBAQEAAAAAAAAAAAAFBgMEBwABAgj/xAA+EAABAwIEBAQDBgUEAwADAQABAgMRACEEBRIxBkFRYRMicYEykaEHFEKxwfAjUmLR4RUzcoKSovEkY7IW/8QAGwEAAwEBAQEBAAAAAAAAAAAAAwQFAgYBAAf/xAA0EQACAgEDAgQDBwMFAQAAAAABAgADEQQSITFBBRMiUTJhcRSBkaGx0fEjwfAVM1Ji4UL/2gAMAwEAAhEDEQA/ABPGGBVhCBqKmlSEq5j+lUWmOfOKWMHnC2VEhUoMa2yVALgGPhINietMfE+b+M2UG+qD6Hcel6pZa64wwpzDsoU6gytRTqUEmR5Qd4tMbTSvhtZ+PoRHtbYceUeRjiKkOPLUlpClqVPlA1HvzkRRnFFKihplHmA06lKOpRiCVSdKR2AEdajez1etLqiPEKSlagmCRNpt0/Oh7eLJcWsbmq29R3zmTvL9xLH31xhd1AlKpCgQoKgRuLGAYrsbminxcqUo9b94AFS4LFpUhYUkK1RANzOwA9Z29K2HgngTD4dtClpC3olajeD0HYbCldTqfLGAc57Qy0gkFh98yVrJMSpBJYcAI/lN63DBcDsO4JhjFJ8QoQmFJJQpKtABKCkiNvfnV3NMYygGY96t5FnCH2UuIIIuLdjH6VLGt3ttbt7Qtum2KHAOJ85cVYYIZWor0phKzusC14tqiJ679gTcWCJEGdx1qpmDIcTvB/Ceh5H98iaHZdmG6VWIMKHQ/u/oRSp1BrfY3wnpMbcjIkOLa8Eyn/aP/oenp06bdKnZxVfeJjzTdCviB+U0Iw5Lay0ozF0nqnl7jY+nelG9DcdP0mviEIYtIB8Qf9x1HX1H1HoKi8eK5bsUBxWN8JZQraNSPTmP+p+hFL2sSTieLCuemcGE6U6S5ck7fEuRcXtHuaSvu5N5t8/n7fpRnKs3bxS14NxekrIWyr+oCCPdPLeNUXqk42pC1hyym1GZFjextBSCNt5lPSrmnJalc9hiX/DLQFKjrnP4zsqxyMO5qKFqUR5SmNQmATcEAWN79qp4rEeK6pUBBKiBPmA5eWU9BE/lUJOozttBgeu09Oo5p71IhB0FQImRE8udvp/ejlzjAlMUqH8w9TxPXcCSUCUpBUBMmRPOxkfnbYU+YrPG0Y44cqGs4dKx3HiLB/SlTIMrU7pfdhDDZ1KWSIhFyIOwkXPrSXmWdOYnMVYtEpBWBh1KEJGkaUoUdhrBNjeVRQ7ajZUyjjPSRvFLgXVM5xnPyz/E2bEZpaxoBm2LJBJNCcw4na1pbaStby7JaSklRI3tyHc2tNKHFWeYoEtusuMA2lQt7KHlPzqLTpL3PIx9eJLYBeshZzGcU4NwUhKfUEn9fpRf79CVCYiFEDmbx9Os0PwHB7wQ06skLcB8NqIVGk+ZZURoGnr/ADDnavj7wUKU05KHEGCFb9j0M2vPSr4QKox2man3AkyxjMQVfET8It0IH96p6Sff5dJmvXl9P36VEp1WlRSkkADUQPhEwJ97TWycCekc8z148psNz++ck0zfZY4k4le58t+8KIAA9d/+I60mO4kqhIgEm56DrWt/ZVlLbbCngmFPHeb6R5UgGfc9Sa9Re8De4+GPKX1H8J/KonH1Xsf39KjxT5RGmVSdh+49qruKWoQZQo9IJHc0UxadicxAgAwb9p3P5ih+IxJEJUSB1J35xvPtA25194tKyfIqFRabxfc9T/ahOWqe1L8RQK5EETBgdDzJmhtYQYPBJl7F5kEo8qVQL+VKjyPMD9/ll3FeOSmVNJ8PxCfETBSSq9yec3nv61pD2JN5UbCNPX9+nMUtcQtpfTodAIBBAnaCPcAm3cGtecVGZuu01OG7TJ1O966taw7OFCQPu7dh/KP7V1L/AGxPcQ3+rf8AX85n75SpaUTAm56Dmat4vF4dDJW0txTqVlCkrAAiYBTHYAn1oG6qCFCJBkgzBHS1yO3OreBU2kqdxOGcW1uhMqQlRMC0CNI3j9KpaNAqEd5i+4s4YQlw9kiX0HEvplMkJTy3ifpTCrCYYJlOGT4OxX4Y09rx3qzkeDUvCpR4Rb3htwFMpm0djRp/7+8nwVeChodBNvwgekVNsGXbcehiD2O7nJImb8Q5OMI80+2nUguJUhMfiB1aR2MWrZ8n8UspceBaUsTo3XHKRMJt1odlGEYXiAkgL+6J8RXZxUpRPKY1GOXlo84sqJKok1K12pwoB6y9pN5QbuvvBmZ5Gy+CFKdAI38lvY+lVOHsqdwS1JCw7hnLoWBBQvYpWnlIiCLSDtIk2Unpavtq1iJSqywdiOnqN6m1XkjbjEccsV2k5HtPtvFX0nnt6/8AwUIzz+EoYgfCLO/8eS/+p3/pPavVPaHFskypEEH+ZBulX0I9QatKeCkwYIO4P1BonmbgUsiLDYZ4jEak9aq46VJBT/uN3T3HMe4+sUJwLvguHDKJgDU0Tzbnb1QfKe2k86uOPQQrp+VZ3MPS38iYPXIk7eIC0BQMgilnjQksFaRK2jqjqn8Q/wDG/qBVw4sNulE+VzzJ9fxD5396+W8GcQ6W58v4qY09T2WrtGf2hkp35xMzxGJLq0eDqKwZ8oMjaIi9aTlmeqWgDMMM7KRAfSi5H9aefrB9KPrYweXtwEJ1RZIH1NI2ecSF1RMgDkByroGrFS7RHtHoyfXuIHv0/CHhgsC4ZRmDSUmTC41el1JgDpFW8HgMtU4ltOJL7mmSltUgxzJHwi8fEOQua+eDeG2Q394xCErcc8yUkWSDcSDuedT8TZkxhtLiW0BROmyQkkRJv0BAMn9aVa9EwTjJ7d4jf4pqMlFbgZGf45i79qq8R4QbQW0YRMJ8NuQSdxrtBFrAWB60pcM41MpROkK8oJEpJMbyIPz3FaPmGCQ9iG231ILAGvRJla9gFctIBNuZozmWLa8Mo0pDYTBSQNMd+UV8usVFy/vwOvETo1rVtkjOeuYvZMx92xJWyx4q1jQVBQSEiZMlU2JAuBy9KO5jh8wfTthMOP6peUf/AFSBQPC5u2Alxvfed7EcxzH7tV3FcQOLTaI/pI+tWvs6WYPadBdovOIYKPqf8xAGYcPgeL94xDj61p0nZIjWlRgGZkpHypfxmXt+GlDpWA2NLbyRJSkbJcAuQNgocrHaaZyhxfl0FU84t89hVnhpzDIcWl9IXfy/iEjlba9veivpq9mFGMdMRm3Q0nTkEZI5GOszDEMuDZ1Dkjy6VTqExMH5Wm9qdvspwCVt4t14pKDDZSq4gDUqR31AR2poz/OcvW8jDYhLKkpjSmxCDySroP8AFXziG2yA2kJSBMoA0xFvS9hY+kVDe3qpHecu+74ZnWY/Z9ifva04VA8GJSpa4CZN0c1KII3jaJrR8rbOEYabcADkBAAUPMYuBcTz5VZxmceCwt4oJDaNSwgAqMJ1GJjlffakbh7iD768MQtQB1q0t/yJHwgdbGT1JooZoJFJM0lHiG6lBI572H6n9+sOIUhE81mwnlP75jryvQ53HBPmJsP36Dn/AJmqGCxxUS6ZAEhIJ+vra315UXzBPiuIXcWEQJMm5t+pMATzPW1CMRiYcV/V8+m1uk8hXwvFyTf9ekc7z3oPmWIUClV4ChNupj235V9uBmdsv45SdOkqJPLnpm0Tz3I+U9ll3EhRUh7bmTsQT9Beiq+4/e9KHFONTrSgdyr0mwP50O3JQrMOs0XD45CUgaU2FdWSJzPTbxCI7qr2pv2e33/KL+S0OOZZg2C4Hytwm7YB0jT1JAuZHptRTFZ3h38MkuILi0+dPmgJKTIEC1iIMi9As2zFtbS0OMp1hZ0un4tMCBPLnt8qEnFNJw6GvAhcypzWQVz0ExHtXR6a0LUoYjJHJ9419mcAM+SflJsxzxTii54rheUCEgapSSbXmCBNgOfKjqcBmjo8NCnimACQecX81jvNCuAsMl7MGwoToCldrCB//U+1bnhsX4aIFvSpmqvTzdre2cyggDjcQM9oo/ZhlD2FGKZdQpC1hCk9TpJ1beoPvTnz/wAUu55m7iCHm/jQZAPMcwe0UYy3M2sY34zJn+ds/EhXQjn67RULWDzMuvOP0jfw8+/6whrQEzeSIjcbyN+dz2qouP8A7v8AXavAkkwB7D9zXmKWhhsvPKCEj8J3PYevSkvNtvIBXoMTSqE78mJP2hZx92x2EjYMw6OxUNM+l6Jox3wrSZSd/Tr7UjZlONxLmIcmVbJ6JGw/fWruXYw4YpZcJKFf7ayPmk9x+oqlfp1NasnxDqPl+8WtqsHL9O0ac8ZK0BaP9xs6kHvzSf6VCx9jyqgxmPiI1D3B3B5g+hr7wuJN0m4/D6dKCZs592c8SP4az5wOSv5vfnSaLvO3v2/aeIuOshzXEqOkD4krEHsd/pP0r5RnymZKVQedV8W4lSkOTCIKtW9vhmN/it3vQfM1FVzCauaH+muSMSroQmxu5/tLOLzhbpK1KJJ6mhbiydtyYA9a9weFU6tDbSSoqUEg3iT1OwA3rQHfs4DSNYxGp0DmkaAdzA+m5pqxwATEtb4jgbRPeEs6fX4eHMEDy+IQZAA2N4mBH96fXA0B5R6k7mq+BwjLTCW0IAhO/U9f1mkbM8ycWXEeKVN6iALARMEWFxyvUd8Ix2YJI6+053dnlo65StlLavDCYWSdQvzIt26AW6Ul8S4PUtxHiq8PcJsAOcGNwO9Usjzs4Vnw1NKUlJPhkH8MkwZ6Tynfa1DcM/icY8oBSUJWrcchtv2FrXPatJvZvUBgcAw1VLWnCyyUM4dLbSnVh0NpUfLqSQrkLi467V2Tu630JkAFY39amxuAVhYQ+kPNbBRspPdKviT/AIEyKA48eEQ624VtkghX4kGbBYGx6KFj22q7RrOx7TrdPrtqiuzj2PvNm4uwjLjSm1HzECCDMEXFvbasqx7brBGoQkWCk7f49D7TQ0568TJeWfUzU6s6UsaVKImxkageV+f0NL+fqEsyMEe0VrbV6c+n1L/nSfGHyNzE6ltoOiT5lkATN78/WtFwWOw+AyxnxQnUNQ0IuVr1qEj1n4jYfKvnG4CQyy2QlvypBH4RaTfe1VDk4Q+4wtWsJT/KACDcADsSa8axmBc4xIWo8SNr4ZfTnt1hXhbPn8SwfHwqdJQQShyNQIiyFC0g/wA1JT2SowhBQVIMb+34htPKvrKuI1tBSNXwqKSPRUVfzvFIxDQ82lwjyyYBPT5V7ZYtarnvOkr01NWXwCpgdHEanFBlXLc9u3aKZVZq2E2WAALCY+lZdiwtCpmFJmSedxTZw5wbjcYErdhlncFQ8yu4TyHc/I195ZPK95z+qdVcxqwHw6jYquf0obxDmbKGzqWncQJk7g8qvu8L4BmzrinF7HUsnt8IgfSvhGGwCZAbTA56R/airSR1Ig/L1FgylZI/CKeb8WiClnc7En9xSqnFSSpSgVHeetayw5gTu0n3QKnGQ5a9uy3PZOk/SK35WehEG9WoQeusiY7vfrXVravs/wAt6kdvEXb611feU8H5p/4N+EZ+HuE8K0ArQlbkSpxYBUT7/D6Cworj8E2RBSlQ6EA/nQZzHkc6gezGBc1xjagOmCMt7zpV07Z4PEGYvhxhl9GLYSG1onWlAhK0kQfLyI3BG8X7W3sclQBSoEG4I50NzLObEDaKR8lRjFvraww1JCpOowlE3ueXoJPaj0U2XKWduVHf2+s81FARQcdT2jnmj/lN7RzpSbweMU4HMKFtRs7qKB7c1D2Ip+wOQpSErfPiOd/hHon9TJ9NqvOqBHlFM0sa/hwfr+0+r02RgmLP/wDqczbTocfQT/OGxq9zsflQPGYh15Wp1xTiuqjt6DYe1M+b4ZsJ1urSgdVHf0G59qXsY4yhKy2sKWkSlKwUhXm0eWd4VaJkwbWppBv5/iGJppGO/wCct5BhipdhJ7U9P5Gw4z4LzYc/FFxpJESFAgpMcxSzk+Zstqbbc8RS1JSoaEpCSCqOVwASBJiZp2ZELJ3k1usspyRFrmF3HYRSz3JxhGfGQolCVDUFXKQTAg7kAkC8mOdVWcsVjwgIENq3V6G8eh/e5DTxg0lxgMzBfcQ2PTVqV8kJUfamDJsMhpIQlIASABHQcqHXp6zaD84MttTpBOF4Hw/hobcSHEtiEJXcJ3PlGwuTffvS9xF9nrKjLfkI2EAp+R29q0h12KE4569ULiqLwYKl2J56RAzLNGMOhKRob8OyUAQbf0i5qjnuc4teH8raGypMzqKjBtKbQD60W4yyhDqdceYX+VRqKFtgctNRjcvJJyR+En6vT+Ww2dDF/Cvv/dw194WRERYECOSgJ9qW2GcUStpgEpBImNjN4MTT7wZwS+6C466pLSiSlIABKZMSYkWrS8u4fZZSEoQABTFa2EnYoI9+0ylGPiMxxKNLKUup0KE2VaOsTuKFcO49KD5bJBMfO1q2vPcpadSQpINZFxnw6GVJcaJAKtKgPp/ahK2bPKfgnp7R3Sf0GLDkGXM3zlLiYUQaRcS4pK4bkkgykCQR3FPOEywBky2lRIMlQ76iEnkRMT/SapZVgGhiY8rZOoSrnCuc9RMHuO1UdPSKsnOZQ1ZZkAxj6Rf4Y4cdxjpaCg2QgkFc3Okx7agJ6A86bV/Z68lLxZV4pTZnZM2uSogAGdo5b71omXZb4GnSkEOFXiTNhEWG07CSL1OnDfxNSVqDXheGWySUkcjB5xYnnXj6jOcfdx2g0scLye0z/KswGJaWwpSRiGlaVCbakmAoTBKSRIqLEP8A3YO4nFuBTqpCQDyAsEjnMUx8Y5W0/h3AVlspIIUkHVIsDIvAn5TWPZzl7rS9DuomPKSSrUOoJ/d6xp7VuG3OPlJtvhWTvB4lMY0rUpRtrUVHtJmiWW5ohCk+INSR8NpIJ6eu1BlYYxPKnb7LeEvHeTiHRLaTKQecc+97fOnrEUrtMJbqmqrCkfICNfBPBPiOHHYtO5lppWyRuFKB/F0HL12O8Q8QaZQi0Wq5nmYq+BCSALCKScd5iZ3rZ/poFWUvCvDg7ebdyT+UpYrFajJ3JqBSSRArg35gD13NSl/wXGW3gUKWLggg6iU6TB5b2oCkkzpLHrpErJSqec1aw760XuP3/miWGbUAgLFy2XFKiLhaUpEdwon/AK1G6hCkyFAxMkbTJt7UQqw6RdL67B0g/wC/Krq+fu07T868oW8w/lVS69mCwZoZi8zWo32p5zXgB0JJZxBB6KSCPpBHzrMOJMBi8MqHUpj+ZIP96k1aTnBGD85ztfiCFcngwlgCp93w0nupXQf3PL/FP+XsIZQEISEgfU8yTuSetK/BeXeGwlZ+JwBaj67D2Ee80w4rFpaQXFzpHS59h1rLqC+1e3H3x4HcgZvr9Je0zf3nl70vucZ4dClIb0qckJSpSvKVk2EC+k7a/hBUJKZpd4p4kOIaDDXkCjKxErQASnzlKiFTIMDYEiDFBcLiEs/7alCQorKPLpUCFJS9qbA0nQVBIibDlelp9AMbrPwkfV+IEnZX095YxGaOK1IeeLi1LStQSQoABMhPwEgHyiNoCusmPD4dtC0gMKccWA4FLCg2hwXVEp/iQDJkaQeYiTLl2XBGlxdtUrCiVDcjw0JSUhBJhQCSdiRNiA98K8HKw6y7iHA64sTpAOlOq5SpE6ZCtKrAAFIpuxkVcdvYf+RGtHds/nI+C+HilQxKyNSgShCQUhEqN4gC6QIEc+wp3bTFRsoPO560E4s4jQ1GGQ6ht5xPxquGkm2tUd9h1vypBsufmZTSvbhV5gtWdh7Ng2ky3hkK93CQD/4jy+uqnhrF2BrC+HnG8NjBD3iJJKNZTAVJEKuZuRz61q7GLATE+lYtHkvtHTH5w5qOz1dYVxOP3JNUXcZq50Kx+KoerGxSF9rMOsESqjiF8WvUkpoHwRkDrz7/AIi1fdm3NKUWhRgKImJ0iYifyqROY/EegJ9gJJ+V/amjgt8DBtK5rBWfVRKv1rGjRiSGHBnliZrB7xxYQEpgCBXw+7AJ5UNdzC1qGY7NbG9XTcqpgRevTMxkuLxMTekHjh+WVGdiCPYg0ZxWbgzNqS+JscHIQkxqITYEm56C59Kl7d1ysB3jtlOxDmQ/6qRCrCDMX6QCbjvcf4qpmD7jytYKdQO1h+Ecz0jaTOqedA3cUttZRAUUe4tzgiLzeRz63qPDeIuUTpCiLxdMTF+kGO9WzWBzJ76lm4M2nhjGqU0HkyrUhK1DvpE/M1YdzxQbSS2mVK88SNPKUCkbKsXCUsQUeGlIkK1a+cna5VNogSIpkTPlUUncKE8/8Vz9rvUxTPGe/t8pYqrSxQ/WXsTjUaSpYKjpmEkSeXv6UIzvAtYpiFL8MaSUqidKhBE8yN7V684pRKnQNU3tAuZFulVM3zYttaUp/wBwRKkmIG8e20UvWD5g29c9YVwoSZh4anHRhwZJXpkfWJremcInB4VDQsqBJHLsOw2rOOB8sS5mrZKVAgayCPLGnykc/wANPPFyyp7TNr/QGumByNxHTj7zIWk041Otw/RZUdeUq+oj0ryCoX8wHMi/96FYfFKCrwBMb/ufSrGIxBHWT+/avNxPM6w07TgT5xWEB2+VD321agpalLKbArJUQAZgEkkCaNtYxFvEv3/e9c/gSfMhSVJPzHtQ8ntPg+DhxAKX3ARJJEzHX9/pX3g8SgDTNgFFR2udS1GOcrVAHT0qbFtQOQ5W/f0oVisOIj8vb9+9ehoVq1cZHXtL7StaUqmJSDHSwtty2rqX04YIGkBVu9dXuYLZZ7CfobGY8AVnfHWIbeZWkgSASKnez1TqihvzH8vU8qXOIcucj+I55eaUiJHqfzikmNlpyOnvOJqqcnMK5er+GgdEiPlVPirEkMaQ2HNagAkqULi4sgEqvB02Bi8gQa3C2NDjQQLFHkImdrC5ubRVji3LnVsoDaZVq/mKR/2gi3ehUrstG73nSag79P6O4iZleVLdXDGtZmVr/hoNkqkiT/DSFR+GfOBe0t2WcIOrbcS48tpM6D4iQkLRpE6NCgogXAEkbyKvZHlqGNKxHiAKBUkaQdSgownYXA6m29GU4mTNyepMn5mmrtaWOEPEnU+FEDc/WEWUNttobaTpSgCCQJtzEfDeT71ZbRO1VsEyVCTtQPNOIluuHCYCFvbOOm6Gh6/iV2HvQl9XAEY2BPSs84042RhE+EiFPq2G4QP5lfonn2FZdnTmGWpboL+tQB1KKVFSo82o2EE7ACwtaK0jB/Y+hQ1vvuOLUZUraTzPU+5qvnn2WYcDyuOJPUqmPYzTqDylyfvOJhSjAqMZ7cnI/tMxwGVvPqAaiQkuSSlISlNypR1eWI9accu4gVoSF2cjnYEdRO4PUULThcRlLni6kqCgUpURKSCCClQ5Wofl+bBeJS86hLoQZCVGE7k6R/TNovArdtVeoUYnqo1fBPJ7ZjQ7nZ1xFo5VG9jCohKRKlWApXbdUt4hoAa1HSmbDchIJ+Qnmav8KOOKzLDIcBR55IVYx4aliQdpEG/IilV8OJcA9PeS9RdtJAPIhzIHC+3jjNkYNz2UpMJ+gVRLgbiAKw7bc+ZICY77W96tcAZQ2pOag/A5iXGZB2bSFRB5CHOVR8KcLtJcxGMcTpY+FhtMAE6BqUUi0A2A66j0NONoh5YUdoOjxAV2EvyMQu5ngnST/ihGLzebcqSmc8TrcAMp1q0H+nUdP0ivsZolSoF+fyEn8qQelgcHtOlq1FOwMO8L43MbEz6Ve4WyxspL76hrWP4aVH4UkWMbyoGewtvNJWbZgIKRvRnD5lrbSZ5AR6cqJUmz1ERPVXhztBhVlLTbqfFAUnXeRskm1+YFj86bczODaQFpaRJFiAL1mOOxUySbAGfl+dTYLHKdZCCoWiCeUXops2jMnWIGYYlrOMySFOOpbkxpAJKdMwZiN42ojkecB5IUTOhIBk/CBYSOX5XpdwuC+8vJw6XAVuKKnFC+kC5Ue/bqRT2jKMvwoDXhpJULkp1kgGZWY2mOgBiIpe+pLRgZz/aaGv8AsxweR7So+/OpRUVJ2N5i1vSgvEGY6khKlDyqMeu2/S1G834ZQ4hSsMvTItp+ExcSBYiQDWfZVh9T8YqYQqFJ22Hpt36VmjQ+rkxuvxJNR6UHMZ/smzEqzFKVKJ8iwkE7WmB052p44ybIWTtBrOWMczhcW3iG06NDg220Gyh7Cta4nwwcSFpuFCZHpY1VZAFKiB0GdPrvWfiEz9GKKdiRIvB37EbHrB6VPggrwvMrUqR68z6Dfl26VQfSpKyDEXEE/qII+fK9fWMSWlDxU+YAKCTvfZSwDKeoB7mkwDOuuCE57/rLxVBk7C3WOvuDUqHyPhPtMfnvUP3kGUhSnUosFxpkchf5D5ncVYxCBp1DoNupPX8vQmvsZgt2cBh1nhx+uyx2kbj161Hisu8oKTqHbl6jlVVRvcX7fu9fAeWlUpURfl/ms/Wb2EfBx+k+PAVyH0rqJ/6mn8SETzrq1sX3mPOs9p5krvhIgi5Mq69ha9D+IszCoAknYQJk9uZN9r7igT+brVCE6lEmwSCVKMbJAkmBP1pq+zXK3Bi1O4xhxqEAsBxBTqVfUQVASpKRtvCiayxwPkJzJKVjHeecNfZ9j0hWJ8dvDqVcNKSV6gNg5BGj2kjttRrIM1VikKS4EJdaUpDiE7AhRAIkzBTBB2NMPEmdhCYQQBe2/wAulY3l2TuZhj3S0vwkhXmdTI0gAJITBEkwY+tCUDUkj27waXPV6uvymoow/IVUxGc4PDGHHka/5QQVe4Hw35mB3ojgeBsG2hPiB14gQS86tYPqidB/8aF5zwzgg4lKcMlBVsttOgJPL4bexBB52oiaAZ5MLZ4mzDAGIkcX8e4h6WGU+A2d7/xFXIhR/BMfCLwRe9aF9muWN4fDoH4leZauprPOK+G1IeQ4II1ISuBEiQkLjlYQQLCAdjbSMkxASgJnYWotm2raFm9KrWVsx68D7o343MylMp9KW3c7/ihCrkj0H7tSn9oGfYltCkNFIC0lPeDzRcEK78qWMJnjx0BQHlRonUSoxAEzyAvzJKpm9yO4ZMzKVBLApmjcSYVp9ooUJBHT8qxI5WUYn7vq/FE9RO/9/Q1rS8aPBBVIkfpWd4tIdxRWQrQlCp0xPmSUAybCJKyTslCjyoWmJ3kdjN64KtYJ6iExkPhYN51HnKFNPtORBU2RBHbSRrI9DzpixWUA5nhMUhPldDmvtDCtJPqDHsKuZNhV/dPu7kSypxp3oWvDITHWUFv5X51dwmI8JjDBwhRDKEqI/nCAk/8AsADVlRgCchZb6ix/kSvgX0YbAuoSYWta1K9dKQPnA96ov49f3AMtyXFBQSBfTKykG3/l6Jrlv4calrTrJVCUHY85PW527UMVnHhp0psZJhtIEk8haw2E9q9fHaIh2J6/KBcPwm215sQrSAJIsDHcmyB3gnpGwrYjGF4+Fg2kMtC2sJhSuXxXWT9fSiLGBVi30h8nSoz4aNhH5/8AIn2k1p2U5Th8OBoYSSOalfoBUTWawUts7ylSWYZJz+kUeHPswQUBx5RUo3hUj6Ag/MmnrL+CcI0SlLKCLmVJSTttJHpVs5yQICUp9B/c1X+/OOHdRPa35RU5/FKsgDLGNBW7mVc64FwTzakqbQgkWUgBKh3BHS1jINAeGfs3wSVltyXlASVE+UiRsAe/500LwgA1vGEjrcnsPWg+AzApxKHAYCjo0D+UiwjsQD8+tYbUuwAIKjrjPM1WzKwxC2N4ew2FT4jLSEqBAKki+km4+cUJxWJThsSh9Wrw3ElDliqeYt+Z6CmnM8UFNkHmIpCHFjLZLWJhBFpPwn35H1o2i1SmwqvSb1VTthxzJsY/h2sU2MIpBbeSStCL6YFiB+AG4IttS9nHCzj+PJbWEJKPN1ME7DlY7nt7WHeIcDhwpxtTalHYN+Yn5WT7kUrYXiZTqy4uygqQgfCRMgE8+h/SqiNmzcRxN+GU7rstxwcfMybi7hgNJ8rylqM2UBBjlINj0JkHtvTZ9lXFoca+4PmHkCGtVipP8t/xJ6dPQ0j5tmiifMoEyYAvF+XQdKqu4BtCG3W1qS6PMIN0kSZHv+ZpkncSV4xKOt0+SCrciadnXDLiNTm/mkCPz60qNKUjVqlUkk6hzP5dN+nSnHgDjVvHo+74ggYhI9A4B+JPfqPer+c8KJJCk2SLn970FqsjKyh4d4sjtsv4I4iWiFDSFyoiVSg+ZU/CmJkXAvHOpn8UpKFp0pWde5sobpI3hMncnaK9x+G8HUACSdj0M/vah6SdKUpSZuCReRsABEC8kk/pS5GDLxAccdPeXglRblaQFBRSqCIkEWF5MDnEdeVQqSYBB5nn8/7fOodQQ4G9OkpPwEEG0ADTvveK9XiVBJ1jTBgBQukdxvqMmx61nnExyvGQZ7qP7j+1dXzhm2VJClEgn9jn0r2vdpnnmJ/gjbwBlTGGZS+YLzyArUfwoPmSlM7WIJPM+gpjx2YF1pxCULWYsEjzdQRG1+fasWf4ifbWpsAqSmTpPlgTsTsNx860r7NOIEuYVXip0lS1BQnpEfSPnU++u1W3ucKTjM5VgqkoOSJn3GTmYtrKFoWllxZS28UmFJJtChYW52JiRHJ34JwAYYSgABSybdEb/Mjc9TRHizMEO4ZxqykoOoi1hq1JPeFR9KoZPjfFUFz+BMDoFJ1H32+VP6WxCMIMY9ovardTGzEv2t+G36UIefN4N+nv/avMRjY2gnpf8+lAF4oiCowspAN9p57A/h3ppjmYQYnmZYlKgpEDUNgTaYiJFoO1UcjzAk6YJKTFgT7G1feBwCsS9AOlA3jpMx3k/rTjpaYTobQC4SIQIlRJ3v8AUnoaXsG8bR1hV8S+zEqBnPUQDmwbcTCt++9LKcMhKrCnbMmkYltadOlxI8w2Uk1lb2bFsrbcnUhRSYHS3+aEK3U4Ijem8RS8EHgj3hrN8bCYm1BMkxetxGklK0u60rCj/uR5QUzABAiYm+8WoXmGZKXEC375Uy8GlTjiSpE6fwE7DdOkmSEyJ0z5SkEQCae01ZU+qTfFNTuXCn749ZaSkvslWpJZUW1G5IsEg906o9u1JuYZiqSne9hF5J2AHp+dOAbbTjEpdVpQSVIULXKZg9JAIr4Jwq8W4sFLQSnzEAXiEkA/h394qmDxOWYFs/WJzeCdUPMUp1H8Rk8hAA5/KpGcC1snEAn8RCREk2lU29PWiWZMMqWstAoSE2dUVLBkQYQCAN97d7UuYzCLSClGIK7WSlCUQeUkrsO8k9qWsc54Mcq04wMwxwtlgTjgpzGBQKSlIQDNymxBEBNtxvaYrXk5IjmpxRt+IR+VYDw9kjrmIAUoNzeZCirrJk0y4/Fv4YpQt4gKOlBSpUEjlA2qHrAht9QDGVV0zivf2mtu4bDNCV6ExzUoH87UFzLi/Dtj+F5z2sP36VmD75Cj4i0g/wBSwD7yZqk9m6E31aj/AECZ9Dt9aENxGK1AHyE+FZPEdMyztb3mUdthyHoNh73rzJgVuBfJEwf6iCPoCR79qT8uz5twnV5QnfUfzvt6UxHOVNI1ll3RFlBpemOytMEd6TvpsztxzGaKP/oxtxWOhMzWX5jgRiHFLWopRe8TBmJjnf5U24rKcyxTeptDTaTyUs647DTpn1NfXBn2fuuMkPuONIKlSi2tRkgmTZImeRnfYyT+GUrUS7cnpxHQyK2G6TKcbhNBgKlM77W9OVWl4NIaBB8xNv8ANaVxb9m7DaApl1wmQClwg6pMeUpSIPz25Ut4rgTEIAUBqAO29VRrqlyDPCKy2QOIOwvA7pbDynEhJ28wJ+XIUHXgnklSBBAHxA2gn92piwuJcQVodSYMygqIAvMwOVVvDU88hpi6lhSVGDCecm14AP0602r1PgLD2VoqZB6/mIJxuTLw6m1IeBVCVBSCQUHpJ2UP30rVOCftB1kYXHQh7ZLhslzpP8qj8jy3ilvOsmw6WUnxi44ZkatuUaeXpBoHnGYpfT/EA8qfKZG0bda0wxyOsDfoK2G4cfvNvzDJkLSYAg37j0pJzTBrRqSmdA5jcdelBuCPtEcw8MYslxn8LtypA6K5rSOu478tRLDGJQHEFKkqEhSSCD786yVFnyMHovE307bLeRM+Qp7SfCKFqJJLy0ecT8SvEJKgQLAiguIxBCyoOlSkq1aj5lBQIMqKgdR1flzpwzvI1NAlEwdxy+XWlz7ozp0qSEqNjOwHytb9aXdCODOjoepxvTBzx/Mr4T7sE/xWMW45Kipbb0JUSomQARG9+811SqwyPwoUBysv9TXV9z7fpPPsqfP8TFtGVuONrxL5ErBgHnaZtznai3DjgRh1KSogoVDiSZ1GB5knuIt2ihubZlKQmYSOVQ5Bkz+JlSPK3zPX0n86w6CxNpHE5e8PkFD6h/nMKHikJdKQ1rQpKkrCuaSkg6b7+tu3MM+SgNj4raUKCuoLaSJHIxv3ms7zDB+EqSYOrTBIPuPfn2NOmV4orQGx8QSNEWnnpP1I9e4rKotS8dO80C7n19YSxDknVq7DYjYD6ztQ3GvACNRKvKZKr9SO4mTzo9w5w0vFpKyfDaBICiJUozB0ja20/sXs74RY0ENvLSuIBMETPMACelYt1CV8seJpV3cQdwE8CXZ3ChN+RE0SwnEDDC8Q6fO6tYQ20ACvyiJ2lIPvaOsVmuGzd7A4lZUAdMBxANjJEFJ9Lj5GOTMxxxl8+JpPiG5/hnVYc4Gn60wj4GQM5kvUUuLCQIxZRrSh55+ErcUVkckiNp7AUi5JkTGLcfxbp1BTiihuSAQDpBVpIV0J5QfnJmGePZjKG0rbw4UA6qJVpJA80WSI/DMn0p6UwyyyyhhhZaSoedSISUp8x6FYVe5H4ib2la6xiDg4PSaoTYDnrA2P4LwhPiIWyEpEK0pEAxAKoVtJE+XkZr3LchdwDGtYw6vDlwaRCyNU+dZjUItHKOe9G84x7LrSksnxNOjUlCFFCQDqKdQTAMciflVkZzhQlASUjWCSiJVZW6emlXI9K8rdlYgnj3zNFqydp5iy9jQ2/qcZWoAFRCkzoVPS4jcgg9wYoNmOY4Jx2VsLSVDdMonukbLPW3zq3xWtbTi3WFrKEjYE/wAMaUqSNri52tfqbqGacQuKUkQkpUJKfLExBJESkk38qkxNoqlXcSIqdHhsg5E+c1S0lYl55aFXEiDEwQpGpCgR6EHcVSxDLKRIlSe0pUN/wqBBH/bpVvAYJ3EveED/AA5N3PMUpJtCvinbYgVq+S/Z4yhAMTb4lE3PptSt+s8s4UFj7D+8pU6TK5Y4EyfhHFobfkGReOW/Xoa0d7Nmg2mACo7A3IPbvVjOuF8GuC6jSAYLjcJUPU9OoNGMs4IwLJQsF1S0KCkqW4o3FxIEIj2qQxTWHzBxjqOJSNqUIEYZ9j7zNftG4Vcw7TWIUCSoDxuelZv/AI9qVpGgEGbX9a/RGfYFvEtqZdEtridJ5WO4uP7VmXHeRZZg2w2ylwYhweRAdUQBca1hRPlm0bk7bEirU+30RFbW3ZPUwT9meUtO4tC3kgpSCsA3BIiLdpn/AK1tT2dNmRsBz61hTOKXh9BPltIMH+3OjWW8ZLeIbbwy3HeiVCPUkjyj2NJalL2Y4EZKLgEx1zXiosjQ0gKWoeUmyRcjzHlR1jPUrbCknlBuDB5iRb3FLfDfCBccL+MVqUqwaQSEIHSxlW9yeZo+7whhmwTh0Fkq3LZInuQZST3IrH+m3GvAOIB9RVniLmcZ1LzcmwMgd/8AFN2ThLyNSrjlSRjOAnSsrTiFFX/7BqB7SLj2Bo5kWJcwzQbeTCxIsZBvYpPMR8udJ2UeQylxx3zDgrYvoPMXvtNyVsFLylFCAoBRSmYn3BEm03udqW8uxiG0KUlpxYSJlpBJB30rX/Kee0binHiF1vGqGD1DW8QDBuhCfMo9iAm08yKZ/uzOHw4ZaQEJFgBy79z1J3purWCpM498fSe7einrMPzbN23j4kqE30xtN+VqW8ao6xa3LvTpxrh2WcYdMJS4NUHYKmCfff1mg+V4dLz4TGoAWPL61WqvFlYsHeD1mowmWPSCFurUmAgnvFXOHeI8XgFamlEJJ8zaroV7cj3EGtKRw634ciB2IpUzjJYVYAi+1C+0Mp9QkGzX1tww4j9w5x7hMcA25/CeP4FmxP8AQrZXpY9qI5xkQUk+HF97A/KRb1F6wXF4COVHuH+O8XhISVeM1/Ks3H/Fe495ptbAw55/WNafUvSd1TZHsY5/cnRaNu6q6pGftNwRAKkugncaJj3m9eVrbX7/AJGU/wDXrP8AgYjZLl7ayXcSfIPgb5r7n+np19KOY/NxAQyA2gCAEn25UtZRg8RinktNS44rboBzUrkkDmfztWx5Fw5hsuTqc/jYrTq1FMhNoGgfhE2n4jf0pc1vmardW4UEn9ZmGM4Vx76QW8M6pI5kJQI7aymvtWCxDLel9lxpYESQQJBkHUPKT79K0h7FuOgnWrWCfjSQmwPwlKoA6fDM8zV3J8zU4PAIDsk3cAgI8sgkfFAPLcmLCsueMZjLaRlBf8R7SrwnxGtWGbUpxBRp0kRB8QG4N+e/vzmheeZy0i6iSVEBKbqUokmyUi6iSYimtjhHAt+J4belS/ihajG8DSVaQne0RvQrgnhnDsPPYlSlOOg6EeIdRbAHmCZuJMiegtY3j21ozgM2B/n4RdXwCQOYkY7gjMcSovFpDQUZ0uOAKgJhNkhUbkwTzvUOWcENpSsuqUp2YDYtMCTp31AG0mxiSLiNPzrNtIISZpVyXP2Eu4hLi0pKYC5SSSFBJAEX3i3PamKNSbGKJwoEDamF3t1l13HNfdTh8C0ohKQFaUJShOxUCpRELI3mdwT0M73FyXUlDLTin1JUnREpQdpXKgE3G83hUc6o5fxG02z4bwWwdSleZsjW2VKUIBgkAW5GBtVLIOIm23HFrSpCHV/w3A0pCEQlKAm+0hNwQBJtTaru59+snbzwc/Iw7lWeYdGH8FavBU0ka0OADXAnVa0E3lJInrzDcPZ+whUOynWtSm1qQdKQozA1DzAzqgWGqhfFGNZdxKCpxDjbaSXFBJIgx8QCSR6km3UmreaYpr7qpSBqIkpdsCozIKr/AFiLbV4F/KDyxOPbpJ3uIgUOsaS4lWtPiaJBncKSblJJM8hyN6zviPLEsFsJCrjVfmCEkR8z19eQaTj2kYdehaCVJkx+FYMDSQJv0pV4lxYeKVwUmwA69TE+W9471qksH+UPUCRkn5x0+zdCC0VmCSs/Sw/Kn5zMfKU6vasZ4OzJ1nUgIUpJMghJIk2IkC1OKM1kkat/zqPrK7VuYjvOm01QtrU+0MYnMQZRubirfATDoacU46pSQrShJiEgAXBibk7TAAERQFCVOnyhSlRsB9e3qY2q41gMzRhfBw5ZaUpalKWpRKgDEaISUg7yb8ooeiZKm5OJjxGoGsKOuY2M5g0t9bYcQXExqQCJEiQY3251iPGmALOYvhRUoFWoFRJJBEgaje2w9KIL4UxDC/EdBUQZ8RKio6uaiT5p71bx2XrxN1qUtQAEneOUndXqZqmNZWDkHI95JSlq2BMBY3HqeSkGSAIA68gB+VbVwbwm3gsMlEDxCNTiuqjuPQbD0rKuGMlWczwiFzpDmpQP9CSsfVIrfHNjVClha2/OR2nuu1AZQijEGlzTMcqi/wBaRcarjcbR86jxIPxEhIvvzjoffpQ13EqbSSSEnVAki97bW2vO5+lCbUNuwImlQxkw7hMWHNoKeRBqHFZUlSybp1fEQd/bY+4qHBv7GPNEkRAUOoHI1PmGLhIVyG9B1F2Km3jJHPSGqXLjbxBSeHcCw6HWsOhp0SQtEj4klJkA6SIPwkRN970DVmL7oWUsPEIUpJ0oJCiDBKD+If8Azevc1zeylDp+/wC1MOAzANYZpKj5ikT6m5+pqC1oty9vQfD+0pBDWML1mIZ8HH8TLjTjQHlSFpKT9eZp74ayBlCAopvvP96r8f5upK2loVBkgwd0xMKGyhMbz9anwHEg8MHwtcbhEA/KI/L9KorqbPKVlGB7SPradz7WaHnXhpsBS7mKkkEx26R61aczNkq1BLggRGkiOxGx9jVDOHkx5RzvBvavDqC7DIkfUaQ46xfxuESq0enOl/HZfzplfdEbRQrGKtFhTdLNnrF6hZWesXFYc11FFKBrqb8wx/7S01LhLBnCYJL0fx8UdSlWSUtxI0mLbhX/AGPQVzjI8yguUTPz3kcthb/IqxmuKXLbc6Q2huEbhUok9b26fpFHxmySBEcyE+oJiCSedvaK9Lhp3Ogo8usHHM+m8QUg7i1hsY6d78r+1qkyfHfd1FxRBJGnTvuQetvhH7ir+R4XCeA6675iCUifLeIEDkTPeIO0EUDbw7Qve5gklNrbWEH1AG8mKw6EjmNlkt3V4PseOv0hTE8RFRA5qPlCRKj2gST6Cr3+i49SvG1IQjRHhKJKzFwSR5U9Ik+0RQ/gXBtIcexCgPEB0JvOkRJIkcwQPY9aYMfxEkJICpqHalVZOTk9JGvQ12bE7TLM14qX4qmvDUlYn44+kG88j/8AKvcO4dlp9kOqCVuBRK1FJIctANyNybRzNU+IvAxDilKHnaSVKgEyi5O25SfNHRR5Cj2EyxpvBgKSCFo1qeGxURZC4tq1GJPsRaqmmRAg2DGesmawuTj25/CfXGOKSHMOolkrUo6yhUgtwowUxPw9jcjkKkzjPGVYZQbDJb5KCwDJAiEkAL369LUO4MwzQa+8KaLi9oFytN0gxuU8/WewqpiFN/fQiFIbSNRKpT4ZIgyFHc6oJNzpB3vTe046xItkZPeT5C5hkoDa0JU6B/EQoKTA0iT5oAUOtxAFxQR9Ta3VpKkobKpQAoEAwYnkSZk9ZonxXiGy3CGEIj8ZI1GxAgTPQzcn5ihWBxDIbXqSlRvMk+Sx2vPW0dL15ggfOfBB8OR9feSZo6y0po6AJutMyYiBMXvczHOg+HbOLxMm6R5Ujaw6x8/eo/vCUNKURLihpGoTysRPTf2FFuFh4aQob16ABz90seGUiyzLDgc4+c1LE4PCYTChKYU6UiDPP+1ZnmyVKxDfhAa3FBMcpJgE/P5UQx2LVczQfLsZ/wDltKP4Vz8qW1AG7cB0EvFfLqYEksec/tNs4fy5tltLafc81HmTRPFuNpSQBJ60uIzkBAgj2qhis8Eb1A87apULlj3PMm/Znd8mEcXid5vQTDFIcIA3nlz/AH+tDcxzw7DnzoXhMUpTqYUQSZJHIDp3rNGmbaS/AjVtSeUQY35KyPv7Tncj/wBFCtDJG08p/t+VZbjs3cbiHHCEQT5jcTeY36U/5XhwkBQg6gL9Rci/MXJ9zXQeEkeWVBz9eJzeq6iU88aXBKCARcTt/VPXy/sb1SwuEaIIgKUk3kWSqAQIN9oNHcxbJFt6XWsXoWUrK1JFgfLEmIQJMkzYCCdu5o1hCuczKqWTAk7OrXzEXA69SqDAHIelXnSICh8Ktx3r4LyFpkqO02NvfrtvVdvEJUI/ArmbGeUCT2rJQYwDz1/mDDnO4/SCsyylEHSkD0EUPcU5EEEhItHOmVAmx3Fv81G7gelYfSVXgEjpGF1D1n3mF5lma8Q8pagQEkpCP5YNwe87/wCKI4HHaRY+XeDuP71f4q4Ze/1NCGBBxA1dhBhRPaIPcnvTrleQYHByPCGIfHxLX8IVN4HKL7D3oWqaqpQp4x+U2tTXnd1iQM7SFFWrzc71WGZSdI9bVqn+qqKYLbOnpoEbbXNBsbw3g8TcIThnzOlTdkK/5JmBPX60lTfQzYnt2gYKSBM4ckmI9qqrbPceooxjcKvDuKadGlaTfnY7EHmCOdVcRiBsDMdbVYGzEhsjhsYgnR2rqu+MP5q8rfp95ra3tNY40AT4DnhtqlBSoqBJtAHPlJpbbxRWTHobARy7murqCScD6D9J+heG86dSfn+skURq0pVYC5veOtrjtEXr0vlQKSQPRAuReZtyB3ntXV1eljHColzhzLUKQ84tS0pQJITHQnVa8wDba9IZ4hddQop0oBMJJkqgkRPKdJ+Yrq6tCisgMVGf/ZzPiVjfaW+79JQyBtxeITDhEODzEk3M7j8QgERz2NqZsahaQG8O8tLTqgnQkm0jXCdZtI5TFx3rq6vbeOkjv6lOZYVkiUM+Nh3ChxKdagCsESeZJ0r7yPTYVTyjLGnmfFeK1JWY1kJJCwfxapMdAkEV1dXy9vugmQBhj5wGjDpL5ROoJumREknaJttHavMycb8RHk0gJGsC+5J3t1m011dRD1nw6GDc6eKlJM+WBA9LT29PTpVzLsw0CK6urTAYlfw9yrHEmezFSqlyJsqeCv5f1rq6lNTxWcR6+xj1jNiXi2SQYBqVGIQUHUmSRaurqlVgYDd4fTsXUAwTiMchKdESobAWHz6VNkjswYEnf99q6uo9v+3FNaxB2ie8R5r4bSzFydI+u/1NP32QZ6cRgEoVJWwfDJ6gAFJ7+Ugexr2uqh4coVOJGv6R2dvS3nOHVqC0KgiSJ2B0EAwO5711dRNao6zzTE5gzB4xJBheuFabpgLKQVKURyBSCdPcelTM4gGSsgqJInSBtYgQOXK9e11L0/F9091PHT3n23iICZJ1JISrnIO094IPzo+hAiurqNpfjaYs+EQfj20oWX48yGlBJ5jWpIt7gH2peCOc17XVz/jBPnGWNB/tzx7YRzP9/wC1VFu89hyrq6p6KMCUFgH7SMN4+Gw76CdaF+ErlqSUyJveIHzNIJy9yJOqPUf3rq6um01jeWsgapQLDifP3T+tVdXV1N7jAT//2Q==\n",
      "data:image/jpeg;base64,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\n"
     ]
    },
    {
     "name": "stdout",
     "output_type": "stream",
     "text": [
      "data:image/jpeg;base64,/9j/4AAQSkZJRgABAQAAAQABAAD/2wCEAAkGBxMTEhUTExMWFhUXGB0ZGBgYGRoaGRsYGCAXHSAbGiAaHSggHR0lIB0aITIhJSkrLi4uGh8zODMsNygtLisBCgoKDg0OGxAQGy8mICUtLS0yLS8tLS0tLy8tLS0tLS0vLS8tLS0tLS0tLS0tLS0tLS0tLS0tLS0tLS0tLS0tLf/AABEIAKoBKQMBIgACEQEDEQH/xAAcAAACAwEBAQEAAAAAAAAAAAAFBgMEBwIBAAj/xABHEAABAgQEAwUFBQUHAgYDAAABAhEAAwQhBRIxQQZRYRMicYGRMqGx0fAHFEJSwRUjM3LhFlNigqLS8ZLCJFRjc7LTJWST/8QAGgEAAwEBAQEAAAAAAAAAAAAAAwQFAgEABv/EADIRAAEDAgQDBwQCAgMAAAAAAAECAxEAIQQSMUFRYXETIoGRobHwBTLB0eHxI0IUUqL/2gAMAwEAAhEDEQA/ALnE1MiWJYQUqTNSGBUQpQWAglwCQxYuBa25cVuBOJCiUmXZRCHUlamKnDs50AcDS7+Dq9BQT6iammmTUslz3Ve0O6kgHQaB9+6OhgtxvhsqUpuzyzEgOoqWy8oHdABYBgLk7cmeP3QRlHz+daKVKN6ixyairnpNLLLIKZq1uTl/wHYtcBvwkRHKxisMxQTLmInnIoEAguCHAP5CdiSGLQ38N4vRypISrKh5dygHuktdrm35jvzuyjKlTKisKpSiVS1uJntJZiUsfxZnB1OrmMqUSntDYRwmPXevZSLjWiiOC5ypc2cpWQk5mDlITdRT3WKg5IY7AQr4gqauSqVdSBZgoDKoE5VJBPVSXu4e9gxeXW1qM6UJJU7TXUFSlWvnHI2az8oGTq6ZSlZMsJMwDI47QgS81nIAcuRpdto82ozYgm3ziLXg1qARwrT+Hwj7pTAA3lu2veKlEjxckQbp5Je6raOQzPtrpCbwdxLIXPm0ZSEFK80jXKoqAVMQHs+crWBp3lAaCHVyRex0/q0aLcGTwHtvWajJZ3HS2lvjCxx5NSESZgZJzmU+moKkg+YI/wA0MswXbcadYzL7YcWCuxpEqdaVGZMA1BZkg9dTGUo7RWQ6H56a+FdImrGH1pcglgdevQ9IkmTJbq9uYoB1BAJCU3uW0a2oA181ei7cSO1Wh0bqb4/OKv7d7MFKCcrlQaxzEAXI1DBmNtecKIwRCyRtwrLTUGVV5xEkZzsCWS+rN7o5wvFDLZINvL5QFrZiphd2bSHXgfhp0CfPGbdCNm2J5k8voPYhTbDEueXOn2G1OLhAgDfaoZiKifdEsq6swPmWEQoo6qVMlrMpTJWknKQbPfQ8njTaWnUoXAB6P+sQYhSFMQR9SIJSEiNNz6+1Vm2W1GCoz4e0UTwenTKpStKQlc9VyAB3E6C2g+ZiaVL39/WJpKAaWQp2ZJDfXhHiSOfuidjlrJQDplT6jMf/AESOgFL5rqj/ALH0MR5CukS8xbf3Hl8I9qZJQe8Poxfw4IGoPTTXz3jzGVgoT3nUOWjc9L7WHWDI+npXgy/nvsJHGI4ydvKlu2PahEWoFNOm0BPtEpO0oZcwe1KmZH3KVf1aCU2YXa0FMNldpLyrGZOcLD6Om4Pqx8ozgngwoqPDTiZBHqPgmmnxCArgaV/s84ONOntZt5q/wnRA1b+bmfou9bQoWjKtIUORAPxi/JkNFXFZuVB57RUh0JLrx7xqYFAkBNZ1hq1STMSxCJZ1S5zAOxKm1+HpFTG+M5awmWhQF9XcC4uS2usNHBbmpqfyhbeYAB94ifiLhClmTkz1yxmB7xA9r+YaFuceQlISVqkjgI2vvxPOmy9lUBAmvJOIpTT9rmFmzHMMvus/SPBjqFJdJeDkvBJGQJEtGX+UQFxjhROQmR+7Vy/CfERlxlagDpHD57WrjbrUmZoLiePZUk5mblrCXUfeauYACSklki7OdvGK2LrmdoZCwUqCmIP0zbwz8P8AYimUiao5gSXBYpNmKevTrFXBYcNJzqufxyrTqs8hOlJ2NYXNkrMuYGUI6wbEexmCYUZygHK5LONH8NjBDibEVTDKStQWUJAzsxV/NfUDe0Dcanyu4ZaVJNsz8xq0VVNpWmDU9QIN6I1fEM+eUzZiQOzVc5gohJAB7gN2zC4Li/ImHGp41QiUkS5a5wAy58uUZzqxuAdecKeGTpU2QlKsgXLCkAAhJWVaZzuL6O5bxhh4CqZQkGUsB0hLqmez3Xsjwc26kbxIcSmSmIFxwBm/U8778RFdAM686E8O4uZM1cudmQklS7AKmLCjmZJQSm6muPJov8VcSrqJTSqdaEpIIVbUbKSbkdGgVjEyUK2WmWVKAcujVSlEAhDNlSA+g3h9xCfTmSUzkIlbkCyieZy87OWG8ZkQDpoY6H5rXUjukTbSljDsdmiTkkyVTphl3WT3Mt2CQdQl2JD3UxMLfZTv/KD/AEf7YP8ABGIS0lakywFgnvqIyIuc2U6FwbAb25mG/wDbFH/5ke7/AGx3IkiLW438q4BmAJJrM8UKZVQJtI2RYKkKSomwuUqCQ6V6JbwL3iebOqsQnoKxMSAAiaWZxsG0e6nU245Q04ZwLSyiXqCVtdpZyuH0c7XirM4PqJCu3opiZqkj+GQULLF+8FPmfTWDlUzH4PsfKfSgwZk6UI4ioZMqcTLExi+cAgAhyCU2LXB5O3nDdSVlDIQyO4tIN0pCkizOwuwOp1PWM/xGbPmTFBcsyu0UStyCkKVmzZAbsTsdCYI8TUEuXITOAUFqd2V3QQE2bR1O/wDWApGRYCTNjz4XPrW4iSKgkYgZFTMmJIqP3b5gFFJLhlWY7nu6iOcWxk1op1BOWdnKEhCcoJL5SMz90OFPdtBEOE4jRplKyv2sxGQIIOQuLuQzKDamPuFKlf3yXIkoRMVZIJT3ZYAubXWrQlSjt1sy01KiY4VhS4EUQxiUuZMl0qCFTFNnUoKQoKDksgkFmAU4Y94aQTo+MZ9OexmLSsIs85lzi2wTKUSB/wC4t4oU3D0iXUTp9dWIV2S+8lJyrUpkqCQxfdmHJrQvUFdK7WZMnJmS0qcjsFKStyXZSkkBT7k/0hhLaQmBpQ81H8W+0HEpgWJNOmSm4EwIUVNzBVYFrwn4NQzJs/LMcqWXKiXJc6uHeLteaFXeVNqkKb2SAvzCl3MX+EezTMEyUmcUJ/FMKSL7AJSG9TGXjlbJSLxRW7qE1sOG4JLFOmUwbK3R4z3ingYS1FUpgOW0PcjG0JAcF20BMUMbrAQXSTEleLGUZNaYQg5r6Vjv7NX2yEEWUsJPg9/1jZMJlAADZozmqrQmoQpTNnHk9ofqCoBvCP1da1hBItH5qthWx2S44/j+6a6ZMsJ6tALFpur63jsVfIwExKqvrE4O9olKAIjhv1reFwx7STR/h2qEyWuR+JPfQNyNwPreJ8zfpGb1OJLlLC5asq0lwR9adIcsF4mk1wAK0yqlIZUtRZKj+ZB/T/mG8RgVPNBY1SI6ibX2j1sNYn2LaDTk7K9D+jr57XonPm210G221opVM/lsPjF+dQTcp7h+NoipcNKi5DJ5c4lqbU2QXAQeYMnpx8KGhSAJmqmG0apqrjujfn0hwoaYAC1hpENFSBgwZA9/h067xdmzQB4bRdwGBCP8+IEcB+T86VNxWJLpyjSvJywIWcYrAAqYr2UAn0i7XVeY5RpvCzXKNVPTTS7oQQZp2JTojy1Pl1gOLxPaqgaa/PYcTXWW8tzRvgSgKZPaKHemErPiovBnE0jLFymkhKQkaARRxVYYxQLfZYYA6m56m9Az9o7NVcCqswUjdBbyIBHxgjMTCxwbOKqir5JmIHmEJf3w1qEYwslq+x/E1p2y6yr7WsG7qKmWO+ghKm3Qot7iR5ExniMSB+rRuXGVLnppw/8ATV8C0ZJT8JGagLTMHeuQEuHa+lgCz+frQwzqQmFbH3raUrV9tBfvgJfeK9TVBPeV6c4ZpXBkwAETUHWzNZj0NwOcD67gReXPnCv831aHUvt6E1xTTkWFL9PLbtSS5P4evJTbfKH3AOFpM+QkmYCopLJSxKVWbMo+0OQ8RCXNwqaicpQSfzEMWUG7zEW58oL4RiNSCaeSoFRucoBWSbsdiR46aQJ7vCQaCE5Vd4VPW4V93nCVLWROZ19mWQEOO73ruTtpfpDkvgeVMRl7R5qrsvOoIcd7vEvYhVw3WEXHaGfJWhc/MZihmTmIOYP7JyMQWbV9IZ6HH6qpQESEiWhwk9mHW5cA690Fjcny0cBCgAdeduPn6fmupiSkjwqnhOCIXPmSgrNISSkFa3/h3JA2cq5HfnDN+xsM/Kr/APmP9sJM2SujqgpaSo5gFJUw1sCSClJdyG9ejD/a3/8AXpPU/wD1wMJX1sP53G/KtpUgCII6f1TwZF3tv8DHylNd22ff/mPlT1Syo5c6SMurdXSfL4xWlzC7X6aC3leAEgaG9cpf+0bCUzac1TFKpagma340KsFEDVQPujN5ldUKHZomzOyZ8huMuh7pLE9NY2HiAf8AgqsrYpMhQ13Og8XjBEdqVGWDMynUIClFh0EUsOCoT7+P6oCiAYprw7IZsiShLZiCskMQkqSGNyxJKbOcqdS6jBbEl5kzpmHukImiXnQrLmzMFFI3dZSGBu7tcQoLxsCnJQgpUP3aSTfQv6JN9HMw8gxH76qTLp5MvRMzt1gHUpUMiX27od9i24g2Tj83oR1mmjhqhlUS5BqygrqFg5FFKkplkLGeYS4clQ+esGeJMfw9DypKZSyoEAolpKQsuzlgAHZyDCcMIqJ1TJM1L/eZiClTunIRnYcgEAhtgIfMdwikXVU1MJKQtWZa1SwEHIlC/wAu+Ztto6RxrgsaTDi1AuQkfdv3hSMzLypzbkMo28opUMuqTeR2Jl7IzgFPqlHreD/FPAUsLlfd1B5hUkZxuAVMdDsqEbEcOTImdlUS1yJnMd+WocwCxbwLx5SErHH1oiVEaGmamxRYOWacq+TuG2L6F+nrEWJY0sBgX84X8ig2VSZqf8BdQ/yKZfoDDJwphKag51JPZjYgjMfPb65xMxDbTILqhYU6xmcVkTrQamw2bPLhClP6eptDlhNNVS098O2hCgT59Yb6fDwAGDAaAC3uj2rpinZoiYj6it4RkGXx/irGGCGVd0yd+BpRq8WMs95wesD1Vq5h3Ai3j/fUmWwJd77eEG+H8KlXzKTmDEh7gHS0NMtthAVlufbjRMb9RDBypAmlWpwqYtJKVMrYqSW9xgJhXBVXOmlHdYMVLKtjyHtP5DxjSlY7ThfZhh5+Vue/jaLFbTJLLklim4Wnn059YcS+8yghMCdyJqA/i1PqBcvFWuHuHk0wBXNmLOgBWop8EodvjDZLQBqPL5wD4exBMxLn+KLLfn05A6sOcFairSkOTEJpSW1KW5dU8Pk9NKK4orNXe2s5LQJr67N3U6c+cUqnESvdkiAM/Elz1dlS/wCabsP5evX06eexrr4KRYbk/nly1NabZCTJqfFcRUVfd6e802UoaSwf+7ptryBZeF8DTTywPxG5O5MR8N8PokJ0dRuSdXhicAQ/9PwQUQ4v7Re+pPE8ANhtvehPvf6pryYphCzxFiCZctS1HupBUfAQWraqM/4hmGpnopk3QFBUzkVBilHgPaPXKOcExmJSteUab9Plq8w2aP8A2a0ak0xmzB35yjNV4qLt74a1GKtKgS5aUjYR8qfHW3ktJCDqbnxvHhp6VhQzKJFAuOasS6Seo/3agPEhh7zCHwxInGSgaAsQTsLOTfrYQR+03Eu0MulTdS1BSh/hBs/nf/LBGnpuykhIsUgC4e/kb+PyhtIBTPH8W/dNsymq1LSqIOpI3NwHCVAW0Z+liYkqcOAJKB2Za5S19dm90EqaXkSpYL5lAnZhlSlvcPWLhkBQGW1mb1209I0EzRM8UlYjSOggjqFBtdHGrHUaX0hIxFS6acialegYqSkJJ1JYOWN/j0fUquly5kK1OhsW5EdddLQhcSpKQqWUi90kaZh16+GhMFw6oMUPEJCkyNaoVWKGbLIMoAK9palEzAL6kAkAtyi3wXjwps8uYoITlDsHKuTEH6MC8KxubLk9knKlwXIT3mUXyudB4fOIpSFgEpFhq20Ndkbik5MhU0V4jxcVBQUIKEI5sSvMCHyk5tHI1u0B/wBpdE/6/wDZHkqpZ318AdPKL/7TmfmP/SPlGg0BaPnlXATrNbbUSSRlI+jaPJFKVG/n06wizuK6+UGE4KA0zIST6s584UeIOKq6oIlTKheVRAypZAuR+UAmEEMpWZHrb91kOTT7xhWS6hBopKnSVjt1jQlNxLSdy+p8vBdqeHZkghIdDMbHKb21HNteseYPNRIUgBIyobu825wXxriITEKtddn2CQSWBIvdjq/pAO0Chr0G3z4bmkVO5jNZ/iuHIIJc7sTcgnnziArKk1U9RJYJTLcu2YlvBk5reMH8fmoWEIlJClqsAl+tm1Pif+OcI4Pq19mhcn90JomTHUllCwy9WA/1K5w828EIlxQ8/bj/AFREyanGJ1SUUU2WhRTTywq4dOZaEC7XYJJD7HNHMzEa5KpNcUpBWlCUqyugpXa4fcHQNGpTaWX2IAHe0UD8oVqzGEIk9jMAyS6iQz2ZKl6eWU+RgOGxWdWRYGkgi+uo61siBUeKTMRlGVVVCJa5cpQmFUnUJZi6VH8pOkccT4zh9dLIByqN0mZLU2bqRodiQRDtxEAaKekMXkrbwymAmHYNIqKGQvLlmdmBmR3VFrMdleBcQ2DauA1mWH4EETApircIcFhzBFlpf8QZnYgHXVMHkgJEIc2sRJUqmqkFDKeVUSwQAdlKSPZLG+Wx7wZoccOrwUgg2YRE+toWrKr+tqtfTEZgvLrbyv8AmKdaNSALwLxee/dGjfTQP/aQ5xzNrApNj5xIXiXFNhuLUy3hFJXmNLiZIVV+AEd4666qVJCmCiEnmX6s0dSlhFUCdCG8x9e6JeJqfLMRPSHykKs9vBtf69YtYS+XpHp+6m/UQRiTPL2pwXwhTSZE1RTnVlKsytbA28NvCF/g5WaStwPg2pt0183iDE+Pp6pSpQk5FqSAlXQ2Jvz09dYlwmmXTyCqYu5Gmg8r+Ovuh7FlGW390lfegs3GVU1VMKVBiA7+d48qOLgo915qzsNPX5Ql4rPTPqVLd06Dy39XjSODqKRJlhSkFSzsEuffaJuKwzaAFqSSo7aeZp9teVAm1Q4dgtVVkGeckr8gs/jz840DCMLlyUhKEgQPl49LFihaBzUA3uJbzj6djydiInhxKFAujTQAWH7PM14qU6ITpTEucEwPqa3rAKoxhISVKUEpGpJYe+FjEOJys5ZD3tnP/aD8T6QdzGPP91sW47DrXkYcA3o5j2N5e4i8w/6X3PXpFnhPCuzHaKus6dH3PWBHDmCEnPMc73/WHErCQwia4+GzCTPE8Ty5D0oy7DKmpZk3nAjGMURJlqmKNhtuTsBzJNokm1DkJGpsIJyqREoBagFTNidvDlGsCy7intYAueQ08z0uaErK2L1k+E4JW1NSamZTzACoHvDL3QQwGdnDcoZMbkT0JdcpYF3IGYDRvZcDzhzn1ail3a+1vCPaapZJJuNADH1ZS3pO3C3lJNYD6xeBSThFSVFb+yDYFnDZfi2kHkzQHOzOG8H28o4x/C0pQZ8gBAf94kaXN1Dlu/raAErEu6xLbOWFxysNBfwDxkygx40dJDgkUSxWcFggAuDsR4ajd/05xm3GsxQS99TfRy5cHmxu/hDV9/WM18zK0ceySHBG1yb+HKEvi9F1AXBDpXupCri3u6GxvBGbrmuOWQRQSjAb4w3cO4vIkyJiZqHJe7sdLNY6X93mhU9T/WCVLXuyFAN5bxRuKRBBFXsNp0TZubIspe4TqR4m0NX3DD/7up9E/OI+HsQRKQvI6SUm7A3PIczHf9pj+RHqj/dAC65mOVNHyJi5oFV4yD1heqq11pWBdKgfQvG702DUspCuzpZI0uUBavElbkxRxPhWjnhplOjOfxywJax/0hj4EQm2ttBpNKSKSVSAoJWg2UMw6g3irWTglF72jjiHD6jC1plMZ1PNP7o/iB3T0V00OoilKp5s+YJSUqzG7EEADmSLQBOHKPuNtjy58IpYtgG1TcHViRVuqxKFBPjYsOrAxtuEVKTLLMAbtsNbRnVD9l4CRMnTFE6snugHa+r+Bi9Nql0ndJUUbE3I894VxDsPBbUzGhESIIt56H1oyLC9XeNcQCHWLZWduXlC/Q8JrrJSlzipMtZSQB7RCczEuO77WmvhFDiLHZc7IlB7QqWh0gj2cwf5ecOtNxRKVISBNGQXt+sYT2jKCsyFEm9tbR06xNrVsiTUGLKVKpzLHshBCSSzd0p1bTc+6EnAeNZtITTzE9pKQqzFlpBu3JQvu3jE3G3EyZslcuSrNcJWX0Sp/Z56N5wG4fwJVfUlWbJLCUqmL2ACUg9He0UsFnDRW/pz12+Aa6CtZAohIplxiplVykKpQqaT3J8kpKSAbpWkmwUkuxdi5gzg/CtQgATJ0pJB0UsAs9nD28IM0KUSJYl00sy0vdds6ub27r9Okeolcv8Ag6xIxv1EOd0aeE+ZBE9BHAmrmEYLBzA30+CY858DIqGfgiwGE2STyEwCAWIVEySppoKVHnoRzB0I8IaJtO5YDTlEVZITMR2U1zLOjMVIVspHLqNCISYebKoVMeH6FUEYkiJg+F/D9etIldXaLJ0NgNSdgIaqbFzKlpFQgJsCXuA40JhewLh9cusJnnPkYyT+FQU7LA93QvDtU4WmcllDWHcRikMrS2m43PXYdN5/FLYtDOIhSwRwO+u+0ToOHWAMncQUhZQyEgABiDpf4wuY3jE6pOSWk5PDUcugh9pOFKWWjNkBV/ivz/pA7GJIQnugDwjbmKDSgAmZvf8AQpPCYRhS4BJPgBSrwRwnnnqmKDBOids25+usaPMXKkAhbAM4+Xw9/IxBwdLAlZjZ7x5Jp0VdWQqWFykpufwggkFjup2B8IqspLoC1ampWJgvKy6SY868oapE+zMdgRswv6v/AKecL3F+ErloMyRZQu2oLcrtDHxZhCJA7aS6D+VA1Ybeg+jHJQVU6Sod4u+p87/DSMYjD5L8KGlRQcyaySjmzahQzqUo9dB4DQQ98P4CEMpesDOHOHAqatXbkDMe6Ei3mX+ENdTw9MKWRUrTy7qD+kQ/qOKSV9khUDobelVkkAXq+urQgasBCxxHxpKkoKgc52A0J5P8ngHj2D1MgFczNPSN0ufVO3jpCj+zZlSrMtzySnQD63juC+mML/yOLlI4e3H2rKyRZIk1p32UT5lWZlVOLkqyIA9lKEsSEjqSHO+UQ71U4LJfY2hQ+yGT2MtUoghlKZ9WLH5+kNVQAlRAe0V2MoQsoAgrIjkAMo8r9b0qsHOM2sD+aiWnukK03IswDF3OnnHKpgCmFkjT5hibaR7UoStCgtKWIs7gPtzv5R6lCCymazFm28ukEV9sCPhrwq+lAWhcsgspJB8xGNLnsVI7oZRQVE2dLglzp+EuRs8bVTtlJuwBjFcPwifVzJkySnuKWsha7J7yiRlsc1idjygrqkJQkrMD+f70rWHVBVXaa7LMA1SQHDl+8Bfxyu/h4MGxCQZqewCgVHMqSdzd1o62uBzT/jhzVwBPcr7VD3LZTu276W95gEOCq6VNUs5VSypxkUXSRooOBce+/Rst4lkH7hPO3vFEWoKsKrV/B8mnos7/AL1TMTfW/wBCEk0s0ay36iH3iOomqlEzA+TuqZrKGhLaBVthd7AEQR4MwZM2nmzVlggW6n62g7CnEjvGSaYYw7K09+REaDiQAKziXUTMuQ5khmLO8Q/sxP5h6CNEosDE+YpCWt8Yk/sKvl7x8oMlwkSBTTv09hCspWPG1aPJlAhnYkeF+cUJtcAspDODrs2zc7bxbqQQPH4f8wP+6MvTW/rr73iQ4ogACoIFVuM5AVh89ZN0ATEcwpJAt4gkeBitgqP3ctaUOopDsLnQ+cUvtCxpAQKGWrNMmKT2n+BDg5T/AIiWtygzhSgEpyliGgGNSO4k85oCj3qnncRIUOzSXWPwbgjW0KnE+H1M1BUWAHM87eEPkinSuYqZlS5sSwBLcyNYp8QYilCWK3szfoBC5OVeeSdANJMcp/B8K0BNZvJwSXLUFS1d7vBBCSUhTKAVML3YsWA84iwH7PVT1grZJygEIu5DupzpsPKNNw2kQimICAVr1URo7m3rC0jiGVSz+yW93IKQ7Ac2+rQ2nFuEjJPeEmJkC9hY3iNAYnjXar1P2bSpI1W7bkEEciGi/gWF/d6YJBAMyYSrYlKGA8nv4xLiHG9JkJ7QKLaOSfTWO8LxJM6mlTgCAykMdilSjfyIML4pbwbV92Xnx6wJ3qh9PSO0B3+fxV+jkZlBILPudHg7S0CckxMyX39QoDpYj6vC/LmpHeZz0taGPD8RSEh0slZyoGYqOhc32tpAPpaWi4S5wi9xcRER6yLkDemsYXAO7+jx4+kVUqaNUoqfRRLdGgTMsecH8YrQvuAWTrfxdwPCA68mwAhXHtttPqS3p/AmtYZaimVC/wAihWLEgSZn5ZvZn+VYJb/qHvMH6SZo0J/GeIplSJb2zzwR4SwST4OsCCVBjIYFwx3jz7K+zbWJ+R+/xTamy43CdQT6395pknzIWeIpoytFqpxpLc4CmjqKtRElLgaqJZCfEn4COYZlbjuY/PAVrDMdl/kXYDc0w8F1omSMr3DpIdtPDo3rFKfic2jqVKlpzhQYp0GYksdv6kc3jjAODptNMVNNbLcjvIAJTbq+o59YLprkg99LqzO4uLNpZ9hH0IfDRCZ+dNQRzFfPYhr/ACKUgSJ50v4vxLPqyhITkCSx6lw/NukG8SnCVIZz3U3f4RVxHFpEq/cSSdSwL+f1rACrxA1J7pdHxjD2JLib6caG0wpxQEWqXgfOuaot7RfyjTUyLQs8GYfk7zQ4LMIpYafzOqF9PD801iVkKCRQqqpnBEB8Io5EpakKSE3dPUHUeX6wyTDCdxrNAlqYssJKhzsNYnNI7B4Zbg7Ee/TSttErSUmjvcQvPLFwQ4GpB/WCVTLCk9oi+b3dYzDgGsqJkxZJUU2GY7FhYWF9fdD5QU1XKU6QlUo6pUWV4pt7jFnCrLLy2FJmbnIJynYwPIzwEXsQrAICgfPfl51wKUhd1E8/P6+MXKSQxIMS1FZJS6lpWk6nuqN/IF/KE3HPtNkIzS6WWpc4nK60qQlKja4Uyn6NFLshm+6eVyY/HjHWsSpVgKeZ6QxlagjveB2iISAAwAAGjDSK+CIV2brOZZuo8yeXTYQR7DM8TJOMOdInXKOV489TzPSuK7hiaEVWIplEBZsYhp8XlzBYgAOVE2ASHv8ACKfF+FLmyiEFlC6X0caeUKfCNLNWR2iVJSL6XKud7ADbXnaFkqKUEn/XbeigJIovjeECrWZsuV2bJOWYq3a/4VI1Mshw5Y8oXajElSpXYoTlllRBd8yVDVKufMHcecaQmiSLs55kkn3wg8aSEyZvaN3JqSlQ/wAaQ6VC+unornDuCfUTkNuFPYDEBKspEjUeHy0723sGpsUXKVnTZXTSLP8AbCq5j68oDJnAggH3xB3vzCKacwFqsOqbUZUAfCn/ABrH6unmKRklzwkkArBC2Bs5SWPpCnjHHtesFICJA07ie9/1KcjyaDnElaqjImkZ3LKZILBupaFvFJqSM3O/rCTbywAojUnrbYneviO9SrhNRkqUqWScyrkm78yecathVaxDKYRkddKzrCZaSpR0CQSSegF40ThPhjEFoBmhMsc1F1EdQA3vjv1BkLCVzB4foVzKTcU6rqUl2UUv+U/MQv8AEU1AQdX56mKXE2F1NNLVM7YKCQ5DEbta8J1VjqlIcm2r84UYwxWc4A1jxogmmGb9oE4I7IS0lQDBQJA9G+BgNTlZUudP9pRAPRJ1tsGt0eB2ETcw7TcqLWDWNvL5xdmTibP7VxuB5bsQ3zi01hW2/tTB3P4/gWrWtfTaaWpybEWJ0HjfXUbb9Wg5wXiqJK1SJqmlzWZywRMY5S/I6E8mMLlRMSLm50S+Ug2a99b+vhEE+iqluRTVB69lMPvCW+ukde7LJldUADxIHvR2QsHMgHwrXczFiGI2P174syT3kkFmjNcD4tqZDSp8kzkpDJSp0zUDoW06EQyHjeksTLqJRA0UlCwT0Yj38hHzL/0t5P2XG0X9pq4MQhQvbrTYV5T43PMvziGYzKWpQShIdSjokdYV5vHcklqenmTFGw7UhKfRDk+ZEXsCp5lfOCapTouRKR3JYNzYXzGxuXNo0z9HeWodoYHr/FESnuFzRIEk/obny50pcR1iq2eVpTllJGVD2AQN/E3JipJkTZQaXMt+VXeT79PKHXFsHTKmqlpdgT5O3LUaQIxCjyoNrxfXCRki3CqbDDGUFM3Fjofnw1BwTR1NbUKRMUESJQzTVpG12SHe5Y+h6RqalJyplyk5JadEfqeZgRwbQdlQJNgqevOeZCe6nys/nBpCWuR6R899WxRCuxbgAi8bzcDoQJPGY0SKgvLWXFZ1FUEgSeFiR+OVQmSNtx4XipV0bt4X8IJyJSlqyj+nj/T6EM9JScpb3s/neIwaWlHagd0mJ2kVlDpCoBvQqqlIno7GoTmlmwLd5JGhB1cQHwTAVSJypEy+VilX5kHQ/pDKEg/Voj4mqxKkyak6oX2SiPyqDh25ED1imw+7iG1takAEeBAI9RHjtAHVEBQgRNvHY/uj+HSkoDCLS5sLOG47LmJdKwfAgxanYgANWhcY1TaezywaVVhlFV6uT5wdnhXx+Uuasy0EfvWQbXAGZz6Enxinj3GVPIBeaFL2QkufNtPEtHX2Y1hq502pX+FkpTskC5bqSQ56CC4XCYlwhwCJIAJHG1p2GvSRvFE7jYM3IEx85xTph1FLpUJQE3bTl1PWI1zFFVy8ezpudZOnI6i0RTJoQtGchKVFknUlR2A5fDzj6MIShPZt/aD58ydyeJ8LUlfU61EmaVTCXOvuEUeJOFpNVkmpCRPlKSpwPaCSCUq56eR8wZPYUUByX7ynFydW5DaCeFySFA/TGMoMqLZvJjp0+QdOmz3e8NqnpSAB4Rdlra8A6KtStS0g3QooPkx+BEEpc6I+GdLKsuhFvKsuIm9T1CAqIJVGlIsAIl7YRxMnQ6otqVnVBNDAOgrwMNYzH7VyVIlJSUgmbZ30CVcvERoVRUW6xj32mV/aThkLiSGU2mZRGb0YD1hjCjM4ANBJoiBBmoMO4XUtObtw+vsEDbq++sT/ANmJ397L9/yi1wnV5ka6D5fP3QxZF/lV6CGyogmfaqUDjX3FeLIlJWAQLMTGVU81VQsIdnLPrc8ucNlXwjWVl1kSZZLnM5Wf8o0HiddoIU/BAok/eMxmmWM3ZhOV25XN4QaU0wg3lZ8uV6h5cxgU48H8HU9LLCgl1kDMtV1Hz5dBaGKsrkS02a0JaeLc6EqDgKAyobveDDfaKlbh1fUBwBLR/wCoSD6AEjzaFQ86SQkQd1HX5yo2QAXND+LceCgoqV3BqNj0bd9Iy9MlKyVLChmJNvZD7AMzRo4wFFNmnVzzsjFKEeyHs7KIzHxh0wrBKapQJqEpWgpBAYMHDsRz6RRwauyQez706nnr7a1mEkSTWNYLTmWVZAVoHeUG/DvpqIO4VhRrpyJNMlhl76lbAblvcNT8NDruDZSAoyh2ZUGOSzjlH1MgYdRLmpCTNnLyJJAAYAs7NYAKYdRB0YlSlQRB48tzwPAczpW2kKWQlO5t1+a9KGffqPD0lFLLTNqEnKqdMGbTVi7luQYRBO49q+4p5YBBcJQCCxPNzo1gqASZKZhuWOz3SfBTOnzt1i8MMSEsdUnRvzc/SMh3sxGnzjqfGvoBgWQYiev60jpRvDOKJFUSmtlS0/lmJBSpL2A1Kudxy0hU454dVTstChMkTLy5guL3YtZ+u945nUCgEv3XJIYdb+Jb0aG7hkGqp59EsPL7MrQcp7inGhPN38j1jxhJzoF9bb8ZGkwLGxmLxplxoNJJSe7uNgNJE3BE6aRsDFIGFoSLptmvDPhFUtCgpKArLo7ixtsR77Qj4fUmWtUtVikluViQR8YZqTEwPZZ2v0hg2M7VWZdbcYi1hBHDjp407YdJM1Spswd59NBv7oD8XICTbwAgB/aGoTKCkuCp/Cx08dIoyMRmTMyprlTMxFh16wFZzd4aUnhn0KeStKpBFgAbcuArXKAj7pRtp2CW8WvFkMByha+z3FRNp10rjtJJzIFnMtWoD8i/k0MMtXKPk/qjRaek/wCwG3ABJ9p6EVKWkpWpJ2J9TI+dat0NehDhY1sN9fH5xUxKr7RQVlykBr3LP9bbxGuX9eEeE3ffWBr+ouqYDFso/sXMm3ya4lpAXnGtc+UQ8T0Kp9HLkyx3ps4a6JCQSVeFh6xcpZJmKbTfo3OD1MgMD0ZPRP8AXWH/AKLhlFZXoIifEE+WnjyMDxDuSI1F/wBfOVKmC8BUsoArQJq91Lv6DQQXqOGaRYZVPKP+QfKDmWOVJj6j/jo3vSBfWTM1mvEn2XU83vSSZSxoLqQehBuPI+Rjv7McPmU1RNkTgyinMncKAsSk76p6xoK4oz5AzJWPaSXB9xHgRaBOBQiLgEGOhBt5R6URK5BB33qFSi7JAG3M++K1YUmyk9oU3ST+FXRt4JhaZgUZbZgWUN0nfz+cQmgLabwNbax9t/C3tXEqG9qAIpColW+rfGClE0tJmKLBIcvF004QSpRASLvGZ/aBxQalJp6d0ydFrZs3MDmDz5ac4y2wUKzL1+X6e9HbQvEHI2JpZwvjjsq2fML9jOmE+DFkqHTKz+XJo0/D8fRMSFJWCDoQQ0YsrBpRF8z83gdNlTaZTomKSD+JBI8i0Yf+ns4hWZswrnofzPMUy9h38OjM6mRxB06/OtfocYiOcRzcUSASVAAaklhH5+VxPWafeF+iflFaqxOfObtJq1NoCotbdhZ+sZb+kOA95Q9f4pAvI2FatxHxgpTop3bQzP0R/u9OcKWQJQsq3BAfc8uux9YW5c+YB/EX6mOcxBClEkHckljyvtFJvDhtMJ/uipfToBTdw+pcsHKUgtY/rp7oKffF8/eqFWjxIIvY+cT/ANp08kQNSFKMxVBHYpSMyq3lcthy8IT+I8Z7FKiDbQDmdgI54h4xly02L7BtSeQgJw/JNZOEyboNE7JHz6xAWkEZyO6PXkP3pUaLxTB9neCTVZqqfYqsgdDqYepoSlJKjFCfi0qShgQwHkITqzGamsdNGjMnQzVumUPA6rP8tuojXbJFkAFXoOXh514jc1T4yxdLlI0Nm/N/SD32b0q5MlSibTLsLCFZXAMwK7WfUla9bJYeAc6QRwzidUqoNMuXlQlsiw7KB5/Wxg7RDdkGSLnUcrT1rAg2rQq2d3YVuNZIVRSJhW2WYoM3tFWbqA4y79YuVmKpbWKtHUIqpM2lt2n8SS5bvD6/1GCtYgLeInUEeNj+Ip3C/wCNSVnQG/TQ+9I+HTAmaw0ZmLDTfUsN/OHrBMQkCQpExWUkklLBXaJIIAJy2F3Zw3gYz6tp1yiy0FC9GIbTXy+LxyjEVWOp1/r6t74aGYKzJ6Xq0+0l0ZST4UcxEpypc3v0Y+AtFjgNxWpNlDKtz/hynbk7CFydMExju+x16ePz9WmTUDDqKbOmJV205ChKTkL927Egd3MSNWcJeMIlA4xfy28TYda5ilJS0oHe3nr5C/8AdZfxHTj7ypQV3Vz5+n5kTVD0IKffFvDJSnUouwSRfmq2vg/ugNUrVkkpU5UCpXV5hTr1dL/5oZxMUJSEcyf+1oMpKm2UtTO3UCRPiKkA5kOrkiI/9bGruIsmlBQC6Ck9L2PxHpCzNxxSkqQwf8JNik72a4MMGPzFJpygAucoPQC94CYXh3aTkII/C6vAX/pHGilCFKUNyfal8E6+QG2+P5jXYVNwpMnpmJmyirOk3V189R0jX8M4okzQ09JkzWusB5ajztdPnz1MKaKcJZIDdBBSnpwLtf1iTjMYh37kAjgfk+Ig8CK+kVgGUNgEkq4i39jrM03IlJUCUTpSh0Wn6EUqzEaWUHm1SHGqUd8+6whdq6ZK0sUpPiBGd8V0k2WQlD9mq2Uc9W8IXwODwjyspEHmTHoQfMkUm9hy22XASQNgAD+RHhNaPh/HkurqZdJTSyiUokrWr21JSCWAGgLenKNKkmPzbwjJnSKmVOy91Ku9zyqcHTxfyj9E4fOCkgiL6UttuZUaRy2m1oH91HcSvJKhFEkmOFqiNcxoU+KuKTTgAJdSiwewc8/faGXHgm1BQ2VG1NGYPEM0RVwZalS0qWGUQCRFmepg8CS4FozVopymKzTjarm09UmbJWUKWli2+Q2caHXeAc77RMSzBAWgdcl/jB/iwibUhL+yG81X+UKXEVF2U1Fu6U/0MJoxADxbHPjVbD4VLuUK+CrqcWqKkfvpyludLBPokX83j2ooJgTmyEDq/wAoo4MkqmBCTfQdX3EO2NYpMTT9lMAUUixTqPHpBxlmDX0FmsqGkiDqNI2nnz3rP5qSDFarSFJIPhB7BFyVzFJmsAoG+46+6AuKzEv3ev17oKhvevPuC6T/ABeluRTAKUg7QewHCJRUFTQopvZI1baAOJLKZz9A/vgphONmXcNDcmJFfHFCErKOB9KuVNOkqKpcsJSTZLu3S8Q4x2QKikMnI5TyLRam40FuCQygMzpD2LsDt4iB2KVKC4F1K16DrHgToa8pAGlLFLIzQS/ZnVXoflBqmwhC0FQsrY7O2/SBH39Maz5tKyGUtgZt6b8e4Kq5P71TTpf95L7wSOo1EXuFaqcoZaaWVPqs2R5q38A8aHRuFBT5W945NuIFTx93rxLSWkz0dogflV+JI+PnELEkuMzEgfNLew8aHGQ2qzRcLBZCqlXan8mkseX4v81ukNkmnSkAWAGwijNxSVKTdQflC5iPFGd0ygVqGydB4mEQtDY4n0HjoK9BNzRPH8UQhJZifdGVVOK9pOZDqOazXdXSB3GtZWrJC05Je4SX/wCo8vdDR9mmAJBzFs5YBSthqfDb0hlLQbb7ZRClKsAOPWsZhMCoa1NTKRmmDujViCQOrRf4ZwuYtSJ6ipDHMhIcH+ZX+315Qfx9ICNmvfwifhSWfu0tSndQe+rE29zRKdxav+PmgAkx4Qar4RXcJPzrV/FpEmpSn7z3VpsJqfgrp84CyOBE3/8AFSezuQpPtOdHBLa9Ya007i/whY4tNNIRmVLQpZ9kML9Tuwg+F+pvKhC05idOJ5mCJtub86Kh3KISopHQEDpOntyqDssPosq5s8T5ib5EMUFQuHF7jqYR+K8dnYhNfMpISf3aUPbqdHP/ABzgagKmThe6iEpFtVEBgBYDwgphk5UqpMtBT3c4zkAuUg87XIblfzi+lvLBVr6fkk9T0ipWIxq3FWvte510AFh0FVhhqpagucAlf4QUuLuxINgNfSLs6cnK5SoKQCVKUMwJUzXc3fQdYH8Y43OnKSs5f3YZkixF+dyA+p684o0GLLmnKJaswDZkkDK/W1jy3jSmyqF7Dw+WplDMtFlZIWbxEgjhvCgRfpfjRulxhKiEZmB1zB1LPi7eXSLWESwFzJiHWo2AAb9TCfilEuWplhn0O3l8oceDKtpIP4r+52/SFcU2htrOm4NPfT1uLJw6pSUgkaDS2kbT48Jkk9R94v794aZ8lIkBk6anoTv46ePgYWKRBYfWkFJmYhipxy9PlEMuJSVSNRFUsS2SUidPxXMiXmJ2tC7xIgKQrp3h/kDwZXOYEfW0LeIzCQoDfu+uvueN4ZPeBGoogRZRPCnXhHD5cyUk5Q5EMkgGUcu20JXDtXNlBIIsNGBPkW0fnD2ApaHLXvbUQVk9morTJN9LyPxfeoWKSoHvaGrgmZhFWfhcpftpBgXOxJcospBI/Mn9RHI4oks5U3iCPiIqN4xh4AyPGk/+O4m6fSmJKUpAAAAFgBAbGsQCEmAk7jmnUDkXnOnd5+JtC3imPZjmJHQA2Hzjb+JgZUC9aZw6iZVVxErMoqIuS5iTElSSpEucAQrQ7hW0LcjiEAuYV+LcdM5QlpJBLE3uAP1iWxgXHHhNuf5p5boQJ8q0yZw7JQkqMzsx+FgHfo+8BsWpJyQFKuSH8Abh+rN74q4DjcxUomd3ky8qSst+JwH3FgQ484fZE+RMAUVpKSNyG0aGFFbKgCPHjR0OOMrzkk8RWT1Eu7s28UTIJPMk2hk4sTIRNOSYnJ0/QQDwKSayqTTy3yFzMURcpH4QL5QdDzfbSKqV9zNTOIfQI5/L8OfLjpRXhngtdfOXULV2dMLBZ/ElAAzB9ixL9Yb/ANkYLTgtKE9QZyAFC/U7dREGM4w5MiWWkS+4QGGZtSX66bWEB6GiWrNlIULsS/oeo5Qm45msq8cZjwAgHqZ8ooTGAzDtHCUze1je9zqOggDiaLzP2NNISuk7LbMhmHWzH3QvYt9nMuYFTsOn9sE3VJVaYHdmcC2uvrFirwZSSFkam4ff/iKFDiM6TNzS1lJCrMXLflN2CTuDG2lZQMlumnlofIeFFe+mtuDuG/MyPP7h1k9DQmVTTxLypBc2uCkjUEMRrFH+zw/uT6/1jXOI0ylyUVsrKyiEzQNAvndt7dbGFvtRyPrDaXVf184VKDCFjvDS0Hbl85U9Ux0t5hvlCzxdTTamuRLkkpEiWEqUA5zK7xHlb1MNlD7af5hC9wVMP3mcpy/bzbvfU7xPvCUD/Yx8461McNInFNHWSw6ZpUBqGZTdDBX7L8UlpBSojOFFTK/EC1+raekHOM/xf5oSOGJYyzCwftFXaAIVnw5SQJSRBAA0O9AJvTzxYqSrMe6AQXAuOekK/C+KTpaFEoGUA5SrRtAToOQ12gLXTldqgZiziznaHOoSPuTtfLLD9L2jgZSluF3zGeFFaAJnrVGXiM2uyICChKvafoWOhLCx3jTKSUEpSkaAADyhE4A08lf/ADXD3KiB9SWA52aRCUzVrIEtpA3E+dFJBHSBmK0UuaClaUrTyUAb87/8xZTEcyMOYklsJAuN6WSi9Z3iHA6ETCuWtYDuAGceBIf1eA9ZOlSHQhLE2Uol1HxP6C0aXWaesZhxGkdsbfiHxEVPp+IcxByOkkdao4ZltErSkAjePkeFRYdw8qekrmHJLULbrWC47o2GveNocMDwalkpaVTJ69o6y49BFmp/ieBYdA2gi7S+0PrYxzGY1wyjbht5aGjZQEhe8a/NqhnYdTzXTOp0FJ1yDKR4MWgAvhL7vmmUy1TJYuqWr+IkDUhvaHhe0No18vlHVJ/FT/MPiIWYxrgOTYn8jw9J4ESaylWVwODUfPkGlmhqgUhiPreLq5lneF6o7tVPSLATVMBYC+wi9J0hhzDiZHWqZQFALG8Hzr6qqG3gZQS1T5oSjQHX4mOcb9gQd4KSMxtvDaWw23mobysqDHCnnD8KShI8NYIpUBHx2+t4hVv4xh5tDRlIvXyxWXD3jXq0Ai8J/EFKkIKrbw1T94VOI/4KvrlAnEgKCQPk03hgZ1rGqmpyT5oSSHU4bmQH98TUyJiyylnwAisf48zxHwg/gv8AEj6NZCUi2w9q3hMMHVFSjaVW6E16nAmygk94sLnXyivivB6pLKYgquHc5uevzhqxT+GDvmF/NMXK1RV2QUXGU2N9usYQpeXMDRlNNZ8uUfmlvhXEEIC5U0WWnKRuFAuFXs4P6xJi3Cyc3cn95aX7irdAWZjzB0gFXfx/P/bBmi/ho8D8TGlWhQ3qiyhL4IUNLeQgHlbnw4Cl6vwrILzAo7s5hv8AsXlATqtbOpEh0jn7XyELuJfi8DB/7FD/AOPX/wCyr/5S406opbE/9kjzUBUnGoQknKIgHntXlRMSVlRSMx5EhLkvoQRDPgSny5hlQSAohjZ7kkNpzb5Qr4t7Z/m/7oL4Qo9qkPbsgW2fnE9aZTPD561ceGZv5w9/kU04/SyUS0LlqBOayQrMCkp1uLFvAEKMZviVOy1FGZy7912CuR084cJuh/mEJdX7Szu2u+0baUFKOURyoLDZQ3CiVdfm1N/D6knDK4KsEpzubBwFX8RkD+UJn7Vlf3iffD7JH/4Wb1QX62GvOM++5y/7tH/SPlDOHEm/BPqVfPlo2Kc/zLI/7H0gV//Z\n",
      "data:image/jpeg;base64,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\n"
     ]
    },
    {
     "name": "stdout",
     "output_type": "stream",
     "text": [
      "data:image/jpeg;base64,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\n",
      "data:image/jpeg;base64,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\n"
     ]
    },
    {
     "name": "stdout",
     "output_type": "stream",
     "text": [
      "data:image/jpeg;base64,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\n",
      "data:image/jpeg;base64,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\n"
     ]
    },
    {
     "name": "stdout",
     "output_type": "stream",
     "text": [
      "data:image/webp;base64,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\n",
      "data:image/webp;base64,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\n"
     ]
    },
    {
     "name": "stdout",
     "output_type": "stream",
     "text": [
      "data:image/webp;base64,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\n",
      "data:image/jpeg;base64,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\n"
     ]
    },
    {
     "name": "stdout",
     "output_type": "stream",
     "text": [
      "data:image/jpeg;base64,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\n",
      "data:image/jpeg;base64,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\n",
      "data:image/jpeg;base64,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\n",
      "data:image/jpeg;base64,/9j/4AAQSkZJRgABAQAAAQABAAD/2wCEAAkGBxMTEhUSExMWFhUXGBgXGBcYGB0ZGhcbHxgYHhoeGRgYHSggHR8lHRgYITEhJSktLi4uGB8zODMtNygtLisBCgoKDg0OGxAQGi8mICUtLS0tLS8tLS0tLS0tLS0tLS0tLS0tLS0tLS0tLS0tLS0tLS0tLS0tLS0tLS0tLS0tLf/AABEIAJ8BPgMBIgACEQEDEQH/xAAcAAACAwEBAQEAAAAAAAAAAAAABgQFBwMBAgj/xAA+EAACAQIEBAQDBQcDAwUAAAABAhEAAwQSITEFBkFREyJhcTKBkQdCobHBFCNSYnLR8IKS8RUz4SQ0Q1Oi/8QAGgEAAgMBAQAAAAAAAAAAAAAAAAMCBAUBBv/EADIRAAEEAAQDBgYBBQEAAAAAAAEAAgMRBBIhMUFRYQVxgZGh8BMiscHR4fEGFCMyM0L/2gAMAwEAAhEDEQA/ANxooooQiiiihCKKKh3sWMrZSMwbJ7Npv8jNRc4NFlCmUVwGIWVWdWBIHoIn8671JCKKKKEIooooQiiiihCKKKKEIooooQiiiihCKKKKEIooooQiiiihCKKKKEIooooQiiiihCKKKKEIooooQiiiihCKKKKEIooooQivCa9ooQuNi+riVII1Gncbg9iO1K3FM1vEO8wrXLenqFWD+YqxOKT9oa0CLd+Jyn4b6RoY6kARI1EdQKWeL4p1RkuTIaUJMysHLr6H9Kq4g22guOFtIUzHYwpikZm2WF+TSfwn6043MQqgEnQ7f7S35CkHihFy3avCMyMoYejeUx+H0Nc/+sHE4ixYWVW0FVjtmZtD7gKI9yaVhpNCONn36+ii0kCjwWhYZiy5j11A7Dp84rvVbYxy3HKqQEU5Zn427D0H4+29lV5psKaKKKK6hFFFFCEUUUUIRRRRQhFFFFCEUUUUIRRRRQhFFFFCEUUUUIRRRRQhFFFFCEUUUUIRRRRQhFFFFCEUUUUIRRRRQhFFFFCEnc8cN8cIbbeFi7ZL2SdM8alVbYnSY39Na4PiVxeDF17RJIIdBobd5SA4iQdTt1g+tMvHeGjEWWtTlJgq3VWBlSPmOlLF7ifgg2ryBbrZTciIvfdNwR1gDXvFIkG97KJ3tLl3GIDkzDIxBWRGoIMET7/Q1ywdo5nZZBZ8oPqGHX/SP91VnMjIreU/HJkbhup9zv8AM1Z4B3Fm3dLABFn1ZozExVBzS02337C4ac4LQeTcMosZxuxYewViIHzBPzq+8QTE69qTuGcR/Z8Hh7TOFvXla55v/jViWZ2H8oYADqxApj4URkGRSEOuZyc7/wAxB119dfStNp0AUgrGivGaKjverj5Ws3UgLXdmivg3hUG9eNRXvEVlYjtMsNAJrYrVx44r6Dg9aXm4kV3EjuP1qRZxytsaQztk3RAPofDmpnDGrV5Xy7AakxVecawUwATGkmNfWk7jnMbX8PdTy2riXBaOcGDKltBB1AUzOkH1FbWHnZO22H8hJLCDr5pyxWOH3GB9RBrxOKLllpn0rLP2z/0rt47+Lcny2jouWQANM3STEdqr25vuEhLXiMoRc2hZgYHxHv7mof283xXOEgy8qKiWOFHmtZxPGjIyRHrvUgcU8oMa9e1Z9w/iqvbVy4LEAkAiT30n0NXOI4ooG5BGh/ztWTJi5oy4vcQeXDw8tkqzabP+pCNRUrD3w65htSNhOIeIA86EaazIpo4FjVZckQRr796tYPGPkflfVEac7XWu1pW9FFFaqmiiivDQhe0V8hx3r6oQiiiihCKKKKEIooooQiiiihCKKKKEIooooQiiiihCruI4Bnhrd1rTjqNVYdnQ6H30Pr0qo5kS4LJdkW4yajQS6x5lXs0SV7kAHeaYMZhhcQo0wd4MH6+9LVvFFluLYuNdS2xtuLyNlJBhgrhZJG0jSai4A6KDkh8T4Il62b3iM1tiSMogj3kaHoQfaouJx6FktqugUKY2mO/4/WrnjfFAga3cttazagghlOkTIGx0M+lLd5vDSMpCrmYtGhncyfr7RVMtDe5QZR04p35Z4T+04q5jr7AqSpRSZj+BAI0VQJjrm16y/YTFJcXNbYMJIkHqNCD6iss5W4m0fu1LMSAqgnOVyjNkHQkg5n6ACI3rSeFKGUObItk6/wA09c0gGZ71aZ68U5cuMcQyMF9J/Ej9KqL3E+mb5VL5zwhayLi6OpUSdoZgNfYkH611wmBt20Cr8yd2Pc153tLDyvxBGegequwyMawfLZVanEzsTp66fnUqziVbTY1Ku4RWHSqm/gSplTH5fSsmeLE4fVxzN8/2mtMb+FFS7trtVZirZU5k07jv7VPwmMBOR9D07H2P6Vyxy1UdI0a8D6J7MwNLzAcUDDWk37TcMCqXc7KoaGy9iPKddNDp86vkwXxG38W5SdDPUfwn8DHTeoWMexfYYS7DsfiTqBuJjYjQg1pYGaSCcOGo+3VQlY17TSznlHmS3gnv5iW8SMrkSREyIHeRtvHtTBgr1sOL2JdRh8QyuyxEHLClm9YWQRHevOKciDBNcv25uWsuxGZ7e8xGpG2u4AO9QbWDXDYfxsQ4uKyBrSkT4YOsazJII9RtXtMPPHKM7D+u9UHtc1tFXXG8EtzLiLRUtZVyMpANz+BYHQkEZj696i2b6FIIPsevuDS1xJ7mGCot0FnUSPurOWFUAkSIAJ0+HavnjfCMTh1F0XVZdEbKTmUx95WEb6SPSk4rC/Fot3Hl7tKmBf8AMmluYlsrkUKWiQCcoideh1PpEU7cv8zYfwVvW8zXGQllba2QYIMb6jft2rCMFZv4uEtK9y4JEIkx/W2yz3MDStQ5Y+zvE5LWe+LDJM+GA9wyQSC2gjTUHMKpuwkULLFCTgdT6cD4eaS1jyLC0fg3H/EbI+hMFTETM6H10q6v31RSzEADrSTZ5N8Bka3iLzMpnzlcpHbKFAEaEHfTWa6cyYfE3WBYBraicqEyTGsj67UyDEZWlspsjjX7Uyx7W3urC/zIX/7Qhf4yNT7D9aU8fzI7ExMTEkkk+w6CqXGY8l8uaVUHyjQSPTrHrU7guHkeI0SwIAjZZ9aZJLlbndtwHvoqZeXbqXbx2a34j3MqyBCysGRuzanfpUnD88NZYrl8S2u5BzQOpkbUucV4t/3LSIAoEFh011209N65cI4ewGdyMjLISTr2zDYiOmtRD8jc7jXIX+OK60kbLXeE8fsYgAo+rbA6Ex277Vb1+f8AC3HN5ranKA7MBtEbEdjqPpWicmc4G6Vs3/iJKKx/iH3W9SOvyqw2QE0fd7J7JL3T5RRRTU1FFFFCEUUUUIRRRRQhFFFFCEUUUUIRVNisIFGUTmYMS4AkHqdt9fw3q5qLj7iqhzCc3lgbtPQVF2gtcq1kfGbq3Sq5Ld5SxAZWhyB3EnqfqaX7tpmS6Hdh4a5si6hUG5JMbyNOmvem7mXh1xsRnt+HmAlkLfFqAoY6gSSFCiJ12OtfDi34cBbqkF89xh8JuEZxkSeiiN4FZUmIAOyY2No/2KouUcOCVdrypZQgxke4WeDlVio0U779utbNwbE2riBrTAiNQDsf6ZOWsw47jLVtVFi/ByQltCCoBAkgQDGk9aiYfFXsIENpgzOwyx5fOSDlYEag7aevpTWYoMNFMEJdqOS1bmWx4mGuWxu0Af7hP0FLn7TfUnMbZXoAGmPVi2+33avsS5bVv+Kp8cABNeZ7U7RM8nyNobdT16Xy8+lvCRgaFcDzAts/vPIv8R+Ef1Hp7nSruxiVcdNe21JuLYEEGlfhN7FYW/4dsMLE7OGyATrECQe0ad9q7gi9woO24E6Hu4gqzjcOyNgf/Pf18Fq+KwAPSqrGNcQeUeIBuh0aP5W7+h0PcVM4bxZWlCYZdCDuKnXbIYStRkwjDbmCjxaqzZTsdQlHlx7l7E3HAATKECnR5BJlh03OlXeP4WmcXgo8QCCY1I7GuOITI/ipo43/AJh296n3Mat5Mynca/3oMjANNNu6q935qdGxWy+rTK61nHGuW8mMzZiEJDqhMpmHSO22nSdKssBxi+vELmGFl3t6OHA0QMNczHT4g2m/ambHYJLrKzrmK7dgYiY6/OrsBmicC3Sxd9OHquAZtll2M5Xe7eZ8gQFs3kM699RAptwfLS3A3jg3A0SrHTQgzpBnSmtMMo/zal3jvNtvDHIis9wnKIE+boAPvHplkHWr4mxEzst771opj4cTCN+9X2B4elm3lUJatr0ACKPppUzhPFbdx1WxFxIOa4Dose417f8AFZi2KvYiDiHYWS4HgkksztEW2LgSPbSND3Ltyvgx/wC4i7blcotvpp3IDGdcwA6Sd9DTfhCIWTqqrpDJpw9E1XniSYqHicaltGuXCFVdff0HrXNrsnU6DUnoBWNfaRz54rNYsnyiVB7Dqf6j+Apdve4Mj3+g5rj6jbruvL3Gv2vE3ykWw7E6dVEKNB33J6k0xWcSEsw7GFWCRM7dI1rOeAwoUiJPX9Jq84hinMKxCqRoAZB9/Wf0q4W/EcGDYe9FkO1NqXw3DtcDahU0BPeOgAP+aVY4/iqoGAIzAQFG8wcunaBVVwi+y2zO2YwOojQzVPxfEC7eBtechfNl1iCdzS3kSzlrjoPeveo0rHhAuk+KpGkyW0zSCTt7iumHusLLXBoxcvppEHWPpXHDYnLhtDqdRHqdveK5ln8FlWIScx75hqAPST9KefmJOm48h+1ILe+TuL/tWEt3SZaMr/1DQ/3q8rNPsVxRNq9bIMAhhPqWn9K0urgVlpsIooorqkiiiihCKKKKEIooooQiiiud26FEsQANydqELpS7zQ8tatSRnLTDRoqsRHrmy/Imr5LgIBBBB2I1BpZ57tjwc0eYBshj7wgqJ6dfxpGJ/wCZUmf7JcwmNbNd8MgqHNsNpnd1gaE7jfpPlqrHGGtowFm6yZ2zZYykxvMyRLHrBPrNT3w93DqLaMpRtJICsJjWYkyN6iY7FGBaQSFBAGUhdRHmk+b8B6VihzY35eFe/NakOGkmZbG7dPBUPD7lg2W8TKxclg2bLGvbeREekRrrVLwa8zYi2xu5rVq/aIDZiYFxZOuw9Z1071xx+GS2Dbv2h4zElWHwwYHlUCSd/qB60/cvctjDYdWkNeaZJElZA0QdBGk9Y+VOkDSwm9DoNq15H7+ilDER8pFc769P50TdxnGMqjwyCxZdCRtOvXtNVvEsXrGgAgbg0k8dxhDEMTv3qjfFXnOSyrux2RAWJ+Q/Osp3ZBofMPL98FqDANhaHE3QvZanZwIyeJ179RSzxHFAMRNW/AcNjBh8tyxdVjJIMGCd9AaU+N5rT/vQyGdmBWfqNagICx2QA6cxuvIT/FkkL3b+/ReYq7cOU2s3iz5cu7ekDen7ly/cVQL7gOfuqNPmTGvoPrVL9ltkXr16/uLQFtf6m1Y/JYH+o09tgEBzEazTZmSBjaA0O54dPVW8PQHzFVvEbBIzKfkdJpQ4FhsWuMuqrD9nJzHONUkahCOuadDpFNmOxEkiu9u1AA+Z96p4YiSRzQNK18xt13V8NNAlfVqyIjYb+/qa+vCHQ183Lp+FRJpR5t5ls27dywt4peyghliXBYgqrdxl1G+o01rVYzMQxg/S452VtnRfX2gcb8KzCH92Wh3RxIIk6EHTURtrHyKBwVQzG+3iMwyfGRGXMTJIKwdBq0bgDeveEYRW/fXAxRczZSXJa5l8+dGAOYRPVfXSK0TgnLyMLbtbAUqpyr1aJDywJBk/xHYbRFagDYGUffSlSNyHRecEs3MTfDvbCJbYguoAVjPwhQd41LdJ7mm7ELGgNdWcKuUUo89c2JgbJ1DX2EIvaepqjI7O4UNdgPfsJ7BlFlV/O/HWY/8AT8OYdh++uDXIp+6PU1I5Z5FwVpQWw6XG3LXB4hJ/1zHypV5HwNx5vvqznMWJ3JrRbGMZNIU+gMH8RVSVkwdlvTjrVn8DYWuOngaNT830Uq/y9hGEHDWflbUEexAmkPnHkLN+8wrGRANljplnXIx2MTo0z3FaFaxysJGnQg7iNwahYljMgAg6HWPp60pmLkjkoOrvUmwMlGo8UncN5Wsoo8V9eqqYUfhJPrVNxblW3hFa9hmLISuZWglBrqCNxrsdRO/Zs5icWmV+jaH0aP8APpUjgWCOJVgRNogqx7yPhHr+VchxGIdJW4J18Pwrk3Z2HGGz7ab8b+6yG/fa5dt2MOpZtTlQSQ28kCmxeVMYLLBMPcLMDMwCSR/MR3Na1wHl7D4O34eHtqhPxNEsx7u+7fM1OawPiMn32+Qrf2AAOg9e9edEI4pO+yLg97DpdF621tjk0Yb/ABbHrsNq0al69igNmYfWvrCcWI3OZe+xFWI5hsUxoAFAq/ornZuhhKmRXSrK6iiiihCKKKKEIooooQuGLvBEZz0BNZvx7jV0vHibggjpr6U481YrLby95Y+w/wA/Csxxdk3CzkgRqe/pC9f+Ko4yQimheh7FwzCDJJXlam8L4pfta2rhXuu6z7HT/mrm5zX4i5L9reRnTpIicp0kbjXcUr4C4ysAw0Ok7z79tT+dfV26wk5NxAMwZ6H+8/hVL4hyZQdOS18Tg4ZXH4jATz2PmK9bT4+IwrqXQhjGxmRG0g60s8Vxq+k1RYd7mubuSsaQPXvXPFecbkHv0+dZkuCuQOBUcNgBGbskcL3HRUnMPEFZ7ZcA+HdRwewDCfwrU+I4qyMNbulo8oK67HJ1HU71kHGOAX7hCquZToXXUL6kbirxsHeTCLZZmdV1VjuNI27RVqQRsbE2xo66+/n5oljbNOGkUBVkcd9PKqVXbV8bjUtK0eIwUHsC2p+kmtew+Gt4cGzh1yKvlJHx3CNJdtzWJcB4n+zY2xcbyhbiTOkAmCT8jNbriiyk3bZhW3IOqk9DS+1HPAAsgbmt61utRsavUaHkVSx0ueUNG3I7Xf1rb01XtzAkKHU5p3Kg6adTUa7luIbV5RdtNoUbXTuvVTUixxArbIklpgexmZNcrNrMM2y9WO3/AJPoKyHFrSx2FvMRZA16cz1Js6CjfKlRoiXa/fsKl5Ow1vhl+/gi3lust2yxPxKREE94AHrFOGOxEa9KWONcATFXxeuOyogUIqmDCzBLb/IfWpl1gBkkwNpMn6mtHF4eeWy06Hn9fFKjgBIPHivhLk3VHUmrWY3pbv4chhcViGBBHUad6u8LxIXYCrEaNJ23277VUwsseGzNedU+ZpFHgo3GWui0wsqWuOCsDpI6mRHafWlLA8s3nbxHRDcypmtsq/GVAzljozjL8RlhodTWgWn6TXQ3kXVnUfPWtmLEMY2w4aqpIwE6qt4VytbtgF4uMq5FJA0TtoBuZMba+lXQsAaCqTifN2HsjVix7DrSBzP9p7xkt+XNoFX4j216VD4olP8AjBcfTz/ASwC0amk3c7822MDaYAh72wB1C+/c+lYBjuKXMTeNy4SddAadOH8l3safFxV1lnUIvQe5nWrm/wDZhhQvle6rfxZgfqCP7VJmPwmHdT3W/awCQOg+5F2mHCzOIvbqdfJWHArX/pgM8T6xA9/amfjXDbNsYdrEKzzJmQ4yiZJ6zBFZ7gMf+zOcPfaIET0dejCra3xzC2hme8zFdVEk5flTxIKPEHbTdZsmHlY4syk9wtNGMveG4Gmo19x/zR+0+tJnCuKXMffNxVK2l0BO7d4H+RFOnirbUCBMVnSdlvmksmh5r0GDhMWHY1w+Y2a7yl7m0NdtC2hhmuWwD2l1BPyUk05cIxdqxbS1IAEAf537nuaW8Zfs3CM66gyCNIPpGtU/MWLvQGtE5V1ldxB7dau4XCnDtyXfVWJMC/EkNJyj0v6arXLF0MMwII3kHQ19M49Kzzk7G3UsKjsu7Nr5mlmk5jAiCToJ33q/ZFuESOuhBIP4dIFWtOK85LGWOIBsc1dXz2NVt7eoF7ht2S1vEOJ6Ekj57zXIPiVjOFfXcb1yuSTnPEK34dizaffyE+YdvUdqagaRkYsNQV9DTNwTGBkCk+ZZHyG34RVqCXXKV2laUUUVbXEUUUUIRXhr2ovEL2S2zdQNPfpQugEmgkXnDH5mYdCco9h/5peQAivePYzzEDWCdf1qt/aXyIbYlswmdoAPrpJAE6xPWsaZ+Z5K9zhsOY4AApOIx5zm29tZ+6+o0301ioeLxYQmTq2w6EH1mpd24Z02nSeneDXi8POIPwjTcxsOlVnHLqU90kULM8nytA1PvnyHFVOFxckqCY6TUwKYEVMfhFu2DqZjXb8or54dj7SXV8QSsiT29x1rhkBWW3+osC51NLvEb+pTVyrw58oaNWGk/nTNh+C2l1KhzvLa/QbCvnhGJtlZUiDoI6Af8VMxWJCiSdPzqjJLE4FzjsdB91iYjESTSl+1/Tkq/iOHtlSrKpU7ggEH5UqNib1q5+5WbUQCCAUjYQdGX8o+l7eD3STBgdKgYnjKWDkvW4Q6BxsD0zdh60mKHZzhqdmjfv5g93jyVqM/CZqL5hL3GOcr1gZnthVH3zaUgdpIBH1rpyvxe9jScTccsoOW0J0/mbKNPQezUzthrLoLi6q4+FliQe6sNj69KTeMj/p7W1sKEssWIHRWzFiPbzaemnStLBmLPkeDm6m/ZT4ZxI/KGtbpy17r5eSaMXiY07VUYrHwexqMvGhfkzqd6h4XCXcTd8K2O8k7Kvdj0raeG5ei0Io2Mbb+G6tsLxAPoTVTx3HNbMoxVhqCP7U24HlrDWQcwN9xuWJCD2Qbj3NSsRhsM+j4SwR/RB+u9eUnkwsc+cO04jUjzAI8vFZ8srHn5GmvL9rLLf2gYnxFRrIuOxCrk3YkwBl9fetHwfLb3UDYpypIk2rbRl9C41J/pge9RcHylhcNiP26yGKqINttfCnd0O50012k08XVBUEGQRINX2xYV3+SFo0F33+6WDiXPDiATSznjPIuCuAhTdRo+IXGJ+jkg1n1rkm5hcStxiL1mfLcXv0zjp77VrXMlhoJt/Guo9e4rzD4dVw4VtdIIPXSpsxLwxwB0IpIgxGR7Xu1o7LjwuAoipGINUOBxgR2tz8Jge3T8CKsLt8xsfpXm5IHB5C9dlzEPGxSl9oPCxdsMw+NPMp6+o+YrOeWsA2JvZWkoozN/N2E+tarxbErlIPUGs+5Evrbe6u0kfQZv716nsqR4wzm8qrxXJMO12KhvjdjnlFj8dRote4RgRasSFAAgbfgp+lV3EcQdWY1bYHjts4QoSJAAAP+e9KPGrxbQaCtPK1rRSuYSN75nZxWtKPd4jrNdcNjjIA+X9qpH96l4G4ZkHb86SdVuSQNDdlcLjxZuBoJVtSBqV7kDrH6inThfEFdQysGU7EGf86VlXFMU3iW7amXJJ9hpv2q7wPi4di1tgSTLpGnvG47zSXFoOpXgu0mNilIG36taeLoPv71zOtU3DuMK4Gbyt2Ox9jVmt3SjVZtg7L26a4YLFBHhXIYGYid+8mvjG4xUUuxgASaS8BxK6t1rh8y3DMAQU6Ab66QOm1V8Q5zGfLvp7HVKldWi1DHc0W7apoS7nKF7GJJJ7aGuWE5ic3QrKCpjUaRJjvWV4vjGIvXQwtZVQ7TrpmBkgGPiB+R7008v3WhXmGEEDcCPfely47Eh7SSBtoPW+tcLpLLja1KiqLhPGjcbI4EnYjY+4q9rfhnZM3Mw6JgNoql4/mZcqg6Ak/pV1Szx+9jgT4K2SvYvBPuTFEpIacosqbJPhuDqtIGJ4U8k5Tqa8t8vXhEKfaKtcTzJjLXx4RT08l1GP8AtUk18Lzjim0XA3Z/z0rGLDsQb7v2t4f1DIRQZ5rph+WbnUaep1q4wPDksBgdZM/P/wAVCXiuOcf9gr7IWP8A+mQV9W3xOb95auEHQk5BHrlBn8aXLHK5lxs1Guv4WdjsfLiYyxxFdEvcwuZOUTvSl4Fx3VF+N2VFnuSAPxNPXF7agktC++n51T8KKDE2bm6K+YtEjrBEbwYPyqjhnvLiC02saCD57KdcDwA4e0qBixCgFtiT1jsPSqjiOKuJ8LnToTP57U637nlkGdKTeMqq5ncwo1k0x2LH/JzAb6D3qvV4Fwdo/ZNfK+IW5h1cffUH59R8jNcOJ8v277L4glAQ2XoSDInuPSkL7N+a/Da7h74Nu2bjNZckRBOobsZ1/wBRrT1xIOo1qGJDo3Na4Vl2PQ6/pZjj/kJaoPEMPqIrP/tWuBMMrTqtxPxkH8Ca0fGXlAkmsT+0zi64txYs5mS20s66hmggAHqBJ17+1RwOGc/ENcNgbK62Qx/MN+Cj8DxTFJb5EafgK1PlS2qYJbg+K8xLN6KYA/X5msMwdy9aGXI5X2rXvsv4uMRhWwjSt60xdAwjOjGdJ7MSD/p71s9oQOOGc1nL6/nbvIVyTFRvja0aAEWPfLdN+BeDOcAHykEEyD8orti1S38CjM0jXWB3HQTUALkPmGoOx0rpasM5MCe/YfOvMRY0ti+CxlyDbcuB/wDVAg0T0rnVpbma5idPr/C8w8ZLwO3hPP0qn5F44WsqjnYCK4c98ft4bDNaQy9zyFh+Meg6n2pT5Z4gEAE1ew8MkUDehPruOtaXWl2BdWqONOt+Phw8/p3rReK3ATIpb4xxLIhNfd7jKBZLCky5zTZfHYa0GBHirmP3Qfu6/wBUVJkUkhpo6nuVCNgc6inPl/gBsq1+8JvXNYO1sRAHvpqfWK64p5matsLxDxw4iMhiljil6GIFWo9St7UNAPBUHMdmR5TDEhfTUgT+P4VxblfD2HgWm80AMXIJB6kkxFceLszEBNSGBgehBrQOGG3fwyi4J0jXcVZdcbQeB3XHSOcRR1bslPF8Ce15VzBozBGIBI/lK+VqqhjZlX0IOsiCD7U6YnAkMpN0uqaIGMkDTY1n3PXErZxcIQGCAPr11I+gI+tSheXPyiyKWtge1ZWnJPqODuI8eP16rtcKH+9eu4toWFUuHx67TPsf0GtSfNf0Fu4F9iJq4Gk7LQxfakTGWTfRReB3vEvtcJmNB6nrT+LKq6XmBK5crlfiU9GA6+3X3ikjB8LNhgyo+WdZUmPUEU44LjFsCGYRGoOn51SxLHMkzAcF5WST+4aS7e7Vlh7iywlXUGNNu4I7Aiu9/HpbWTdyj1M/Qb/KqzB8NS7mW20I41jcexH51b4LkW0IJzMe7GT+NPgjc5t8FnPFaHdIfHeYHu3FAJNoaxESe5EfSrzgh/aHS1bjMxAEnQep9KdbfKtr/wCsH5VZYHl+3aZXW2qkEEECKY/BZyCSq5bZtImDAsF7d3y3AzBpBEnMZInodweoiu+AutnhATm2ABk+1PWL4Jautne2rHuRNdbHCLa/CgEdhFVJOyi8/wC2l+O64GrpwTghtkXLhlonKOkjqeppgrlYOgrrWtDAyFuRg0TgKCK5XLINdaKaghRxhh2FfQsiu1eRQigufhCvk2RXeigopR2wynoK5jBJ/CPpUyK8FcpA0US5gEIiIHppVJjuScJeM3Fd41Aa4xA9lmPwpnopfwIy7NlF800SvAoEpWXkXBxHhCKlWOVLCDKmdR2V2AHsAav6KHQRu0IUMxSvjOSsPd/7huOOzXXI/wBpMUWOTMMnw2wKaK8IrrYmN0aF0uJ4qiHLdn+EfSvkcuWwQyiCNiNDV/Fe1JzARRQHkKluWcQo8rBo/ij8zVHxPD8RfRVWPV4H+1Rr9adqKpP7PiduXVyzOryuvt0T2YpzNmi+darKW5AxF1s19wx9Nh6DtXe39l9sdWHsxH5Vp0URVoQsAoDRIe4uNndZnc+yqw3xM7ehckfQmi39lGGX4RFaZFEVIMA2UAKSZa5avouUXVb1Yeb5kb/SapcXyPjHJ/fWl9YZj+laZFEUoYSEGw1P+PJVWsxwX2b3U3xJJO/lAqdh+Sr6SBfBU6wVj6Ef2rQMtEUx0TXCiNFBsjgbBWeYjk7FO2t5APQEn5dq6Yf7PLO9xVc9SRvT/FeZaGRMZsF0yvO5SrY5Mwy7WkHsBUy3y/aGyj6Vf5a8K0ygoZjzVQvCbY+6PpX2eF2+qKflVnloyV1RUC3gEXZQPYV18AVKy0Za5SFGFmpLWwa9y190IXLwRXng12ooRS+UWK+qKKF1f//Z\n"
     ]
    },
    {
     "name": "stdout",
     "output_type": "stream",
     "text": [
      "data:image/jpeg;base64,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\n",
      "data:image/jpeg;base64,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\n"
     ]
    },
    {
     "name": "stdout",
     "output_type": "stream",
     "text": [
      "data:image/jpeg;base64,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\n",
      "data:image/jpeg;base64,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\n"
     ]
    },
    {
     "name": "stdout",
     "output_type": "stream",
     "text": [
      "https://encrypted-tbn0.gstatic.com/images?q=tbn:ANd9GcScPtz2ZoMJHYnZgrOoX4fWicItWpJT0savJQ&usqp=CAU\n",
      "https://encrypted-tbn0.gstatic.com/images?q=tbn:ANd9GcRkYLQ1cCTS4KzVPtfM-9YWP_rF3WDLZR8JVA&usqp=CAU\n",
      "None\n",
      "None\n",
      "None\n",
      "None\n",
      "None\n",
      "None\n",
      "None\n",
      "None\n",
      "None\n",
      "None\n",
      "None\n",
      "None\n",
      "None\n",
      "None\n",
      "None\n",
      "None\n",
      "None\n",
      "None\n",
      "None\n",
      "None\n",
      "None\n",
      "None\n",
      "None\n",
      "None\n",
      "None\n",
      "None\n"
     ]
    }
   ],
   "source": [
    "imgs = driver.find_elements_by_class_name(\"rg_i\")\n",
    "returnImgs = []\n",
    "for img in imgs:\n",
    "    returnImgs.append(img.get_attribute('src'))\n",
    "    print(img.get_attribute('src'))"
   ]
  },
  {
   "cell_type": "code",
   "execution_count": 364,
   "id": "f4669981",
   "metadata": {},
   "outputs": [],
   "source": [
    "import urllib.request\n",
    "import base64"
   ]
  },
  {
   "cell_type": "code",
   "execution_count": 372,
   "id": "d39dbbee",
   "metadata": {},
   "outputs": [],
   "source": [
    "for i in elements:\n",
    "    src = i.get_attribute('src')\n",
    "    try:\n",
    "        if src != None:\n",
    "            src  = str(src)\n",
    "            count+=1\n",
    "            urllib.request.urlretrieve(src, os.path.join('images/with_mask','with_mask_image'+str(count)+'.jpg'))\n",
    "        else:\n",
    "            raise TypeError\n",
    "    except TypeError:\n",
    "        pass"
   ]
  },
  {
   "cell_type": "code",
   "execution_count": 321,
   "id": "9203f1c0",
   "metadata": {},
   "outputs": [],
   "source": [
    "link = driver.find_element_by_css_selector(\"[href='/imgres?imgurl=https%3A%2F%2Fimageio.forbes.com%2Fspecials-images%2Fimageserve%2F5d35eacaf1176b0008974b54%2F2020-Chevrolet-Corvette-Stingray%2F0x0.jpg%3Ffit%3Dcrop%26format%3Djpg%26crop%3D4560%2C2565%2Cx790%2Cy784%2Csafe&imgrefurl=https%3A%2F%2Fwww.forbes.com%2Fsites%2Fjimgorzelany%2F2019%2F07%2F23%2Fhere-are-the-coolest-new-cars-for-2020%2F&tbnid=8g-t95qhDcTJnM&vet=12ahUKEwjAtaDisfX2AhXGUWwGHS-JCIYQMygAegUIARDTAQ..i&docid=HZLLyFhoQjvNCM&w=4560&h=2565&q=cars&ved=2ahUKEwjAtaDisfX2AhXGUWwGHS-JCIYQMygAegUIARDTAQ']\")"
   ]
  },
  {
   "cell_type": "code",
   "execution_count": 325,
   "id": "2b2dcaa6",
   "metadata": {},
   "outputs": [
    {
     "data": {
      "text/plain": [
       "<selenium.webdriver.remote.webelement.WebElement (session=\"233ee7192064b181d2d4ade692ddd61d\", element=\"1797b3f9-8b4a-44c1-92e9-8bc4ae298a76\")>"
      ]
     },
     "execution_count": 325,
     "metadata": {},
     "output_type": "execute_result"
    }
   ],
   "source": [
    "link"
   ]
  },
  {
   "cell_type": "markdown",
   "id": "47ebe7dd",
   "metadata": {},
   "source": [
    "# 4.Write a python program to search for a smartphone(e.g.: Oneplus Nord, pixel 4A, etc.) on\n",
    "www.flipkart.com and scrape following details for all the search results displayed on 1st page. Details to be\n",
    "scraped: “Brand Name”, “Smartphone name”, “Colour”, “RAM”, “Storage(ROM)”, “Primary Camera”,\n",
    "“Secondary Camera”, “Display Size”, “Battery Capacity”, “Price”, “Product URL”. Incase if any of the\n",
    "details is missing then replace it by “- “. Save your results in a dataframe and CSV"
   ]
  },
  {
   "cell_type": "code",
   "execution_count": 186,
   "id": "03896923",
   "metadata": {},
   "outputs": [],
   "source": [
    "driver=webdriver.Chrome(r'C:/Users/RUCHITA/Downloads/chromedriver_win32/chromedriver.exe')"
   ]
  },
  {
   "cell_type": "code",
   "execution_count": 187,
   "id": "178d869a",
   "metadata": {},
   "outputs": [],
   "source": [
    "url='https://www.flipkart.com '\n",
    "driver.get(url)"
   ]
  },
  {
   "cell_type": "code",
   "execution_count": 188,
   "id": "6dc4e737",
   "metadata": {},
   "outputs": [],
   "source": [
    "search_itm=driver.find_element_by_class_name(\"_3704LK\")\n",
    "\n",
    "search_itm.send_keys( \"Oneplus Nord, pixel 4A smartphone\")"
   ]
  },
  {
   "cell_type": "code",
   "execution_count": 189,
   "id": "e11e9592",
   "metadata": {},
   "outputs": [],
   "source": [
    "search_btn=driver.find_element_by_class_name('L0Z3Pu')\n",
    "search_btn\n",
    "search_btn.click()"
   ]
  },
  {
   "cell_type": "markdown",
   "id": "7710c9db",
   "metadata": {},
   "source": [
    "no product found by this name"
   ]
  },
  {
   "cell_type": "markdown",
   "id": "42dd1346",
   "metadata": {},
   "source": [
    "# 5.Write a program to scrap geospatial coordinates (latitude, longitude) of a city searched on google\n",
    "maps"
   ]
  },
  {
   "cell_type": "code",
   "execution_count": 196,
   "id": "bddce089",
   "metadata": {},
   "outputs": [],
   "source": [
    "driver=webdriver.Chrome(r'C:/Users/RUCHITA/Downloads/chromedriver_win32/chromedriver.exe')"
   ]
  },
  {
   "cell_type": "code",
   "execution_count": 197,
   "id": "52d69574",
   "metadata": {},
   "outputs": [],
   "source": [
    "url='https://www.google.co.in/maps'\n",
    "driver.get(url)"
   ]
  },
  {
   "cell_type": "code",
   "execution_count": 198,
   "id": "f4586890",
   "metadata": {},
   "outputs": [],
   "source": [
    "from time import sleep\n",
    "sleep(5)"
   ]
  },
  {
   "cell_type": "code",
   "execution_count": 199,
   "id": "e2367325",
   "metadata": {},
   "outputs": [],
   "source": [
    "#search place like destination\n",
    "def searchplace():\n",
    "    Place = driver.find_element_by_class_name(\"tactile-searchbox-input\")\n",
    "    Place.send_keys(\"pune\")\n",
    "    Search = driver.find_element_by_class_name(\"nhb85d-BIqFsb\")\n",
    "    Search.click()\n",
    "searchplace()"
   ]
  },
  {
   "cell_type": "code",
   "execution_count": 201,
   "id": "997fe8c3",
   "metadata": {},
   "outputs": [],
   "source": [
    "#for use the direction\n",
    "def directions():\n",
    "    sleep(10)\n",
    "    directions = driver.find_element_by_class_name(\"EgL07d\")\n",
    "    directions.click()\n",
    "directions()"
   ]
  },
  {
   "cell_type": "code",
   "execution_count": 209,
   "id": "e7926a59",
   "metadata": {},
   "outputs": [],
   "source": [
    "#find the place like starting point\n",
    "def find():\n",
    "    sleep(10)\n",
    "    find = driver.find_element_by_xpath(\"/html/body/div[3]/div[9]/div[3]/div[1]/div[2]/div/div[3]/div[1]/div[1]/div[2]/div[1]/div/input\")\n",
    "       \n",
    "    find.send_keys(\"indore\")\n",
    "    sleep(5)\n",
    "    search = driver.find_element_by_xpath(\"/html/body/div[3]/div[9]/div[3]/div[1]/div[2]/div/div[3]/div[1]/div[1]/div[2]/button[1]\")\n",
    "       \n",
    "    search.click()\n",
    "find()"
   ]
  },
  {
   "cell_type": "markdown",
   "id": "fd191b4a",
   "metadata": {},
   "source": [
    "# 6.Write a program to scrap details of all the funding deals for second quarter (i.e Jan 21 – March 21)\n",
    "from trak.in."
   ]
  },
  {
   "cell_type": "code",
   "execution_count": 12,
   "id": "bba7a738",
   "metadata": {},
   "outputs": [],
   "source": [
    "driver=webdriver.Chrome(r'C:/Users/RUCHITA/Downloads/chromedriver_win32/chromedriver.exe')"
   ]
  },
  {
   "cell_type": "code",
   "execution_count": 13,
   "id": "3ee9b8cf",
   "metadata": {},
   "outputs": [],
   "source": [
    "url='https://www.trak.in'\n",
    "driver.get(url)"
   ]
  },
  {
   "cell_type": "code",
   "execution_count": 14,
   "id": "8393da73",
   "metadata": {},
   "outputs": [],
   "source": [
    "from time import sleep\n",
    "sleep(5)\n",
    "more= driver.find_element_by_xpath(\"/html/body/div[1]/header/div[2]/div/div/div/div/nav/ul/li[9]/a\")\n",
    "       \n",
    "more.click()"
   ]
  },
  {
   "cell_type": "code",
   "execution_count": 67,
   "id": "055217c0",
   "metadata": {},
   "outputs": [],
   "source": [
    "sleep(10)\n",
    "dates=[]\n",
    "date=driver.find_elements_by_class_name(\"column-2\")\n",
    "for i in date:\n",
    "    dates.append(i.text)\n",
    "\n",
    "name=[]\n",
    "s_name=driver.find_elements_by_class_name(\"column-3\")\n",
    "for i in s_name:\n",
    "    name.append(i.text)\n",
    "industry=[]\n",
    "indus=driver.find_elements_by_class_name(\"column-4\")\n",
    "for i in indus:\n",
    "    industry.append(i.text)\n",
    "subvertical=[]\n",
    "mode=driver.find_elements_by_class_name(\"column-5\")\n",
    "for i in mode:\n",
    "    subvertical.append(i.text)\n",
    "city=[]\n",
    "cty=driver.find_elements_by_class_name(\"column-6\")\n",
    "for i in cty:\n",
    "    city.append(i.text)\n",
    "investor=[]\n",
    "inve=driver.find_elements_by_class_name(\"column-7\")\n",
    "for i in inve:\n",
    "    investor.append(i.text)\n",
    "invst_type=[]\n",
    "typ=driver.find_elements_by_class_name(\"column-9\")\n",
    "for i in typ:\n",
    "    invst_type.append(i.text)\n",
    "    amount=[]\n",
    "amnt=driver.find_elements_by_class_name(\"column-9\")\n",
    "for i in amnt:\n",
    "    amount.append(i.text)"
   ]
  },
  {
   "cell_type": "code",
   "execution_count": 68,
   "id": "c516a7e1",
   "metadata": {},
   "outputs": [],
   "source": [
    "df=pd.DataFrame({\n",
    "                'date':dates[7:39],\n",
    "                'startup name':name[7:39],\n",
    "    'industry':industry[7:39],\n",
    "    'sub vertical':subvertical[7:39],'city nmae':city[7:39],\n",
    "'investor name':investor[7:39],'investor type':invst_type[7:39],'amount in USD':amount[7:39]})"
   ]
  },
  {
   "cell_type": "code",
   "execution_count": 69,
   "id": "a7f1b57a",
   "metadata": {},
   "outputs": [
    {
     "data": {
      "text/html": [
       "<div>\n",
       "<style scoped>\n",
       "    .dataframe tbody tr th:only-of-type {\n",
       "        vertical-align: middle;\n",
       "    }\n",
       "\n",
       "    .dataframe tbody tr th {\n",
       "        vertical-align: top;\n",
       "    }\n",
       "\n",
       "    .dataframe thead th {\n",
       "        text-align: right;\n",
       "    }\n",
       "</style>\n",
       "<table border=\"1\" class=\"dataframe\">\n",
       "  <thead>\n",
       "    <tr style=\"text-align: right;\">\n",
       "      <th></th>\n",
       "      <th>date</th>\n",
       "      <th>startup name</th>\n",
       "      <th>industry</th>\n",
       "      <th>sub vertical</th>\n",
       "      <th>city nmae</th>\n",
       "      <th>investor name</th>\n",
       "      <th>investor type</th>\n",
       "      <th>amount in USD</th>\n",
       "    </tr>\n",
       "  </thead>\n",
       "  <tbody>\n",
       "    <tr>\n",
       "      <th>0</th>\n",
       "      <td>Date (dd/mm/yyyy)</td>\n",
       "      <td>Startup Name</td>\n",
       "      <td>Industry / Vertical</td>\n",
       "      <td>Sub-Vertical</td>\n",
       "      <td>City / Location</td>\n",
       "      <td>Investors' Name</td>\n",
       "      <td>Amount (In USD)</td>\n",
       "      <td>Amount (In USD)</td>\n",
       "    </tr>\n",
       "    <tr>\n",
       "      <th>1</th>\n",
       "      <td></td>\n",
       "      <td></td>\n",
       "      <td></td>\n",
       "      <td></td>\n",
       "      <td></td>\n",
       "      <td></td>\n",
       "      <td></td>\n",
       "      <td></td>\n",
       "    </tr>\n",
       "    <tr>\n",
       "      <th>2</th>\n",
       "      <td>04/03/2021</td>\n",
       "      <td>DealShare</td>\n",
       "      <td>E-commerce</td>\n",
       "      <td>Online shopping platform</td>\n",
       "      <td>Jaipur, Rajasthan</td>\n",
       "      <td>Innoven Capital</td>\n",
       "      <td>250,000,000</td>\n",
       "      <td>250,000,000</td>\n",
       "    </tr>\n",
       "    <tr>\n",
       "      <th>3</th>\n",
       "      <td>31/03/2021</td>\n",
       "      <td>Uniphore</td>\n",
       "      <td>Technology</td>\n",
       "      <td>Conversational Service Automation (CSA)</td>\n",
       "      <td>Palo Alto</td>\n",
       "      <td>Sorenson Capital Partners</td>\n",
       "      <td>140,000,000</td>\n",
       "      <td>140,000,000</td>\n",
       "    </tr>\n",
       "    <tr>\n",
       "      <th>4</th>\n",
       "      <td>30/03/2021</td>\n",
       "      <td>Dunzo</td>\n",
       "      <td>E-commerce</td>\n",
       "      <td>Hyper-local delivery app</td>\n",
       "      <td>Bengaluru</td>\n",
       "      <td>Krishtal Advisors Pte Ltd</td>\n",
       "      <td>8,000,000</td>\n",
       "      <td>8,000,000</td>\n",
       "    </tr>\n",
       "    <tr>\n",
       "      <th>5</th>\n",
       "      <td>30/03/2021</td>\n",
       "      <td>BYJU’S</td>\n",
       "      <td>Edu-tech</td>\n",
       "      <td>Online tutoring</td>\n",
       "      <td>Bengaluru</td>\n",
       "      <td>MC Global Edtech, B Capital, Baron, others</td>\n",
       "      <td>460,000,000</td>\n",
       "      <td>460,000,000</td>\n",
       "    </tr>\n",
       "    <tr>\n",
       "      <th>6</th>\n",
       "      <td>23/03/2021</td>\n",
       "      <td>SkilloVilla</td>\n",
       "      <td>Edu-tech</td>\n",
       "      <td>Career and job-oriented upskilling.</td>\n",
       "      <td>Bengaluru</td>\n",
       "      <td>Titan Capital, others</td>\n",
       "      <td>300,000,000</td>\n",
       "      <td>300,000,000</td>\n",
       "    </tr>\n",
       "    <tr>\n",
       "      <th>7</th>\n",
       "      <td>25/03/2021</td>\n",
       "      <td>CityMall</td>\n",
       "      <td>E-commerce</td>\n",
       "      <td>Social ecommerce and online grocery platform</td>\n",
       "      <td>Gurgaon</td>\n",
       "      <td>Accel Partners</td>\n",
       "      <td>11,000,000</td>\n",
       "      <td>11,000,000</td>\n",
       "    </tr>\n",
       "    <tr>\n",
       "      <th>8</th>\n",
       "      <td>26/03/2021</td>\n",
       "      <td>DotPe</td>\n",
       "      <td>FinTech</td>\n",
       "      <td>Commerce and payments platform to offline ente...</td>\n",
       "      <td>Gurgaon</td>\n",
       "      <td>PayU</td>\n",
       "      <td>27,500,000</td>\n",
       "      <td>27,500,000</td>\n",
       "    </tr>\n",
       "    <tr>\n",
       "      <th>9</th>\n",
       "      <td>Date (dd/mm/yyyy)</td>\n",
       "      <td>Startup Name</td>\n",
       "      <td>Industry / Vertical</td>\n",
       "      <td>Sub-Vertical</td>\n",
       "      <td>City / Location</td>\n",
       "      <td>Investors' Name</td>\n",
       "      <td>Amount (In USD)</td>\n",
       "      <td>Amount (In USD)</td>\n",
       "    </tr>\n",
       "    <tr>\n",
       "      <th>10</th>\n",
       "      <td></td>\n",
       "      <td></td>\n",
       "      <td></td>\n",
       "      <td></td>\n",
       "      <td></td>\n",
       "      <td></td>\n",
       "      <td></td>\n",
       "      <td></td>\n",
       "    </tr>\n",
       "    <tr>\n",
       "      <th>11</th>\n",
       "      <td>11/02/2021</td>\n",
       "      <td>Doubtnut</td>\n",
       "      <td>Edu Tech</td>\n",
       "      <td>E-Learning Platform</td>\n",
       "      <td>Gurgaon</td>\n",
       "      <td>SIG Global, Sequoia Capital, WaterBridge Ventu...</td>\n",
       "      <td>2,500,000</td>\n",
       "      <td>2,500,000</td>\n",
       "    </tr>\n",
       "    <tr>\n",
       "      <th>12</th>\n",
       "      <td>22/02/2021</td>\n",
       "      <td>Zomato</td>\n",
       "      <td>Hospitality</td>\n",
       "      <td>Online Food Delivery Platform</td>\n",
       "      <td>Gurgaon</td>\n",
       "      <td>Tiger Global, Kora</td>\n",
       "      <td>250,000,000</td>\n",
       "      <td>250,000,000</td>\n",
       "    </tr>\n",
       "    <tr>\n",
       "      <th>13</th>\n",
       "      <td>19/02/2021</td>\n",
       "      <td>Fingerlix</td>\n",
       "      <td>Hospitality</td>\n",
       "      <td>Semi-cooked food delivery app</td>\n",
       "      <td>Mumbai</td>\n",
       "      <td>Rhodium Trust, Accel Partners and Swiggy</td>\n",
       "      <td>2,747,045.20</td>\n",
       "      <td>2,747,045.20</td>\n",
       "    </tr>\n",
       "    <tr>\n",
       "      <th>14</th>\n",
       "      <td>17/02/2021</td>\n",
       "      <td>Zolve</td>\n",
       "      <td>FinTech</td>\n",
       "      <td>Global Neobank Venture</td>\n",
       "      <td>Mumbai</td>\n",
       "      <td>Accel Partners and Lightspeed Venture Partners</td>\n",
       "      <td>1,50,00,000</td>\n",
       "      <td>1,50,00,000</td>\n",
       "    </tr>\n",
       "    <tr>\n",
       "      <th>15</th>\n",
       "      <td>15/02/2021</td>\n",
       "      <td>KreditBee</td>\n",
       "      <td>Finance</td>\n",
       "      <td>Digital lending platform</td>\n",
       "      <td>Bengaluru</td>\n",
       "      <td>Azim Premji’s PremjiInvest and South Korea’s M...</td>\n",
       "      <td>75,000,000</td>\n",
       "      <td>75,000,000</td>\n",
       "    </tr>\n",
       "    <tr>\n",
       "      <th>16</th>\n",
       "      <td>12/02/2021</td>\n",
       "      <td>Pepperfry</td>\n",
       "      <td>E-commerce</td>\n",
       "      <td>Multi-brand furniture brand</td>\n",
       "      <td>Mumbai</td>\n",
       "      <td>InnoVen Capital</td>\n",
       "      <td>4,773,958</td>\n",
       "      <td>4,773,958</td>\n",
       "    </tr>\n",
       "    <tr>\n",
       "      <th>17</th>\n",
       "      <td>12/02/2021</td>\n",
       "      <td>Grofers</td>\n",
       "      <td>E-Commerce</td>\n",
       "      <td>Online supermarket</td>\n",
       "      <td>Gurgaon</td>\n",
       "      <td>SoftBank Vision Fund (SVF)</td>\n",
       "      <td>55,000,000</td>\n",
       "      <td>55,000,000</td>\n",
       "    </tr>\n",
       "    <tr>\n",
       "      <th>18</th>\n",
       "      <td>09/02/2021</td>\n",
       "      <td>Nothing</td>\n",
       "      <td>Technology</td>\n",
       "      <td>Consumer Technology Venture</td>\n",
       "      <td>London</td>\n",
       "      <td>GV</td>\n",
       "      <td>15,000,000</td>\n",
       "      <td>15,000,000</td>\n",
       "    </tr>\n",
       "    <tr>\n",
       "      <th>19</th>\n",
       "      <td>09/02/2021</td>\n",
       "      <td>SplashLearn</td>\n",
       "      <td>EdTech</td>\n",
       "      <td>Game-based learning programme</td>\n",
       "      <td>Gurgaon</td>\n",
       "      <td>Owl Ventures</td>\n",
       "      <td>18,000,000</td>\n",
       "      <td>18,000,000</td>\n",
       "    </tr>\n",
       "    <tr>\n",
       "      <th>20</th>\n",
       "      <td>Date (dd/mm/yyyy)</td>\n",
       "      <td>Startup Name</td>\n",
       "      <td>Industry / Vertical</td>\n",
       "      <td>Sub-Vertical</td>\n",
       "      <td>City / Location</td>\n",
       "      <td>Investors' Name</td>\n",
       "      <td>Amount (In USD)</td>\n",
       "      <td>Amount (In USD)</td>\n",
       "    </tr>\n",
       "    <tr>\n",
       "      <th>21</th>\n",
       "      <td></td>\n",
       "      <td></td>\n",
       "      <td></td>\n",
       "      <td></td>\n",
       "      <td></td>\n",
       "      <td></td>\n",
       "      <td></td>\n",
       "      <td></td>\n",
       "    </tr>\n",
       "    <tr>\n",
       "      <th>22</th>\n",
       "      <td>15/01/2021</td>\n",
       "      <td>Digit Insurance</td>\n",
       "      <td>Financial Services</td>\n",
       "      <td>Insurance Services</td>\n",
       "      <td>Bengaluru</td>\n",
       "      <td>A91 Partners, Faering Capital, TVS Capital Funds</td>\n",
       "      <td>1,80,00,000</td>\n",
       "      <td>1,80,00,000</td>\n",
       "    </tr>\n",
       "    <tr>\n",
       "      <th>23</th>\n",
       "      <td>28/01/2021</td>\n",
       "      <td>Bombay Shaving Company</td>\n",
       "      <td>Consumer Goods Company</td>\n",
       "      <td>Shave care, beard care, and skincare products</td>\n",
       "      <td>New Delhi</td>\n",
       "      <td>Reckitt Benckiser</td>\n",
       "      <td>6,172,258.50</td>\n",
       "      <td>6,172,258.50</td>\n",
       "    </tr>\n",
       "    <tr>\n",
       "      <th>24</th>\n",
       "      <td>19/01/2021</td>\n",
       "      <td>DeHaat</td>\n",
       "      <td>AgriTech Startup</td>\n",
       "      <td>online marketplace for farm products and services</td>\n",
       "      <td>Patna</td>\n",
       "      <td>Prosus Ventures</td>\n",
       "      <td>30,000,000</td>\n",
       "      <td>30,000,000</td>\n",
       "    </tr>\n",
       "    <tr>\n",
       "      <th>25</th>\n",
       "      <td>19/01/2021</td>\n",
       "      <td>Darwinbox</td>\n",
       "      <td>SaaS</td>\n",
       "      <td>HR Tech</td>\n",
       "      <td>Mumbai</td>\n",
       "      <td>Salesforce Ventures</td>\n",
       "      <td>15,000,000</td>\n",
       "      <td>15,000,000</td>\n",
       "    </tr>\n",
       "    <tr>\n",
       "      <th>26</th>\n",
       "      <td>18/01/2021</td>\n",
       "      <td>mfine</td>\n",
       "      <td>Health Tech Startup</td>\n",
       "      <td>AI-powered telemedicine mobile app</td>\n",
       "      <td>Bengaluru</td>\n",
       "      <td>Heritas Capital Management</td>\n",
       "      <td>16,000,000</td>\n",
       "      <td>16,000,000</td>\n",
       "    </tr>\n",
       "    <tr>\n",
       "      <th>27</th>\n",
       "      <td>18/01/2021</td>\n",
       "      <td>Udayy</td>\n",
       "      <td>EdTech</td>\n",
       "      <td>Online learning platform for kids in class 1-5</td>\n",
       "      <td>Gurgaon</td>\n",
       "      <td>Sequoia Capital</td>\n",
       "      <td>15,000,000</td>\n",
       "      <td>15,000,000</td>\n",
       "    </tr>\n",
       "    <tr>\n",
       "      <th>28</th>\n",
       "      <td>11/01/2021</td>\n",
       "      <td>True Elements</td>\n",
       "      <td>Food Startup</td>\n",
       "      <td>Whole Food plant based Nashta</td>\n",
       "      <td>Pune</td>\n",
       "      <td>SIDBI Venture Capital</td>\n",
       "      <td>100,000,000</td>\n",
       "      <td>100,000,000</td>\n",
       "    </tr>\n",
       "    <tr>\n",
       "      <th>29</th>\n",
       "      <td>13/01/2021</td>\n",
       "      <td>Saveo</td>\n",
       "      <td>B2B E-commerce</td>\n",
       "      <td>Pharmacies</td>\n",
       "      <td>Bengaluru</td>\n",
       "      <td>Matrix Partners India, RTP Global, others</td>\n",
       "      <td>4,000,000</td>\n",
       "      <td>4,000,000</td>\n",
       "    </tr>\n",
       "    <tr>\n",
       "      <th>30</th>\n",
       "      <td>Date (dd/mm/yyyy)</td>\n",
       "      <td>Startup Name</td>\n",
       "      <td>Industry / Vertical</td>\n",
       "      <td>Sub-Vertical</td>\n",
       "      <td>City / Location</td>\n",
       "      <td>Investors' Name</td>\n",
       "      <td>Amount (In USD)</td>\n",
       "      <td>Amount (In USD)</td>\n",
       "    </tr>\n",
       "    <tr>\n",
       "      <th>31</th>\n",
       "      <td></td>\n",
       "      <td></td>\n",
       "      <td></td>\n",
       "      <td></td>\n",
       "      <td></td>\n",
       "      <td></td>\n",
       "      <td></td>\n",
       "      <td></td>\n",
       "    </tr>\n",
       "  </tbody>\n",
       "</table>\n",
       "</div>"
      ],
      "text/plain": [
       "                 date            startup name                industry  \\\n",
       "0   Date (dd/mm/yyyy)            Startup Name     Industry / Vertical   \n",
       "1                                                                       \n",
       "2          04/03/2021               DealShare              E-commerce   \n",
       "3          31/03/2021                Uniphore              Technology   \n",
       "4          30/03/2021                   Dunzo              E-commerce   \n",
       "5          30/03/2021                  BYJU’S                Edu-tech   \n",
       "6          23/03/2021             SkilloVilla                Edu-tech   \n",
       "7          25/03/2021                CityMall              E-commerce   \n",
       "8          26/03/2021                   DotPe                 FinTech   \n",
       "9   Date (dd/mm/yyyy)            Startup Name     Industry / Vertical   \n",
       "10                                                                      \n",
       "11         11/02/2021                Doubtnut                Edu Tech   \n",
       "12         22/02/2021                  Zomato             Hospitality   \n",
       "13         19/02/2021               Fingerlix             Hospitality   \n",
       "14         17/02/2021                   Zolve                 FinTech   \n",
       "15         15/02/2021               KreditBee                 Finance   \n",
       "16         12/02/2021               Pepperfry              E-commerce   \n",
       "17         12/02/2021                 Grofers              E-Commerce   \n",
       "18         09/02/2021                 Nothing              Technology   \n",
       "19         09/02/2021             SplashLearn                  EdTech   \n",
       "20  Date (dd/mm/yyyy)            Startup Name     Industry / Vertical   \n",
       "21                                                                      \n",
       "22         15/01/2021         Digit Insurance      Financial Services   \n",
       "23         28/01/2021  Bombay Shaving Company  Consumer Goods Company   \n",
       "24         19/01/2021                  DeHaat        AgriTech Startup   \n",
       "25         19/01/2021               Darwinbox                    SaaS   \n",
       "26         18/01/2021                   mfine     Health Tech Startup   \n",
       "27         18/01/2021                   Udayy                  EdTech   \n",
       "28         11/01/2021           True Elements            Food Startup   \n",
       "29         13/01/2021                   Saveo          B2B E-commerce   \n",
       "30  Date (dd/mm/yyyy)            Startup Name     Industry / Vertical   \n",
       "31                                                                      \n",
       "\n",
       "                                         sub vertical          city nmae  \\\n",
       "0                                        Sub-Vertical    City / Location   \n",
       "1                                                                          \n",
       "2                            Online shopping platform  Jaipur, Rajasthan   \n",
       "3             Conversational Service Automation (CSA)          Palo Alto   \n",
       "4                            Hyper-local delivery app          Bengaluru   \n",
       "5                                     Online tutoring          Bengaluru   \n",
       "6                 Career and job-oriented upskilling.          Bengaluru   \n",
       "7        Social ecommerce and online grocery platform            Gurgaon   \n",
       "8   Commerce and payments platform to offline ente...            Gurgaon   \n",
       "9                                        Sub-Vertical    City / Location   \n",
       "10                                                                         \n",
       "11                                E-Learning Platform            Gurgaon   \n",
       "12                      Online Food Delivery Platform            Gurgaon   \n",
       "13                      Semi-cooked food delivery app             Mumbai   \n",
       "14                             Global Neobank Venture             Mumbai   \n",
       "15                           Digital lending platform          Bengaluru   \n",
       "16                        Multi-brand furniture brand             Mumbai   \n",
       "17                                 Online supermarket            Gurgaon   \n",
       "18                        Consumer Technology Venture             London   \n",
       "19                      Game-based learning programme            Gurgaon   \n",
       "20                                       Sub-Vertical    City / Location   \n",
       "21                                                                         \n",
       "22                                 Insurance Services          Bengaluru   \n",
       "23      Shave care, beard care, and skincare products          New Delhi   \n",
       "24  online marketplace for farm products and services              Patna   \n",
       "25                                            HR Tech             Mumbai   \n",
       "26                 AI-powered telemedicine mobile app          Bengaluru   \n",
       "27     Online learning platform for kids in class 1-5            Gurgaon   \n",
       "28                      Whole Food plant based Nashta               Pune   \n",
       "29                                         Pharmacies          Bengaluru   \n",
       "30                                       Sub-Vertical    City / Location   \n",
       "31                                                                         \n",
       "\n",
       "                                        investor name    investor type  \\\n",
       "0                                     Investors' Name  Amount (In USD)   \n",
       "1                                                                        \n",
       "2                                     Innoven Capital      250,000,000   \n",
       "3                           Sorenson Capital Partners      140,000,000   \n",
       "4                           Krishtal Advisors Pte Ltd        8,000,000   \n",
       "5          MC Global Edtech, B Capital, Baron, others      460,000,000   \n",
       "6                               Titan Capital, others      300,000,000   \n",
       "7                                      Accel Partners       11,000,000   \n",
       "8                                                PayU       27,500,000   \n",
       "9                                     Investors' Name  Amount (In USD)   \n",
       "10                                                                       \n",
       "11  SIG Global, Sequoia Capital, WaterBridge Ventu...        2,500,000   \n",
       "12                                 Tiger Global, Kora      250,000,000   \n",
       "13           Rhodium Trust, Accel Partners and Swiggy     2,747,045.20   \n",
       "14     Accel Partners and Lightspeed Venture Partners      1,50,00,000   \n",
       "15  Azim Premji’s PremjiInvest and South Korea’s M...       75,000,000   \n",
       "16                                    InnoVen Capital        4,773,958   \n",
       "17                         SoftBank Vision Fund (SVF)       55,000,000   \n",
       "18                                                 GV       15,000,000   \n",
       "19                                       Owl Ventures       18,000,000   \n",
       "20                                    Investors' Name  Amount (In USD)   \n",
       "21                                                                       \n",
       "22   A91 Partners, Faering Capital, TVS Capital Funds      1,80,00,000   \n",
       "23                                  Reckitt Benckiser     6,172,258.50   \n",
       "24                                    Prosus Ventures       30,000,000   \n",
       "25                                Salesforce Ventures       15,000,000   \n",
       "26                         Heritas Capital Management       16,000,000   \n",
       "27                                    Sequoia Capital       15,000,000   \n",
       "28                              SIDBI Venture Capital      100,000,000   \n",
       "29          Matrix Partners India, RTP Global, others        4,000,000   \n",
       "30                                    Investors' Name  Amount (In USD)   \n",
       "31                                                                       \n",
       "\n",
       "      amount in USD  \n",
       "0   Amount (In USD)  \n",
       "1                    \n",
       "2       250,000,000  \n",
       "3       140,000,000  \n",
       "4         8,000,000  \n",
       "5       460,000,000  \n",
       "6       300,000,000  \n",
       "7        11,000,000  \n",
       "8        27,500,000  \n",
       "9   Amount (In USD)  \n",
       "10                   \n",
       "11        2,500,000  \n",
       "12      250,000,000  \n",
       "13     2,747,045.20  \n",
       "14      1,50,00,000  \n",
       "15       75,000,000  \n",
       "16        4,773,958  \n",
       "17       55,000,000  \n",
       "18       15,000,000  \n",
       "19       18,000,000  \n",
       "20  Amount (In USD)  \n",
       "21                   \n",
       "22      1,80,00,000  \n",
       "23     6,172,258.50  \n",
       "24       30,000,000  \n",
       "25       15,000,000  \n",
       "26       16,000,000  \n",
       "27       15,000,000  \n",
       "28      100,000,000  \n",
       "29        4,000,000  \n",
       "30  Amount (In USD)  \n",
       "31                   "
      ]
     },
     "execution_count": 69,
     "metadata": {},
     "output_type": "execute_result"
    }
   ],
   "source": [
    "df"
   ]
  },
  {
   "cell_type": "code",
   "execution_count": null,
   "id": "1233d387",
   "metadata": {},
   "outputs": [],
   "source": []
  },
  {
   "cell_type": "markdown",
   "id": "db9afbd2",
   "metadata": {},
   "source": [
    "# 7.Write a program to scrap all the available details of best gaming laptops from digit.in¶"
   ]
  },
  {
   "cell_type": "code",
   "execution_count": 451,
   "id": "168beda4",
   "metadata": {},
   "outputs": [],
   "source": [
    "driver=webdriver.Chrome(r'C:/Users/RUCHITA/Downloads/chromedriver_win32/chromedriver.exe')"
   ]
  },
  {
   "cell_type": "code",
   "execution_count": 452,
   "id": "ac395e8e",
   "metadata": {},
   "outputs": [],
   "source": [
    "url='https://www.digit.in'\n",
    "driver.get(url)"
   ]
  },
  {
   "cell_type": "code",
   "execution_count": 453,
   "id": "212312f1",
   "metadata": {},
   "outputs": [],
   "source": [
    "sleep(5)"
   ]
  },
  {
   "cell_type": "code",
   "execution_count": 454,
   "id": "c65ebb6a",
   "metadata": {},
   "outputs": [],
   "source": [
    "Search = driver.find_element_by_class_name(\"search\")\n",
    "Search.click()"
   ]
  },
  {
   "cell_type": "code",
   "execution_count": 455,
   "id": "28a28d50",
   "metadata": {},
   "outputs": [],
   "source": [
    "search_itm = driver.find_element_by_xpath('/html/body/div[2]/div[2]/div/div/input')\n",
    "search_itm.send_keys(\"best gaming laptop\")"
   ]
  },
  {
   "cell_type": "code",
   "execution_count": 456,
   "id": "3d3b9d28",
   "metadata": {},
   "outputs": [],
   "source": [
    "from selenium.webdriver.common.keys import Keys\n",
    "search_itm.send_keys(Keys.ENTER)"
   ]
  },
  {
   "cell_type": "code",
   "execution_count": 457,
   "id": "a610daae",
   "metadata": {},
   "outputs": [],
   "source": [
    "element_list = []\n",
    "  \n",
    "for page in range(1, 10, 1):#webside has 499 pages so we can use range(1,449)\n",
    "    \n",
    "    page_url = \"https://www.digit.in/search/?keyword=best%20gaming%20laptop\" + str(page)\n",
    "    \n",
    "    driver.get(page_url)\n",
    "    title = driver.find_elements_by_class_name(\"searchProduct-desc\")\n",
    "    \n",
    "  \n",
    "    for i in range(len(title)):\n",
    "        element_list.append([title[i].text])\n",
    "  "
   ]
  },
  {
   "cell_type": "code",
   "execution_count": 458,
   "id": "f745798e",
   "metadata": {},
   "outputs": [],
   "source": [
    "df=pd.DataFrame()\n",
    "df['products_name']=element_list"
   ]
  },
  {
   "cell_type": "code",
   "execution_count": 459,
   "id": "f0bfcdb8",
   "metadata": {},
   "outputs": [
    {
     "data": {
      "text/html": [
       "<div>\n",
       "<style scoped>\n",
       "    .dataframe tbody tr th:only-of-type {\n",
       "        vertical-align: middle;\n",
       "    }\n",
       "\n",
       "    .dataframe tbody tr th {\n",
       "        vertical-align: top;\n",
       "    }\n",
       "\n",
       "    .dataframe thead th {\n",
       "        text-align: right;\n",
       "    }\n",
       "</style>\n",
       "<table border=\"1\" class=\"dataframe\">\n",
       "  <thead>\n",
       "    <tr style=\"text-align: right;\">\n",
       "      <th></th>\n",
       "      <th>products_name</th>\n",
       "    </tr>\n",
       "  </thead>\n",
       "  <tbody>\n",
       "    <tr>\n",
       "      <th>0</th>\n",
       "      <td>[Asus GTX980 Matrix Platinum]</td>\n",
       "    </tr>\n",
       "    <tr>\n",
       "      <th>1</th>\n",
       "      <td>[Sony PlayStation Vita]</td>\n",
       "    </tr>\n",
       "    <tr>\n",
       "      <th>2</th>\n",
       "      <td>[Cooler Master Storm Devastator]</td>\n",
       "    </tr>\n",
       "    <tr>\n",
       "      <th>3</th>\n",
       "      <td>[Asus G750JX-CV069P]</td>\n",
       "    </tr>\n",
       "    <tr>\n",
       "      <th>4</th>\n",
       "      <td>[Asus TUF Gaming FX505]</td>\n",
       "    </tr>\n",
       "  </tbody>\n",
       "</table>\n",
       "</div>"
      ],
      "text/plain": [
       "                      products_name\n",
       "0     [Asus GTX980 Matrix Platinum]\n",
       "1           [Sony PlayStation Vita]\n",
       "2  [Cooler Master Storm Devastator]\n",
       "3              [Asus G750JX-CV069P]\n",
       "4           [Asus TUF Gaming FX505]"
      ]
     },
     "execution_count": 459,
     "metadata": {},
     "output_type": "execute_result"
    }
   ],
   "source": [
    "df.head()"
   ]
  },
  {
   "cell_type": "markdown",
   "id": "a543861a",
   "metadata": {},
   "source": [
    "# 8.Write a python program to scrape the details for all billionaires from www.forbes.com. Details to be\n",
    "scrapped: “Rank”, “Name”, “Net worth”, “Age”, “Citizenship”, “Source”, “Industry”."
   ]
  },
  {
   "cell_type": "code",
   "execution_count": 123,
   "id": "e3bd99c2",
   "metadata": {},
   "outputs": [],
   "source": [
    "import pandas as pd\n",
    "import selenium\n",
    "from selenium import webdriver\n",
    "import warnings\n",
    "warnings.filterwarnings(\"ignore\")"
   ]
  },
  {
   "cell_type": "code",
   "execution_count": 124,
   "id": "e24583d4",
   "metadata": {},
   "outputs": [],
   "source": [
    "driver=webdriver.Chrome(r'C:/Users/RUCHITA/Downloads/chromedriver_win32/chromedriver.exe')"
   ]
  },
  {
   "cell_type": "code",
   "execution_count": 125,
   "id": "75d05d44",
   "metadata": {},
   "outputs": [],
   "source": [
    "url='https://www.forbes.com'\n",
    "driver.get(url)"
   ]
  },
  {
   "cell_type": "code",
   "execution_count": 126,
   "id": "da8b79f1",
   "metadata": {},
   "outputs": [],
   "source": [
    "from time import sleep\n",
    "sleep(10)"
   ]
  },
  {
   "cell_type": "code",
   "execution_count": 127,
   "id": "bfc937cd",
   "metadata": {},
   "outputs": [],
   "source": [
    "explore= driver.find_element_by_class_name(\"icon--hamburger\")"
   ]
  },
  {
   "cell_type": "code",
   "execution_count": 128,
   "id": "d352dfdf",
   "metadata": {},
   "outputs": [],
   "source": [
    "explore.click()"
   ]
  },
  {
   "cell_type": "code",
   "execution_count": 129,
   "id": "c16835e5",
   "metadata": {},
   "outputs": [],
   "source": [
    "bill= driver.find_element_by_xpath(\"/html/body/div[1]/header/nav/div[3]/ul/li[1]\")"
   ]
  },
  {
   "cell_type": "code",
   "execution_count": 130,
   "id": "7ccc5ece",
   "metadata": {},
   "outputs": [],
   "source": [
    "bill.click()"
   ]
  },
  {
   "cell_type": "code",
   "execution_count": 131,
   "id": "be3d4ba1",
   "metadata": {},
   "outputs": [],
   "source": [
    "world_bill= driver.find_element_by_class_name(\"section__link\")"
   ]
  },
  {
   "cell_type": "code",
   "execution_count": 132,
   "id": "16e1dfe5",
   "metadata": {},
   "outputs": [],
   "source": [
    "world_bill.click()"
   ]
  },
  {
   "cell_type": "code",
   "execution_count": 146,
   "id": "a9f5677a",
   "metadata": {},
   "outputs": [],
   "source": [
    "\n",
    "name=[]\n",
    "names= driver.find_elements_by_class_name(\"personName\")\n",
    "for i in names:\n",
    "  \n",
    "    name.append(i.text)\n",
    "    \n",
    "\n",
    "    \n",
    "\n",
    "        "
   ]
  },
  {
   "cell_type": "code",
   "execution_count": 147,
   "id": "59056b77",
   "metadata": {},
   "outputs": [],
   "source": [
    "NET_WORTH=[]\n",
    "worth= driver.find_elements_by_class_name(\"netWorth\")\n",
    "for i in worth:\n",
    "  \n",
    "        NET_WORTH.append(i.text)"
   ]
  },
  {
   "cell_type": "code",
   "execution_count": 148,
   "id": "9651a3c0",
   "metadata": {},
   "outputs": [],
   "source": [
    "COUNTRY_TERRITORY=[]\n",
    "countries= driver.find_elements_by_class_name(\"countryOfCitizenship\")\n",
    "for i in countries:\n",
    "  \n",
    "        COUNTRY_TERRITORY.append(i.text)"
   ]
  },
  {
   "cell_type": "code",
   "execution_count": 149,
   "id": "28d032ef",
   "metadata": {},
   "outputs": [],
   "source": [
    "SOURCE=[]\n",
    "company= driver.find_elements_by_class_name(\"source-column\")\n",
    "for i in company:\n",
    "  \n",
    "        SOURCE.append(i.text)"
   ]
  },
  {
   "cell_type": "code",
   "execution_count": 150,
   "id": "bed1ac88",
   "metadata": {},
   "outputs": [],
   "source": [
    "INDUSTRY=[]\n",
    "fields= driver.find_elements_by_class_name(\"category\")\n",
    "for i in fields:\n",
    "  \n",
    "        INDUSTRY.append(i.text)\n",
    "\n",
    "   \n",
    "    \n",
    "   "
   ]
  },
  {
   "cell_type": "code",
   "execution_count": 151,
   "id": "5452b1e8",
   "metadata": {},
   "outputs": [],
   "source": [
    "df=pd.DataFrame({\n",
    "                'names':name[1:],\n",
    "                'NetWorth':NET_WORTH[1:],'country':COUNTRY_TERRITORY[1:],'company name':SOURCE,'fields':INDUSTRY[1:]})"
   ]
  },
  {
   "cell_type": "code",
   "execution_count": 152,
   "id": "526691fb",
   "metadata": {},
   "outputs": [
    {
     "data": {
      "text/html": [
       "<div>\n",
       "<style scoped>\n",
       "    .dataframe tbody tr th:only-of-type {\n",
       "        vertical-align: middle;\n",
       "    }\n",
       "\n",
       "    .dataframe tbody tr th {\n",
       "        vertical-align: top;\n",
       "    }\n",
       "\n",
       "    .dataframe thead th {\n",
       "        text-align: right;\n",
       "    }\n",
       "</style>\n",
       "<table border=\"1\" class=\"dataframe\">\n",
       "  <thead>\n",
       "    <tr style=\"text-align: right;\">\n",
       "      <th></th>\n",
       "      <th>names</th>\n",
       "      <th>NetWorth</th>\n",
       "      <th>country</th>\n",
       "      <th>company name</th>\n",
       "      <th>fields</th>\n",
       "    </tr>\n",
       "  </thead>\n",
       "  <tbody>\n",
       "    <tr>\n",
       "      <th>0</th>\n",
       "      <td>Jeff Bezos</td>\n",
       "      <td>$177 B</td>\n",
       "      <td>United States</td>\n",
       "      <td>Amazon</td>\n",
       "      <td></td>\n",
       "    </tr>\n",
       "    <tr>\n",
       "      <th>1</th>\n",
       "      <td>Elon Musk</td>\n",
       "      <td>$151 B</td>\n",
       "      <td>United States</td>\n",
       "      <td>Tesla, SpaceX</td>\n",
       "      <td></td>\n",
       "    </tr>\n",
       "    <tr>\n",
       "      <th>2</th>\n",
       "      <td>Bernard Arnault &amp; family</td>\n",
       "      <td>$150 B</td>\n",
       "      <td>France</td>\n",
       "      <td>LVMH</td>\n",
       "      <td></td>\n",
       "    </tr>\n",
       "    <tr>\n",
       "      <th>3</th>\n",
       "      <td>Bill Gates</td>\n",
       "      <td>$124 B</td>\n",
       "      <td>United States</td>\n",
       "      <td>Microsoft</td>\n",
       "      <td></td>\n",
       "    </tr>\n",
       "    <tr>\n",
       "      <th>4</th>\n",
       "      <td>Mark Zuckerberg</td>\n",
       "      <td>$97 B</td>\n",
       "      <td>United States</td>\n",
       "      <td>Facebook</td>\n",
       "      <td></td>\n",
       "    </tr>\n",
       "    <tr>\n",
       "      <th>...</th>\n",
       "      <td>...</td>\n",
       "      <td>...</td>\n",
       "      <td>...</td>\n",
       "      <td>...</td>\n",
       "      <td>...</td>\n",
       "    </tr>\n",
       "    <tr>\n",
       "      <th>195</th>\n",
       "      <td>Harry Triguboff</td>\n",
       "      <td>$11.2 B</td>\n",
       "      <td>Australia</td>\n",
       "      <td>real estate</td>\n",
       "      <td></td>\n",
       "    </tr>\n",
       "    <tr>\n",
       "      <th>196</th>\n",
       "      <td>Leonid Fedun</td>\n",
       "      <td>$11.1 B</td>\n",
       "      <td>Russia</td>\n",
       "      <td>oil</td>\n",
       "      <td></td>\n",
       "    </tr>\n",
       "    <tr>\n",
       "      <th>197</th>\n",
       "      <td>Eyal Ofer</td>\n",
       "      <td>$11.1 B</td>\n",
       "      <td>Israel</td>\n",
       "      <td>real estate, shipping</td>\n",
       "      <td></td>\n",
       "    </tr>\n",
       "    <tr>\n",
       "      <th>198</th>\n",
       "      <td>Evan Spiegel</td>\n",
       "      <td>$11.1 B</td>\n",
       "      <td>United States</td>\n",
       "      <td>Snapchat</td>\n",
       "      <td></td>\n",
       "    </tr>\n",
       "    <tr>\n",
       "      <th>199</th>\n",
       "      <td>Luis Carlos Sarmiento</td>\n",
       "      <td>$11 B</td>\n",
       "      <td>Colombia</td>\n",
       "      <td>banking</td>\n",
       "      <td></td>\n",
       "    </tr>\n",
       "  </tbody>\n",
       "</table>\n",
       "<p>200 rows × 5 columns</p>\n",
       "</div>"
      ],
      "text/plain": [
       "                        names NetWorth        country           company name  \\\n",
       "0                  Jeff Bezos   $177 B  United States                 Amazon   \n",
       "1                   Elon Musk   $151 B  United States          Tesla, SpaceX   \n",
       "2    Bernard Arnault & family   $150 B         France                   LVMH   \n",
       "3                  Bill Gates   $124 B  United States              Microsoft   \n",
       "4             Mark Zuckerberg    $97 B  United States               Facebook   \n",
       "..                        ...      ...            ...                    ...   \n",
       "195           Harry Triguboff  $11.2 B      Australia            real estate   \n",
       "196              Leonid Fedun  $11.1 B         Russia                    oil   \n",
       "197                 Eyal Ofer  $11.1 B         Israel  real estate, shipping   \n",
       "198              Evan Spiegel  $11.1 B  United States               Snapchat   \n",
       "199     Luis Carlos Sarmiento    $11 B       Colombia                banking   \n",
       "\n",
       "    fields  \n",
       "0           \n",
       "1           \n",
       "2           \n",
       "3           \n",
       "4           \n",
       "..     ...  \n",
       "195         \n",
       "196         \n",
       "197         \n",
       "198         \n",
       "199         \n",
       "\n",
       "[200 rows x 5 columns]"
      ]
     },
     "execution_count": 152,
     "metadata": {},
     "output_type": "execute_result"
    }
   ],
   "source": [
    "df"
   ]
  },
  {
   "cell_type": "markdown",
   "id": "440ab230",
   "metadata": {},
   "source": [
    "# 9.Write a program to extract at least 500 Comments, Comment upvote and time when comment was posted\n",
    "from any YouTube Video"
   ]
  },
  {
   "cell_type": "code",
   "execution_count": 406,
   "id": "1a63c462",
   "metadata": {},
   "outputs": [],
   "source": [
    "driver=webdriver.Chrome(r'C:/Users/RUCHITA/Downloads/chromedriver_win32/chromedriver.exe')"
   ]
  },
  {
   "cell_type": "code",
   "execution_count": 407,
   "id": "bdf98c0d",
   "metadata": {},
   "outputs": [],
   "source": [
    "url='https://www.YouTube.com'\n",
    "driver.get(url)"
   ]
  },
  {
   "cell_type": "code",
   "execution_count": 408,
   "id": "01cda7fc",
   "metadata": {},
   "outputs": [],
   "source": [
    "\n",
    "sleep(10)"
   ]
  },
  {
   "cell_type": "code",
   "execution_count": 409,
   "id": "9e754540",
   "metadata": {},
   "outputs": [],
   "source": [
    "search_video=driver.find_element_by_xpath(\"/html/body/ytd-app/div[1]/div/ytd-masthead/div[3]/div[2]/ytd-searchbox/form/div[1]/div[1]/input\") \n",
    "#search_video.send_keys(\"video\")"
   ]
  },
  {
   "cell_type": "code",
   "execution_count": 410,
   "id": "026a7dbc",
   "metadata": {},
   "outputs": [],
   "source": [
    "search_video.send_keys(\"video SONG\")"
   ]
  },
  {
   "cell_type": "code",
   "execution_count": 411,
   "id": "467c84b3",
   "metadata": {},
   "outputs": [],
   "source": [
    "search_button=driver.find_element_by_xpath(\"/html/body/ytd-app/div[1]/div/ytd-masthead/div[3]/div[2]/ytd-searchbox/button/yt-icon\")"
   ]
  },
  {
   "cell_type": "code",
   "execution_count": 412,
   "id": "b8fdf561",
   "metadata": {},
   "outputs": [],
   "source": [
    "search_button.click()"
   ]
  },
  {
   "cell_type": "code",
   "execution_count": 420,
   "id": "cf660138",
   "metadata": {},
   "outputs": [],
   "source": [
    "song=driver.find_element_by_class_name(\"style-scope ytd-video-renderer\")"
   ]
  },
  {
   "cell_type": "code",
   "execution_count": 421,
   "id": "2775b7e8",
   "metadata": {},
   "outputs": [],
   "source": [
    "song.click()"
   ]
  },
  {
   "cell_type": "code",
   "execution_count": 422,
   "id": "81e86bd3",
   "metadata": {},
   "outputs": [],
   "source": [
    "comm=[]\n",
    "comments=driver.find_elements_by_class_name(\"style-scope ytd-comment-renderer\")\n",
    "for i in comments:\n",
    "    comm.append(i.text)\n",
    "    "
   ]
  },
  {
   "cell_type": "markdown",
   "id": "f717bd46",
   "metadata": {},
   "source": [
    "# or we can write the program like this"
   ]
  },
  {
   "cell_type": "code",
   "execution_count": null,
   "id": "4bf5f2b7",
   "metadata": {},
   "outputs": [],
   "source": [
    "from selenium.webdriver.common.by import By\n",
    "from selenium.webdriver.common.keys import Keys\n",
    "from selenium.webdriver.support.ui import WebDriverWait\n",
    "from selenium.webdriver.support import expected_conditions as EC\n",
    "wait = WebDriverWait(driver,15)"
   ]
  },
  {
   "cell_type": "code",
   "execution_count": null,
   "id": "01b7cb23",
   "metadata": {},
   "outputs": [],
   "source": [
    "driver.get(\"https://www.youtube.com/watch?v=nfNc0XJdZWk\")\n"
   ]
  },
  {
   "cell_type": "code",
   "execution_count": null,
   "id": "72b5ef3b",
   "metadata": {},
   "outputs": [],
   "source": [
    "data=[]\n",
    "for item in range(500): \n",
    "        wait.until(EC.visibility_of_element_located((By.TAG_NAME, \"body\"))).send_keys(Keys.END)\n",
    "        time.sleep(15)\n",
    "\n",
    "    for comment in wait.until(EC.presence_of_all_elements_located((By.CSS_SELECTOR, \"#content\"))):\n",
    "        data.append(comment.text)"
   ]
  },
  {
   "cell_type": "code",
   "execution_count": null,
   "id": "063e5e34",
   "metadata": {},
   "outputs": [],
   "source": [
    "import pandas as pd   \n",
    "df = pd.DataFrame({\"comments\":data})\n",
    "df.head()"
   ]
  },
  {
   "cell_type": "markdown",
   "id": "3b3fd344",
   "metadata": {},
   "source": [
    "# 10.Write a python program to scrape a data for all available Hostels from https://www.hostelworld.com/ in\n",
    "“London” location. You have to scrape hostel name, distance from city centre, ratings, total reviews,\n",
    "overall reviews, privates from price, dorms from price, facilities and property description."
   ]
  },
  {
   "cell_type": "code",
   "execution_count": 253,
   "id": "5aa6aac9",
   "metadata": {},
   "outputs": [],
   "source": [
    "driver=webdriver.Chrome(r'C:/Users/RUCHITA/Downloads/chromedriver_win32/chromedriver.exe')"
   ]
  },
  {
   "cell_type": "code",
   "execution_count": 254,
   "id": "26fa50d0",
   "metadata": {},
   "outputs": [],
   "source": [
    "url='https://www.hostelworld.com'\n",
    "driver.get(url)"
   ]
  },
  {
   "cell_type": "code",
   "execution_count": 265,
   "id": "4934407b",
   "metadata": {},
   "outputs": [],
   "source": [
    "search_location=driver.find_element_by_xpath(\"//*[@id='search-input-field']\")"
   ]
  },
  {
   "cell_type": "code",
   "execution_count": 266,
   "id": "0785108a",
   "metadata": {},
   "outputs": [],
   "source": [
    "search_location.send_keys(\"London\")"
   ]
  },
  {
   "cell_type": "code",
   "execution_count": 267,
   "id": "5c5faabc",
   "metadata": {},
   "outputs": [],
   "source": [
    "city=driver.find_element_by_xpath(\"/html/body/div[3]/div/div/div[1]/div[2]/div/div[2]/div[4]/div/div[2]/div/div[1]/div/div/ul/li[2]/div\")"
   ]
  },
  {
   "cell_type": "code",
   "execution_count": 268,
   "id": "3ccf5015",
   "metadata": {},
   "outputs": [],
   "source": [
    "city.click()"
   ]
  },
  {
   "cell_type": "code",
   "execution_count": 250,
   "id": "8eec47c6",
   "metadata": {},
   "outputs": [],
   "source": [
    "#from selenium.webdriver.common.keys import Keys\n",
    "#search_location.send_keys(Keys.ENTER)"
   ]
  },
  {
   "cell_type": "code",
   "execution_count": 269,
   "id": "8e2c5035",
   "metadata": {},
   "outputs": [],
   "source": [
    "letsgo=driver.find_element_by_xpath(\"/html/body/div[3]/div/div/div[1]/div[2]/div/div[2]/div[4]/div/div[2]/div/div[5]/button\")"
   ]
  },
  {
   "cell_type": "code",
   "execution_count": 270,
   "id": "053d892e",
   "metadata": {},
   "outputs": [],
   "source": [
    "letsgo.click()"
   ]
  },
  {
   "cell_type": "code",
   "execution_count": null,
   "id": "f0dd597e",
   "metadata": {},
   "outputs": [],
   "source": []
  },
  {
   "cell_type": "code",
   "execution_count": 395,
   "id": "8f8cdf5b",
   "metadata": {},
   "outputs": [],
   "source": [
    "hname=[]\n",
    "distance=[]\n",
    "rating=[]\n",
    "reviews=[]\n",
    "treviews=[]\n",
    "prop=[]\n",
    "price=[]\n",
    "\n",
    "\n",
    "#time.sleep(3)\n",
    "\n",
    "#scrapping the required details\n",
    "start=0\n",
    "end=3\n",
    "for page in range(start,end):#for loop for scrapping 4 page\n",
    "    hostels=driver.find_elements_by_tag_name(\"h2\")#scraping  name by tag name='h2'\n",
    "    for i in hostels:\n",
    "        hname.append(i.text)  #appending the text in hname list\n",
    "    dist=driver.find_elements_by_class_name(\"description\")# scraping the hname from the class\n",
    "    for i in dist:\n",
    "        distance.append(i.text)\n",
    "    rats=driver.find_elements_by_class_name(\"bottom-rating\")# scraping the rating from the class name\n",
    "    for i in rats:\n",
    "        rating.append(i.text.split()[0])\n",
    "    rev=driver.find_elements_by_class_name(\"keyword\")# scraping the rev from the class name\n",
    "    for i in rev:\n",
    "        reviews.append(i.text)\n",
    "    trev=driver.find_elements_by_class_name(\"reviews\")\n",
    "    for i in trev:\n",
    "        treviews.append(i.text)\n",
    "    pro=driver.find_elements_by_class_name(\"property\")\n",
    "    for i in pro:\n",
    "        prop.append(i.text)\n",
    "    pr=driver.find_elements_by_class_name(\"prices\")\n",
    "    for i in pr:\n",
    "        price.append(i.text)     "
   ]
  },
  {
   "cell_type": "code",
   "execution_count": 417,
   "id": "d1377402",
   "metadata": {},
   "outputs": [
    {
     "data": {
      "text/html": [
       "<div>\n",
       "<style scoped>\n",
       "    .dataframe tbody tr th:only-of-type {\n",
       "        vertical-align: middle;\n",
       "    }\n",
       "\n",
       "    .dataframe tbody tr th {\n",
       "        vertical-align: top;\n",
       "    }\n",
       "\n",
       "    .dataframe thead th {\n",
       "        text-align: right;\n",
       "    }\n",
       "</style>\n",
       "<table border=\"1\" class=\"dataframe\">\n",
       "  <thead>\n",
       "    <tr style=\"text-align: right;\">\n",
       "      <th></th>\n",
       "      <th>hostel name</th>\n",
       "      <th>distance from city center</th>\n",
       "      <th>ratings</th>\n",
       "      <th>reviews</th>\n",
       "      <th>totall reviews</th>\n",
       "      <th>property details</th>\n",
       "      <th>price</th>\n",
       "    </tr>\n",
       "  </thead>\n",
       "  <tbody>\n",
       "    <tr>\n",
       "      <th>0</th>\n",
       "      <td>St Christopher's Village</td>\n",
       "      <td>Hostel - 1.8km from city centre</td>\n",
       "      <td>8.0</td>\n",
       "      <td>Fabulous</td>\n",
       "      <td>11062 Total Reviews</td>\n",
       "      <td>From Rs1196</td>\n",
       "      <td>From Rs1196</td>\n",
       "    </tr>\n",
       "    <tr>\n",
       "      <th>1</th>\n",
       "      <td>St Christopher's Village</td>\n",
       "      <td>Hostel - 1.7km from city centre</td>\n",
       "      <td>7.7</td>\n",
       "      <td>Fabulous</td>\n",
       "      <td>4110 Total Reviews</td>\n",
       "      <td>No Privates Available\\nDorms From\\nRs1328.72 R...</td>\n",
       "      <td>No Privates Available\\nDorms From\\nRs1328.72 R...</td>\n",
       "    </tr>\n",
       "    <tr>\n",
       "      <th>2</th>\n",
       "      <td>Safestay London Elephant &amp; Castle</td>\n",
       "      <td>Hostel - 3km from city centre</td>\n",
       "      <td>7.8</td>\n",
       "      <td>Very Good</td>\n",
       "      <td>6844 Total Reviews</td>\n",
       "      <td>Privates From\\nRs7241\\nDorms From\\nRs1810</td>\n",
       "      <td>Privates From\\nRs7241\\nDorms From\\nRs1810</td>\n",
       "    </tr>\n",
       "    <tr>\n",
       "      <th>3</th>\n",
       "      <td>Generator London</td>\n",
       "      <td>Hostel - 4.4km from city centre</td>\n",
       "      <td>8.5</td>\n",
       "      <td>Very Good</td>\n",
       "      <td>2772 Total Reviews</td>\n",
       "      <td>Privates From\\nRs5820\\nDorms From\\nRs2244</td>\n",
       "      <td>Privates From\\nRs5820\\nDorms From\\nRs2244</td>\n",
       "    </tr>\n",
       "    <tr>\n",
       "      <th>4</th>\n",
       "      <td>Smart Camden Inn Hostel</td>\n",
       "      <td>Hostel - 4.3km from city centre</td>\n",
       "      <td>8.5</td>\n",
       "      <td>Fabulous</td>\n",
       "      <td>11413 Total Reviews</td>\n",
       "      <td>Privates From\\nRs6958\\nDorms From\\nRs1548</td>\n",
       "      <td>Privates From\\nRs6958\\nDorms From\\nRs1548</td>\n",
       "    </tr>\n",
       "    <tr>\n",
       "      <th>...</th>\n",
       "      <td>...</td>\n",
       "      <td>...</td>\n",
       "      <td>...</td>\n",
       "      <td>...</td>\n",
       "      <td>...</td>\n",
       "      <td>...</td>\n",
       "      <td>...</td>\n",
       "    </tr>\n",
       "    <tr>\n",
       "      <th>85</th>\n",
       "      <td>St Christopher's Hammersmith</td>\n",
       "      <td>Hostel - 3.2km from city centre</td>\n",
       "      <td>8.6</td>\n",
       "      <td>Very Good</td>\n",
       "      <td>384 Total Reviews</td>\n",
       "      <td>No Privates Available\\nDorms From\\nRs1172.27 R...</td>\n",
       "      <td>No Privates Available\\nDorms From\\nRs1172.27 R...</td>\n",
       "    </tr>\n",
       "    <tr>\n",
       "      <th>86</th>\n",
       "      <td>The Dictionary Hostel</td>\n",
       "      <td>Hostel - 3.2km from city centre</td>\n",
       "      <td>7.4</td>\n",
       "      <td>Very Good</td>\n",
       "      <td>59 Total Reviews</td>\n",
       "      <td>No Privates Available\\nDorms From\\nRs1764.92 R...</td>\n",
       "      <td>No Privates Available\\nDorms From\\nRs1764.92 R...</td>\n",
       "    </tr>\n",
       "    <tr>\n",
       "      <th>87</th>\n",
       "      <td>PubLove @ The White Ferry, Victoria</td>\n",
       "      <td>Hostel - 4.3km from city centre</td>\n",
       "      <td>7.7</td>\n",
       "      <td>Fabulous</td>\n",
       "      <td>3747 Total Reviews</td>\n",
       "      <td>No Privates Available\\nDorms From\\nRs1810</td>\n",
       "      <td>No Privates Available\\nDorms From\\nRs1810</td>\n",
       "    </tr>\n",
       "    <tr>\n",
       "      <th>88</th>\n",
       "      <td>St Christopher's Inn - Liverpool Street</td>\n",
       "      <td>Hostel - 7km from city centre</td>\n",
       "      <td>7.7</td>\n",
       "      <td>Fabulous</td>\n",
       "      <td>651 Total Reviews</td>\n",
       "      <td>No Privates Available\\nDorms From\\nRs2296.49 R...</td>\n",
       "      <td>No Privates Available\\nDorms From\\nRs2296.49 R...</td>\n",
       "    </tr>\n",
       "    <tr>\n",
       "      <th>89</th>\n",
       "      <td>Clink261</td>\n",
       "      <td>Hostel - 0.5km from city centre</td>\n",
       "      <td>7.8</td>\n",
       "      <td>Very Good</td>\n",
       "      <td>245 Total Reviews</td>\n",
       "      <td>Privates From\\nRs8047.57 Rs7243\\nDorms From\\nR...</td>\n",
       "      <td>Privates From\\nRs8047.57 Rs7243\\nDorms From\\nR...</td>\n",
       "    </tr>\n",
       "  </tbody>\n",
       "</table>\n",
       "<p>90 rows × 7 columns</p>\n",
       "</div>"
      ],
      "text/plain": [
       "                                hostel name        distance from city center  \\\n",
       "0                  St Christopher's Village  Hostel - 1.8km from city centre   \n",
       "1                  St Christopher's Village  Hostel - 1.7km from city centre   \n",
       "2         Safestay London Elephant & Castle    Hostel - 3km from city centre   \n",
       "3                          Generator London  Hostel - 4.4km from city centre   \n",
       "4                   Smart Camden Inn Hostel  Hostel - 4.3km from city centre   \n",
       "..                                      ...                              ...   \n",
       "85             St Christopher's Hammersmith  Hostel - 3.2km from city centre   \n",
       "86                    The Dictionary Hostel  Hostel - 3.2km from city centre   \n",
       "87      PubLove @ The White Ferry, Victoria  Hostel - 4.3km from city centre   \n",
       "88  St Christopher's Inn - Liverpool Street    Hostel - 7km from city centre   \n",
       "89                                 Clink261  Hostel - 0.5km from city centre   \n",
       "\n",
       "   ratings    reviews       totall reviews  \\\n",
       "0      8.0   Fabulous  11062 Total Reviews   \n",
       "1      7.7   Fabulous   4110 Total Reviews   \n",
       "2      7.8  Very Good   6844 Total Reviews   \n",
       "3      8.5  Very Good   2772 Total Reviews   \n",
       "4      8.5   Fabulous  11413 Total Reviews   \n",
       "..     ...        ...                  ...   \n",
       "85     8.6  Very Good    384 Total Reviews   \n",
       "86     7.4  Very Good     59 Total Reviews   \n",
       "87     7.7   Fabulous   3747 Total Reviews   \n",
       "88     7.7   Fabulous    651 Total Reviews   \n",
       "89     7.8  Very Good    245 Total Reviews   \n",
       "\n",
       "                                     property details  \\\n",
       "0                                         From Rs1196   \n",
       "1   No Privates Available\\nDorms From\\nRs1328.72 R...   \n",
       "2           Privates From\\nRs7241\\nDorms From\\nRs1810   \n",
       "3           Privates From\\nRs5820\\nDorms From\\nRs2244   \n",
       "4           Privates From\\nRs6958\\nDorms From\\nRs1548   \n",
       "..                                                ...   \n",
       "85  No Privates Available\\nDorms From\\nRs1172.27 R...   \n",
       "86  No Privates Available\\nDorms From\\nRs1764.92 R...   \n",
       "87          No Privates Available\\nDorms From\\nRs1810   \n",
       "88  No Privates Available\\nDorms From\\nRs2296.49 R...   \n",
       "89  Privates From\\nRs8047.57 Rs7243\\nDorms From\\nR...   \n",
       "\n",
       "                                                price  \n",
       "0                                         From Rs1196  \n",
       "1   No Privates Available\\nDorms From\\nRs1328.72 R...  \n",
       "2           Privates From\\nRs7241\\nDorms From\\nRs1810  \n",
       "3           Privates From\\nRs5820\\nDorms From\\nRs2244  \n",
       "4           Privates From\\nRs6958\\nDorms From\\nRs1548  \n",
       "..                                                ...  \n",
       "85  No Privates Available\\nDorms From\\nRs1172.27 R...  \n",
       "86  No Privates Available\\nDorms From\\nRs1764.92 R...  \n",
       "87          No Privates Available\\nDorms From\\nRs1810  \n",
       "88  No Privates Available\\nDorms From\\nRs2296.49 R...  \n",
       "89  Privates From\\nRs8047.57 Rs7243\\nDorms From\\nR...  \n",
       "\n",
       "[90 rows x 7 columns]"
      ]
     },
     "execution_count": 417,
     "metadata": {},
     "output_type": "execute_result"
    }
   ],
   "source": [
    "#creating a dataframe\n",
    "df=pd.DataFrame({'hostel name':hname[:90],\n",
    "                'distance from city center':distance[:90],\n",
    "                'ratings':rating[:90],\n",
    "                'reviews':reviews[:90],\n",
    "                'totall reviews':treviews[:90],\n",
    "                'property details':pro[:90],\n",
    "                'price':price})\n",
    "#printing dataframe\n",
    "df"
   ]
  },
  {
   "cell_type": "code",
   "execution_count": 412,
   "id": "a04aa3ad",
   "metadata": {},
   "outputs": [],
   "source": [
    "del price[90:95]\n",
    "del hname[90:95]\n",
    "del reviews[90:95]\n",
    "del prop[90:95]\n"
   ]
  },
  {
   "cell_type": "code",
   "execution_count": null,
   "id": "6417951e",
   "metadata": {},
   "outputs": [],
   "source": []
  },
  {
   "cell_type": "code",
   "execution_count": null,
   "id": "c2c7c835",
   "metadata": {},
   "outputs": [],
   "source": []
  },
  {
   "cell_type": "code",
   "execution_count": 377,
   "id": "7b9ff542",
   "metadata": {},
   "outputs": [],
   "source": [
    "from selenium import webdriver\n",
    "#from webdriver_manager.chrome import ChromeDriverManager\n",
    "import os\n",
    "import time\n",
    "import urllib.request\n",
    "from selenium.webdriver.common.keys import Keys\n",
    "\n"
   ]
  },
  {
   "cell_type": "code",
   "execution_count": 380,
   "id": "e3242906",
   "metadata": {},
   "outputs": [],
   "source": [
    "driver=webdriver.Chrome(r'C:/Users/RUCHITA/Downloads/chromedriver_win32/chromedriver.exe')"
   ]
  },
  {
   "cell_type": "code",
   "execution_count": 381,
   "id": "8a451847",
   "metadata": {},
   "outputs": [
    {
     "ename": "FileNotFoundError",
     "evalue": "[Errno 2] No such file or directory: 'images/car\\\\car_image1.jpg'",
     "output_type": "error",
     "traceback": [
      "\u001b[1;31m---------------------------------------------------------------------------\u001b[0m",
      "\u001b[1;31mFileNotFoundError\u001b[0m                         Traceback (most recent call last)",
      "\u001b[1;32m<ipython-input-381-709608df2c20>\u001b[0m in \u001b[0;36m<module>\u001b[1;34m\u001b[0m\n\u001b[0;32m     19\u001b[0m             \u001b[0msrc\u001b[0m  \u001b[1;33m=\u001b[0m \u001b[0mstr\u001b[0m\u001b[1;33m(\u001b[0m\u001b[0msrc\u001b[0m\u001b[1;33m)\u001b[0m\u001b[1;33m\u001b[0m\u001b[1;33m\u001b[0m\u001b[0m\n\u001b[0;32m     20\u001b[0m             \u001b[0mcount\u001b[0m\u001b[1;33m+=\u001b[0m\u001b[1;36m1\u001b[0m\u001b[1;33m\u001b[0m\u001b[1;33m\u001b[0m\u001b[0m\n\u001b[1;32m---> 21\u001b[1;33m             \u001b[0murllib\u001b[0m\u001b[1;33m.\u001b[0m\u001b[0mrequest\u001b[0m\u001b[1;33m.\u001b[0m\u001b[0murlretrieve\u001b[0m\u001b[1;33m(\u001b[0m\u001b[0msrc\u001b[0m\u001b[1;33m,\u001b[0m \u001b[0mos\u001b[0m\u001b[1;33m.\u001b[0m\u001b[0mpath\u001b[0m\u001b[1;33m.\u001b[0m\u001b[0mjoin\u001b[0m\u001b[1;33m(\u001b[0m\u001b[1;34m'images/car'\u001b[0m\u001b[1;33m,\u001b[0m\u001b[1;34m'car_image'\u001b[0m\u001b[1;33m+\u001b[0m\u001b[0mstr\u001b[0m\u001b[1;33m(\u001b[0m\u001b[0mcount\u001b[0m\u001b[1;33m)\u001b[0m\u001b[1;33m+\u001b[0m\u001b[1;34m'.jpg'\u001b[0m\u001b[1;33m)\u001b[0m\u001b[1;33m)\u001b[0m\u001b[1;33m\u001b[0m\u001b[1;33m\u001b[0m\u001b[0m\n\u001b[0m\u001b[0;32m     22\u001b[0m             \u001b[1;32mif\u001b[0m \u001b[0mcount\u001b[0m\u001b[1;33m%\u001b[0m\u001b[1;36m10\u001b[0m \u001b[1;33m==\u001b[0m \u001b[1;36m0\u001b[0m\u001b[1;33m:\u001b[0m \u001b[0mprint\u001b[0m\u001b[1;33m(\u001b[0m\u001b[1;34m\"downloaded\"\u001b[0m\u001b[1;33m,\u001b[0m\u001b[0mcount\u001b[0m\u001b[1;33m,\u001b[0m\u001b[1;34m\"images\"\u001b[0m\u001b[1;33m)\u001b[0m\u001b[1;33m\u001b[0m\u001b[1;33m\u001b[0m\u001b[0m\n\u001b[0;32m     23\u001b[0m         \u001b[1;32melse\u001b[0m\u001b[1;33m:\u001b[0m\u001b[1;33m\u001b[0m\u001b[1;33m\u001b[0m\u001b[0m\n",
      "\u001b[1;32m~\\anaconda3\\lib\\urllib\\request.py\u001b[0m in \u001b[0;36murlretrieve\u001b[1;34m(url, filename, reporthook, data)\u001b[0m\n\u001b[0;32m    255\u001b[0m         \u001b[1;31m# Handle temporary file setup.\u001b[0m\u001b[1;33m\u001b[0m\u001b[1;33m\u001b[0m\u001b[1;33m\u001b[0m\u001b[0m\n\u001b[0;32m    256\u001b[0m         \u001b[1;32mif\u001b[0m \u001b[0mfilename\u001b[0m\u001b[1;33m:\u001b[0m\u001b[1;33m\u001b[0m\u001b[1;33m\u001b[0m\u001b[0m\n\u001b[1;32m--> 257\u001b[1;33m             \u001b[0mtfp\u001b[0m \u001b[1;33m=\u001b[0m \u001b[0mopen\u001b[0m\u001b[1;33m(\u001b[0m\u001b[0mfilename\u001b[0m\u001b[1;33m,\u001b[0m \u001b[1;34m'wb'\u001b[0m\u001b[1;33m)\u001b[0m\u001b[1;33m\u001b[0m\u001b[1;33m\u001b[0m\u001b[0m\n\u001b[0m\u001b[0;32m    258\u001b[0m         \u001b[1;32melse\u001b[0m\u001b[1;33m:\u001b[0m\u001b[1;33m\u001b[0m\u001b[1;33m\u001b[0m\u001b[0m\n\u001b[0;32m    259\u001b[0m             \u001b[0mtfp\u001b[0m \u001b[1;33m=\u001b[0m \u001b[0mtempfile\u001b[0m\u001b[1;33m.\u001b[0m\u001b[0mNamedTemporaryFile\u001b[0m\u001b[1;33m(\u001b[0m\u001b[0mdelete\u001b[0m\u001b[1;33m=\u001b[0m\u001b[1;32mFalse\u001b[0m\u001b[1;33m)\u001b[0m\u001b[1;33m\u001b[0m\u001b[1;33m\u001b[0m\u001b[0m\n",
      "\u001b[1;31mFileNotFoundError\u001b[0m: [Errno 2] No such file or directory: 'images/car\\\\car_image1.jpg'"
     ]
    }
   ],
   "source": [
    "\n",
    "driver.get('https://www.google.com/')\n",
    "search = driver.find_element_by_name('q')\n",
    "search.send_keys('car',Keys.ENTER)\n",
    "\n",
    "elem = driver.find_element_by_link_text('Images')\n",
    "elem.get_attribute('href')\n",
    "elem.click()\n",
    "value = 0\n",
    "for i in range(10):\n",
    "\tdriver.execute_script('scrollBy(\"+ str(value) +\",+500);')\n",
    "\tvalue += 100\n",
    "\ttime.sleep(4)\n",
    "elements = driver.find_elements_by_xpath('//img[contains(@class,\"rg_i\")]')\n",
    "count = 0\n",
    "for i in elements:\n",
    "    src = i.get_attribute('src')\n",
    "    try:\n",
    "        if src != None:\n",
    "            src  = str(src)\n",
    "            count+=1\n",
    "            urllib.request.urlretrieve(src, os.path.join('images/with_mask','with_mask_image'+str(count)+'.jpg'))\n",
    "            if count%10 == 0: print(\"downloaded\",count,\"images\")\n",
    "        else:\n",
    "            raise TypeError\n",
    "    except TypeError:\n",
    "        pass\n"
   ]
  },
  {
   "cell_type": "code",
   "execution_count": null,
   "id": "72badb92",
   "metadata": {},
   "outputs": [],
   "source": []
  }
 ],
 "metadata": {
  "kernelspec": {
   "display_name": "Python 3",
   "language": "python",
   "name": "python3"
  },
  "language_info": {
   "codemirror_mode": {
    "name": "ipython",
    "version": 3
   },
   "file_extension": ".py",
   "mimetype": "text/x-python",
   "name": "python",
   "nbconvert_exporter": "python",
   "pygments_lexer": "ipython3",
   "version": "3.8.8"
  }
 },
 "nbformat": 4,
 "nbformat_minor": 5
}
