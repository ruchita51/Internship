{
 "cells": [
  {
   "cell_type": "markdown",
   "id": "4a64fd9e",
   "metadata": {},
   "source": [
    "# 1.Write a python program which searches all the product under a particular product from www.amazon.in.\n",
    "The product to be searched will be taken as input from user. For e.g. If user input is ‘guitar’. Then search for guitars."
   ]
  },
  {
   "cell_type": "code",
   "execution_count": 1,
   "id": "c3ae4afe",
   "metadata": {},
   "outputs": [],
   "source": [
    "import pandas as pd\n",
    "import selenium\n",
    "from selenium import webdriver\n",
    "import warnings\n",
    "warnings.filterwarnings(\"ignore\")"
   ]
  },
  {
   "cell_type": "code",
   "execution_count": 2,
   "id": "faf231ed",
   "metadata": {},
   "outputs": [],
   "source": [
    "driver=webdriver.Chrome(r'C:/Users/RUCHITA/Downloads/chromedriver_win32/chromedriver.exe')"
   ]
  },
  {
   "cell_type": "code",
   "execution_count": 3,
   "id": "7006fd8e",
   "metadata": {},
   "outputs": [],
   "source": [
    "url = \"https://www.amazon.in\" \n",
    "driver.get(url)"
   ]
  },
  {
   "cell_type": "code",
   "execution_count": 4,
   "id": "4824fcd3",
   "metadata": {},
   "outputs": [],
   "source": [
    "search_bar = driver.find_element_by_id(\"twotabsearchtextbox\")    # Locating searc_bar by id\n",
    "search_bar.clear()                                               # clearing search_bar\n",
    "search_bar.send_keys(\"guitar\") "
   ]
  },
  {
   "cell_type": "code",
   "execution_count": 5,
   "id": "424c1f94",
   "metadata": {},
   "outputs": [],
   "source": [
    "search_button = driver.find_element_by_xpath('//span[@id=\"nav-search-submit-text\"]')       # Locating search_button by xpath\n",
    "search_button.click()"
   ]
  },
  {
   "cell_type": "code",
   "execution_count": 6,
   "id": "dc94a736",
   "metadata": {},
   "outputs": [],
   "source": [
    "name=[]\n",
    "page = []\n",
    "\n",
    "#time.sleep(5)\n",
    "# scrape next pages urls\n",
    "nxt_page = driver.find_elements_by_class_name(\"s-pagination-item\")\n",
    "for i in nxt_page:\n",
    "    page.append(i.get_attribute('href'))\n",
    "    \n",
    "\n",
    "#for url in page_urls[:3]:\n",
    "   # driver.get(url)\n",
    "    Names=driver.find_elements_by_tag_name(\"h2\")  #for scrapping product names\n",
    "    for i in Names:\n",
    "        name.append(i.text)\n",
    "    "
   ]
  },
  {
   "cell_type": "code",
   "execution_count": 7,
   "id": "e2f4fc7a",
   "metadata": {},
   "outputs": [
    {
     "data": {
      "text/html": [
       "<div>\n",
       "<style scoped>\n",
       "    .dataframe tbody tr th:only-of-type {\n",
       "        vertical-align: middle;\n",
       "    }\n",
       "\n",
       "    .dataframe tbody tr th {\n",
       "        vertical-align: top;\n",
       "    }\n",
       "\n",
       "    .dataframe thead th {\n",
       "        text-align: right;\n",
       "    }\n",
       "</style>\n",
       "<table border=\"1\" class=\"dataframe\">\n",
       "  <thead>\n",
       "    <tr style=\"text-align: right;\">\n",
       "      <th></th>\n",
       "      <th>products_name</th>\n",
       "    </tr>\n",
       "  </thead>\n",
       "  <tbody>\n",
       "    <tr>\n",
       "      <th>0</th>\n",
       "      <td>Kadence Frontier guitar with Online Guitar lea...</td>\n",
       "    </tr>\n",
       "    <tr>\n",
       "      <th>1</th>\n",
       "      <td>Kadence Frontier Jumbo Semi Acoustic Guitar Wi...</td>\n",
       "    </tr>\n",
       "    <tr>\n",
       "      <th>2</th>\n",
       "      <td>Vault Traveller 34 Inch Acoustic Guitar With B...</td>\n",
       "    </tr>\n",
       "    <tr>\n",
       "      <th>3</th>\n",
       "      <td>Photron Acoustic Guitar, 38 Inch Cutaway, PH38...</td>\n",
       "    </tr>\n",
       "    <tr>\n",
       "      <th>4</th>\n",
       "      <td>Juarez Acoustic Guitar, 38 Inch Curved Body Cu...</td>\n",
       "    </tr>\n",
       "    <tr>\n",
       "      <th>...</th>\n",
       "      <td>...</td>\n",
       "    </tr>\n",
       "    <tr>\n",
       "      <th>513</th>\n",
       "      <td>Gibz's G-38 Glossy Acoustic Guitar With Truss ...</td>\n",
       "    </tr>\n",
       "    <tr>\n",
       "      <th>514</th>\n",
       "      <td>Kajal Enterprise 4-String Acoustic Learning Gu...</td>\n",
       "    </tr>\n",
       "    <tr>\n",
       "      <th>515</th>\n",
       "      <td>HOMME STORE 4 String Guitar Kids Brown Plastic...</td>\n",
       "    </tr>\n",
       "    <tr>\n",
       "      <th>516</th>\n",
       "      <td>Portible String Acoustic Guitar | Adjustable T...</td>\n",
       "    </tr>\n",
       "    <tr>\n",
       "      <th>517</th>\n",
       "      <td>NEED HELP?</td>\n",
       "    </tr>\n",
       "  </tbody>\n",
       "</table>\n",
       "<p>518 rows × 1 columns</p>\n",
       "</div>"
      ],
      "text/plain": [
       "                                         products_name\n",
       "0    Kadence Frontier guitar with Online Guitar lea...\n",
       "1    Kadence Frontier Jumbo Semi Acoustic Guitar Wi...\n",
       "2    Vault Traveller 34 Inch Acoustic Guitar With B...\n",
       "3    Photron Acoustic Guitar, 38 Inch Cutaway, PH38...\n",
       "4    Juarez Acoustic Guitar, 38 Inch Curved Body Cu...\n",
       "..                                                 ...\n",
       "513  Gibz's G-38 Glossy Acoustic Guitar With Truss ...\n",
       "514  Kajal Enterprise 4-String Acoustic Learning Gu...\n",
       "515  HOMME STORE 4 String Guitar Kids Brown Plastic...\n",
       "516  Portible String Acoustic Guitar | Adjustable T...\n",
       "517                                         NEED HELP?\n",
       "\n",
       "[518 rows x 1 columns]"
      ]
     },
     "execution_count": 7,
     "metadata": {},
     "output_type": "execute_result"
    }
   ],
   "source": [
    "df=pd.DataFrame()\n",
    "df['products_name']=name\n",
    "df"
   ]
  },
  {
   "cell_type": "code",
   "execution_count": null,
   "id": "151d8737",
   "metadata": {},
   "outputs": [],
   "source": []
  },
  {
   "cell_type": "code",
   "execution_count": null,
   "id": "caf2ec96",
   "metadata": {},
   "outputs": [],
   "source": []
  },
  {
   "cell_type": "code",
   "execution_count": null,
   "id": "892fc509",
   "metadata": {},
   "outputs": [],
   "source": []
  },
  {
   "cell_type": "code",
   "execution_count": null,
   "id": "15949de9",
   "metadata": {},
   "outputs": [],
   "source": []
  },
  {
   "cell_type": "markdown",
   "id": "be4b006b",
   "metadata": {},
   "source": [
    "# .3 Write a python program to access the search bar and search button on images.google.com and scrape 10\n",
    "images each for keywords ‘fruits’, ‘cars’ and ‘Machine Learning’, ‘Guitar’, ‘Cakes’.\n"
   ]
  },
  {
   "cell_type": "code",
   "execution_count": 418,
   "id": "9a485e7a",
   "metadata": {},
   "outputs": [],
   "source": [
    "import pandas as pd\n",
    "import selenium\n",
    "from selenium import webdriver\n",
    "import warnings\n",
    "warnings.filterwarnings(\"ignore\")"
   ]
  },
  {
   "cell_type": "code",
   "execution_count": 419,
   "id": "b24e0c0e",
   "metadata": {},
   "outputs": [],
   "source": [
    "driver=webdriver.Chrome(r'C:/Users/RUCHITA/Downloads/chromedriver_win32/chromedriver.exe')"
   ]
  },
  {
   "cell_type": "code",
   "execution_count": 420,
   "id": "1eba85d4",
   "metadata": {},
   "outputs": [],
   "source": [
    "url='https://images.google.com'\n",
    "driver.get(url)"
   ]
  },
  {
   "cell_type": "code",
   "execution_count": 421,
   "id": "c5a0e556",
   "metadata": {},
   "outputs": [
    {
     "data": {
      "text/plain": [
       "<selenium.webdriver.remote.webelement.WebElement (session=\"126a49e1ea210e2327752c44a05c70c5\", element=\"8bbd206d-8091-4871-8d1c-309b393e4ffb\")>"
      ]
     },
     "execution_count": 421,
     "metadata": {},
     "output_type": "execute_result"
    }
   ],
   "source": [
    "search_fruits=driver.find_element_by_xpath('/html/body/div[1]/div[3]/form/div[1]/div[1]/div[1]/div/div[2]/input')\n",
    "search_fruits"
   ]
  },
  {
   "cell_type": "code",
   "execution_count": 422,
   "id": "4e9585a2",
   "metadata": {},
   "outputs": [],
   "source": [
    "search_fruits.send_keys(\"cars\")"
   ]
  },
  {
   "cell_type": "code",
   "execution_count": 423,
   "id": "bde1be52",
   "metadata": {},
   "outputs": [
    {
     "data": {
      "text/plain": [
       "<selenium.webdriver.remote.webelement.WebElement (session=\"126a49e1ea210e2327752c44a05c70c5\", element=\"47014910-6b08-437e-82a2-1ee85daba232\")>"
      ]
     },
     "execution_count": 423,
     "metadata": {},
     "output_type": "execute_result"
    }
   ],
   "source": [
    "search_btn=driver.find_element_by_xpath('/html/body/div[1]/div[3]/form/div[1]/div[1]/div[1]/button/div/span')\n"
   ]
  },
  {
   "cell_type": "code",
   "execution_count": 424,
   "id": "48265c42",
   "metadata": {},
   "outputs": [],
   "source": [
    "search_btn.click()"
   ]
  },
  {
   "cell_type": "code",
   "execution_count": 442,
   "id": "ce2ae7bc",
   "metadata": {},
   "outputs": [
    {
     "name": "stdout",
     "output_type": "stream",
     "text": [
      "https://www.gstatic.com/ui/v1/menu/light_thumbnail2.png\n",
      "https://www.gstatic.com/ui/v1/menu/dark_thumbnail2.png\n",
      "https://www.gstatic.com/ui/v1/menu/device_default_thumbnail2.png\n",
      "data:image/jpeg;base64,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\n",
      "data:image/jpeg;base64,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\n",
      "data:image/jpeg;base64,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\n",
      "data:image/jpeg;base64,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\n"
     ]
    },
    {
     "name": "stdout",
     "output_type": "stream",
     "text": [
      "data:image/jpeg;base64,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\n",
      "data:image/jpeg;base64,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\n",
      "data:image/jpeg;base64,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\n",
      "data:image/jpeg;base64,/9j/4AAQSkZJRgABAQAAAQABAAD/2wCEAAkGBwgHBgkIBwgKCgkLDRYPDQwMDRsUFRAWIB0iIiAdHx8kKDQsJCYxJx8fLT0tMTU3Ojo6Iys/RD84QzQ5OjcBCgoKDQwNGg8PGjclHyU3Nzc3Nzc3Nzc3Nzc3Nzc3Nzc3Nzc3Nzc3Nzc3Nzc3Nzc3Nzc3Nzc3Nzc3Nzc3Nzc3N//AABEIAGQAZAMBIgACEQEDEQH/xAAcAAABBQEBAQAAAAAAAAAAAAAFAAEDBAYCBwj/xABCEAACAQMCAgcEBgYJBQAAAAABAgMABBEFEgYhEzFBUVJhkRQicYEVIzKhscEHM4KiwtEWQmJjkrLS4fAkQ3Jzk//EABcBAQEBAQAAAAAAAAAAAAAAAAABAgP/xAAZEQEBAQEBAQAAAAAAAAAAAAAAEQEhEgL/2gAMAwEAAhEDEQA/APNgz+JvWuwz+JvWkFrtVrQQL+JvWugW8TetdKtSKlBwC/ib1rr3/E3rUgjzXYjPdQQjf429af3vE3rU3RHup+iPdQVzu8Tetckv4m9asGPyrlo/Kgrkt4m9aYl/E3rU5SoylBEWfxN601SbaVAljqVYqkCqv2iB8TirFsEnbbbLPc9n/TQPIM/HAX96ggSGp47YnsNXbmN9Ps3ubrR9WEceNzsI0H4mhcfFVuZ+ittBlmIOMvdPn0QChRCOzJ7Ksx2BPZT2uqSvjdoixA+JpvxL0dsF9pwfYlTPhlf82pNT1gMNPPdT/Rx7q1Z0K6ZN8BnX+ywVh+GfvrGxcVXFheezcSaU9ou8xm4jyyg57R3fP5VOtZ9ZrqSwI7KrvZkdlbP2SOWNZI2V0cZVlOQR3g1UmsfKpVjHvbEdlQvFitRNZeVUJ7TGeVVIAmOlRB7fnSq1GGSWa5uTLcOXUMnSK3UV3dWPlW8h4lnttOR0XaDyX3eXXVF7/gzWS19qU97ZXUrgzJGu7ce/kpzz7c576nab9H7rEj6tqhSJdqqYOQ8/s9fnTGdrjUeJL280+S1uhKkN0gVG2EbhuGdvf21ntO1WXSkmijjRzu5Fs+6Ry6vkPSiutf0QkjtU0rWLkoHxMlyrr7uORXbGfe+Iqyuk8CyqGi4rniG3DiaBmJbvB2dXxFDcuIbLWJ7kZnm93u6gPlWq0PV7dXQrdQ7geX1g66zcmjaHGMaVxJpE2f695K8bZ+UYFdpYwwqoTUNKdgd2bbXIY8//AEj/ADq7rOfD2a1v7d7Uz9MnRquXIbO3vzisHxjf6DNPua7hZJl2yK6kA8vMd34UDlQ3rBxFezshyhtLywuMHy2jNPcXsKWqprel3rRIft6ppUg+eUcD7qlPAfw9xGOGLv2aa5S80SWQqjI+5oO0Ed47x5Ht6/TVEVxAk0DrJFIoZHQ5DA9orBaUeFtTm6O20XT7kgZItzKjj9llP40ant7ayto/YNL1a2Xd9XbiYwpJ37SJAM+WM1I6ZsGpbcHPKh9xajnyod9M6nGGjg4P4jmOMb1MsgPwPvCg0sHG8syvb6fxDbRFs7bizEm0fDaCfTNRaMSWvvHlSqoX4wjCh+HpbgkZEkcDrkeatgg+RFKhxlrLizXOibFxM2TnHSchkA/zrqTinXD9qMt8SD+VUbeJ7bcysEDY2I+GAHd3n1q9FdDH1ix/Ff5VthXbiTVGOGsoj8YlP8NVpdalLNJNpFizE8ybZP8ATRT2iHuFPFJAwIKjr/KkKE2uqe2XMdvFomlmSRgq749g+ZyMCtvBwjo80Ki41LhnpyMskSTbQe4P0o/Cs5qsUH0b08KjpllVY0C53Mc8/kMn44qO+Sy0NxYi1F5fKN11I7NybwqQR1Z7c5qRUXENlpmjXQgn0y2mQ/ZmsdRYq3+IEg+RFVNN1fSbKcSR22qQrnmkd8pVh3EbBkVFqEEUjpKsXvZ5oTzYjrQ47cdR7c0ai0jTOgSeGEOjqGUnnUhRbS9d4rvbec8O3jW+nhyIYpWjiZ2xnYuCN7Y+fVnrGQUvGmvXPuXE8Vwze7skUlz5cufyNHtI4gtdH0xohamU28rSQMhwgY7fdk90kYZARjr6u41kdNuGs7k3IuVjm3Ek9DvBP3d5re5hgpYalrc0GyO7eziK5Cxvj90nA+VStFqEv63V9QY+U5/IGhMGrujFUPNzkl2PMk5yTnvPfVwPqMgyeiA/8N38VY1RGGyvmU7NXvlAOMPdBT95FKhLTXqnHSN+xCoH+elUVSkmto2Kx6gWGcgTW5B9VJplmRwdk1ox/wDYyH95a9Ev/wBE1mxJtrueP44as/e/ot1KLJtryGQdzqV/nVqAEMZmOFALf3c0bfxVN7NNETncvLrkQqP8WMffXF5wRr9tzNmJR/duDQt7LVtOckwXdu3iUMPvFWpGnsVkhmtJrqJuhjuY5Qw5q2Ceo9Rrm2e31G+llFo8czSne8zFo26zkHltJwMg5HVigVtreoNNDFdXUskSuDskPb2Uc17Sp7G99s0hZJ7G7iWWMjBODyCY68huR8wO+lpFG8t1+jjLE7Ei5IBIw4OftH455fCiWk3HT24U8uvkB1HtFVbuD2TTILZojHPJKZHViMqoJ2j7z86Gw6gln0gIZgx5YPMGmcN60rL0RMqEq4GAynBx8aqTXErZ3Sufi5rPTapJI2Vu7hB4do/nVc3jk87qc/L/AHq3Eg3PI3RsqHDMR724+7z58u3PVUN1rYjldTbHIPLcf+fhQ6KWFz9dfTp5iPd/FVrV7qwCW7aRdXZk2BZ1mjVQWH9ZcE9fdWd61jn6ZuW5xwNt8ifyFKhpu7kn9c/rSqD6rYqaidVPZVP2nzpe0edB3JbxsOYqjcadE/Woq30/nTGUGgzWocMWFyCJLWJ8/wBkUFuNC1OyieHTLiMW5O7oJV3KG7xkHB8xg1vGKmo2jRuurR4rqeh8QdLJJLAkrt1ssmfxoDPpOpqfrbOX0r6BktIn61HpVaTSrd+tB6VB8+vaXCfbgkHxU1EUcHBVvSvfpOH7Rv8AtrUDcMWTdcS0HhawStyWNz+zU0enXchwsLfOvbP6LWIP6pa7XhyzXqjWg8ZTQr5hnYo+dKvaxoluBgIKVW4L+804dqVKop95pw7UqVQPvan3mlSqoW8029s0qVFIuabeaVKgW80280qVRDb2pUqVFf/Z\n"
     ]
    },
    {
     "name": "stdout",
     "output_type": "stream",
     "text": [
      "data:image/jpeg;base64,/9j/4AAQSkZJRgABAQAAAQABAAD/2wCEAAkGBwgHBgkIBwgKCgkLDRYPDQwMDRsUFRAWIB0iIiAdHx8kKDQsJCYxJx8fLT0tMTU3Ojo6Iys/RD84QzQ5OjcBCgoKDQwNGg8PGjclHyU3Nzc3Nzc3Nzc3Nzc3Nzc3Nzc3Nzc3Nzc3Nzc3Nzc3Nzc3Nzc3Nzc3Nzc3Nzc3Nzc3N//AABEIAGQAZAMBIgACEQEDEQH/xAAbAAABBQEBAAAAAAAAAAAAAAAFAAEDBAYCB//EAEIQAAIBAwMBBAcEBggHAQAAAAECAwAEEQUSITETQVGBBiJhcZGhwRQysdEHQlJTYvAVI3Jzg5Ki4TM0hMLS4vEk/8QAGAEAAwEBAAAAAAAAAAAAAAAAAAECAwT/xAAiEQACAgEEAgMBAAAAAAAAAAAAAQIREgMTIVExQQQiYRT/2gAMAwEAAhEDEQA/ANDNJcerLFIgKjaIAMlh38/z86ZWuVjSaQvFhSHUMCGBz7ePGp51WcspfkjBA4561WaOMI0GSzbemTwa5WzpRxGQ7HDOVwCCG/8AapTtlQ/ekyTghuPhuqlrEgtLEywqBs29CSCc99Po93bahZNOhKlCdyqTjOM+PuqbAv273HZAie5wD3TVbspJ3nIuLiZ48E7TJkeVSGKAKqLbgltpzuYAGpGAjXHYqCR16VSjLzZT1INVRU9dJVBYlQx2ndjy6++up7lTC0kRCsPE5xz061HJKhPabWGXxnHf/PfUcu4rtjbcRnORtx7qd8mdFsMjHcTk8ZYdCT7M0xc72ZynHGD7/fUAd1wCxwuOSf8AaqV1MzuVRiSWyGJzxn3VVk0Eo7stMEKleOASATnv61PHMXc5TAbvH55oUJHVMc88EHPPh3VPHcNBEuWyMdSTlfb05qkIsz3U67BFGrLt6sFJ6n+IUqhN4XAYEcjqVBJ+VKgCiwkkkAZ1JYYBwKoatObO13TRpukUBST159nH/wBq7GVeVtuDxnAGM5xnv+Vd3EUElqY5olk25xuXOO/PSsL4NGgJo0j6lZTdu3aKSAoYY44xzz3UJuNOu9MeV4pXMTfeVhnjuPQe34UeFtb2qusQIXcGCbeFJPQer5VQu23vc8oyquV3AeecDjupMT8cmoSa/GnwtFcbSygj1FbIwM1wbm8mbN1cbiv6mxRx78c1S0fUBcSdi6kxRRDIJ3ZY93Sqlk5uNQnS2iknbe+VVCwC+GMdevwo+xop6dVQWLtjC7lJPPGB5HFUbiYRrJLIdxHUEDJPuxViKzvN2bhFiVT6qzSICB7jyKrahYRXCFXvrCMH95KSfkKpQn6RDnHsfTrudoBu5BPcASP5zUUeDebGwqqMttxjJPdx7PhU1qttaoF/pey7s4Mn5VXVLfe8h1awEjfsyyePH6tVt6ifgnOFeSzJLH2aujkNyDjHPtzUAmbjJVeOCefhTpamR/Uv7KQdwW4IP+rFRXWmX5JkEe8HgbJA/wCBz8qbU16BOPZOJtyjLIPh+dKhc0GoK+DZ3g4/cv8AlSopjtBXT5YZg5Z33mPcFXgn2damfcxFvCjmaUeoo5J44oI17/ViGaGKKIxgHslxvbvIIP8APFS6dMsUsUsVtNMY2LmRlZmkA+76pHHHjnmudN+DPc4Lly6RBY76Nh2b/wBavRug458qAXPbJO0ESBppCwLAZBz0864vdL9Ib7XrK4vWZkdQ0faxvkDPORyq8d/XngVt7bSrixjL2lhdT3BHrTtAR3d2a64fGyfL4M56r6B+l6aLGMTX57NiMdkuCxHtPd/PSnvNWHZdjCoihB+4ueT41He2euOSRpV63+GaCXdpri8nSL1f+mcn8K7oxjBVE525S8nd48ZBeUADOMnFZ++uoFmKw7HAHJ2jrXGoxauc9tp98oz0a3cfShMsN0qkPbTJnrujIqXZSJJrnqxUY9grpVinbZFdgOOgZiM1Scf1e12YZHRVLH5VW+yvMx7B3Zhk7Sh5+VSykEpDJDOkKTymQnlT0x769X9EdIWCzE94XllY+sv7GO73/KsF+j/QHvdSWe7AEUPrEvwD4A+/6V6fBd2cZvd97FtEmQokUk+ovh7c+dVH9Ewvb7TH6jvjPdj8qVeO3Xp9r08xkssWtufuRfYt5A9rHr76ejNBTL1jqt7qtyYbNvs1rBnfMwxtGeeSOAT4c0etvTWy01exSGacocCWRAQfbtDAfLPtrGJZyXcAnjFgVzjEl5EjL71ZgR8KHTuscjRuqEqceo+5fIg4NNQiiXJno0v6TsZxLLF7Ft1FU5f0lr1e+uv8mPwFefNND3ofiaryTW/IELNjr6xp8L0HPZup/wBJsZ4ibULg9+wkAfMVUb02168z9jsUiT95PKzfUVhzfOW22sEe7uYjOPM1OkaSndqd87KP1FqbsZqRr92XxqevFs9YLEcj2ZAohb6iDH2kOlyqh6zX1zt8+8/Csuut2dlCIdE05WuM/wDMS849wqGPTtW1mcPd3Esje08L7h0HlVZVwKrNbGYLyXaqQNK3dboW/wBUhP4USi0KThWtVjBH67Zz5cD5VjU0p7JnW3udrx8NKwztbwHI+OevSiGj+lmr2WpwWuqXjXds2ezLDcHGOnPOe8c1O4kWtOzXR6DbxIz9l2jKNwVOdxHdWb0nQNd1y+zriSWWlglmt+E35HCADkgcZY9cUQuPTLVpgy2tjb2oDEB7hi5I8dox8zUU2o31yuZ7p+RyE9QHyH1zWU9aJpHSZrU0/SLRFhVLWMKAApUCmrDjb3AD3ClUf0PovZ/TEf0iT0vefaqH/tpfbz33ULe+JPpihv2pjwZH/wA/+1M1ywHDn5flV5MikEhdo7YJtT/a3KD5hjio7qZtvr2bxxD92+VPng/M0LaVm6n8KktppYZBJbttkB6g8n86WTFigrpSC+vbe0SPYsrhS+/OBn2AZNEtY9HzZ2r3Me1zBbpLcLIjr2ZZtu0HOCQSvcAc8ZqnNqCRrBcJD9mvE9Y4GM/l4jwqeXX59YMdlrF6ltYuczPbxDc5HIzj+LnAAGT06YMmPFAEXc8bZQqh/hRR9KN6D6SatBcrbx3LOkuVCuM7T4igyhJOeSMnk99W7BEglM/7A4pZCoOamGmnhiYSmBQHZ1XqxOAT5Ec+O7xobOzdkABseMCaNepVl5x5Lt8yfbRFHlnvDsjln2oiKmMqgwgf35DE/Gqzwln4ICIjBuy2kYweCw6g5yMZ9vNBRoZW3L2g71zjyqUkZ56YzVKwSbUTGodbaLAG9huYjv4zxRwWGk2y5n//AFSdzXL5B9u0cfKslptmz1EgWby2BIEgOP2RmlRj7amAIpHVQMYiiIUUqvZXZO7Lo8mjluvWy7kAfrEtXH2ib+HP92v5VoZdJ1dAQ+hRY6nasg/BqqPZzocS6Fg+CySD6mnlHsjFgn7ROP2R/hL+VELi3ure3RpJTHKckgYTy45J8fCp4CLOdZhocokQ5G6ViAfHBFdPfxmQyT6NM7nqz3B/8adoKYESOWWThWdz7yTRC30TVrkARWcgTxcbR8TiiSekQhGI9I2jw7dvoKsx+lcy/wDD0uMP/EzH60Wgpk1h6EzLAHu7lVY8lIznHnim130fSwsluLWSXCnEm4569Dx8POuJPSLWrv1Y7TA8EwPpTsPSi9geE2ErRuMMuRz86nJDxZUjJNtFcrIoJXbuPRCqsPDkAEnHjirKXmy3ur6QmSEERxiXglickZ8NpAqTS9C9IYXeP+h3lgk4eORk2n/VWqh9Dm1BEOsKFC8pBC+1U7/M5PJpPUikNabYFs/SjTkt17eG3TA+6JN3yGTUg9KUkbbpWjPM/ceywD5nP4VrLL0Q0m0I2WaZB6yEsaNw2K242oir/ZXArN/I6Ra0O2YBbn0ymXfFpyRoeinP0xT16K8J4B6geGaVTvzL2YkexTjj2UpIkRsAeZpUqxNCFoomJ3RRnn9gVWexswN/2SDdnqUHu+tKlQOh3sLPnNpAeM8oKRsbNVLC1gB/uxTUqdhRaitbdYmZYIgfAIMVNGFJ4VV69B4U1KkP0WAi84GAOMd1OAA/3VPvFKlQhHROEyK5LHPuIpUqGIYEkA/WlSpUDP/Z\n",
      "data:image/jpeg;base64,/9j/4AAQSkZJRgABAQAAAQABAAD/2wCEAAkGBwgHBgkIBwgKCgkLDRYPDQwMDRsUFRAWIB0iIiAdHx8kKDQsJCYxJx8fLT0tMTU3Ojo6Iys/RD84QzQ5OjcBCgoKDQwNGg8PGjclHyU3Nzc3Nzc3Nzc3Nzc3Nzc3Nzc3Nzc3Nzc3Nzc3Nzc3Nzc3Nzc3Nzc3Nzc3Nzc3Nzc3N//AABEIAGQAZAMBIgACEQEDEQH/xAAbAAAABwEAAAAAAAAAAAAAAAAAAQIDBAUGB//EAEkQAAIBAwEEBAcNBAgHAAAAAAECAwAEEQUGEiExE0FhkhQiUXGRwdEHFSMyQlJTgaGiscLSFjNDgjRiY3KDk5ThJDU2REZV4v/EABkBAQEBAQEBAAAAAAAAAAAAAAABAgMEBf/EACMRAAIBBAICAgMAAAAAAAAAAAABAgMRIVEEEjFSFCMTIkH/2gAMAwEAAhEDEQA/AJNtFMYlMkvjHjwUcKkLC5/iN6B7KEMcO4uV6h8g1IWOH5n3DXQg2ttvHDkuPIQKdWxh+hXu05HDDI2OjB86mn1s4Pok7tCEcWUH0Kd0UmS1jQqUiRTkcQAKnC0g+iTu0iSCNCCiKpyOIAFAc511rmPWejgndEbdJUdeWbP4VW+F3qrNvXEmVIAOe2r3aBQNoVUqpAjjOTnPFmqqJHRzAxIRvDmD7ay0RyZqdmojLokTSt0u9I2WYZzh8eqrtbSHdHwMfdFV2y0Svs9bhkXBdsrjh8c1eC1h3R8BH3RWykI20I/hp3aQYYh8hPQKnNawfQxd0Uy1rD9FH3RQEMxxfMT0Cjp420Of3MfdFCgFwh9xfEHIfKp9d/5g71UceqX90i+9WmXDoRwmuysCH6sFvu01dNeiQQ6nrRjlbGLTS7ctIQfKcE47cChC/nuLa2jMmoSQQxAZ3pXAH20WmXNnqty0Om23hO6m+8ioqoozgcWxxPHGPJWYexXT7eXUjpUUQiUk3GpP4RcMeoKoJ4nkPG+qmNbe60CyhVmQ39/m4uS0aOImON1UyOAARh6KxNtWS8sq2zpC6McDMNspxyLJRNo5BBVrRTnn0gFYb3Pp5tTvL1NQW3uIo0Q4a2jG6S3YB1A1nZ9e1DpXKPAo3jgLbR8B3a5fc5uCawXtDqpG21PY+6utT8KM9luhUA/40LyJ6tw+Xy1EbYuQK6m4sfG4598B+isg20GpqpIuFHmhT2VtdsLmWx0i0ms9yGSR0DssS5+KSerhxrM/zQkk2shdJJvRYafpRsdHS2kezcxlm6NbpH3uJPM4qsstpdCumePo+iePgyyQjI+oZrIDXdVJ/prj+VfZTk5udc0+aKSZjqNuplt5QMMyfLThz4AMP7prslUjmdrE7ReEdGjitZkDxRxOp5EKKJrWD6CPuCstsUkNuTaTytcSyIGSZ3JDeUAfaOvnWrNtARkRLx7K6BNMjtaw5/cR9wUKWbWHP7paOhSZFo4wAXiH8lRdN2aNk15LPcQzT3M5kYqhAC4AVfqA9JNZxtvnDsvvXdkpwbd3Wx6KSPdAP/rbv7tfN78vR1tS2XFzps97tDDbrBv2Nl8LK/INNjKLx54GG85FVG3eharf6lHcWFs08JTo8R4Bj3cYBB7S/KnV22uG4jSrzj5VA9VA7ayRzxwyWZSSZvFEzIvE9WSKqnyFNTcfAcYdetyd7n+iXulWd7Je25hnuJFVEYjJCqxB4HhxJrJfsZtCeent/mL7a2J1rVgwzpyIRxHwyDJ5dQ7aP341sKM2UQbrAulOPrIrMeTUjNyxdh0YuKWjHfsRtA4C+A4zwyZF4fbW02w0a81LSoYLGHpZIpssAwHDDDrpsa3rQ/7OP/Ur7KRFrOsRR/A20cjM7M+/Oo3cseHLjWanJqSkpO2CxpRSa2ZVdjdfB/5e3fX21Y2mkXez1vJqWpaXOxhzIJUdSIVUcT8cfgeXbV8df1kNwsYz29OtJfXtYkUo+mwMpGCGnUg/ZVly6slZ2sRUYRd0ZCKK7kkS40yCVILg+EWsbx4crnju4PIHq8hFbi0Int0aa3eGUqC8bZ8UnqzVPPfamrKTYWKRKFAjaVN1cZxu8OHOk320vgJ6SXSmDOcZgnTJ8/LtrpDk1HZJXDpwWS0eaJZHU2t0d04yI2wfNR1n/wBt4zz06/8A9Uv6qFde/I9DP17Ob22p3tmskdndziJRvsVPVnHHI81OLtJqeVIvJmPMHI9YqumXfjOeZHporNvFZWAIXjXqu9nKyHZZrm4laV5Ll3clmdpTxNHbu6T9HK/SB+XFju+kcjypJkZjxY+YdVGR0iFW40B0jZrWJdQthZTOvTxLwJXi6jrz5RyP+9XkPSuCrKu8vAjdrkel60dOvYJZ4ulELgnDEFh1/ZV3r+00evSW40yC9hljyGWIld8fUTnHrr5tXiydT9fDPTCrHrnydGCSfMHdpq3STxw4U+MTwTq3mxXK1a8IYy3GowohAd5ZHAUnlnJqz9675bhIG1mVSyBkPTvgjsp8GfsPzx0dH3T8wd2hun5g7tc+Oi6mrKvvvceN/avwHlopdF1OOJ5BrFw5UZ3ElfePmyKnwKnsX5EdG5kPRtNI6qY1QYGOvifWK5ZtVqcmo6iTHnoVJCbp4Mes+bqHmq8un1FLCO1tIZWj6M7091MBI7nmewdQHVWUYPEWMijpc7pA5LjqFejjUHTu5eTlVqKXgYZJwF3MnIy2W5GhTpDnBLE5oV6jndhTsETB4HrooXTgpQKccTk+N9tdI0/3Pr/TgZYXs5rsgqJZ0kIUEYOFGOrPHjUOf3NdVlYHpdNTHIRwlPwWpcWMdazy2crPEcFkKcRngRg/ZTWNxCxBGeCg9dbEe5rry8Eu7THbveyib3MdckbL3lmfOX9lW6JZmCmdWzhePWxNdA9zbZLULiJ9XMdtHFIpSFbyAuJAcZYDI4cOdJj9zHWI2V0ubMMpyCC3D7tW67MbaJy2gbzeESeyss0jT/s7dbm4yaGR83wFgPR0lF+zl38UQ6Fgch4I4/PWdGgbarwG0HpuH/TS10XbZT/1Co88hP5amdlxovhs7djOIND488W8gz9+knZ27A8WDRu7MPz1SHSNtx/5Ah/mP6KSdL24HLXo+9/8UzsuNF37yX6/Fh0Unt6Y/mrkW0NjPp2tXtncqolSUsAvxSCcgrnqweFb59P27HLXI/SP0VTatsntPqsqTaheW88sa7quxAOPJwFVYI7fxGTgvWgUqoTicnejDfjQq7Owmuj5Vr/mf7UK1gzk68t2PnmnVvB881BElqT+6mXt3wfy0tZLU9cwx/VB9dYNE8XY65D6aWLsD+IfTUJTanj00g88XsalhIOq5THajeoGhSZ4Ufpj6aPwn+1PeNRFijPxbiA/zMPxUUZt2zhXgP8Ajp6zUFyV4UfpT3jRG6Y8OkGO01F8Dn+Sqt/ddW/A0hrW7A/o8x7RGaWFyZ4SRydPQKZeZSSTjNQpElT48bjzqRUZ5OHMc6C5YvInZTDyJ2emoLydtR3c4pYXLAuueqhVQXOaFBclKSeHkp1OdChVIKDED6wKWpJNChQB7x48aUznB89ChUKE0hzSd9hjBxz4ihQoBRuriPG5cSjzORRe+d6w43Mh7GOfxoUKpBMmoT5wwhYf1oEPqpqS9AJ3rS1b/D3fwIoUKhQRywSrvNY24OeoyfqoqFCgP//Z\n",
      "data:image/jpeg;base64,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\n",
      "data:image/jpeg;base64,/9j/4AAQSkZJRgABAQAAAQABAAD/2wCEAAkGBwgHBgkIBwgKCgkLDRYPDQwMDRsUFRAWIB0iIiAdHx8kKDQsJCYxJx8fLT0tMTU3Ojo6Iys/RD84QzQ5OjcBCgoKDQwNGg8PGjclHyU3Nzc3Nzc3Nzc3Nzc3Nzc3Nzc3Nzc3Nzc3Nzc3Nzc3Nzc3Nzc3Nzc3Nzc3Nzc3Nzc3N//AABEIAGQAZAMBIgACEQEDEQH/xAAcAAEAAgIDAQAAAAAAAAAAAAAABQYEBwECAwj/xAA+EAABAwMCAgYHBAgHAAAAAAABAAIDBAUREiEGMQcTIkFRYRRCcXKBkaEyUpKxFSM0Q2LB0eEkU3OCs/Dx/8QAGgEBAAMBAQEAAAAAAAAAAAAAAAECAwQFBv/EACwRAAIBAwEGBAcBAAAAAAAAAAABAgMEESEFEhMxQVEiMmFxQ4GRobHR8BT/2gAMAwEAAhEDEQA/AN4oiIAiIgCIiAIiIAiIgCIiAIiIAiIgCIqR0j8bVXCMFOaO1vq3S5JlcHCNm+ACQOZPdkKG8FoQc3hF2JwN1UeIekOwWNzo5ah08zTu2IZAPvcvzUBceILnxZU/o60/4Sk0gzSSHSGtPrSHu8mcz394bIQTcHcGW+eb02hqa1kZc4mVj55iPVaM7b9w28UGkXqV2t6aoxkUlBGB3GRzj/IKIm6Zbs8/qo6dg/0iq7xfcuGa+EzWujqHXSpqTPV1M2Wx75y1jdWwyRzHIKpyu1HsNGB6rQq7vqdEbiMfhr7/ALNjHpjvTT2pqYeRiAWTS9M90LgHto5B7n9CqJYeJ7pw/KZKRkT43/biqoBJG/4H+RBUhxJxjHfLaYJeG7XSVMjmaauCAteAHAnB88YUOD7msbuDaTpRNk2/pijdj0225G2TAXbfDBV24e4zst/eIaOqDakjPo8vZefYDzXzrwzfpLHXsqWxNqY+02Wmf9mUHIwR8j8F63a6w1VcayitzqBgId1MZcQx3iw7Eb+HLuSL7spWgpNuMMRXqfUzeSLUfC3SZVQ2lkV6aJahjsNkf2XvZgYLh48/bjKKeJHuTHZ9xJJqJbbr0j8OUEhhiqZK6cfu6Nmv67D6qJm6Ra2Vhkht0FFB6stZNqJ/2jA+Gpaddd20/wCrt0DIW/fdu4rwNxf1nWzvdPP3F7s4WDqyZ7ENmW8eevubjHFlxrYj1dwe159aOBrIx+LtfVQ15oqu9wN9J4kmbMxwLGgudDkHOXMLsEjuO2FrSS81TucrsDk0bBdf0tVv2M72jwacKvEZq7S35YLVW8IZeDLfopzz6vqi1xPkASvGi4Bnq8mWoFO3uzKHH5aVD2+51IkbFTganHx5+0qYPEQoi2IVJqqtxw2KME7+AA3KlTk+RWdnbQWqR5S9HV51O6l1IWA7PfOOX4VA3Cwz0kwi6+Cd3eaaRr2t9rtgpC9XW7znTXiSIagOpkcA5vfvHnI+IUYJ4oWGatkcWDYAnc+Sl1JcjGFnbTTnlYRjOtzmka6qJvsGT9NvquWUET9IMk8pB20gAfLdWnhSjsd/e/qpjFJE3XJHMQ3DR62eWPyXhdL56LVzQcO01C6liOBVyZc55xuQ325xtupTqPQShYUo7+MkXb7BXVFW4soD1R+yXOJVkouB64sfLTwxMn0HSQ3GT4E81Vaq/XWqYGy10wYRksYdDd/JuF1q77dqxgjqLlVPjAwIxIQ0D3Rsq5fU1iox8kS/0fCVPHTMF0qaeGq9ZnXt2+oRa0bTyPGrqyc9+EVfD2Nc1jLgptTS8VlPDNG3XiQuxtpbnIBAGsuG/h4brzlp3CSUSydtj5Gu1Nwcsj1u/p9V2pKiIUuBFSiR7XR1QqNf6xhdr7DhyOTjx7IO+6j6ud000jh1jgdbWl+5LTGGjP4QuncgfPf6LmL5symwufIyMaNT307Bk4wZmam/AY3XFPC+djJGNf1bxkEN7v8AuViwzgEl9PI8kxkb406WkHu3Wdw5cprTUiR1OyaIxdW+KQ4Dt8gg9x3VJ0440Oy0u60qijNZXsT1r4clnpYampkIpZZC3SaiOmY1oOC6Rzjk9/ZaCf4gsh8tstcIZHeKKJ7m9uls7XvLvIyAZf6323kcvYq1da221VykmbpYCeyDGSQPPC70bqOd7Y46qJjifsvaWD5kYRTwtIkzto1avjrIkbjWwVTKakt1M6npYRlrZNOuR5G7nY2UOZIiXVUrS5gJZCwHGcczyOP7gd+Vbb5Db+GLdNSFzam8TRlrwD2aVpHM/wAWDsPj7aTMwyPoaYO0tewDy1Fxbk/T5JSjq2RtGpGFONGny/Ik6t8jKiJukudpkbnO/ccr1DgWaHxRyAHI1jOF5RRFrpmO06mubqx4g/3Kk7dco7cXSto4Jpcdh9QCWsPiB3n2qKvm0LbPSdF73LJ7UVguFw0vbGI43AYe/sg7dw5n4BZddb7VaadzXVb6uv8A8uFo0R+8d/ko6rvdxuGeunkcHc2t7LfkOax2w6mnLu1jYAbAqqpyZ01L6jT5anp6VI7dpa0eARRj6W5udnqJD7o2XCtwDF7WXZktJwnxRDGZBaHVDAM6qVzJv+MlR09Fdqb9ptFZF78UjfzX0bXdHdJM4ujDQ7xAURP0eV0efRa2dnuSub+RW26jyFXqLqfPxq2h2Hxuae/tnZZDYm1MRMEjj4tLluaq4J4gYCPTKmQfxTF35qBruArpJIJJYXOe0bOGx+ihw7G0LrXFVZX0NUyRSRvwWOBHku3bI5uPgNK2I/gW4g/skp9mV5Hgm5d1JN8ip8Rm1Rzo3/fMp88jnQl0hJe7Gou5kroyZ0MlLVxgF0eWHW3I7+Y8w76K01HR3fagg01LLn7pacFZFv6L+MnPOmgp9DsZE0o0+3BCiEd0m5r8aSa6FTpI3zNfIecjsjG50j/3n5LOioHvxhuPats8P9EdS1rX3mtjY47uZTjPwBOwHwV+s/BtktWl0FEx8g/eS9p2fir4MMvGOho2y8DXe6lrqejkLD+8f2G49p5q/wBk6JIow190qyfGOAY+pW0mta0ANAA8l2Qgr9LwZYKaERMtsDgO97dRPxKKwIgCIiALjA8FyiA40t+6PkuNDfuhdkQHGB4LnCIgCIiAIiIAi4LgOZARAcoiIAiIgCIiAIiIAiIgCIiA6ujY45c0E+YREQH/2Q==\n"
     ]
    },
    {
     "name": "stdout",
     "output_type": "stream",
     "text": [
      "https://encrypted-tbn0.gstatic.com/images?q=tbn:ANd9GcT83s3MvWOg825kD2tCReRhZkXPlD4LB0OGVJLz66A&usqp=CAU\n",
      "https://encrypted-tbn0.gstatic.com/images?q=tbn:ANd9GcS66RxSS5eW87YgiL5f1e4nUJnCbrONHwJfCDAgR7KvP2f8Svo6&usqp=CAU\n",
      "https://encrypted-tbn0.gstatic.com/images?q=tbn:ANd9GcRmxcvH_dJLu06yo4T9PirUFqQeSjc5epD9jUpJYumEnCPOz2Yz&usqp=CAU\n",
      "https://encrypted-tbn0.gstatic.com/images?q=tbn:ANd9GcST0S9eyqHuRcOrH_MHqpcNvR1XGHRLpA5qjzFj3aClz-z3ldg-&usqp=CAU\n",
      "https://encrypted-tbn0.gstatic.com/images?q=tbn:ANd9GcR0ugkvDyEUBvfB3zsBF8D7NajtBffqXogniuiz4yHf-PS5rzrD&usqp=CAU\n",
      "https://encrypted-tbn0.gstatic.com/images?q=tbn:ANd9GcTb7ELVxc2ivJi2cyFaTiUE8vZzK6m3P5gFUSDvD3_5nhAOildH&usqp=CAU\n",
      "https://encrypted-tbn0.gstatic.com/images?q=tbn:ANd9GcT-ndWaW9qsy5_9H7R0E85hgewy7ykkxf-UeRYBTKaEaSRE4ole&usqp=CAU\n",
      "https://encrypted-tbn0.gstatic.com/images?q=tbn:ANd9GcTA__u9VpjjYpfQ7XED8xQ93nZqiVRjUCFHCMQvmlKZocRVdJXC&usqp=CAU\n",
      "https://encrypted-tbn0.gstatic.com/images?q=tbn:ANd9GcR-tOqVHDQPy_eWXm6Ke1o6uLAJy8pHkLigqk8O5eo&usqp=CAU\n",
      "https://encrypted-tbn0.gstatic.com/images?q=tbn:ANd9GcT-H8IykiZq3QXw5T9gPDgmijcjh1sxAZ477s8yy4VCufHETA2w&usqp=CAU\n",
      "https://encrypted-tbn0.gstatic.com/images?q=tbn:ANd9GcTk_KvtKqJYMHoNijNjSDsZ5gR6Nmz1hsIOxp4EwtpxgqYPB_Cm&usqp=CAU\n",
      "https://encrypted-tbn0.gstatic.com/images?q=tbn:ANd9GcS2TwAec4e0qW_0EtW0bN6MpPw4Xi5gOM26qNlficlJbV7MWKrd&usqp=CAU\n",
      "https://encrypted-tbn0.gstatic.com/images?q=tbn:ANd9GcRYWvkRUuqCyGbNWRJ_I52IwXGt_uW6XEq69E2Lcu6tmhKoQRiv&usqp=CAU\n",
      "https://encrypted-tbn0.gstatic.com/images?q=tbn:ANd9GcQcpstBOIwGXe8sUkBD4UW2pJcxja7cu1V0YxDoB8_u9wt0ZvTS&usqp=CAU\n",
      "https://encrypted-tbn0.gstatic.com/images?q=tbn:ANd9GcTwWvu3B3ahTm91GXtsEEDoZOfB8kFcW8dqnvnuAhQKniEQNyyF&usqp=CAU\n",
      "https://encrypted-tbn0.gstatic.com/images?q=tbn:ANd9GcTR1ph9c4IJHk1oKPG1PuVUnskRKEnzEAfKljfOlWHwrQiFk6f5&usqp=CAU\n",
      "https://encrypted-tbn0.gstatic.com/images?q=tbn:ANd9GcRbuJdz5f2np-xa_BvFnxKjLUzCxGyHBai79c75TB95HY1VwYKs&usqp=CAU\n",
      "https://encrypted-tbn0.gstatic.com/images?q=tbn:ANd9GcTMx-piUBUHqbwfmopeFinQzurEhwn0FiiTtPP00ydnDDyDY6Ap&usqp=CAU\n",
      "data:image/jpeg;base64,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\n",
      "data:image/jpeg;base64,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\n"
     ]
    },
    {
     "name": "stdout",
     "output_type": "stream",
     "text": [
      "data:image/jpeg;base64,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\n",
      "data:image/jpeg;base64,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\n"
     ]
    },
    {
     "name": "stdout",
     "output_type": "stream",
     "text": [
      "data:image/jpeg;base64,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\n",
      "data:image/jpeg;base64,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\n",
      "data:image/jpeg;base64,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\n"
     ]
    },
    {
     "name": "stdout",
     "output_type": "stream",
     "text": [
      "data:image/jpeg;base64,/9j/4AAQSkZJRgABAQAAAQABAAD/2wCEAAoHCBISEhgVEhUVGRgSERgZGBoZGhgYGRgYGBgZGRgYGBgcIS4lHB4rIxgYJjgmKy8xNTU1GiU7QDs0Py40NTEBDAwMEA8QGhISHzQrISE0NDQ0NDQ0NDQ0NDQ0NDQ0NDQ0NDQ0NDQ0NDQ0NDQ0NDQ0NDQ0NDQxNDQ0NDQ0NDQ0P//AABEIALcBEwMBIgACEQEDEQH/xAAcAAABBQEBAQAAAAAAAAAAAAAAAQIDBAUGBwj/xABCEAACAQICBggDBgQFAwUAAAABAgADEQQhBRIxQVFxBhMyYYGRobEiwdEUQlJicpKCouHwBxUjM0MWwvFEstLi8v/EABgBAQEBAQEAAAAAAAAAAAAAAAABAgME/8QAIREBAQEAAgMBAAIDAAAAAAAAAAERAhIhMUFRA2ETIjL/2gAMAwEAAhEDEQA/APVRQbhF+yHiJcvCRWdU0ar211U8wDbleRtoojsO4/i1h5Ne3haapIEaHBk0xnDB1APuP+5D5jWB8hHKNXtI45DXH8tz5gS6alsrRrMDLphlI027JBPC4uOY2iSotjskFQA9oA8xf3kYUA3BYeJI8jcCWJV4wtIkqE7CD6Rdc7wff2zgSyN2kbYhb2BF+G/ykNR5cTVpXyjte8oU2kl+EuGp3UiQveOLMoykLVWO6QIQLEntDfsNuYzkdR2B+FgRbY4DeRFj53iq9znFrIt/h2SiNa6nt07d6/EPLJvQyXDvT1v9NgTwvmOYOYkDLwkVdArC9jbMd3LhJm+l1drU/jLPlYZeEw9I1md9Y7hYS9iatR1yYi3drDx3+szkoVGPxAWsTcb7flOzzM1NjNxWrYp2YXJymrh9IsigCZDU2yYggFrC+Vz3Ay8KRym/CeTcTimc3aVerA7N1/TkP27D5Sw6d8iLWmtZxCz1BuDDu+E+RyPmI6g4dgpJUn8Qt5bj4R6rcyzVZdTVC898azii4sxF72Ma9W2wxRhtW+qSL7to/adnhaVX1wfiUN3rkf2n6mN0xKlZtxjkqMD8LFbcNn7Tl5WkKVFOQIB4EEHyOcGBjxTzGouknt8agi21f/ifkTGfbEa9jcjaN45g5iZwJ4xwRT2he2w7xyO7wnO8I6Tmsda0JDq/mfzB9xElxN/t2tHSlF9jjxuPXZLaVFbssDyIM8JpY1lzViORtL9DTtZdjnxsfUzN/jjXZ7QQI0oN08vwvTCuu0g+J+dx6Taw3Tj8aex+ntMX+Otdo7QoY0gzEw3Syg+24/vvHzmnQ0tRfsuP75SdeU+HaJvGMKydXRthB5GBURq4hCR2p3x5F4ljxjsYZ1IOTZjvzjGwi/duORNv2nL0kjExAxjaYZ1DLsYHmLE/xDL0gtTV7SNzFmH19I5nMRmjTCDFITYMB3HI+Rzkb5nbEdQcjs785D9nA7N1/SSB+3Z6Sol6vviEHjIiHGxgf1DPzW1vKNaow2of4SGHrY+konCG270jGok52v4SEV12E2PBvhPkbSc1Da24RlDmvqFbATNek5U2YfDLxqmxzmfUqbu+WalRujsoUkEDdJPsB+6Sv6Tl+0/D6RiVLEfS0vdYbS+RUXC1BtKsO/4T5i4PkIrUQNoceAI81vbxtJyF75IlMbiZLaKa0Li6kEcQb+0bUosJeaipzIF+Ow+YzidUR2WPJhrD5H1jsmM8UTvERqC8JpAvvQHvU/I2+cazITY5c8j4XteXsYzThlPaAI4EXkbYEfddh3H4l9c/IibHULwjepEzbSSMX7Awza1uK5/y7fK8Z9nB2NcjaN45jaJuGkJE+DRu0t7bL7uR3Szlf0s4sj7M3dCav+XJxf8AcT7wjudY8aFQR6uOMoirHrUnRlfV++TJVMzVqCSpU74GxTxBlqni7TFSuZYWvA6GjpV12Ow8T7S/R6S11+/fn/S05IVhHCqNxl8VHdUOl7jtop5ZTQo9LaR7Ssvr7Tzlah4x/WmZvHj+L25PUqOncM+yoo55S6ldG7LA8iDPIPtBj6eMK7CRyNpm8I12r1+wiFO+eY4fT9dOzUfxN/eaVDpfWHaCN4WPpJ0vxe0d0aZiapnMUOmSHtow/SQfQ2mjQ6TYZ9rlf1KR6i4mevKLsahUxNWR0dIUqnYdG5MCfKT60m1cMNO8iODXd8P6SV9BkZY1oF47GK7YZgMnv+oD3FpTNA71P8JB97TSL5SoziO1MV1ppvJHMW95pJRUjwlYOJY1F3AeGR8xG2mEWmoOwx1stkba2xj42I+vrE12/KfMemfvAcVMQxhr22qw8L/+28VKynYQfEQhCxgWuLEXvH64ia0CuUts+HkbD9uz0hrON6nnkfMfSTnOIFtvgxF1vFWHhcel/WOSoDmpB5Zx7GRvSBzO3jv8DtgxJrHjFkHVfmb9x+cJMXa8E6vvi6h7pWXGcV8jJVxa/mHlO7ml1THC8YuKT8XoZMlZfxL5iAK0lWoY5WBj1RTugItYx4qy7hdD1Kv+2jtbcoLHyE0KfQvGtn1ZX9ZA9I0sYy1Y9a3fNpug+MAuTRFhndyP+2Vj0WxQ30zf852cc1Fh3yooCt3xwqyz/wBM421xS1hxV0z5XbOQnQ2LVgHo1FBYDWKsVFza7MoNhABUEXX75vr0ZYjUp0XZrWNaq/VIGttRB8TLzBv3SzhuiFFM8RiCx/DTAA/c1yfIRo5cOeMf1xE7NMDgKfYoBjxcs58jceklp6Rp0+xSpDu1E+kefxNjhxipcw2mKtPsVHHJjbyne4XpBhmyq0UHeqqR4gi49ZqJgNHYhdZaOHccQiXHOwuJLbPcamX64Gh0sxC7XVv1KPcWM0KHTM/8lMHvViPQ3nQYroVgH7KMh4o7ezXHpMDHdASM6FcnuqIw/nUfKZ/1vw2z60KPSvDN2tdeYuPQmSppSi/ZdPE29DOGx2hMVQ7aXA3oQ49Mx4gTPWqYvCLOVeoq4Oy0vLsnk1LHOnZZhyJE0sP0lxKf8hI/MA3qc5Ol/V7PRzCcVQ6YuO2iNyJX6zQodLqJ7aOvKzD3HtJ15L2jpNaNcA7QDzF5m0dPYZ9lRR+q6+4l2niEfssrciD7SeYvhJ1Y3EjkfkcohVh94HmM/MfSLrQvGmE123r5EH3tA1BvNueXvFvDWhMAikSPUXhbll7RRcbGPjY/19YDrGJDWb8vrCB852i2jos6MGiPUQEcIDkWdl0F6NNjahNRnWlTALWJBa+xQd17HvtzvNDoP0EGIRMTiiQj/ElMbXUHtO25TwGZG8T1HR+EpUwRSRUUtc6osGYZZDw2yWrImwmDp0UCUUVFG4D1J2k95j/sxPaMe1dVy/8APlIKmIf7q+JNh8zMxo5sDTIsyhhwOYyzErYnB31tTUQalhZQSWztrkjsiy5DPbnF6yodrqP0jPzJ+UcKn5ifL5AS+Uee0aOknqOuIxFSitM5suYbIG1IWClM+0f/AKzaTSNOkAKeszWsXdmdz33b2GU6HG01qrqkA2N7kZjjqnap75x9foy1FT1VR3UsW1ajfEL7le1iOfGa3UwuJ0sT2mJ7hKLaQJOS+G2VmVVNqrGn3apueUifF4RBYMxPEg28r/KNxM1NVxWscx6/IZRrc28BMbE6St2bW4gD3kH+dPayotx97fNbUzi3y622G/PbEoaRWkQ2qVO4o5B95zFTTNXgviLn1MoVca7Zk+GQ9BEl+nh6jo7prY6tYXXc42j9QAsfC3jOow2k0qKHpsGU7CDPARiDcat7kgC1ySTuA3mdj0eSpgwauLqimjpYU2N2JuLMV3EWOQuc87SzjqWvVlxSNkwB5ypjNB4Stm9NLneLA+c88xPTqkuVOnVqd4Gqp5E/SZ7f4h1F/wDSv+8n/tl6z5U2/jsdIdA1OdByvc3xD6+s5TSegsVh7mpTJUfeX4hzO8eUsUP8QaiqGfDVVWwOsr62R32AymxgP8RsLUADsya2wOuRsbHMXkxdcUHEUP3zvMXonA41ddCqMfv0yCL/AJgMj45985jSHRTGUrlFFVBvTNrd6HPyvJZYsrNDnjHpWYbPSZ7VSCQwsQbEEWIPAjdHrXk1W1R0zXTZUccySPIy/R6VVx2tRuYt7WnMiv3xetHdJkXXa0elw+/T8Vb5EfOaFHpNh22sy/qU/K886FQRQ/fJ1h2r1OjpGk/YdD/EL+Ush55OrnjLFHG1U7DsOTESdTXqGvFnnP8AnmJ/G38v0hHRezgCpG0Ec4l56dUFU7erPNZVqUGO2lRPgPpMf5Gujz28UGdw+AQ7cNSPKwkK6GSoSqYUlrEgKTuF9xmu8TpU2jOn7YLR1Okqh613RQTYJSDllZiM7/GUA/JOq6F9OHxuulVFR0XWXU2FdhFjsIvPDWa7kz0X/D9hVxFSqECrToqlgLjWYn5A+Qlk2s25Hp74kjfa8jOKb8Q8xM6szDsAeIPyIlR9L1KWdSirKNpRzrfsZbfzTr1c+1bfXN+L1kiVXP3hMPCdLcG5trMjAZh0ItuzZbr6zewulA4vTdGHFSp9pKp6B77b+f0kuox4+RijSD8Y9dJNv95MrWxSxOjxUBDoCDuIy8jlOfxvQuk9+ruhP4bfO9vC06x9L22Ak+Q8z8gZVq6VqNl8AHLW98vSWdmb1ed43oJjFv1bo44NdT8xeYOkdE6QpjVqUKmrf7ihwbfouZ62cU5Ny4uBYEKgI5HVuJEHYCwd9t9ufiZrKmvB67lTZwVPBrqfIyzovR1XFVNSkt7ZsxyRBxZvltM9srnXFnswO5lVh5ESi+Ao9W1MIio99ZUVUBvtvqW2y9U156MVQwYK4W1Sraz12F1XiKS/P3mfhsPXxVRii1Kr7zYki3PYM52WN0Hg0BshWxysznd3tG9HdLCnSKU8JiEHWEu3wOWfiRcMQAAAFU2FuOa+MJ5cRjmbDvqVkqI9r2ZSLjiu5h3iFKqtTsnw3+U73SekcFiqZp4olBtU1Eak6NuZC6ix9++ZGD6HVAA1OrSdXFwfiTWG5hkR6xt1fjIw+JqIuqrWBN7WB95m47QlPM02tbO+0HzzE7A9GcQPuBuTp8yJBj9D10pPq0arNqGwVGe5I/LeTlZfaSWenEUKmKwmrUpu6gqCCCbWO5vpPQuiHT0VmFLEWRzkrbFc8DwMzHw+JoUlFOi5bqwpHZ2ixBVs/ScFjKFSk/8AqKyNtAIIO3aLzHbPTea+hMfo6hihasgLWycfC45Nv5G4nFad6JVcOC9MdbTGZKj/AFFH5kG0d48hOg6D45sXgkqMwDJdGJ3ld/l7TeXFCmbX1rcJrN8xNz28WXE0jsZfP6yVSp2N853fSHojhMY5qUyaLsMyqqUZvxMtxnxInD6W6E4zD3YIKqD71O7Ec0I1h4AjvmbKuym6vfAXmBd1NrsCDYi5BB4ESRcVUGxz45+8it0O0cKx4TDXSFQbweY+klXStQbVU+Y+sDY+0QmV/m5/B/N/SED0Nn/u8jZ5Ye/4PaQt+k+U8r0oWea2h9IFKNfVXNKLvrC25G7ROy1srcZlMPynylWtpjqNejYIMXTZBVddZFex1FYXGRuwvuuDYi81PbPL08vGRPcT6Tp9EYipQw4NN2R2YudUkHcBs7gPOZmkKNFh1tPVS72qUiSHRidig9pNuzMcpaoYgEZEeE7xxrpdD9O8TrBKmpUJNgHCqT3BhbPnOzGkkqC2Jw1encdpV115nZlynhuOqhnOrsGXPjNbQXS/GYOwpVNZB/xv8dO3AAm6fwkSzliXi9Gxmg6NY62FrU9fg1wSN6lGIbymbjMBjKTKXoM6ohF6TKD2dUEki9wN4B7IvebPR7phgdIDVr0lp1QM1NmVhxViB5GxF9+2dAlKgv8At1GUcLm3lN/9M+nn1Lpg9IOalSojaxtTqI7HPZYsthbPLIW4ZCdborSdarTDVUCXRSDmt9ZVbsG5FrkWP4e/K3iVv98NnlfjM6vW1RcmXjxxm3V1sSZXr6RVNpueH14TAxumdUHVIHfwnFY/TFSuxWmzBL7djPyO4esvLlITjrvsV0ro0zZ6mY+6g1j45E+OUqp0yw2t8QxNt+bEejX9J591qILKATx3f1kZxrDOynutOd5V06x6uHo49QcHinV0zKCo6Fr7FcMbrsyNuPgYDF9WxWoamshsyu7sQRxBM8uw+Ka4qISjobgjd3Hip3idOuk+uRKwFiw1HA3ML+xB8CInLSzHW19I027Sqczx+sbS0rTTJVQeU5F8UZH9qMuJruk0+OCxw08Py+k4P7VF+1y4O/XT68F/vxkqdI0FQJqAuRkuq18xcbO6ed/a5Kuk2FMIt11fvB3DkXva+vb0kHof/VireyKD3ljs7r85wvT7Tq11JKpfU1RYW3n6zMr6RsNs5zE4g13uewp8zJ4i+3o/+HaGngxrHJ6hbV2ZZD3vOyIV9mRnl2j+kjU0VAiWVQN+7jntk+M6cuRqIhBOVw3oLjKa48pIzy42u8xOMp0jZ3W/AZnxtsl3RWkaNVtVXGtuByJ5cZ4tiMc7m9VznsVSQBztmfGLhtJmkwemzEKw1lLEjdZlJzUg2MnLnqzjj2PpH0fw+MpupVOtVSUcdtTbLPevccp4eNk6LEafxFWoCHK69tbVOdtpuYzV5zHbGsc/Cb5oqf6hfpGNhV4L+36SdjGHaE2fsifhXyP1hL2Otdq1Xl6yNqn95yJv7zkbTzu6Rn75g9LVZqAtmBUBblqsPciaxjKiBgVbMEWIO8SzxUvmOJwOOpKSMRSV9ZQoqZllHet7HYM7awAtnJauEpsNZFUqfvIzDwIJNpT0hhtSo6blYgcto9LSohem2sjFT3b+Y3ztHLBVwzL3yC81RjRVFmKo2y+xT3jgZDiMGwz2jjGfiarYPEmnURx91hflsPped9Sx7gZMZ561E7ADnOj0fpBNRVdlDAAEE22c5rjcOUb2K0xWUDVbNmAuc7ZE/KQVMXUbt1HbustvQShiag1b3GRHvb5xjVcrnYBeb1hR01jizCkDltbluX5+Uqh9VMtrDyX+szzVLMzHaxJ85crbbcAB5Cc7dbkQaxGXlEViSLzoMDoJayI5PwdWSSDYl9ZrJnuI1TfdnK2laSg9YAFLi9hsuRw8ZFUMO3xcwfaa2hqn+m4OzrLjmVWYtIMvxHYAfoPea+hHpaoFSoqAkliQx5ZKCb5CXj7SrL1Y3rDN2jU0UO1iGY91Nx7iTDSGiE+858h7kTexlzoLcDHrTqHYpnQjpLopOyjHnqfJo1+nmET/AG8ODz//AAfeNn6eWTR0bXfso3kZbrdH66LrVBqqN5sPE8JWx/8AiJinuKSrTXd8N2B3G7Ej+WczjtM4mub1KjHmwy5DYPC0naLlTaSIDapOQ3DtNz/CPXlKXXd1gNgErWP93MQzNuriz10moMACx27ue76zPZpewyhmRDb4zbPixsL23bJFV2qnfe/EyZB8JA3+5uPnNfTGASmioba1Oyi207/HaZloCh25gg32Wts+cVI7KtoQYZQzuNdlQBCQGA1fjOrttrb5WKyjo5W1S7XLVDe52kbiZc1phuFzEA8TWjSJRJ1giyDVMIHUMp4yMg8ZIzyMtOboYREIji0aTA5bpNh9WoH3OufNcvYjymIyzs9N4frKJttT4h4bR5XnIETrxuxy5TKrPSBkaVKidliO7d5HKWyI0pLiEOP1l1XUD8yWVj3Eb5BqIey45MCv1EkekDIWw8Bww5/KRvKsp+cZXGrkrEi3C3geMaaJjTSMBqGXnQsA5uVO3uYbRKJQy1hcW9O9hcHaDsPf3HvkGhh9K1Kaait8O0A7AeI4SBWeoFLk7Mv6CMOMXaKZBPL3tIald2FgNUHbbaeZlEmKrBiEUgAbSTYE8+EYtAb6lMeJPpaQdVDqoE1WjTA+GoL32ANq87nMesjWqRsdvK48iYnVRerEYJVxQHaAbmie4kq4+mP+BD6egErdWIvViBb/AM2UdnD0RzBaH+dPup0Bypj5ypqRdSMFhtOYjcyr+lEHylXE42rV/wBxi1u4D2EdqRNSMFW80cNTLj4LXAzFiTbOxyByzlc0xFFMDZcciYwW3YqSXJLd5ueWe7vkmExaq12QEn728ecphI4LGJrpaOIVxdTf3HMSTWnMIzKbqSD3TQo6SYdsXHEZGZsbla+tF1pXp1lcXU3/AL3iP1pFS60JFrQgdMR3iNPOMJjTMNJDzjDzjbxC0oUgcZx+k8L1dQruOa8j/dp1paZmmcL1lO47SZjvG8S8blTlNjmokIk6uZDEMdCBGREKySJAjtC0kiWgMtC0faFoDLQtH2haAy0LR1oWgNtC0daFoDbQtH2haAy0XVjrQtAbqwtHWhaAgEUCLaLaAlotoRYAjFTcGxl2njScm85SiSWJK1teEydY8YSdV7PQPGJaVTij/YjDijOeOmrhEaRKTV2jGrHjLhq8bRhI7pRNQxhcxhrL0vhQj6y9l/Q7xM+b1dNdSp3zErUijWP/AJm+NYsMiQhNIIWhCAWhaF4XgFoWheEBLQtCLaA20W0W0LQG2i2iwgJaFosICWhaLCAkIQtAIQtCARY2F4DoRLwvAIQvCB1uqYmoYQnN0JqReqhCAdVDqoQmQdWJDisItRbHbuPCEJUc9XolG1TI4QnSemL7FoWhCUFoQhAIXhCAQhCAQhCAQvCEAvCEIBFhCAkIQgNvEvFhAIQhALRbQhAW0IQgf//Z\n",
      "data:image/jpeg;base64,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\n"
     ]
    },
    {
     "name": "stdout",
     "output_type": "stream",
     "text": [
      "data:image/jpeg;base64,/9j/4AAQSkZJRgABAQAAAQABAAD/2wCEAAoHCBQUFBgVFBQYGBgaGBoZGRkaGRgZGxgYGBgZGhgbGBgbIS0kGx0qHxgaJjcmKi4xNDQ0GyM6PzozPi0zNDEBCwsLEA8QHRISHTMqJCozMzMzMTMzNjMzMzM1MTMzMzMzMzMzMzMzMzMzMzMzMzMzMzMzMzMzMzMzMzMzMzEzM//AABEIAKgBLAMBIgACEQEDEQH/xAAcAAABBQEBAQAAAAAAAAAAAAAAAQIDBAUGBwj/xABEEAACAQIDBAYHBgQEBQUAAAABAgADEQQSIQUGMVETIkFhcZEHMkJSgaGxFGKSwdHwcoKy4SNDotIVFzODwhYkU3Px/8QAGQEAAwEBAQAAAAAAAAAAAAAAAAECAwQF/8QALBEAAgIBAwMDAwMFAAAAAAAAAAECEQMSITEEQVEiYZEFE4EUI3EVMqGxwf/aAAwDAQACEQMRAD8A8ahFhAqghCEBhCELRAEIRYWOhIWiwgFCQixbRDobaFo9VvC0YaRsUCOK2haIpREtAiOtC0Vj0kdolpJaEdkuIy0S0ktDLCw0EdoWklo0iFicRsIsIxUJCFoWhYghCEYCQiwgFBEkj0ivEEeIIkcORNNbMIQhABIQhAQ6EIARFBOn3P2rhcOXOIworsQAgJsqntuLG99JzMfTNjFLg1xOpIubUs1RnVAgZiwVfVUE8B3CUJrkBlmbVSxkQnezOnqcGl6lwwo0ixsBrLeM2TUpAF0IuL6gjT4ybYGJWnWV2AIVgbHtsbzuN/8AeyjjEprTSxUak2vrbQW7JMptOjTB00JY7fvvfFcbd7PMrRZJUWMtNLONwaYlooWLaELDSXMDgKlRwFVjqLWBIv4idPvHuY+CU1agGRrZB2lmF8p5BRe/gOenO7HrtTqK4ZlAN7qbHTsHeZ2O8m+uJxVAA5VAJDLlVgQQMpOcG54j4TKUnZ34MacLS8t3z7UeftqYCTtWzcVX4KF/ptGWHKXZzKHhkYES0lUR1SnYkRWP7e1kOWJaTlLRFS5j1A8RDaLaPtFywsWgEok+qL8x22525S1/w5+iNXKbZlW/eQx/IecTAIQ4ObLYg5rm48ANSfCerY7eXBNs9aQCrUYHKXprbpFtd2UXAue3WS5UzfHhTjbT8fx7njjUiBciw79L+HORES7j1bMc9yTrcm9+8HgR4SnNEzjnDTJobCOj1WOyFC2dBudsAYzELSLBc3aewD85Nv1u0MDW6MMGFgQe48xMfZ2PeiwdGKsNQRoRHbY2lUrtnqMWY8STczH1ajvbx/Za244re/NmTLWDpm4I7DfykVKnczSFlWXOdbIx6XBqeqXCNXene2rjKaUqqUrodHVbOdLWJva3cJyckqtcyOXHZHNmlqkxIRYSjOhIQhAQ6EIoEkugAiiEWBSRdwz9kdXW8q0WtLgMwkqdo9TDNThpZUQWMexkjrI2lXZk4OKoZFWncgRI9DaxgQopvc7XC7g1XwhxItlylrX1IHbOKr0bEidjht9cQmFOGVhkII4agHiAZydR7kmRGTOvPjjprbnavHv7kC8prUxcW5iZoXWaC6AScrujXoY05WZ9WnYkRqiaWNpX1EoBZUZ2jLN0/wBubRr7uYKnXrpScsuZgMyjMAO24PAd99OU6v0g7vUcMwegM5ZQWNwwpgKBfKNdeNzp+XF4RyDYaA8bcT3E8u6S7SrOWV7m+VQDc36qhePwkt+qjeOJrHqvZXtXnv8AgzR36zr9xt3aeLrhektl6zKRqQLeqRoePd4TlS2Y6+fb/ebOx9oPSZTTYoAyk2Ni1j7RHEd3COUq5Iw4nJtRe/Zib07HGCrGiLsRrmIsLHhlHb4+XOc/aa2OxtVmbOxcXJ63WF+YvwPeJn5QToLQT2IyY3qr/lC4VLtJ9oHqr3D6kn84+mlhG44aDwkarkjq+1pwNFC5tbiOX6cpbp7FqshqBGKjibGw8TIqK6gmembP3yw9PZ5oZOvlI4Cxv2maSm09jkx9MpR1SV7pVdUvJ5Q1Mg2MSWMY1ySJXmqdqziyQUZuK4BYrLeKokyLE3RUIalQtBLRMTU0tHlpTrNeTFW7ZrlmoQ0xITEiwm55jEhAwgSEIQjAeBCEJBokKBFhFEC0gWW6baSqJLTMiaOjDLSyxGMI4RSJkd0o6kV7QkhWNtNLObRQ9TEIirHGQbpWhqDWXxKaDUS4siZ19KqTJk1W0ovTsZdw51tDEU5kpaXR2ZMKyQT7oiwyx2LW6gx6C0dVW6xavVZSx/tOPsZqiaNBbCU6a6y+svIzHo8dNsgxSayClT1vL9dbyDLJjPajTNg/c1CW4RMaOEevrCJixpBP1IJxvHIpARrGOjZsjzGuxBUEjtJ3EYqzVPY5MkPUKiySIIkl7mkVpQlRpUYyeqZAZpBUceeVsaYkdEMs5mhIlosICaGwimEZI+OiRRJNkEWIIsTLQsekeMLUIBCOQeBytY+BtGWtodPGJlxe5Opj5EhkgmTO+DtAYwiSi3aQO83/ACBMnwuCaqctK9RvdRKrkeIVI4xb4M8mSMXTZUEeJ12D9HG0agBWkFB7XJS3irgN8ptYT0Q4s/8AVxFFB93O5+IIUfOPQ/BK6jGu55zT4y0s9LX0Y4WkL19oa9yonyLNIKm7uw6ej7Sa/LPTHyySZYpM2x9fhhy38Hn1M2Mt5bzuqezt3hxxjHxqAfRRNPB7L2A+iYhWPLpj+UiXTyZ1YvrOCNpp/B5a62jh6s9qp7h7McXVS3hVY/nF/wCXGAHs1Lfxk/lD9NP2D+tYE3SfwjwpFsTJxPWto7l7Ip6VK4pHk1ZQ34WP5TGrbo7OJ/w8afIt5WX843003wRj+rdPHZ2vwcMy6XlUzvKm51MiyYonlei9vxKT9JlV9ysSL5GpvyAZkJ+NVVF/jI/T5I8o7Z/VOlyVpmvzsczTGsZi+E1sRsXEUrmpRYDmLOv4kJHzmVixpM6alubOcJYW4tP+CheNMUxJueUxCI20kAjWjTIlHuNvGsYpjHMtIwnKkQuYyOYxJojiluxsDAwjMmJEixIyWJCBhGiSSLGxwkmyARYgixMtGpszbFWhcI11IsUa5XxGvVPePnN1N8RYKyVQLWv07MALWGVMo7vaE63dn0b4dsGmJrZ6tR0VxSBKoFazAdXrM2Xvt2WnZbu7Nw+FLv8AZ0p3VcvUUNpe9hbNrcankJai6uzCWSLdUeYbO2zi2GSlglr3uVc4V3qXJsMzlmCjj8B33nT7P3FxeJIfF08NQFgLL0xcgc1p1VQX53+E9FG3aXuv+EfrB9vUhxv5GFWSptWZWz9wcBT40uk0sekZ3U8+oxI87zo6GHSkuVFVFHBVUKB8BM47w0u+Q1duoeEtQZDlZrNiJ877x77Y3GVWUVHRCxVKaErYXsMzDUtz1t3T2r/iQM8r3k3RKY41adXIlRjVpmx6rk3ZQwOhDG/gwjUbdEt1ucVtLZ9Wm4FX1ygY5iSwBvbNfUGwvbkQe2RphWsOwEAid1S9HuJr52GIpEm5LOahJJJFycpJOnOXz6NcSRYVqHnU/wBkvSk9ybfY87TC6XLHyEY1DxnoqejzHp6lWlbjYO418CkqVPRvj+xaTeFT/coipBbOLwOKrUXHQ1HRr6BCRc+C8Z6Hu76TcVQK08dTZ0NgHylHHflIAceFvjNOpuFWppkw+JWmPaIoqaj/AMVQNe3cNO6ZTej3G8Gro6E6hldQD2EcbEfvS8m0ytyXfDdNMQjbQ2Y/SK93qU1NySdWen25r3uh1425Tz/BYw++R8Z1m7VDauzauYYWq9O9qiIpdHC6ZkZdL6aHzmnv3uh0q/bcHScFwGq0sjK1zxdaZFw/vL8Rre7TaFJWc9htouvtk/GbmB222nXPnOGq4Kutr0qimw9h9eyx04xlDFsDlDC97WzC/haUszWzM3jTPWsNtptLtePxWFwmJBFaihJ9tQEceDr+dxPO6WLqICzBgBYaqQPMzf3dq18TUFOmt2tmOY5QFFrsT2DUecvVCS9SFF5IO4too7a9H9VLvhG6ZOOTQVF+HB/hr3TjXQqSrAgg2IIIII4gg8DPaK9Kphj16iXvbqliL8sxAF+4SvtHB4TGi2ISz2sKqWVxy63Bx3Nf4TCfTJq4M9DB9SlF6cq/J42TGtOt29ubVw4zL16fZVXgP/sTjT19q5Xv4kck1xodCOInJKDi9z04Z45FcWRtImMkYyFjKiY5WNMSBgZocrGwhCBDEiRYkZDEhCEYh8WJCSaIdFiCOUXNoFWfSOxsQRhKBBFhQp6300prfWedbw781alRqeCIVAbNXYBix+4CCAvHsJPEW4zhGxNRjYEgsq0+p1M4sF62W2bSwN+ImlVdqCL0agixu2hs1gbH3SQQSeOqjgLG0crZoLtHaCHP9sr3++pZPwtcAfCdlupvUMQ32fEqqViLoy+pVA7U917dnbY+E8swtMh3ZTYKtw18uUPlCkt2GzceN+c0AxKqysVqLZ1a2Vg6klXVewOEJtzF7aiXSexDbW97HtjYWC4WcpgfSVhGpqai1EfKuYZQVzW62VgeF78QJeTfvBMbCob96mJNl7HRLh4zE7NFRMjC4vcdzDgQewzMTfDC/wDyD6TU2ft2jWNkcE8r6yG5Lcfpexb2VgERSrOQb8tLa9vxl47Kv6tS/wA5XVuztHz5H998M5HCDySfIfbS4FfZlYeqVMgZMSnsX8LGWFxTj2j5yVdoOO0HxH6Q+4GgZ9vakgNQEu3BB7I5sZUr7YzoVYa9h5HsM0ft9/WRTK9WjQfjTKnmpj1JhpaKWzdp5FFNuAYsPDjb8RvNintQGYNTAHOcgLKALE2B11P5Tm9696EwYFNFFTENoqcQve9tfBRqe7jHa7CO8xW06bKydY3FrqL285x+L2A7KQmLzmwAXFUVqKeuWOZtdSDlvbgBPNsTjsVVu9fGVFPuUrqq9zFWVB/qPfLWz9sV6ABp16tTRzlqMWDNbqLlZmAAPHKVY3HLVq1wQ6e7PXMLuvgWpAGhQJVRnCoqqWtdjZAtiT9BH1NzMD6y0qgP3MRiENu4LUAnO7vbcp4xeoclZFUuoJBXMNbHtW91PIi3K7cbtatgus5d6d+q6AEpf2XUkfAjj8IJe5TL/wD6f2ZUbo/tNZag16N8TUVxcnUU6pvqb621lwbh0BwxWKHIGohHkUnLYre/Z+Npinigjg3tnRw6kaEhgLoe8EeMTY2zUZguz9qulvVpdMjDwHVYN/Mt/GUm+zJaXg73CbtJTFhVqZhwfNr/ADD1T8AJy+2/R+jO9UYenWZiWbK1SkzMeJyBwhJ7iuus2VxO0KIAel0gA9ZcpY27bJ2/yx9HexQctVGRu0MCPy/IRNN87jjLT/bscVs3d7Y7VDSxNJqFX3XatTPwZqhBHfYDvM2MV6INnvqlTEJyyurD/UhPznUYtsFjKeSsiOvZnA6pParj1W71IMrbJ2BVwhIw+LZ6PZQrDPl7kqg5lHiG77yWl4LWSXk892r6GKqgnDYpX5LUQofxqSL/AAE8321sTEYN8mIpMhN7X1VgOJVhow8DPqmliA2lirDircbc9NCO8XEyW2OlbCnD4tFqrdwb8SC7FGB4o4UjUcCOMnSNTZ8swM6ffndN9nVsty1F7mnUNrkDir20zDTxvfuHLxGl2JCEICY2LEixkjgYsZFBgVY+Xdl0c9QLpcq9rhmu2RsoAUE3va2h1lC86TcTGUaWMRq1gMrBSeC1NChPLUeZHZENvYkr7L6DFJTYknIXbTVSwZLacjbXuiivlrK9QotO5zpUuSyu7ZgaSgt6pFiQOAsZt7epXx1NwLipTqIve6q7oL8yxS05vEUkp2z00ao7Gy9bKELZQzANbXst/aUtzFmqr02ommrZkChgqhgXys+SnmYBiuc6AklSTzAlLZ6VXqK1RGS5ClihVbM6kG3E8SPCwlABS5JzU1LMFYXbIUI4g+utyL9v0m7sSkwfpqrZlpqWzBiytky1A6+7dkVSNDdhcC5s+CWrTTOeTAVKhIprcBynEC3Agm/8XynTrs5AioUDBRYXUG/M8OJN5R3dq5adSoUd+voEFyCVW5sNeB7O+XW25Tv1ldOeZLW87GS2WjI2yiUwEpplqN7pIsvMgG3d58p0O4uET7VSBK3XW/AllFzY8za1uRM59ClV3cuGYt1Rr6vBQCdBYcfzl+ngE0JfXjYA2B7Ne2dWLFqi67nB1GfTJez+T3F9NeXHw/txgZ5HQ2jVpg9HiKnDgXcj8J0mhR3qxa/5yv8AxKh+YAMT6KXZocfqMHymelkRLTg6e+1cWz06bd4zJ8ySBLtLfhRpUoMP4XBv4AgafGZy6Wa7G8etxS3v/B1ruFBZjYAEkngANSTPLNqbxYirUZkqMiXOQAkWX2SbEEntM6Dbu8yVqBp0lcFyFbMFHU4kCxN76DwJnKNgavRmotNyi3zPkYouX1szDQWmNOLp8m6kpxtbryMTeraFDrNULqOJzAiw5hhfu+MzNo7S+0VGxJVgz2UDS4BbLoebE2vyBhtSpnoaEdZ1S44cQbypUrrTQKQCcg0IuDZFtfuzMT8JV9yGuxTxlQkl0ZgFOW2mZGBFspHC9rgjjYyxWZqdSoDxUnpAextFCHmb8fA8jfc+zU6DipmAIJZ1ZlKNlZSLUiMxU9UhgdCo4cZX29gxUYGmyAkjPnc5mbKFS5t12tn7zqddTAohw+0Ww9SnjKY6w0db2zKwPVY94DC/NVM9owtWniaavTqKQ6K2RgLgMAbOvYddQRPC6SoaVRUdny6liuUXzL6oOvsnjzlrY2Jan0VZCwZD2HRgrWsw7bgfOU33IW2yPU8futTbVqCN3r+n9pn0NyqTPmRcjKdLsoYHmqsQb987ahVFRFddVdQwPcwuPrPIvSBvQ1eo2HoMRRQlajqSM7DRgWH+WNRb2jfjpHr9h6e565sraPRqKdSsXZdMzr1vAspIbx4zQxDUKwy1AjD72hHgTqJ8qZF5ecs4fHVKelOpUTlkqOtvgDJsdH0Fjd1cvXwzkj3CbH+V+B8D5yhhsRXptlDMCOKMLW/lPCePYbevG07ZcVV096z+ZcGatHf7HEjM9OpbtemCR33Ui30lavItJ3W8vpH+zHohTD1VsWJYqKZI0tbUsQeGgsdeNjW2J6W0eoq4mnkBsOkUnLr7662HeDpynltTHP07VWyu+cucwBVi1ybjhbX4acpXxuI6R2cqFzG9lFgNAOHwkt7lUqPpDevd2ntLDGmSAT1qb2vla3VYW7OwjtBPjPm/bGy6uFqtRrJldT4hhfRlb2lNtDO0wW+VdMFTpnEBVVGQKhvVIDEKdB1BYgZmZeGgNpzG28Y9WmmarUqAMQoqsGZNBnAfiVJK/vUyyosw4kIQKCJFiRkn02iLYdVfJZJ0acSiX55Vv5zNSrp2+UlSp+7GIC8tKmDfo0/Csd0dO9+jS/PIl/O0p9PztHrVHOAEe0NjYetY1KeoZXDJ1GDqbq114kEdt55jvXu50OKVwVVc6sM3VVkVgePAEAW10tYEggZvT6yBvbde9WI+ukxdq7uriEKVMTiMp1y56bAEdoDIbHvFjBCZ5Z9iJp9E7IoUqytmDZswIqZVU5iCxuDw0F7dibS2hTSl9no8DbO/aba5b8yQCfBRwE7Ot6OKZFkxVVfFVf5DLM2p6Ln9nFqfGkV+jmVaJp9zhaeJdRlR3AJvZSRcmw4DjwE3DuvtKwb7PWsQDowJ1+6GuDNin6OsbScPSr0g6m6sGqKwPMXTQy4NhbdT1cZf/vMf6lisZyFbY2NX18LX+NJ2/Iyo1KsmjUmXn1HT6ATuKmB3gH+ax/hqUv7Sm67fW/WxB8Hpt8gTBMGjk02k3vMP5j/5XlhNrG1s5/CjfTL9Zq1sbtldHXEn+KkHHzQiZeL2pi3VhVRSDxzYakpHeGCAqe+8tZJLhmbxRfMV8FintggesvgyMv8ASWjv+L306pv2BmH9agTnQYBpX3p+SP02K70nV4PbKqApUgi+qOj3J7bEg9vYDN/Db31Ew74amyhGV1JZHzgODmOY6X1nm2eF5i1btnQm1HSuDpsan/tmKnNldWvpzW/DxjcSoFNawKBh0YUvmbLnS4ZVVSCc1OpqeFtATwwBWa1s7WIsRc2I5ETb2HtFBlp1FzqLdS9s6hw+UHgHDAMvYesp0aMT8kmNpJTL3LtUFPO+X1f8QKqh2Yh2PXBII4ac5SDqAFqI4BtUXrjrAjTR0IYdU+Vpo0dlYipVqMgOIWotfr0xfrsjOodPWptmC9VgNbWvoZdfZpymniw1LomApar0jIBlqUwt+qlxcVG6oN7XzWL9gKFWy4bPck1O1lCMwznLcAkew4vfl3XZspf8Je8t/Uf0lbbe0RVYBAAiiygaDQBeqD7IVVUX7FudSZHhGeogppRqvkHGkXPE3uVCkdsTEj0DDbyV1wJw1Gi7VACgcFbIjE8PazhdBpbgey0872jWH/TUZVU2I+8OPlwlmmuIpepSxC88yOfyEUYPEP1jgqjX7RSqWPPXKe2UoprklyknxsY14omq2AcevhKy/wDbf81Ej+xKf8usvijStHhoWt90zOl/Y9ZUqHMQAVtc8L3Fox8PTBtnII7CpuPHTSTYOjSBOdlblrltBY23Vr5B5UldP4Itqp/iEi1mAPyt+UpNNfGYSkwBpt6otlBDEgknS7DtJ7ZRWgoIzZvAhR880Usbi6COVNX/ALDJZF55b/6mI+VpJtag5ZclN8liy9VtMzE2+Gg+E0MDs41alNU1UlVYixyKCAzNY6ADrXJ5z2PdfaNMp0VF2ZUvYvcMeZYWFgTfs+sHFpbjjO3sj57OFqD2G/C36SIi3HSfVHSntjWseKg/CZ2a2fK5MJ9QPhqZ1NJD/Ip+ZEr1Nl4cm5w1Inn0afpCwMmlW04iTBrjT9/OZFKq3vjh93/bJ1rn3r/H9LQA1EzjtPneS9KRxI+ImOHB4i/dmv8AWSJk923f1f1gBqjFLzX5RDi1+6fP9JRR1+98j+ceGHf5QAt/auS3i/avuedrfK8pl15f1QDr3/DNAC2MQ3JR8SflYRwqnmPgD+srKy+984odexoAWGfvPyhoe0+Zldqiji3mbRwrr7w+UAJ+jXl9P0ilO8/L9JD0gPD6wue7ygAPhkPrKp8UBlPEbGwz+tQot400P1Eui/P9+cW/7vADGbdXBNxwtL4Jl+hEp1NxcC3+Rb+GpVHyLETpsw/Zi5hARxtf0b4NvVNZP4XDDyZCfnKj+i+n7OJceKD9Z3obvETpSIWBwf8Ay4qA3GMRrcC1EMR/MWvKmK9HmMIsMRRK3vlCsgJ5kKtie8z0UVh2/v5RemXmYWxaUeTVvR3jhwNFvByP6lEpVdxMeP8AIDfwuh+rCexmoOZ+YgXPP5/rCx0eNDd3alPhSxC/wsfllaSBdrodPto/mqt+ZnsBc+9GdIed/hCwo8rp7R20nbiv5qZb+pDJ6e8+2l49Kf4sOp+iAz025/d/0iZh7whYUeQ7bxmLxZDVsIM40zpRqK5HJiDZviD3TGOBqjjTceKN+k93zd8XpDz+sLCjwrDUgrXq0XdR7Kt0d+4sVbTwse+drsrfmlQQU6eACIPdqBiTzYugLHxM9CD8z8opseJgI5Ol6SaXbQrDw6M/+Yl+l6QcKbZjUW/NL/0k/Ka7onuj8P52iqig6KPJf0gMZhN5qFSwR2JPNKg+qzWFc27vCUVJ5CPBPLy//YDLPT9/yMYa/hKxfn+/lGFu/wCX9oAccr6R5qNyPdrCEkZKrnib3kyYjxhCAEi4rmCbcbR4xgvwP4jCEAoVcaDz/ffHrjB+9IQgKhftR7O3vifaj7xHwvFhKABiz7x4co8Vz3eUIQGOWsPu+UcuK7hCEBCmv3D5QGIHOEIDFFcW4nzP6xDiANdfNv1hCAg+1DmfP9YfaRzPnCEBh045mO+1d5hCAg+09/mDHCv3jyMIQADVPMeRjXr+H0hCACLV7h+I/pF6Ucv9R/OEIgQv2j7vzERa45H5QhEMY9QH2mHlAKCbmo3foR8xCEBEyMg7T8bn6yXOPf8AkRFhAZHVxap6zqL8Lm1/DnIW2iDoBfx6o/1WhCUIQ4ongUUd3WP5WiX++x79R8l0hCAH/9k=\n",
      "data:image/jpeg;base64,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\n",
      "data:image/jpeg;base64,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\n"
     ]
    },
    {
     "name": "stdout",
     "output_type": "stream",
     "text": [
      "data:image/jpeg;base64,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\n",
      "data:image/jpeg;base64,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\n",
      "data:image/jpeg;base64,/9j/4AAQSkZJRgABAQAAAQABAAD/2wCEAAoHCBUVFBgUFRUYGRgYGBoaGhoaGBsdGxgYHRgZGRkaGxobIi0kGx0qIRoYJTclKi4xNDQ0GiM6PzozPi0zNDEBCwsLEA8QHxISHzMrIyszMzMzMzMzPD4zMzUzMzkzMzMzMzM1NTUzMzMzMzMzMzMzNTMzMzM8MzMzMzMzMzMzM//AABEIAKYBLwMBIgACEQEDEQH/xAAbAAABBQEBAAAAAAAAAAAAAAAEAAIDBQYBB//EAEcQAAIBAgQDBQUECQMCAwkAAAECEQADBBIhMQVBURMiYXGBBjKRobFCUsHRFBUjYnKCkuHwQ7LCFtIzouIHJDREU3OUo/H/xAAaAQADAQEBAQAAAAAAAAAAAAAAAQIDBAUG/8QAKxEAAgIBAwQBAwUBAQEAAAAAAAECEQMSITEEE0FRYRRxoSIygZGxI/AF/9oADAMBAAIRAxEAPwCROJ3LZzW3YD7pJYEfwtpRae01+Nk/p/vWbW/T+03/AM6Vk8UfKO7uXujV2PahwYuWww6rIPwMg/KjD7RDlbnzNYkYjxqZXaAY9YGoNZy6eJUckfJsm4+p/wBMz5iojx07dn8/pWRGIbTTnRNotvIH+fWoeBI1hki9kjSHiwk9xvitNfiTcreniwn5VSEEj3huOXnzohbTciI1BMbbSKlxSNYxvwWScWM6pp/FrXBxV/uD+qgbdgAkSSf82qVLI1kGk2kaLDZO3Fm5Io6y2/lFSNxgD/T1/jH4CgygOgH+f5NRXrYB3oTT2E8XkO/XXVB/X/auPxuP9OfJ/wD01VFtDIoe93T3T/etIxTMpRSRoLfHbcw6svjuPlrV1ZggMpBB1BBkEV51evzJNXnsdjDne0ToRnUdCCA0ecj4VU8VRs5pTWqka8GnTUdOiuVodjpphQV2KQWjZDtnMgpdkKfl8acKLFbIwgpwp4Wu5aVoW5HSp6gUiRRqCmRkV2KeI61w09QaWNiugV0V2KLChCuzXIpRSA7mrhpRXKQCpUq5NAHTTTXZrk0UirZ5I1wwB0mmBqlYgjLJ+QP5io7SZcxVjmIg5pMflXo99LwYvDKyw4aLY/aXNgwHr1qo41jrguMjHRZIA212gHQaVImBuZdHETLHWT03Gg8KecIHP7Rsx5akQOm+tYSactTew1B1SQuB4h7pCQfD8SaJxXELdu4UaR0P10qfCYEqw7MgNBiDyjoKFx/BDImC25zZjHoNqTzx1Vexaw5EtkWVrEA6oe7oRsZ8422om3jxlg7zJqlwOENvNdJQJAWQrALOx003pO91WGYgq3KDz2PhT1wlsaruR3o0v6Yu8xAobEcZEQon5Cs9dx6Aw0aef5VJZvI4lcvxP5U1jgt3ZTzZHsqLFuKOTpAqRMYze8AfKqW9ilXmOkgyJ+FS2MQxjKFMkCc2lW1GrSMlkndNl8WEHx2+FR3iCD6fSgOJ48pc7MLIVe8ZjXrJ0jpUS8R09xo8CKzhTVo1eRPYV/QzUeFxjW3W4hgqfiOYPgRIrjX7bbsU81J+k1ImHt6xcR/w+czXT3Ipfq/w45Y5N7f6em23kA9QD8RPOpFFYvAYrEhMq3LYQKAoySUA0EaiSfGjLnHbiDVVMCDoRLCCTvoD0ivNlKN0mdKwzq2jUZxTy48K88bjOKVTcuOUBEKuVZJJjbXbXWjbfH7mQHOsCJOUSfemR6DTxpSpeRxi5OkjY9uKfnB20rK3uMX2BCBEaAQShOhYAGJOm9Mx3tN2bBWymeYBgmNRoalNS4CUUnTo1ZcVwmaqMLxQNbFxmVQdTqNBrzpx4mJIAcnllTT0J3qXkin5LWJlwg8fnUV11USxAA3JOnzqovXrxEqra8mcJH9ANB/o1wgm4RA6u7eW4FHdjyWsD9l82LthQ2dcp1BkQRTTjrWk3U12l1/OqK3w6Tr4bKw68zNAcU4YuUkj7Wkk7Rr9OfWnHPG6Y30zrk1V/iNu2C2YHbbXcxyqS1jkLZVZc3SRPwrybieKcOQDCqIkCDAhRsBzG9VtrGOtztFd1O2h1+IiuqGFyVnHOWl0e5BzSN/LuQPM15BZ9prqfauGeruPo1QYjj95zLHNtqxLEepo+nkwc0j2H9YW5Ch1lojX3p1EdafdxIQEuYA5/wD8rxROMXCdZkbEAAgeBiiX44RbNsIZYyXJ75GmnlpRLp5LgO5Fo9Gu+1VpbhTKxUfaEayNAB8afh/amw7FRm00kgROuh18B8RXljcQAnLnEqFbMScwiOcx6U7huP7LmDO5JPIggbeFLsSoUZq9z1bDe0domLhW2dffdV0mBv6VZLjbbaq6MOocH5g14/jcWlx5JIGhUq6HKdB3g2rDwqbA4i2qABlzKzNqu4YARAOkRI8zR2nV07K1K6Qv0khpe5aB5gn8I0qezxKyDJIc8goMfMa/Gq3EcRtoItIIPOJYnzI+lPwTuxBuSFBkwMp8hyreUE1uqIjlfCLDEcUtqCWRjm2X3R4SoO3nUGF42tsnPaJY+7sAvpUHF8cjgIiFWnWYgDzAqqK5ZLnTll/GRShiTW6Ilk32Cr2PY3O0UZWmZzER66VdWuPd0dpcVj/CT6TGtZ1LUiQDXDaIrSXTwlyhQzSjwzTYrj1i5bS1JWHDOcpysAZA19KsMZibVwBrRU6bAgZfSZrE2x3lnTUa8oqfiSpnyqFb97eT1BFYy6WKaSs2XVyp3TLXG4UNqEmdyI39KkwHCkLS2ZOoI0OvKPxrPJZ5TlHPUgfKiu1IkpdcAbAMxn4mtZwko0mTHLHVqaNJdwC9mV0JLGFETvoSTt6UNa4GVLMtzQCSNgY1IP50GMZeIyAEPIJMqRlI0Hf5zVrbxq5AGfvNmE6ch4bdK433IrZ8nV/znu6IcS3as4XKWKosZj3SAe9IGooOxnRchQnIBJDZifACn4VO0YlbirLAancAd7Qcpq4xd9cMAAoLmWLDSem29LXpdJfwZ6YVdlTacZouKVA3nKPScx19Kjy271zLaBUL72Ygn5EED+WlgOJdpcCOSwkljsN9BA5VpXFkW5zKFmBrEddJ5055XF7p2VCCmrTVfJT27dy2QEdQpYyM7Tl8gCDB5wKmvm4zdnmcqupYW/emco5E/wCbVDa4zbS5lZdCSMxXNJO3zjQUbg8aoa4rgqRBIOWQm+waQT5VnNy5ouCTVagLidm5dy/tCpjvLlA1E+6CxIkVFgLT2reumbUMzrEz0npzG9X2Cx9u8wa3qAxPun7uUcqD4niQGSwqB37zBVZNgGAljAGtRGcv20X2YLdMZiuLXAQxUIpBl8ykGftEbkeFZ/E4m17rXC53z7gmdDlPLwBrUsLl221u9ZFsZDqrqSYHIRpzrF37KBoykaAAbljAjf8AAV0dMou01T+Dl6iKjx+S+HHZsLZQFpfUqYEnbMDy8YipuD8V7FXQftHLnVc2vgSd9AazaYVROYsjzpoRpznnNQuWRiDcYweTNy23rZ9NB2l9yI5nF3Z6QeLM5TUqCAWgzAgkzG2sCh+E4wNaZGuEuHZiCSSBnJUanpyFYrhuKKyrMQranXcxpI29asMEXe4sLAVDBDjZRmOsRtOm+1c0+lSTRvDqW2mejI0L7wmNv851R4y6WMsTBZoMae54+APxqg4WwuuMzazIlo1HiTqa0V/FWz70HLuJ0mImDzrmeHTKuTpjmtWYHizqbhytKnY6/e/tQly3lJWZg7xWpx1+yhzJaUnXXpPht8qpMbhWdlK/aUNoSQCeW2hHOvUxTpJcL5OHJF22VhOu5phaetEXMFcG6n1FJME/SulSj7Od2NRTy1rr4dpk0bhbLLyot7bERFZyyUylG0UDLUi2ieVWi8MO5qf9AaIih5V4BY2yjayRTktsdgauv0FulS28Nl0Iio7pehj0wSDZfmfzrjYG2x1AnwY/nVW+JzL/AOIST1BgeQANCm3GoaT4ZvyojCT3bY5SitkkXw4cn3Z9TUy8L6W/wqht426NA7HzJNHul1UV2uEM2yCZjzmlJSTqxpxrgtP1V+4PjNQYnCJbEvC/GuWL9xUDXWiZy6yx9OVK5YfJ2jISN1UnWfvGT8qxWSalTexbWPTa5K649j7x9B/ehbj2/slj/L/eoWS7caezaJicjR5bVYLwNwyqzoGbZQZPqOXrXWp1yzmqL8AwW2V1cDwINEcLwtvtEKsDBnVW1g9aMTA2rZIADkfbuGFnoLayw/mHw2okcQuKIW7k/wDtpp9UPyq3FyRnqjF8FfxW3cuXe4j6n7KMdPSpEwF62mlu6R91bTknrJC0SuKuOQpv3DPPLAA5kjtDIA135VW4i8ysVa45ZSQSNBI0IAJ2nnNKPTuqvYTzJO63LCzwpj7+GuCfd7jz6kaD1ojHYZ7ttM1txl7oIRgco5Qd6oP0hv8A6r/0/wDrqRcdcHu3nHmzj/bmpPpW3dj+oXFDP0HIZJZEnVoHw33qccOlx3XCE8ok/vamB86cOL4jY3M46MQw/puan4VYYTjAudy7ZViu2WbbA+SED4iiWGaVoUckG9xFBaKslsSJylixPnJ0J19PCnYDANcuPcuJJcQS06mByBirFMVbzDW4p+7cUNPkya/KrGzeJ2AP4Vw5NUfG78ndjUX529Ea4QIuRUUDmFUKDoAZAqOzhcrd3KswJCCYHL/BRZuv92elCZ7qmYB8CNK5lGTOlyiuAsWzz6bHfwPjTLXA7WbOyguTJJMmfCToKri93NmYgySSRmmI90A6VEeIXduy57l9Y5azpTWKXhk9yL/ci5u8EtNrlFV2J9nV+yKmXiLqPdkzAg6eZ50rXFblxSAmUzEkwPGJ3pw7keGEtMtlH8FVieBCDCyfh4elAYDhxzsNQArTG3SJrRXmZxldxHRQd/OaYmKtW0Ks2kR3mVdJJ5+dbrJJJrkh9NKTuqKHCYfXLbGv8WpPI+VXK8Icglh3jvr4b6eVRfrvDKdDbnwOYjyy05/aafdVz/DZeP8AzClJzb2Rrj6dJbtf2RfqQzq2nlRP6IV90D86EPGbh2tXf6UH1IpuG4wykIyMATswkSf3wSAfM03GUuRSxJbpjMcrk62wAOkn1nr50sGhOkQehqyu4xB9gyRO+np1+VDfpZnQKPSmm6qiF07luiW3gjvE+lEWcDmO0RVvwdlu25AAYGGHjyI8DR9nBEEmuaeVptMpYa2ZQXMGF5TUDW+grWfoincV1cMi/ZFSsxfbRmcNwxm+yZqyPA5WNAavFcDlTGxFZvJJvYah4o8kw1m2B3VJPiZqO/hyx2jyH5V0tbUSXefBY/GpOGIbrmC2Uc5/tXrbpOS/J5nP6Q/huEuIDMZfHepbTqWyiB6Cj0sEjKpJ01quxtgWnANslyJGpmPARXOpyk9zT9uwbi0XuyFgHpqT60NisQXYZwcg6Hf51X4lMTc7qWrpHgjx8Yq3wuG7O2BfIUx7sS581kZfUz4VSg9vLJc0D3MWoZQ4dUO0kxy6VYYHg97EZ3sW1OuUGcukd4y2pgED+frQmfDQWbtGC6+8mp5AAqd461BgOPurdwvbtxqqvDOeZJQKB10HLnW0ME1ukZzypqrL1PYHFxLtYQeLsY+CR86ruM+znYWnf9Lw7uoEW1aXYyBA708525UHi+LWnOYhyepcMfiyk1A3GBEBrv8AWP8AtrojHJ5f4OduJDwAu15y6ZUQHK7AjNqZ0PVFuGOWlSJwW2dWxtkE6kEgGfGW3oR8UpMkuT1YqT8Std/TTyd/88orapGe13ZYp7Mq3u4m23lB+jVBxH2ae1be72isEWYCmT86iFi8wns7jg7TaZgfjIoY3CJGVRyIy5fMHLFCv2OkV/Dle9ca2ig5ZlhmywGAnvAETOgIBNX+AtG3jbat72VQSOsFAfkKEwuLe37ug6Bm+jEik+KuG6t8hZQqQIMd0yJo3ppiXNmyuHvCdQdd/Q/MGn2XCOJ5yuw33U6eoqqt8XZgAynJoVHdJU6zD5QSDO35CibhNwgrK7E5tZI22HnXBkxtqmd2OdStFwboHKhrrknnTOyaJPxmoxIM7+ZrhUaPT2a2CBY01qM4YTpSGIJ39Ip9vEganQDUk7ADUn4UfqQ6RW8SZ0It2wmciWZ5hV5QBqzGDppAHiKrzhbh1fEP/IqoPoT86rMNx27iL+VAO+zPIUyi6hA06E5FTbqOc16VhvZJIRnuOfdZ0IWCdCVkD3Z08q6dEopWKHV4aaVt/gw36tQ+9nf+K45HwzR8q6MFZXXs7Y8YUfM0F7SXLxxd2xYV0AuFQCwGVRI2HeIbRhB20gzI33BMPhsPaHam3nkklsrXACdASJafDlMVbg0rbF9dByrHCzLWlzf+GrN/AjN/tBolOGX22sv65V/3MDWqv+0tge6Xb+FY/wB0UHc9oWPuWHM8ySPop+tStK5G8vUS4jRTDgOIP2EHm/8A2g1BiOAX4Iy2zP77f9lWd/j977iLPU6/NhQ78SvtuyjyUGrjPGiXi6qS2aKXChmDWnEXEYiJ+0NxPRhB9RUiYUkbgH7usz0NSvBuG6xJcgDSFBicpIA31P8AgrqXbZzlpB36zyj/ADrUv9T/AElxU8Mbl/5hfAMWtoi4SWR170DUdDE8ta21u4jKGUgqRINeeYe2QsAqRmYzJ072q7bgz02q/wCC3yFZCdjI9a4s+O3ZlCbySp8mhd4qPPQou0mvisdB1LHQQ9wRQrGmNeFMN2rjCjSMVE8u/Ut793+r+1WOB4XitFQgSY97mau7S6wYPqfwooXTbIdbY7pDQecGYrulmlweMscVurGXuDOLZt23LOYJLjRiCD3RPdEjff6VQYPiuINzs2dl7xDCdiN56nStdxH24wRtdpbQm8VIVQuXISCMx/eEmD151iMBbJzYi+62kLs2dye8zEsQijvPvMKD412Yk1FqSX3OXJTaab+xtb3tEtq0UtCXO7kkkddevy8Kx2JxJYkkkk86fe9qeGJotnEXyPtOwtqfIAnTzE0zhvtTZvXrdm1wy2WuMFUG6TqdJJyDQbk9AaqNRtolvVycxuGcWkIVspzMWgxMlYnwj51XKNBrW4t+01i5iBhsqBzmtqqqVQ6gqwbL7pCAKN+9rGtZLGe0WGt3GRsDsWBIu6hgSGEZOVVjzWt00GTHpezTXwBMlMU9aOTj3Dn0Nu9b8feUfB5+VFWsDh7/AP8AD4hWY7Ix7x8ArBW+ANbKSfkwl9mD4C2HYLGYnYdZ0A+JA9a0+I4KQuVMmcbgBgCemcGT9KzCLcwt1WZe8jo8cmCOrEA9dCNYNemXeO8Na2MR2g7okJJzFoPdP3d9dQKwzSkntwbYoxa3/B50eI31ZrbMyspIIMSCDtmiY9aiDk7wfQVW8X4m12+9yT32B6bAKDA6gfOobZZiACSSQAJ3J2roUNrqjNvem7o0KPG4A+VNfFoN3H1+lVRsRo7AEcjJg8xpXMtsbv8ABfzqNN+S9l4LZeJWx9onyBqQccUCFzjxAX/lNUqm0ftP/SPzp4FrmX+C/nQ8cfker0X6e1TKuXIXHPO+reehmjeCcRN/MGUBgZAEnuk6fDaqXhXDbVyXJfIpjLoM5iSMwMgCVkxzAHUXr3MqhUARJ91BAjxjVuWpk1w9Q8auMVuer0fT5prW3S/0tLdoDehuM2s1o21n9p3WZYlUIJY+EgZf5qAe5roZrmeRE1xaWndnpx6dMMwh7Ah7du3bJ9093SNJTtWMeYqz/XN0qS18xpGUWRPWCpY6eQqhuMftTPjvHLflUJI8KJOUuWNdLFLZJfwWOMvqxJLXHJACsWkr6tHhpl0oY4zQZbaLAA1OZuepyga7cyNfOhpHT5Ui3gflUqPtt/yV9OEnHXDu58hAE/X1qIuTuSfMk/M1GrwdgfAkx8orgOoBIEkDoBJAknoJqlFeEUscY7sIFwDSm9oX7oj5fNj9BTMY9pAVRg7Ge9BIXQwTOhMxsOe9ViXToX7zL7vKB6V0RxJbtnFk6yT2xxde2G4olWykifD+9CF6Zev5mLHnSTU1UdluZzlKXI7gGJJRxyF+4DrtqW/H5Vo+FXj2jgkRAj01NZLgdsp2wbUMVuKB1LuI85QfEUUvESlxDyzqpJOrBtDI5Rt6VM4XJo48U1GmbV79QPf8ahZ6iZqzUEdksrChfpC5QymnhqrSiVkbKqCPCk7k/a+dDIg6TR3DsK924ttIDOYEwBoCfHkDWrijiv2ZvB8KLNnuK3YqWLsOYU+4DyZjCjpM8qrMRhb+MxDF/wBnbQasVIS1aBAVUXnuAFGpJ15keiYnhGKw1tkSyXfOWVwylBLZiGtusnSRoelDYj2gxq74f/8AXb/ECt5ZG92vscumPhmMfFWLBK4fAC7l/wBXEB3LeIVCqKPj5nerHh/HsQbd5jh7FtgmW3ls5Dmec0E6nuB13+1Vs3tdiQe9YgdclrSiP+qrvNR6Yct/tBqW78DSryYtfaLESCMJYBBBBFhgQwMhpB3B1mr/ANpuJytrFJhbLjEJmcOjlhfQgXVOVhGhQj1q2/6nboP/AMS5/wBlcPtKx0kR0/RbkT/RRq34YaduUYwY+w+lzhxWd2tM4I8Qrhp+IpX/AGbS7ae9hWYi2Mzo6FXResahh4qfStp+vWPNPXDMPqlMuccu/ZVH/htL+IqtZLh8me9mcbfusMLirbvaYEC43v2OjBm99BzQzpttBWL4BdV2y5XUTDA7gAkkLq2wJ2rSYfi+LMFsOSsGUhEmVIjMJ69DT0vYp/cwNtZDCWdm0ZSp0SORPOrjKfhf2JrH5f8AR5/cTpXLjELA3PPoOZ/zrWlxXsy9vvXLlq3JMKS2k8gJLEfE1Ri3kuNMHJPkSui+hbSuieRaaT3MYwbd1sCYvhNxE7Q67ZtZYTsTRXDbaXFm5cKx4T11+nxqTg9xnd7bsWFxGOpnvc48I1+HShsNbPZ+p+OlZY71NWaTpK6J1FoT3nP8oE+pbb0pZ0+6x/nH0y1GmEdjCgk9ACaKs8Cvk+4V/ihf90V0vSuWZpy8IveC3R2YgRo2kzrmNXOJKC2jZRB95sxBjWIgxJis1gwbf7MnvIxBg+Tf8qNOIXpHpXz+V/8AVv5Z9bjjrwQSdbIu7Fu3d0VVXQasxBg8wr6/5vVZA/w1X38YANNarsTjbqjMwOX90Ax586aVqkKM3jbcnf8AHBoWcc9fMz9aYboqgtY+4w7tsnxlfzqQ3bx/0o9V/OrWKXoH12Pw0XDYgVG+Kqnd7vPIvmwFDXMUPtXk8llj8qpYn6MZf/Qj7Lm7jIoMYu4x7oBHPX8etQW8Hm1YvG8Huk+YGoHnrRaqAIAgDkNqTSQlklPd2jnbTodDTgabdSRPMfOhJpW2NhwFPVwu5qvzHrSBoohjuBYmbjqdsrOP5WJP0ofimIgKC2oYGJ2iSdBtrFB8JvlXzj7txT4ypP40NjwAViNABHOAN/XWuzT+pM8jVUH8nqtp5VT1APxFSRVfwjE5rFtuqL9Iol79cErUmj04NOKY9zULNTTeHUVE99QdWFC1MeqKBxXWQkfnREU0tXTqs41EBb2mxFpivaP3eWckf0sYri/+0G6D37g/mtr57hap/aEFLmaO64n1AAI+AB9azeNhjPX6/wCfSrhFeDCcqfCf3R6Knt6DuLR8xH4ipf8Aq603vWbJ/wA8zXlgB0iSZ6T8OtbTAcLsrbUXFVniWk8zrEbabbcqck4+WTFKXhF8faHCn/5e18vyprcew3LD2viPyqpu2cLGtu1A/dUfhVXinwQ2tz/BmHzkCoUm+LNJY4rmjTt7VW192zZHofwNQXfbcjbIPJR/yrEYi7aPuWo83c/jQbEdPma2UX7Zg5RXCRtb/txc5O38oA/2igb3tXcfdmP8Tsayuemm94Udteg7rNI3ELlwTIUROnT1qG/IW5G8R/56jwd4FF8QB8N6fnzs6g6sJHmGD/QH40oqmOTtWw7gqf8AvFsc1R59U/OrPABbdtc6rOplgvMzu22kfCqzhc20vYhvsoyrPM9fjA9fCsoVdzLEk9SSfrWsluQpG8u+01u3oLo8k739vnVLi/aotoiMfFz/AMR+dU1nAmjbWEApKCBzYZwvHM5cvuSDtH7u3oKsu2qjuns2RuU5T5Gj0u1xZ8dSs9roc+rFp9BJMnWj4kVV9sK4cUOtY6WdWpI7iMAk+8yHqhIB9NhUlnhtmO89x/O6fwAqE4wHQmmyp51rGckuTnnhxSdtBn6BhU17JT/EzN/uNNbEIultFXxVQPoKEOXrTHxCim5ylywWOEN0kg21dAktqTTTijyAqrfFVA189aSgDyIuHxR6xUBujrVY16o2v1SxmcsyXJatiBQ+IxUKfKq1sRUT3Cd62hi9nNl6pVUQ3hh7wHVgP6gyf8hVdcvs0ZiSR1+lEYa5lYHxB+BBH0qwuYRA7d0e8d/OuivJ5zl4L3gPEB2CLPuyKNbGDrWbR40Gg5RUmfxrN4U3ZsuoaVFuMWN5oS/jJNChq7NaLGkZyytmrLmuSabnrmfxrho9CyPF4UXFyOAV8eR6gjUGqK77MLPduMPDf61oDcFMN2halwyZRjLlGeX2bZTmW4ZGxyimXeFX594t61pC5rmarU5Il44syT8Nu81aoGwD/cb4GtpNKavuv0ZPAvZiDhH+6fgajbCN0Pwrd6UtKfefoX069mBOEPQ/CuHCHpW+06D4Uso6D4Ud74D6f5MELdxRCgmnWzdDAhTI1B6EbGt3lXoPgKWnQfCl3V6H2X7M1iMfeuoEcKqyCQo94jaahS3HKtV3eg+FcJHQCms3wL6f5M2qtyB+FSCw/wBxvga0OfpTZoed+hrpl7M3icJcZCuRtdtOfKqm3i2HdMgjTXw6+Nbqar8Twq07FmXvHcyRPwqHl1fuRccbg7izMfpM8/nSOI8RV7d4Da+yIPmT+NA3PZ08mHzoTgy3kyLwAG+Oo+NNOJHWjD7PP1Hxpv8A0/c/d+NVUPZDzZPQGcWOtMOL86MPArnQfGk3BLo+z8xTSh7IeXKAHEnpTTfNWi+z907J8xXX4C40EE89dB61ScPaIbyPmyoL+NLMKtv1G/OPjTxwE9V+NVqivJGmT8FJnpZ60Vv2dnmvzqY+zqj7QPpS7kfY+3L0Zm25kRvII86vHuG4xcgKW1gbDSj7HBUmAT5wKOThdoKScxPITHxil3oofZkyjCUg1aD9DtBB3ZbnJNGYW3ayyLaecDepl1CStJjj07bptGWSeWvlRVnC3W2ttHlH1rQXMsmOWmlGYEDNB2ifWol1MqtI0j00fLKntKXaUF2tc7Wii7Dc9dz0B21LtfGig1B/aCu9rVf2lOFyig1BvaUs9BdrXDeooNQdnrhuige1pZ6KDUG9tXO1NB9pXe1ooNQZ2lLtKC7Wl2tFBYb2lLtKDD0jdFFBYaHrouCgDerouUUFhhuHlpXA4FBm9Te1pUGoONwnSuFgOdCrcJ/zT1pty6BzmlQ9QSbtdD0AL1ShzzpuJOoNEbkwKal0HcafM+dAtdk610XKWgesv7aTb7QuFDMURQGLOyhSyiBA99fOanxnArqdqCUTsuznNmhu0MKVMawQR5gxNUNviNxAQlx0BIJyOygkbaKdSKZbxlxRC3XUclDsBEk7A6CWY/zHrRGCQnNsNxOB7N3VridxM4bUi5KhlCRvIOh28aPxXs+9u4LbXEln7NCM5Fx9AVkL3QCQpJ5z0aKG7imclnZnY7sxLE6RqTqdIFTHil5mb9tclxDk3H7y6iG17w1Oh6mqpCtlwnCLoCTCZ7XaJMy2oi2BGtwhkaBybmdKDxtlUH/iozFbbBQrgkXEVxuIAysCT10oJuI3FnLdcFpzEOwLFozZoOswJneBQyOSZJJ0AEmdAAqjyAAAHIAUqQW/Zom4Mwtm4jq4BtiAGDM1xUdFUEasRcTT+LpUmJ4PctrdLlZTffVf2ZBWRzFxfgaolx1xdrjjbZ2GwUDY8giAdMi9BTE4jcVcq3XC5SoAdgAp3UAGIPMUaUw1NF5xLgzWrd1+0RltP2bZTMvKggRpIzbGDo3SjOD3Raw4ugDO17skZlBCBVR2cKdC5zqATtBrNrxC65Oe7cafezOzSNDrJ11Vf6R0ovCcTCKyXFL2mYPCtkZHWQHRoIDQSCCCCI6AgaViTdGw4nhby4pMJiriX0vHKjDL2ttjojwO+sNEgkqRPpjlxR5USOL2bbNcsLea64b9rfdSyZgQzKqDVyCRnZtOk61VK4pySYRbRXdpS7SlSrQR3PXc9KlSELtK4blKlQM52lLPSpUCFnruelSoGLtK52lKlQIXaU7tKVKgY3taWelSoAXaUu1NcpUALPSFylSoEOa+dqjmlSpDZKnWuPcpUqFyIjVqcblKlTELPTDdJNKlQA43K4Hiu0qBiRqnV6VKkxHC9MzUqVCATPtTrlzYUqVJjRGLhpy3jrSpUDP/2Q==\n"
     ]
    },
    {
     "name": "stdout",
     "output_type": "stream",
     "text": [
      "data:image/jpeg;base64,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\n",
      "data:image/jpeg;base64,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\n",
      "data:image/jpeg;base64,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\n"
     ]
    },
    {
     "name": "stdout",
     "output_type": "stream",
     "text": [
      "data:image/jpeg;base64,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\n",
      "data:image/jpeg;base64,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\n",
      "https://encrypted-tbn0.gstatic.com/images?q=tbn:ANd9GcQ9f6l3b21g43zQ4Jn_TEE2k9acPnekr-edXg&usqp=CAU\n"
     ]
    },
    {
     "name": "stdout",
     "output_type": "stream",
     "text": [
      "https://encrypted-tbn0.gstatic.com/images?q=tbn:ANd9GcSbP8hxVs6H_h-3NogbQQ6C6uFh_wpVwpsniQ&usqp=CAU\n",
      "None\n",
      "None\n",
      "None\n",
      "None\n",
      "None\n",
      "None\n",
      "None\n",
      "None\n",
      "None\n",
      "None\n",
      "None\n",
      "None\n",
      "None\n",
      "None\n",
      "None\n",
      "None\n",
      "None\n",
      "None\n",
      "None\n",
      "None\n",
      "None\n",
      "None\n",
      "None\n",
      "None\n",
      "None\n",
      "None\n",
      "None\n",
      "None\n",
      "None\n",
      "None\n",
      "None\n",
      "None\n"
     ]
    }
   ],
   "source": [
    "imgs = driver.find_elements_by_tag_name(\"img\")\n",
    "returnImgs = []\n",
    "for img in imgs:\n",
    "    returnImgs.append(img.get_attribute('src'))\n",
    "    print(img.get_attribute('src'))"
   ]
  },
  {
   "cell_type": "code",
   "execution_count": 156,
   "id": "f4669981",
   "metadata": {},
   "outputs": [],
   "source": [
    "import urllib.request\n",
    "import base64"
   ]
  },
  {
   "cell_type": "code",
   "execution_count": 168,
   "id": "9203f1c0",
   "metadata": {},
   "outputs": [],
   "source": [
    "elements = driver.find_elements_by_xpath(\"\"\"//*[@id=\"islrg\"]/div[1]/div[2]\"\"\")"
   ]
  },
  {
   "cell_type": "markdown",
   "id": "47ebe7dd",
   "metadata": {},
   "source": [
    "# 4.Write a python program to search for a smartphone(e.g.: Oneplus Nord, pixel 4A, etc.) on\n",
    "www.flipkart.com and scrape following details for all the search results displayed on 1st page. Details to be\n",
    "scraped: “Brand Name”, “Smartphone name”, “Colour”, “RAM”, “Storage(ROM)”, “Primary Camera”,\n",
    "“Secondary Camera”, “Display Size”, “Battery Capacity”, “Price”, “Product URL”. Incase if any of the\n",
    "details is missing then replace it by “- “. Save your results in a dataframe and CSV"
   ]
  },
  {
   "cell_type": "code",
   "execution_count": 186,
   "id": "03896923",
   "metadata": {},
   "outputs": [],
   "source": [
    "driver=webdriver.Chrome(r'C:/Users/RUCHITA/Downloads/chromedriver_win32/chromedriver.exe')"
   ]
  },
  {
   "cell_type": "code",
   "execution_count": 187,
   "id": "178d869a",
   "metadata": {},
   "outputs": [],
   "source": [
    "url='https://www.flipkart.com '\n",
    "driver.get(url)"
   ]
  },
  {
   "cell_type": "code",
   "execution_count": 188,
   "id": "6dc4e737",
   "metadata": {},
   "outputs": [],
   "source": [
    "search_itm=driver.find_element_by_class_name(\"_3704LK\")\n",
    "\n",
    "search_itm.send_keys( \"Oneplus Nord, pixel 4A smartphone\")"
   ]
  },
  {
   "cell_type": "code",
   "execution_count": 189,
   "id": "e11e9592",
   "metadata": {},
   "outputs": [],
   "source": [
    "search_btn=driver.find_element_by_class_name('L0Z3Pu')\n",
    "search_btn\n",
    "search_btn.click()"
   ]
  },
  {
   "cell_type": "markdown",
   "id": "7710c9db",
   "metadata": {},
   "source": [
    "no product found by this name"
   ]
  },
  {
   "cell_type": "markdown",
   "id": "42dd1346",
   "metadata": {},
   "source": [
    "# 5.Write a program to scrap geospatial coordinates (latitude, longitude) of a city searched on google\n",
    "maps"
   ]
  },
  {
   "cell_type": "code",
   "execution_count": 196,
   "id": "bddce089",
   "metadata": {},
   "outputs": [],
   "source": [
    "driver=webdriver.Chrome(r'C:/Users/RUCHITA/Downloads/chromedriver_win32/chromedriver.exe')"
   ]
  },
  {
   "cell_type": "code",
   "execution_count": 197,
   "id": "52d69574",
   "metadata": {},
   "outputs": [],
   "source": [
    "url='https://www.google.co.in/maps'\n",
    "driver.get(url)"
   ]
  },
  {
   "cell_type": "code",
   "execution_count": 198,
   "id": "f4586890",
   "metadata": {},
   "outputs": [],
   "source": [
    "from time import sleep\n",
    "sleep(5)"
   ]
  },
  {
   "cell_type": "code",
   "execution_count": 199,
   "id": "e2367325",
   "metadata": {},
   "outputs": [],
   "source": [
    "#search place like destination\n",
    "def searchplace():\n",
    "    Place = driver.find_element_by_class_name(\"tactile-searchbox-input\")\n",
    "    Place.send_keys(\"pune\")\n",
    "    Search = driver.find_element_by_class_name(\"nhb85d-BIqFsb\")\n",
    "    Search.click()\n",
    "searchplace()"
   ]
  },
  {
   "cell_type": "code",
   "execution_count": 201,
   "id": "997fe8c3",
   "metadata": {},
   "outputs": [],
   "source": [
    "#for use the direction\n",
    "def directions():\n",
    "    sleep(10)\n",
    "    directions = driver.find_element_by_class_name(\"EgL07d\")\n",
    "    directions.click()\n",
    "directions()"
   ]
  },
  {
   "cell_type": "code",
   "execution_count": 209,
   "id": "e7926a59",
   "metadata": {},
   "outputs": [],
   "source": [
    "#find the place like starting point\n",
    "def find():\n",
    "    sleep(10)\n",
    "    find = driver.find_element_by_xpath(\"/html/body/div[3]/div[9]/div[3]/div[1]/div[2]/div/div[3]/div[1]/div[1]/div[2]/div[1]/div/input\")\n",
    "       \n",
    "    find.send_keys(\"indore\")\n",
    "    sleep(5)\n",
    "    search = driver.find_element_by_xpath(\"/html/body/div[3]/div[9]/div[3]/div[1]/div[2]/div/div[3]/div[1]/div[1]/div[2]/button[1]\")\n",
    "       \n",
    "    search.click()\n",
    "find()"
   ]
  },
  {
   "cell_type": "markdown",
   "id": "fd191b4a",
   "metadata": {},
   "source": [
    "# 6.Write a program to scrap details of all the funding deals for second quarter (i.e Jan 21 – March 21)\n",
    "from trak.in."
   ]
  },
  {
   "cell_type": "code",
   "execution_count": 12,
   "id": "bba7a738",
   "metadata": {},
   "outputs": [],
   "source": [
    "driver=webdriver.Chrome(r'C:/Users/RUCHITA/Downloads/chromedriver_win32/chromedriver.exe')"
   ]
  },
  {
   "cell_type": "code",
   "execution_count": 13,
   "id": "3ee9b8cf",
   "metadata": {},
   "outputs": [],
   "source": [
    "url='https://www.trak.in'\n",
    "driver.get(url)"
   ]
  },
  {
   "cell_type": "code",
   "execution_count": 14,
   "id": "8393da73",
   "metadata": {},
   "outputs": [],
   "source": [
    "from time import sleep\n",
    "sleep(5)\n",
    "more= driver.find_element_by_xpath(\"/html/body/div[1]/header/div[2]/div/div/div/div/nav/ul/li[9]/a\")\n",
    "       \n",
    "more.click()"
   ]
  },
  {
   "cell_type": "code",
   "execution_count": 67,
   "id": "055217c0",
   "metadata": {},
   "outputs": [],
   "source": [
    "sleep(10)\n",
    "dates=[]\n",
    "date=driver.find_elements_by_class_name(\"column-2\")\n",
    "for i in date:\n",
    "    dates.append(i.text)\n",
    "\n",
    "name=[]\n",
    "s_name=driver.find_elements_by_class_name(\"column-3\")\n",
    "for i in s_name:\n",
    "    name.append(i.text)\n",
    "industry=[]\n",
    "indus=driver.find_elements_by_class_name(\"column-4\")\n",
    "for i in indus:\n",
    "    industry.append(i.text)\n",
    "subvertical=[]\n",
    "mode=driver.find_elements_by_class_name(\"column-5\")\n",
    "for i in mode:\n",
    "    subvertical.append(i.text)\n",
    "city=[]\n",
    "cty=driver.find_elements_by_class_name(\"column-6\")\n",
    "for i in cty:\n",
    "    city.append(i.text)\n",
    "investor=[]\n",
    "inve=driver.find_elements_by_class_name(\"column-7\")\n",
    "for i in inve:\n",
    "    investor.append(i.text)\n",
    "invst_type=[]\n",
    "typ=driver.find_elements_by_class_name(\"column-9\")\n",
    "for i in typ:\n",
    "    invst_type.append(i.text)\n",
    "    amount=[]\n",
    "amnt=driver.find_elements_by_class_name(\"column-9\")\n",
    "for i in amnt:\n",
    "    amount.append(i.text)"
   ]
  },
  {
   "cell_type": "code",
   "execution_count": 68,
   "id": "c516a7e1",
   "metadata": {},
   "outputs": [],
   "source": [
    "df=pd.DataFrame({\n",
    "                'date':dates[7:39],\n",
    "                'startup name':name[7:39],\n",
    "    'industry':industry[7:39],\n",
    "    'sub vertical':subvertical[7:39],'city nmae':city[7:39],\n",
    "'investor name':investor[7:39],'investor type':invst_type[7:39],'amount in USD':amount[7:39]})"
   ]
  },
  {
   "cell_type": "code",
   "execution_count": 69,
   "id": "a7f1b57a",
   "metadata": {},
   "outputs": [
    {
     "data": {
      "text/html": [
       "<div>\n",
       "<style scoped>\n",
       "    .dataframe tbody tr th:only-of-type {\n",
       "        vertical-align: middle;\n",
       "    }\n",
       "\n",
       "    .dataframe tbody tr th {\n",
       "        vertical-align: top;\n",
       "    }\n",
       "\n",
       "    .dataframe thead th {\n",
       "        text-align: right;\n",
       "    }\n",
       "</style>\n",
       "<table border=\"1\" class=\"dataframe\">\n",
       "  <thead>\n",
       "    <tr style=\"text-align: right;\">\n",
       "      <th></th>\n",
       "      <th>date</th>\n",
       "      <th>startup name</th>\n",
       "      <th>industry</th>\n",
       "      <th>sub vertical</th>\n",
       "      <th>city nmae</th>\n",
       "      <th>investor name</th>\n",
       "      <th>investor type</th>\n",
       "      <th>amount in USD</th>\n",
       "    </tr>\n",
       "  </thead>\n",
       "  <tbody>\n",
       "    <tr>\n",
       "      <th>0</th>\n",
       "      <td>Date (dd/mm/yyyy)</td>\n",
       "      <td>Startup Name</td>\n",
       "      <td>Industry / Vertical</td>\n",
       "      <td>Sub-Vertical</td>\n",
       "      <td>City / Location</td>\n",
       "      <td>Investors' Name</td>\n",
       "      <td>Amount (In USD)</td>\n",
       "      <td>Amount (In USD)</td>\n",
       "    </tr>\n",
       "    <tr>\n",
       "      <th>1</th>\n",
       "      <td></td>\n",
       "      <td></td>\n",
       "      <td></td>\n",
       "      <td></td>\n",
       "      <td></td>\n",
       "      <td></td>\n",
       "      <td></td>\n",
       "      <td></td>\n",
       "    </tr>\n",
       "    <tr>\n",
       "      <th>2</th>\n",
       "      <td>04/03/2021</td>\n",
       "      <td>DealShare</td>\n",
       "      <td>E-commerce</td>\n",
       "      <td>Online shopping platform</td>\n",
       "      <td>Jaipur, Rajasthan</td>\n",
       "      <td>Innoven Capital</td>\n",
       "      <td>250,000,000</td>\n",
       "      <td>250,000,000</td>\n",
       "    </tr>\n",
       "    <tr>\n",
       "      <th>3</th>\n",
       "      <td>31/03/2021</td>\n",
       "      <td>Uniphore</td>\n",
       "      <td>Technology</td>\n",
       "      <td>Conversational Service Automation (CSA)</td>\n",
       "      <td>Palo Alto</td>\n",
       "      <td>Sorenson Capital Partners</td>\n",
       "      <td>140,000,000</td>\n",
       "      <td>140,000,000</td>\n",
       "    </tr>\n",
       "    <tr>\n",
       "      <th>4</th>\n",
       "      <td>30/03/2021</td>\n",
       "      <td>Dunzo</td>\n",
       "      <td>E-commerce</td>\n",
       "      <td>Hyper-local delivery app</td>\n",
       "      <td>Bengaluru</td>\n",
       "      <td>Krishtal Advisors Pte Ltd</td>\n",
       "      <td>8,000,000</td>\n",
       "      <td>8,000,000</td>\n",
       "    </tr>\n",
       "    <tr>\n",
       "      <th>5</th>\n",
       "      <td>30/03/2021</td>\n",
       "      <td>BYJU’S</td>\n",
       "      <td>Edu-tech</td>\n",
       "      <td>Online tutoring</td>\n",
       "      <td>Bengaluru</td>\n",
       "      <td>MC Global Edtech, B Capital, Baron, others</td>\n",
       "      <td>460,000,000</td>\n",
       "      <td>460,000,000</td>\n",
       "    </tr>\n",
       "    <tr>\n",
       "      <th>6</th>\n",
       "      <td>23/03/2021</td>\n",
       "      <td>SkilloVilla</td>\n",
       "      <td>Edu-tech</td>\n",
       "      <td>Career and job-oriented upskilling.</td>\n",
       "      <td>Bengaluru</td>\n",
       "      <td>Titan Capital, others</td>\n",
       "      <td>300,000,000</td>\n",
       "      <td>300,000,000</td>\n",
       "    </tr>\n",
       "    <tr>\n",
       "      <th>7</th>\n",
       "      <td>25/03/2021</td>\n",
       "      <td>CityMall</td>\n",
       "      <td>E-commerce</td>\n",
       "      <td>Social ecommerce and online grocery platform</td>\n",
       "      <td>Gurgaon</td>\n",
       "      <td>Accel Partners</td>\n",
       "      <td>11,000,000</td>\n",
       "      <td>11,000,000</td>\n",
       "    </tr>\n",
       "    <tr>\n",
       "      <th>8</th>\n",
       "      <td>26/03/2021</td>\n",
       "      <td>DotPe</td>\n",
       "      <td>FinTech</td>\n",
       "      <td>Commerce and payments platform to offline ente...</td>\n",
       "      <td>Gurgaon</td>\n",
       "      <td>PayU</td>\n",
       "      <td>27,500,000</td>\n",
       "      <td>27,500,000</td>\n",
       "    </tr>\n",
       "    <tr>\n",
       "      <th>9</th>\n",
       "      <td>Date (dd/mm/yyyy)</td>\n",
       "      <td>Startup Name</td>\n",
       "      <td>Industry / Vertical</td>\n",
       "      <td>Sub-Vertical</td>\n",
       "      <td>City / Location</td>\n",
       "      <td>Investors' Name</td>\n",
       "      <td>Amount (In USD)</td>\n",
       "      <td>Amount (In USD)</td>\n",
       "    </tr>\n",
       "    <tr>\n",
       "      <th>10</th>\n",
       "      <td></td>\n",
       "      <td></td>\n",
       "      <td></td>\n",
       "      <td></td>\n",
       "      <td></td>\n",
       "      <td></td>\n",
       "      <td></td>\n",
       "      <td></td>\n",
       "    </tr>\n",
       "    <tr>\n",
       "      <th>11</th>\n",
       "      <td>11/02/2021</td>\n",
       "      <td>Doubtnut</td>\n",
       "      <td>Edu Tech</td>\n",
       "      <td>E-Learning Platform</td>\n",
       "      <td>Gurgaon</td>\n",
       "      <td>SIG Global, Sequoia Capital, WaterBridge Ventu...</td>\n",
       "      <td>2,500,000</td>\n",
       "      <td>2,500,000</td>\n",
       "    </tr>\n",
       "    <tr>\n",
       "      <th>12</th>\n",
       "      <td>22/02/2021</td>\n",
       "      <td>Zomato</td>\n",
       "      <td>Hospitality</td>\n",
       "      <td>Online Food Delivery Platform</td>\n",
       "      <td>Gurgaon</td>\n",
       "      <td>Tiger Global, Kora</td>\n",
       "      <td>250,000,000</td>\n",
       "      <td>250,000,000</td>\n",
       "    </tr>\n",
       "    <tr>\n",
       "      <th>13</th>\n",
       "      <td>19/02/2021</td>\n",
       "      <td>Fingerlix</td>\n",
       "      <td>Hospitality</td>\n",
       "      <td>Semi-cooked food delivery app</td>\n",
       "      <td>Mumbai</td>\n",
       "      <td>Rhodium Trust, Accel Partners and Swiggy</td>\n",
       "      <td>2,747,045.20</td>\n",
       "      <td>2,747,045.20</td>\n",
       "    </tr>\n",
       "    <tr>\n",
       "      <th>14</th>\n",
       "      <td>17/02/2021</td>\n",
       "      <td>Zolve</td>\n",
       "      <td>FinTech</td>\n",
       "      <td>Global Neobank Venture</td>\n",
       "      <td>Mumbai</td>\n",
       "      <td>Accel Partners and Lightspeed Venture Partners</td>\n",
       "      <td>1,50,00,000</td>\n",
       "      <td>1,50,00,000</td>\n",
       "    </tr>\n",
       "    <tr>\n",
       "      <th>15</th>\n",
       "      <td>15/02/2021</td>\n",
       "      <td>KreditBee</td>\n",
       "      <td>Finance</td>\n",
       "      <td>Digital lending platform</td>\n",
       "      <td>Bengaluru</td>\n",
       "      <td>Azim Premji’s PremjiInvest and South Korea’s M...</td>\n",
       "      <td>75,000,000</td>\n",
       "      <td>75,000,000</td>\n",
       "    </tr>\n",
       "    <tr>\n",
       "      <th>16</th>\n",
       "      <td>12/02/2021</td>\n",
       "      <td>Pepperfry</td>\n",
       "      <td>E-commerce</td>\n",
       "      <td>Multi-brand furniture brand</td>\n",
       "      <td>Mumbai</td>\n",
       "      <td>InnoVen Capital</td>\n",
       "      <td>4,773,958</td>\n",
       "      <td>4,773,958</td>\n",
       "    </tr>\n",
       "    <tr>\n",
       "      <th>17</th>\n",
       "      <td>12/02/2021</td>\n",
       "      <td>Grofers</td>\n",
       "      <td>E-Commerce</td>\n",
       "      <td>Online supermarket</td>\n",
       "      <td>Gurgaon</td>\n",
       "      <td>SoftBank Vision Fund (SVF)</td>\n",
       "      <td>55,000,000</td>\n",
       "      <td>55,000,000</td>\n",
       "    </tr>\n",
       "    <tr>\n",
       "      <th>18</th>\n",
       "      <td>09/02/2021</td>\n",
       "      <td>Nothing</td>\n",
       "      <td>Technology</td>\n",
       "      <td>Consumer Technology Venture</td>\n",
       "      <td>London</td>\n",
       "      <td>GV</td>\n",
       "      <td>15,000,000</td>\n",
       "      <td>15,000,000</td>\n",
       "    </tr>\n",
       "    <tr>\n",
       "      <th>19</th>\n",
       "      <td>09/02/2021</td>\n",
       "      <td>SplashLearn</td>\n",
       "      <td>EdTech</td>\n",
       "      <td>Game-based learning programme</td>\n",
       "      <td>Gurgaon</td>\n",
       "      <td>Owl Ventures</td>\n",
       "      <td>18,000,000</td>\n",
       "      <td>18,000,000</td>\n",
       "    </tr>\n",
       "    <tr>\n",
       "      <th>20</th>\n",
       "      <td>Date (dd/mm/yyyy)</td>\n",
       "      <td>Startup Name</td>\n",
       "      <td>Industry / Vertical</td>\n",
       "      <td>Sub-Vertical</td>\n",
       "      <td>City / Location</td>\n",
       "      <td>Investors' Name</td>\n",
       "      <td>Amount (In USD)</td>\n",
       "      <td>Amount (In USD)</td>\n",
       "    </tr>\n",
       "    <tr>\n",
       "      <th>21</th>\n",
       "      <td></td>\n",
       "      <td></td>\n",
       "      <td></td>\n",
       "      <td></td>\n",
       "      <td></td>\n",
       "      <td></td>\n",
       "      <td></td>\n",
       "      <td></td>\n",
       "    </tr>\n",
       "    <tr>\n",
       "      <th>22</th>\n",
       "      <td>15/01/2021</td>\n",
       "      <td>Digit Insurance</td>\n",
       "      <td>Financial Services</td>\n",
       "      <td>Insurance Services</td>\n",
       "      <td>Bengaluru</td>\n",
       "      <td>A91 Partners, Faering Capital, TVS Capital Funds</td>\n",
       "      <td>1,80,00,000</td>\n",
       "      <td>1,80,00,000</td>\n",
       "    </tr>\n",
       "    <tr>\n",
       "      <th>23</th>\n",
       "      <td>28/01/2021</td>\n",
       "      <td>Bombay Shaving Company</td>\n",
       "      <td>Consumer Goods Company</td>\n",
       "      <td>Shave care, beard care, and skincare products</td>\n",
       "      <td>New Delhi</td>\n",
       "      <td>Reckitt Benckiser</td>\n",
       "      <td>6,172,258.50</td>\n",
       "      <td>6,172,258.50</td>\n",
       "    </tr>\n",
       "    <tr>\n",
       "      <th>24</th>\n",
       "      <td>19/01/2021</td>\n",
       "      <td>DeHaat</td>\n",
       "      <td>AgriTech Startup</td>\n",
       "      <td>online marketplace for farm products and services</td>\n",
       "      <td>Patna</td>\n",
       "      <td>Prosus Ventures</td>\n",
       "      <td>30,000,000</td>\n",
       "      <td>30,000,000</td>\n",
       "    </tr>\n",
       "    <tr>\n",
       "      <th>25</th>\n",
       "      <td>19/01/2021</td>\n",
       "      <td>Darwinbox</td>\n",
       "      <td>SaaS</td>\n",
       "      <td>HR Tech</td>\n",
       "      <td>Mumbai</td>\n",
       "      <td>Salesforce Ventures</td>\n",
       "      <td>15,000,000</td>\n",
       "      <td>15,000,000</td>\n",
       "    </tr>\n",
       "    <tr>\n",
       "      <th>26</th>\n",
       "      <td>18/01/2021</td>\n",
       "      <td>mfine</td>\n",
       "      <td>Health Tech Startup</td>\n",
       "      <td>AI-powered telemedicine mobile app</td>\n",
       "      <td>Bengaluru</td>\n",
       "      <td>Heritas Capital Management</td>\n",
       "      <td>16,000,000</td>\n",
       "      <td>16,000,000</td>\n",
       "    </tr>\n",
       "    <tr>\n",
       "      <th>27</th>\n",
       "      <td>18/01/2021</td>\n",
       "      <td>Udayy</td>\n",
       "      <td>EdTech</td>\n",
       "      <td>Online learning platform for kids in class 1-5</td>\n",
       "      <td>Gurgaon</td>\n",
       "      <td>Sequoia Capital</td>\n",
       "      <td>15,000,000</td>\n",
       "      <td>15,000,000</td>\n",
       "    </tr>\n",
       "    <tr>\n",
       "      <th>28</th>\n",
       "      <td>11/01/2021</td>\n",
       "      <td>True Elements</td>\n",
       "      <td>Food Startup</td>\n",
       "      <td>Whole Food plant based Nashta</td>\n",
       "      <td>Pune</td>\n",
       "      <td>SIDBI Venture Capital</td>\n",
       "      <td>100,000,000</td>\n",
       "      <td>100,000,000</td>\n",
       "    </tr>\n",
       "    <tr>\n",
       "      <th>29</th>\n",
       "      <td>13/01/2021</td>\n",
       "      <td>Saveo</td>\n",
       "      <td>B2B E-commerce</td>\n",
       "      <td>Pharmacies</td>\n",
       "      <td>Bengaluru</td>\n",
       "      <td>Matrix Partners India, RTP Global, others</td>\n",
       "      <td>4,000,000</td>\n",
       "      <td>4,000,000</td>\n",
       "    </tr>\n",
       "    <tr>\n",
       "      <th>30</th>\n",
       "      <td>Date (dd/mm/yyyy)</td>\n",
       "      <td>Startup Name</td>\n",
       "      <td>Industry / Vertical</td>\n",
       "      <td>Sub-Vertical</td>\n",
       "      <td>City / Location</td>\n",
       "      <td>Investors' Name</td>\n",
       "      <td>Amount (In USD)</td>\n",
       "      <td>Amount (In USD)</td>\n",
       "    </tr>\n",
       "    <tr>\n",
       "      <th>31</th>\n",
       "      <td></td>\n",
       "      <td></td>\n",
       "      <td></td>\n",
       "      <td></td>\n",
       "      <td></td>\n",
       "      <td></td>\n",
       "      <td></td>\n",
       "      <td></td>\n",
       "    </tr>\n",
       "  </tbody>\n",
       "</table>\n",
       "</div>"
      ],
      "text/plain": [
       "                 date            startup name                industry  \\\n",
       "0   Date (dd/mm/yyyy)            Startup Name     Industry / Vertical   \n",
       "1                                                                       \n",
       "2          04/03/2021               DealShare              E-commerce   \n",
       "3          31/03/2021                Uniphore              Technology   \n",
       "4          30/03/2021                   Dunzo              E-commerce   \n",
       "5          30/03/2021                  BYJU’S                Edu-tech   \n",
       "6          23/03/2021             SkilloVilla                Edu-tech   \n",
       "7          25/03/2021                CityMall              E-commerce   \n",
       "8          26/03/2021                   DotPe                 FinTech   \n",
       "9   Date (dd/mm/yyyy)            Startup Name     Industry / Vertical   \n",
       "10                                                                      \n",
       "11         11/02/2021                Doubtnut                Edu Tech   \n",
       "12         22/02/2021                  Zomato             Hospitality   \n",
       "13         19/02/2021               Fingerlix             Hospitality   \n",
       "14         17/02/2021                   Zolve                 FinTech   \n",
       "15         15/02/2021               KreditBee                 Finance   \n",
       "16         12/02/2021               Pepperfry              E-commerce   \n",
       "17         12/02/2021                 Grofers              E-Commerce   \n",
       "18         09/02/2021                 Nothing              Technology   \n",
       "19         09/02/2021             SplashLearn                  EdTech   \n",
       "20  Date (dd/mm/yyyy)            Startup Name     Industry / Vertical   \n",
       "21                                                                      \n",
       "22         15/01/2021         Digit Insurance      Financial Services   \n",
       "23         28/01/2021  Bombay Shaving Company  Consumer Goods Company   \n",
       "24         19/01/2021                  DeHaat        AgriTech Startup   \n",
       "25         19/01/2021               Darwinbox                    SaaS   \n",
       "26         18/01/2021                   mfine     Health Tech Startup   \n",
       "27         18/01/2021                   Udayy                  EdTech   \n",
       "28         11/01/2021           True Elements            Food Startup   \n",
       "29         13/01/2021                   Saveo          B2B E-commerce   \n",
       "30  Date (dd/mm/yyyy)            Startup Name     Industry / Vertical   \n",
       "31                                                                      \n",
       "\n",
       "                                         sub vertical          city nmae  \\\n",
       "0                                        Sub-Vertical    City / Location   \n",
       "1                                                                          \n",
       "2                            Online shopping platform  Jaipur, Rajasthan   \n",
       "3             Conversational Service Automation (CSA)          Palo Alto   \n",
       "4                            Hyper-local delivery app          Bengaluru   \n",
       "5                                     Online tutoring          Bengaluru   \n",
       "6                 Career and job-oriented upskilling.          Bengaluru   \n",
       "7        Social ecommerce and online grocery platform            Gurgaon   \n",
       "8   Commerce and payments platform to offline ente...            Gurgaon   \n",
       "9                                        Sub-Vertical    City / Location   \n",
       "10                                                                         \n",
       "11                                E-Learning Platform            Gurgaon   \n",
       "12                      Online Food Delivery Platform            Gurgaon   \n",
       "13                      Semi-cooked food delivery app             Mumbai   \n",
       "14                             Global Neobank Venture             Mumbai   \n",
       "15                           Digital lending platform          Bengaluru   \n",
       "16                        Multi-brand furniture brand             Mumbai   \n",
       "17                                 Online supermarket            Gurgaon   \n",
       "18                        Consumer Technology Venture             London   \n",
       "19                      Game-based learning programme            Gurgaon   \n",
       "20                                       Sub-Vertical    City / Location   \n",
       "21                                                                         \n",
       "22                                 Insurance Services          Bengaluru   \n",
       "23      Shave care, beard care, and skincare products          New Delhi   \n",
       "24  online marketplace for farm products and services              Patna   \n",
       "25                                            HR Tech             Mumbai   \n",
       "26                 AI-powered telemedicine mobile app          Bengaluru   \n",
       "27     Online learning platform for kids in class 1-5            Gurgaon   \n",
       "28                      Whole Food plant based Nashta               Pune   \n",
       "29                                         Pharmacies          Bengaluru   \n",
       "30                                       Sub-Vertical    City / Location   \n",
       "31                                                                         \n",
       "\n",
       "                                        investor name    investor type  \\\n",
       "0                                     Investors' Name  Amount (In USD)   \n",
       "1                                                                        \n",
       "2                                     Innoven Capital      250,000,000   \n",
       "3                           Sorenson Capital Partners      140,000,000   \n",
       "4                           Krishtal Advisors Pte Ltd        8,000,000   \n",
       "5          MC Global Edtech, B Capital, Baron, others      460,000,000   \n",
       "6                               Titan Capital, others      300,000,000   \n",
       "7                                      Accel Partners       11,000,000   \n",
       "8                                                PayU       27,500,000   \n",
       "9                                     Investors' Name  Amount (In USD)   \n",
       "10                                                                       \n",
       "11  SIG Global, Sequoia Capital, WaterBridge Ventu...        2,500,000   \n",
       "12                                 Tiger Global, Kora      250,000,000   \n",
       "13           Rhodium Trust, Accel Partners and Swiggy     2,747,045.20   \n",
       "14     Accel Partners and Lightspeed Venture Partners      1,50,00,000   \n",
       "15  Azim Premji’s PremjiInvest and South Korea’s M...       75,000,000   \n",
       "16                                    InnoVen Capital        4,773,958   \n",
       "17                         SoftBank Vision Fund (SVF)       55,000,000   \n",
       "18                                                 GV       15,000,000   \n",
       "19                                       Owl Ventures       18,000,000   \n",
       "20                                    Investors' Name  Amount (In USD)   \n",
       "21                                                                       \n",
       "22   A91 Partners, Faering Capital, TVS Capital Funds      1,80,00,000   \n",
       "23                                  Reckitt Benckiser     6,172,258.50   \n",
       "24                                    Prosus Ventures       30,000,000   \n",
       "25                                Salesforce Ventures       15,000,000   \n",
       "26                         Heritas Capital Management       16,000,000   \n",
       "27                                    Sequoia Capital       15,000,000   \n",
       "28                              SIDBI Venture Capital      100,000,000   \n",
       "29          Matrix Partners India, RTP Global, others        4,000,000   \n",
       "30                                    Investors' Name  Amount (In USD)   \n",
       "31                                                                       \n",
       "\n",
       "      amount in USD  \n",
       "0   Amount (In USD)  \n",
       "1                    \n",
       "2       250,000,000  \n",
       "3       140,000,000  \n",
       "4         8,000,000  \n",
       "5       460,000,000  \n",
       "6       300,000,000  \n",
       "7        11,000,000  \n",
       "8        27,500,000  \n",
       "9   Amount (In USD)  \n",
       "10                   \n",
       "11        2,500,000  \n",
       "12      250,000,000  \n",
       "13     2,747,045.20  \n",
       "14      1,50,00,000  \n",
       "15       75,000,000  \n",
       "16        4,773,958  \n",
       "17       55,000,000  \n",
       "18       15,000,000  \n",
       "19       18,000,000  \n",
       "20  Amount (In USD)  \n",
       "21                   \n",
       "22      1,80,00,000  \n",
       "23     6,172,258.50  \n",
       "24       30,000,000  \n",
       "25       15,000,000  \n",
       "26       16,000,000  \n",
       "27       15,000,000  \n",
       "28      100,000,000  \n",
       "29        4,000,000  \n",
       "30  Amount (In USD)  \n",
       "31                   "
      ]
     },
     "execution_count": 69,
     "metadata": {},
     "output_type": "execute_result"
    }
   ],
   "source": [
    "df"
   ]
  },
  {
   "cell_type": "code",
   "execution_count": null,
   "id": "1233d387",
   "metadata": {},
   "outputs": [],
   "source": []
  },
  {
   "cell_type": "markdown",
   "id": "db9afbd2",
   "metadata": {},
   "source": [
    "# 7.Write a program to scrap all the available details of best gaming laptops from digit.in¶"
   ]
  },
  {
   "cell_type": "code",
   "execution_count": 451,
   "id": "168beda4",
   "metadata": {},
   "outputs": [],
   "source": [
    "driver=webdriver.Chrome(r'C:/Users/RUCHITA/Downloads/chromedriver_win32/chromedriver.exe')"
   ]
  },
  {
   "cell_type": "code",
   "execution_count": 452,
   "id": "ac395e8e",
   "metadata": {},
   "outputs": [],
   "source": [
    "url='https://www.digit.in'\n",
    "driver.get(url)"
   ]
  },
  {
   "cell_type": "code",
   "execution_count": 453,
   "id": "212312f1",
   "metadata": {},
   "outputs": [],
   "source": [
    "sleep(5)"
   ]
  },
  {
   "cell_type": "code",
   "execution_count": 454,
   "id": "c65ebb6a",
   "metadata": {},
   "outputs": [],
   "source": [
    "Search = driver.find_element_by_class_name(\"search\")\n",
    "Search.click()"
   ]
  },
  {
   "cell_type": "code",
   "execution_count": 455,
   "id": "28a28d50",
   "metadata": {},
   "outputs": [],
   "source": [
    "search_itm = driver.find_element_by_xpath('/html/body/div[2]/div[2]/div/div/input')\n",
    "search_itm.send_keys(\"best gaming laptop\")"
   ]
  },
  {
   "cell_type": "code",
   "execution_count": 456,
   "id": "3d3b9d28",
   "metadata": {},
   "outputs": [],
   "source": [
    "from selenium.webdriver.common.keys import Keys\n",
    "search_itm.send_keys(Keys.ENTER)"
   ]
  },
  {
   "cell_type": "code",
   "execution_count": 457,
   "id": "a610daae",
   "metadata": {},
   "outputs": [],
   "source": [
    "element_list = []\n",
    "  \n",
    "for page in range(1, 10, 1):#webside has 499 pages so we can use range(1,449)\n",
    "    \n",
    "    page_url = \"https://www.digit.in/search/?keyword=best%20gaming%20laptop\" + str(page)\n",
    "    \n",
    "    driver.get(page_url)\n",
    "    title = driver.find_elements_by_class_name(\"searchProduct-desc\")\n",
    "    \n",
    "  \n",
    "    for i in range(len(title)):\n",
    "        element_list.append([title[i].text])\n",
    "  "
   ]
  },
  {
   "cell_type": "code",
   "execution_count": 458,
   "id": "f745798e",
   "metadata": {},
   "outputs": [],
   "source": [
    "df=pd.DataFrame()\n",
    "df['products_name']=element_list"
   ]
  },
  {
   "cell_type": "code",
   "execution_count": 459,
   "id": "f0bfcdb8",
   "metadata": {},
   "outputs": [
    {
     "data": {
      "text/html": [
       "<div>\n",
       "<style scoped>\n",
       "    .dataframe tbody tr th:only-of-type {\n",
       "        vertical-align: middle;\n",
       "    }\n",
       "\n",
       "    .dataframe tbody tr th {\n",
       "        vertical-align: top;\n",
       "    }\n",
       "\n",
       "    .dataframe thead th {\n",
       "        text-align: right;\n",
       "    }\n",
       "</style>\n",
       "<table border=\"1\" class=\"dataframe\">\n",
       "  <thead>\n",
       "    <tr style=\"text-align: right;\">\n",
       "      <th></th>\n",
       "      <th>products_name</th>\n",
       "    </tr>\n",
       "  </thead>\n",
       "  <tbody>\n",
       "    <tr>\n",
       "      <th>0</th>\n",
       "      <td>[Asus GTX980 Matrix Platinum]</td>\n",
       "    </tr>\n",
       "    <tr>\n",
       "      <th>1</th>\n",
       "      <td>[Sony PlayStation Vita]</td>\n",
       "    </tr>\n",
       "    <tr>\n",
       "      <th>2</th>\n",
       "      <td>[Cooler Master Storm Devastator]</td>\n",
       "    </tr>\n",
       "    <tr>\n",
       "      <th>3</th>\n",
       "      <td>[Asus G750JX-CV069P]</td>\n",
       "    </tr>\n",
       "    <tr>\n",
       "      <th>4</th>\n",
       "      <td>[Asus TUF Gaming FX505]</td>\n",
       "    </tr>\n",
       "  </tbody>\n",
       "</table>\n",
       "</div>"
      ],
      "text/plain": [
       "                      products_name\n",
       "0     [Asus GTX980 Matrix Platinum]\n",
       "1           [Sony PlayStation Vita]\n",
       "2  [Cooler Master Storm Devastator]\n",
       "3              [Asus G750JX-CV069P]\n",
       "4           [Asus TUF Gaming FX505]"
      ]
     },
     "execution_count": 459,
     "metadata": {},
     "output_type": "execute_result"
    }
   ],
   "source": [
    "df.head()"
   ]
  },
  {
   "cell_type": "markdown",
   "id": "a543861a",
   "metadata": {},
   "source": [
    "# 8.Write a python program to scrape the details for all billionaires from www.forbes.com. Details to be\n",
    "scrapped: “Rank”, “Name”, “Net worth”, “Age”, “Citizenship”, “Source”, “Industry”."
   ]
  },
  {
   "cell_type": "code",
   "execution_count": 123,
   "id": "e3bd99c2",
   "metadata": {},
   "outputs": [],
   "source": [
    "import pandas as pd\n",
    "import selenium\n",
    "from selenium import webdriver\n",
    "import warnings\n",
    "warnings.filterwarnings(\"ignore\")"
   ]
  },
  {
   "cell_type": "code",
   "execution_count": 124,
   "id": "e24583d4",
   "metadata": {},
   "outputs": [],
   "source": [
    "driver=webdriver.Chrome(r'C:/Users/RUCHITA/Downloads/chromedriver_win32/chromedriver.exe')"
   ]
  },
  {
   "cell_type": "code",
   "execution_count": 125,
   "id": "75d05d44",
   "metadata": {},
   "outputs": [],
   "source": [
    "url='https://www.forbes.com'\n",
    "driver.get(url)"
   ]
  },
  {
   "cell_type": "code",
   "execution_count": 126,
   "id": "da8b79f1",
   "metadata": {},
   "outputs": [],
   "source": [
    "from time import sleep\n",
    "sleep(10)"
   ]
  },
  {
   "cell_type": "code",
   "execution_count": 127,
   "id": "bfc937cd",
   "metadata": {},
   "outputs": [],
   "source": [
    "explore= driver.find_element_by_class_name(\"icon--hamburger\")"
   ]
  },
  {
   "cell_type": "code",
   "execution_count": 128,
   "id": "d352dfdf",
   "metadata": {},
   "outputs": [],
   "source": [
    "explore.click()"
   ]
  },
  {
   "cell_type": "code",
   "execution_count": 129,
   "id": "c16835e5",
   "metadata": {},
   "outputs": [],
   "source": [
    "bill= driver.find_element_by_xpath(\"/html/body/div[1]/header/nav/div[3]/ul/li[1]\")"
   ]
  },
  {
   "cell_type": "code",
   "execution_count": 130,
   "id": "7ccc5ece",
   "metadata": {},
   "outputs": [],
   "source": [
    "bill.click()"
   ]
  },
  {
   "cell_type": "code",
   "execution_count": 131,
   "id": "be3d4ba1",
   "metadata": {},
   "outputs": [],
   "source": [
    "world_bill= driver.find_element_by_class_name(\"section__link\")"
   ]
  },
  {
   "cell_type": "code",
   "execution_count": 132,
   "id": "16e1dfe5",
   "metadata": {},
   "outputs": [],
   "source": [
    "world_bill.click()"
   ]
  },
  {
   "cell_type": "code",
   "execution_count": 146,
   "id": "a9f5677a",
   "metadata": {},
   "outputs": [],
   "source": [
    "\n",
    "name=[]\n",
    "names= driver.find_elements_by_class_name(\"personName\")\n",
    "for i in names:\n",
    "  \n",
    "    name.append(i.text)\n",
    "    \n",
    "\n",
    "    \n",
    "\n",
    "        "
   ]
  },
  {
   "cell_type": "code",
   "execution_count": 147,
   "id": "59056b77",
   "metadata": {},
   "outputs": [],
   "source": [
    "NET_WORTH=[]\n",
    "worth= driver.find_elements_by_class_name(\"netWorth\")\n",
    "for i in worth:\n",
    "  \n",
    "        NET_WORTH.append(i.text)"
   ]
  },
  {
   "cell_type": "code",
   "execution_count": 148,
   "id": "9651a3c0",
   "metadata": {},
   "outputs": [],
   "source": [
    "COUNTRY_TERRITORY=[]\n",
    "countries= driver.find_elements_by_class_name(\"countryOfCitizenship\")\n",
    "for i in countries:\n",
    "  \n",
    "        COUNTRY_TERRITORY.append(i.text)"
   ]
  },
  {
   "cell_type": "code",
   "execution_count": 149,
   "id": "28d032ef",
   "metadata": {},
   "outputs": [],
   "source": [
    "SOURCE=[]\n",
    "company= driver.find_elements_by_class_name(\"source-column\")\n",
    "for i in company:\n",
    "  \n",
    "        SOURCE.append(i.text)"
   ]
  },
  {
   "cell_type": "code",
   "execution_count": 150,
   "id": "bed1ac88",
   "metadata": {},
   "outputs": [],
   "source": [
    "INDUSTRY=[]\n",
    "fields= driver.find_elements_by_class_name(\"category\")\n",
    "for i in fields:\n",
    "  \n",
    "        INDUSTRY.append(i.text)\n",
    "\n",
    "   \n",
    "    \n",
    "   "
   ]
  },
  {
   "cell_type": "code",
   "execution_count": 151,
   "id": "5452b1e8",
   "metadata": {},
   "outputs": [],
   "source": [
    "df=pd.DataFrame({\n",
    "                'names':name[1:],\n",
    "                'NetWorth':NET_WORTH[1:],'country':COUNTRY_TERRITORY[1:],'company name':SOURCE,'fields':INDUSTRY[1:]})"
   ]
  },
  {
   "cell_type": "code",
   "execution_count": 152,
   "id": "526691fb",
   "metadata": {},
   "outputs": [
    {
     "data": {
      "text/html": [
       "<div>\n",
       "<style scoped>\n",
       "    .dataframe tbody tr th:only-of-type {\n",
       "        vertical-align: middle;\n",
       "    }\n",
       "\n",
       "    .dataframe tbody tr th {\n",
       "        vertical-align: top;\n",
       "    }\n",
       "\n",
       "    .dataframe thead th {\n",
       "        text-align: right;\n",
       "    }\n",
       "</style>\n",
       "<table border=\"1\" class=\"dataframe\">\n",
       "  <thead>\n",
       "    <tr style=\"text-align: right;\">\n",
       "      <th></th>\n",
       "      <th>names</th>\n",
       "      <th>NetWorth</th>\n",
       "      <th>country</th>\n",
       "      <th>company name</th>\n",
       "      <th>fields</th>\n",
       "    </tr>\n",
       "  </thead>\n",
       "  <tbody>\n",
       "    <tr>\n",
       "      <th>0</th>\n",
       "      <td>Jeff Bezos</td>\n",
       "      <td>$177 B</td>\n",
       "      <td>United States</td>\n",
       "      <td>Amazon</td>\n",
       "      <td></td>\n",
       "    </tr>\n",
       "    <tr>\n",
       "      <th>1</th>\n",
       "      <td>Elon Musk</td>\n",
       "      <td>$151 B</td>\n",
       "      <td>United States</td>\n",
       "      <td>Tesla, SpaceX</td>\n",
       "      <td></td>\n",
       "    </tr>\n",
       "    <tr>\n",
       "      <th>2</th>\n",
       "      <td>Bernard Arnault &amp; family</td>\n",
       "      <td>$150 B</td>\n",
       "      <td>France</td>\n",
       "      <td>LVMH</td>\n",
       "      <td></td>\n",
       "    </tr>\n",
       "    <tr>\n",
       "      <th>3</th>\n",
       "      <td>Bill Gates</td>\n",
       "      <td>$124 B</td>\n",
       "      <td>United States</td>\n",
       "      <td>Microsoft</td>\n",
       "      <td></td>\n",
       "    </tr>\n",
       "    <tr>\n",
       "      <th>4</th>\n",
       "      <td>Mark Zuckerberg</td>\n",
       "      <td>$97 B</td>\n",
       "      <td>United States</td>\n",
       "      <td>Facebook</td>\n",
       "      <td></td>\n",
       "    </tr>\n",
       "    <tr>\n",
       "      <th>...</th>\n",
       "      <td>...</td>\n",
       "      <td>...</td>\n",
       "      <td>...</td>\n",
       "      <td>...</td>\n",
       "      <td>...</td>\n",
       "    </tr>\n",
       "    <tr>\n",
       "      <th>195</th>\n",
       "      <td>Harry Triguboff</td>\n",
       "      <td>$11.2 B</td>\n",
       "      <td>Australia</td>\n",
       "      <td>real estate</td>\n",
       "      <td></td>\n",
       "    </tr>\n",
       "    <tr>\n",
       "      <th>196</th>\n",
       "      <td>Leonid Fedun</td>\n",
       "      <td>$11.1 B</td>\n",
       "      <td>Russia</td>\n",
       "      <td>oil</td>\n",
       "      <td></td>\n",
       "    </tr>\n",
       "    <tr>\n",
       "      <th>197</th>\n",
       "      <td>Eyal Ofer</td>\n",
       "      <td>$11.1 B</td>\n",
       "      <td>Israel</td>\n",
       "      <td>real estate, shipping</td>\n",
       "      <td></td>\n",
       "    </tr>\n",
       "    <tr>\n",
       "      <th>198</th>\n",
       "      <td>Evan Spiegel</td>\n",
       "      <td>$11.1 B</td>\n",
       "      <td>United States</td>\n",
       "      <td>Snapchat</td>\n",
       "      <td></td>\n",
       "    </tr>\n",
       "    <tr>\n",
       "      <th>199</th>\n",
       "      <td>Luis Carlos Sarmiento</td>\n",
       "      <td>$11 B</td>\n",
       "      <td>Colombia</td>\n",
       "      <td>banking</td>\n",
       "      <td></td>\n",
       "    </tr>\n",
       "  </tbody>\n",
       "</table>\n",
       "<p>200 rows × 5 columns</p>\n",
       "</div>"
      ],
      "text/plain": [
       "                        names NetWorth        country           company name  \\\n",
       "0                  Jeff Bezos   $177 B  United States                 Amazon   \n",
       "1                   Elon Musk   $151 B  United States          Tesla, SpaceX   \n",
       "2    Bernard Arnault & family   $150 B         France                   LVMH   \n",
       "3                  Bill Gates   $124 B  United States              Microsoft   \n",
       "4             Mark Zuckerberg    $97 B  United States               Facebook   \n",
       "..                        ...      ...            ...                    ...   \n",
       "195           Harry Triguboff  $11.2 B      Australia            real estate   \n",
       "196              Leonid Fedun  $11.1 B         Russia                    oil   \n",
       "197                 Eyal Ofer  $11.1 B         Israel  real estate, shipping   \n",
       "198              Evan Spiegel  $11.1 B  United States               Snapchat   \n",
       "199     Luis Carlos Sarmiento    $11 B       Colombia                banking   \n",
       "\n",
       "    fields  \n",
       "0           \n",
       "1           \n",
       "2           \n",
       "3           \n",
       "4           \n",
       "..     ...  \n",
       "195         \n",
       "196         \n",
       "197         \n",
       "198         \n",
       "199         \n",
       "\n",
       "[200 rows x 5 columns]"
      ]
     },
     "execution_count": 152,
     "metadata": {},
     "output_type": "execute_result"
    }
   ],
   "source": [
    "df"
   ]
  },
  {
   "cell_type": "markdown",
   "id": "440ab230",
   "metadata": {},
   "source": [
    "# 9.Write a program to extract at least 500 Comments, Comment upvote and time when comment was posted\n",
    "from any YouTube Video"
   ]
  },
  {
   "cell_type": "code",
   "execution_count": 203,
   "id": "1a63c462",
   "metadata": {},
   "outputs": [],
   "source": [
    "driver=webdriver.Chrome(r'C:/Users/RUCHITA/Downloads/chromedriver_win32/chromedriver.exe')"
   ]
  },
  {
   "cell_type": "code",
   "execution_count": 204,
   "id": "bdf98c0d",
   "metadata": {},
   "outputs": [],
   "source": [
    "url='https://www.YouTube.com'\n",
    "driver.get(url)"
   ]
  },
  {
   "cell_type": "code",
   "execution_count": 205,
   "id": "01cda7fc",
   "metadata": {},
   "outputs": [],
   "source": [
    "\n",
    "sleep(10)"
   ]
  },
  {
   "cell_type": "code",
   "execution_count": 206,
   "id": "9e754540",
   "metadata": {},
   "outputs": [],
   "source": [
    "search_video=driver.find_element_by_xpath(\"/html/body/ytd-app/div[1]/div/ytd-masthead/div[3]/div[2]/ytd-searchbox/form/div[1]/div[1]/input\") \n",
    "#search_video.send_keys(\"video\")"
   ]
  },
  {
   "cell_type": "code",
   "execution_count": 207,
   "id": "026a7dbc",
   "metadata": {},
   "outputs": [],
   "source": [
    "search_video.send_keys(\"video SONG\")"
   ]
  },
  {
   "cell_type": "code",
   "execution_count": 208,
   "id": "467c84b3",
   "metadata": {},
   "outputs": [],
   "source": [
    "search_button=driver.find_element_by_xpath(\"/html/body/ytd-app/div[1]/div/ytd-masthead/div[3]/div[2]/ytd-searchbox/button/yt-icon\")"
   ]
  },
  {
   "cell_type": "code",
   "execution_count": 209,
   "id": "b8fdf561",
   "metadata": {},
   "outputs": [],
   "source": [
    "search_button.click()"
   ]
  },
  {
   "cell_type": "code",
   "execution_count": 221,
   "id": "cf660138",
   "metadata": {},
   "outputs": [],
   "source": [
    "song=driver.find_element_by_class_name(\"style-scope ytd-video-primary-info-renderer\")"
   ]
  },
  {
   "cell_type": "code",
   "execution_count": 222,
   "id": "2775b7e8",
   "metadata": {},
   "outputs": [],
   "source": [
    "song.click()"
   ]
  },
  {
   "cell_type": "code",
   "execution_count": 227,
   "id": "81e86bd3",
   "metadata": {},
   "outputs": [],
   "source": [
    "comm=[]\n",
    "comments=driver.find_elements_by_class_name(\"style-scope ytd-comment-renderer\")\n",
    "for i in comments:\n",
    "    comm.append(i.text)\n",
    "    "
   ]
  },
  {
   "cell_type": "code",
   "execution_count": 228,
   "id": "1cead41d",
   "metadata": {},
   "outputs": [
    {
     "data": {
      "text/plain": [
       "['Vikas Singh\\n2 years ago\\nThis is wat we can call HEART TOUCHING...Love this voice...😘\\n45\\nREPLY',\n",
       " 'Kisu Chauhan\\n10 months ago\\nWe fall in love by watching this movie and after 5 years we got married and we still together ❤💗♥💕\\nWe love this movie\\n359\\nREPLY',\n",
       " \"Kundan Singh\\n9 months ago\\nWhenever I heard this song's movie\\nMy heart is melted ❤️\\n66\\nREPLY\",\n",
       " 'Swoham Bhattarai\\n11 months ago\\nAfter Class 10 forget all the learnings but songs are unforgettable. You never know when a song is going to strike your mind and you start to sing it sub consciously.\\n253\\nREPLY',\n",
       " 'Ericka Rodríguez\\n1 year ago\\nIm sooooo in love with these songs, they bring me back a lot of memories; what’s sad is that I haven’t been able to see the movie even after all these years cries in Spanish\\nGreetings from México 🇲🇽\\n169\\nREPLY',\n",
       " 'free fire noobs\\n9 months ago\\nStill a masterpiece ❤️❤️❤️❤️\\n96\\nREPLY',\n",
       " 'anonymous\\n2 years ago\\nEvergreen ❤️ Aashique 2 has special place in my heart nothing can replace it!\\n56\\nREPLY',\n",
       " 'Yasoda Namala\\n1 year ago\\nThese movie is so sad though it has so much meaning and emotion in it.. the songs are just phonomoneal I wish to sing like them one day!\\n152\\nREPLY',\n",
       " 'Indian Tech Vines\\n1 year ago\\nThis movie has another fanbase❤️🙂\\n36\\nREPLY',\n",
       " 'htotube\\n10 months ago\\nThis movie portrayed the realities of love and challenges so well and the songs too voiced the hardships and small beautiful moments in love.\\nSee you in 2030 friends 😊😊😊😊\\n22\\nREPLY']"
      ]
     },
     "execution_count": 228,
     "metadata": {},
     "output_type": "execute_result"
    }
   ],
   "source": [
    "comm[0:10]"
   ]
  },
  {
   "cell_type": "markdown",
   "id": "3b3fd344",
   "metadata": {},
   "source": [
    "# 10.Write a python program to scrape a data for all available Hostels from https://www.hostelworld.com/ in\n",
    "“London” location. You have to scrape hostel name, distance from city centre, ratings, total reviews,\n",
    "overall reviews, privates from price, dorms from price, facilities and property description."
   ]
  },
  {
   "cell_type": "code",
   "execution_count": 253,
   "id": "5aa6aac9",
   "metadata": {},
   "outputs": [],
   "source": [
    "driver=webdriver.Chrome(r'C:/Users/RUCHITA/Downloads/chromedriver_win32/chromedriver.exe')"
   ]
  },
  {
   "cell_type": "code",
   "execution_count": 254,
   "id": "26fa50d0",
   "metadata": {},
   "outputs": [],
   "source": [
    "url='https://www.hostelworld.com'\n",
    "driver.get(url)"
   ]
  },
  {
   "cell_type": "code",
   "execution_count": 265,
   "id": "4934407b",
   "metadata": {},
   "outputs": [],
   "source": [
    "search_location=driver.find_element_by_xpath(\"//*[@id='search-input-field']\")"
   ]
  },
  {
   "cell_type": "code",
   "execution_count": 266,
   "id": "0785108a",
   "metadata": {},
   "outputs": [],
   "source": [
    "search_location.send_keys(\"London\")"
   ]
  },
  {
   "cell_type": "code",
   "execution_count": 267,
   "id": "5c5faabc",
   "metadata": {},
   "outputs": [],
   "source": [
    "city=driver.find_element_by_xpath(\"/html/body/div[3]/div/div/div[1]/div[2]/div/div[2]/div[4]/div/div[2]/div/div[1]/div/div/ul/li[2]/div\")"
   ]
  },
  {
   "cell_type": "code",
   "execution_count": 268,
   "id": "3ccf5015",
   "metadata": {},
   "outputs": [],
   "source": [
    "city.click()"
   ]
  },
  {
   "cell_type": "code",
   "execution_count": 250,
   "id": "8eec47c6",
   "metadata": {},
   "outputs": [],
   "source": [
    "#from selenium.webdriver.common.keys import Keys\n",
    "#search_location.send_keys(Keys.ENTER)"
   ]
  },
  {
   "cell_type": "code",
   "execution_count": 269,
   "id": "8e2c5035",
   "metadata": {},
   "outputs": [],
   "source": [
    "letsgo=driver.find_element_by_xpath(\"/html/body/div[3]/div/div/div[1]/div[2]/div/div[2]/div[4]/div/div[2]/div/div[5]/button\")"
   ]
  },
  {
   "cell_type": "code",
   "execution_count": 270,
   "id": "053d892e",
   "metadata": {},
   "outputs": [],
   "source": [
    "letsgo.click()"
   ]
  },
  {
   "cell_type": "code",
   "execution_count": null,
   "id": "f0dd597e",
   "metadata": {},
   "outputs": [],
   "source": []
  },
  {
   "cell_type": "code",
   "execution_count": 395,
   "id": "8f8cdf5b",
   "metadata": {},
   "outputs": [],
   "source": [
    "hname=[]\n",
    "distance=[]\n",
    "rating=[]\n",
    "reviews=[]\n",
    "treviews=[]\n",
    "prop=[]\n",
    "price=[]\n",
    "\n",
    "\n",
    "#time.sleep(3)\n",
    "\n",
    "#scrapping the required details\n",
    "start=0\n",
    "end=3\n",
    "for page in range(start,end):#for loop for scrapping 4 page\n",
    "    hostels=driver.find_elements_by_tag_name(\"h2\")#scraping  name by tag name='h2'\n",
    "    for i in hostels:\n",
    "        hname.append(i.text)  #appending the text in hname list\n",
    "    dist=driver.find_elements_by_class_name(\"description\")# scraping the hname from the class\n",
    "    for i in dist:\n",
    "        distance.append(i.text)\n",
    "    rats=driver.find_elements_by_class_name(\"bottom-rating\")# scraping the rating from the class name\n",
    "    for i in rats:\n",
    "        rating.append(i.text.split()[0])\n",
    "    rev=driver.find_elements_by_class_name(\"keyword\")# scraping the rev from the class name\n",
    "    for i in rev:\n",
    "        reviews.append(i.text)\n",
    "    trev=driver.find_elements_by_class_name(\"reviews\")\n",
    "    for i in trev:\n",
    "        treviews.append(i.text)\n",
    "    pro=driver.find_elements_by_class_name(\"property\")\n",
    "    for i in pro:\n",
    "        prop.append(i.text)\n",
    "    pr=driver.find_elements_by_class_name(\"prices\")\n",
    "    for i in pr:\n",
    "        price.append(i.text)     "
   ]
  },
  {
   "cell_type": "code",
   "execution_count": 417,
   "id": "d1377402",
   "metadata": {},
   "outputs": [
    {
     "data": {
      "text/html": [
       "<div>\n",
       "<style scoped>\n",
       "    .dataframe tbody tr th:only-of-type {\n",
       "        vertical-align: middle;\n",
       "    }\n",
       "\n",
       "    .dataframe tbody tr th {\n",
       "        vertical-align: top;\n",
       "    }\n",
       "\n",
       "    .dataframe thead th {\n",
       "        text-align: right;\n",
       "    }\n",
       "</style>\n",
       "<table border=\"1\" class=\"dataframe\">\n",
       "  <thead>\n",
       "    <tr style=\"text-align: right;\">\n",
       "      <th></th>\n",
       "      <th>hostel name</th>\n",
       "      <th>distance from city center</th>\n",
       "      <th>ratings</th>\n",
       "      <th>reviews</th>\n",
       "      <th>totall reviews</th>\n",
       "      <th>property details</th>\n",
       "      <th>price</th>\n",
       "    </tr>\n",
       "  </thead>\n",
       "  <tbody>\n",
       "    <tr>\n",
       "      <th>0</th>\n",
       "      <td>St Christopher's Village</td>\n",
       "      <td>Hostel - 1.8km from city centre</td>\n",
       "      <td>8.0</td>\n",
       "      <td>Fabulous</td>\n",
       "      <td>11062 Total Reviews</td>\n",
       "      <td>From Rs1196</td>\n",
       "      <td>From Rs1196</td>\n",
       "    </tr>\n",
       "    <tr>\n",
       "      <th>1</th>\n",
       "      <td>St Christopher's Village</td>\n",
       "      <td>Hostel - 1.7km from city centre</td>\n",
       "      <td>7.7</td>\n",
       "      <td>Fabulous</td>\n",
       "      <td>4110 Total Reviews</td>\n",
       "      <td>No Privates Available\\nDorms From\\nRs1328.72 R...</td>\n",
       "      <td>No Privates Available\\nDorms From\\nRs1328.72 R...</td>\n",
       "    </tr>\n",
       "    <tr>\n",
       "      <th>2</th>\n",
       "      <td>Safestay London Elephant &amp; Castle</td>\n",
       "      <td>Hostel - 3km from city centre</td>\n",
       "      <td>7.8</td>\n",
       "      <td>Very Good</td>\n",
       "      <td>6844 Total Reviews</td>\n",
       "      <td>Privates From\\nRs7241\\nDorms From\\nRs1810</td>\n",
       "      <td>Privates From\\nRs7241\\nDorms From\\nRs1810</td>\n",
       "    </tr>\n",
       "    <tr>\n",
       "      <th>3</th>\n",
       "      <td>Generator London</td>\n",
       "      <td>Hostel - 4.4km from city centre</td>\n",
       "      <td>8.5</td>\n",
       "      <td>Very Good</td>\n",
       "      <td>2772 Total Reviews</td>\n",
       "      <td>Privates From\\nRs5820\\nDorms From\\nRs2244</td>\n",
       "      <td>Privates From\\nRs5820\\nDorms From\\nRs2244</td>\n",
       "    </tr>\n",
       "    <tr>\n",
       "      <th>4</th>\n",
       "      <td>Smart Camden Inn Hostel</td>\n",
       "      <td>Hostel - 4.3km from city centre</td>\n",
       "      <td>8.5</td>\n",
       "      <td>Fabulous</td>\n",
       "      <td>11413 Total Reviews</td>\n",
       "      <td>Privates From\\nRs6958\\nDorms From\\nRs1548</td>\n",
       "      <td>Privates From\\nRs6958\\nDorms From\\nRs1548</td>\n",
       "    </tr>\n",
       "    <tr>\n",
       "      <th>...</th>\n",
       "      <td>...</td>\n",
       "      <td>...</td>\n",
       "      <td>...</td>\n",
       "      <td>...</td>\n",
       "      <td>...</td>\n",
       "      <td>...</td>\n",
       "      <td>...</td>\n",
       "    </tr>\n",
       "    <tr>\n",
       "      <th>85</th>\n",
       "      <td>St Christopher's Hammersmith</td>\n",
       "      <td>Hostel - 3.2km from city centre</td>\n",
       "      <td>8.6</td>\n",
       "      <td>Very Good</td>\n",
       "      <td>384 Total Reviews</td>\n",
       "      <td>No Privates Available\\nDorms From\\nRs1172.27 R...</td>\n",
       "      <td>No Privates Available\\nDorms From\\nRs1172.27 R...</td>\n",
       "    </tr>\n",
       "    <tr>\n",
       "      <th>86</th>\n",
       "      <td>The Dictionary Hostel</td>\n",
       "      <td>Hostel - 3.2km from city centre</td>\n",
       "      <td>7.4</td>\n",
       "      <td>Very Good</td>\n",
       "      <td>59 Total Reviews</td>\n",
       "      <td>No Privates Available\\nDorms From\\nRs1764.92 R...</td>\n",
       "      <td>No Privates Available\\nDorms From\\nRs1764.92 R...</td>\n",
       "    </tr>\n",
       "    <tr>\n",
       "      <th>87</th>\n",
       "      <td>PubLove @ The White Ferry, Victoria</td>\n",
       "      <td>Hostel - 4.3km from city centre</td>\n",
       "      <td>7.7</td>\n",
       "      <td>Fabulous</td>\n",
       "      <td>3747 Total Reviews</td>\n",
       "      <td>No Privates Available\\nDorms From\\nRs1810</td>\n",
       "      <td>No Privates Available\\nDorms From\\nRs1810</td>\n",
       "    </tr>\n",
       "    <tr>\n",
       "      <th>88</th>\n",
       "      <td>St Christopher's Inn - Liverpool Street</td>\n",
       "      <td>Hostel - 7km from city centre</td>\n",
       "      <td>7.7</td>\n",
       "      <td>Fabulous</td>\n",
       "      <td>651 Total Reviews</td>\n",
       "      <td>No Privates Available\\nDorms From\\nRs2296.49 R...</td>\n",
       "      <td>No Privates Available\\nDorms From\\nRs2296.49 R...</td>\n",
       "    </tr>\n",
       "    <tr>\n",
       "      <th>89</th>\n",
       "      <td>Clink261</td>\n",
       "      <td>Hostel - 0.5km from city centre</td>\n",
       "      <td>7.8</td>\n",
       "      <td>Very Good</td>\n",
       "      <td>245 Total Reviews</td>\n",
       "      <td>Privates From\\nRs8047.57 Rs7243\\nDorms From\\nR...</td>\n",
       "      <td>Privates From\\nRs8047.57 Rs7243\\nDorms From\\nR...</td>\n",
       "    </tr>\n",
       "  </tbody>\n",
       "</table>\n",
       "<p>90 rows × 7 columns</p>\n",
       "</div>"
      ],
      "text/plain": [
       "                                hostel name        distance from city center  \\\n",
       "0                  St Christopher's Village  Hostel - 1.8km from city centre   \n",
       "1                  St Christopher's Village  Hostel - 1.7km from city centre   \n",
       "2         Safestay London Elephant & Castle    Hostel - 3km from city centre   \n",
       "3                          Generator London  Hostel - 4.4km from city centre   \n",
       "4                   Smart Camden Inn Hostel  Hostel - 4.3km from city centre   \n",
       "..                                      ...                              ...   \n",
       "85             St Christopher's Hammersmith  Hostel - 3.2km from city centre   \n",
       "86                    The Dictionary Hostel  Hostel - 3.2km from city centre   \n",
       "87      PubLove @ The White Ferry, Victoria  Hostel - 4.3km from city centre   \n",
       "88  St Christopher's Inn - Liverpool Street    Hostel - 7km from city centre   \n",
       "89                                 Clink261  Hostel - 0.5km from city centre   \n",
       "\n",
       "   ratings    reviews       totall reviews  \\\n",
       "0      8.0   Fabulous  11062 Total Reviews   \n",
       "1      7.7   Fabulous   4110 Total Reviews   \n",
       "2      7.8  Very Good   6844 Total Reviews   \n",
       "3      8.5  Very Good   2772 Total Reviews   \n",
       "4      8.5   Fabulous  11413 Total Reviews   \n",
       "..     ...        ...                  ...   \n",
       "85     8.6  Very Good    384 Total Reviews   \n",
       "86     7.4  Very Good     59 Total Reviews   \n",
       "87     7.7   Fabulous   3747 Total Reviews   \n",
       "88     7.7   Fabulous    651 Total Reviews   \n",
       "89     7.8  Very Good    245 Total Reviews   \n",
       "\n",
       "                                     property details  \\\n",
       "0                                         From Rs1196   \n",
       "1   No Privates Available\\nDorms From\\nRs1328.72 R...   \n",
       "2           Privates From\\nRs7241\\nDorms From\\nRs1810   \n",
       "3           Privates From\\nRs5820\\nDorms From\\nRs2244   \n",
       "4           Privates From\\nRs6958\\nDorms From\\nRs1548   \n",
       "..                                                ...   \n",
       "85  No Privates Available\\nDorms From\\nRs1172.27 R...   \n",
       "86  No Privates Available\\nDorms From\\nRs1764.92 R...   \n",
       "87          No Privates Available\\nDorms From\\nRs1810   \n",
       "88  No Privates Available\\nDorms From\\nRs2296.49 R...   \n",
       "89  Privates From\\nRs8047.57 Rs7243\\nDorms From\\nR...   \n",
       "\n",
       "                                                price  \n",
       "0                                         From Rs1196  \n",
       "1   No Privates Available\\nDorms From\\nRs1328.72 R...  \n",
       "2           Privates From\\nRs7241\\nDorms From\\nRs1810  \n",
       "3           Privates From\\nRs5820\\nDorms From\\nRs2244  \n",
       "4           Privates From\\nRs6958\\nDorms From\\nRs1548  \n",
       "..                                                ...  \n",
       "85  No Privates Available\\nDorms From\\nRs1172.27 R...  \n",
       "86  No Privates Available\\nDorms From\\nRs1764.92 R...  \n",
       "87          No Privates Available\\nDorms From\\nRs1810  \n",
       "88  No Privates Available\\nDorms From\\nRs2296.49 R...  \n",
       "89  Privates From\\nRs8047.57 Rs7243\\nDorms From\\nR...  \n",
       "\n",
       "[90 rows x 7 columns]"
      ]
     },
     "execution_count": 417,
     "metadata": {},
     "output_type": "execute_result"
    }
   ],
   "source": [
    "#creating a dataframe\n",
    "df=pd.DataFrame({'hostel name':hname[:90],\n",
    "                'distance from city center':distance[:90],\n",
    "                'ratings':rating[:90],\n",
    "                'reviews':reviews[:90],\n",
    "                'totall reviews':treviews[:90],\n",
    "                'property details':pro[:90],\n",
    "                'price':price})\n",
    "#printing dataframe\n",
    "df"
   ]
  },
  {
   "cell_type": "code",
   "execution_count": 412,
   "id": "a04aa3ad",
   "metadata": {},
   "outputs": [],
   "source": [
    "del price[90:95]\n",
    "del hname[90:95]\n",
    "del reviews[90:95]\n",
    "del prop[90:95]\n"
   ]
  },
  {
   "cell_type": "code",
   "execution_count": null,
   "id": "8a451847",
   "metadata": {},
   "outputs": [],
   "source": []
  }
 ],
 "metadata": {
  "kernelspec": {
   "display_name": "Python 3",
   "language": "python",
   "name": "python3"
  },
  "language_info": {
   "codemirror_mode": {
    "name": "ipython",
    "version": 3
   },
   "file_extension": ".py",
   "mimetype": "text/x-python",
   "name": "python",
   "nbconvert_exporter": "python",
   "pygments_lexer": "ipython3",
   "version": "3.8.8"
  }
 },
 "nbformat": 4,
 "nbformat_minor": 5
}
