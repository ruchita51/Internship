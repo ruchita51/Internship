{
 "cells": [
  {
   "cell_type": "markdown",
   "id": "25c2e791",
   "metadata": {},
   "source": [
    "# 11 Write a python program to find the factorial of a number"
   ]
  },
  {
   "cell_type": "code",
   "execution_count": 13,
   "id": "eed36006",
   "metadata": {},
   "outputs": [
    {
     "name": "stdout",
     "output_type": "stream",
     "text": [
      "enter the value:5\n",
      "120\n"
     ]
    }
   ],
   "source": [
    "nm=int(input(\"enter the value:\"))\n",
    "fac=1\n",
    "for i in range(nm,0,-1):\n",
    "    fac=fac*i\n",
    "print(fac)\n"
   ]
  },
  {
   "cell_type": "code",
   "execution_count": 14,
   "id": "14577b26",
   "metadata": {},
   "outputs": [
    {
     "name": "stdout",
     "output_type": "stream",
     "text": [
      "enter the numb:6\n",
      "factorial value 720\n"
     ]
    }
   ],
   "source": [
    "num= int(input(\"enter the numb:\"))\n",
    "factorial=1\n",
    "while(num>1):\n",
    "    factorial=factorial*num\n",
    "    num=num-1\n",
    "print(\"factorial value\",factorial)"
   ]
  },
  {
   "cell_type": "markdown",
   "id": "eb8664e5",
   "metadata": {},
   "source": [
    "# 12 Write a python program to find whether a number is prime or composite"
   ]
  },
  {
   "cell_type": "code",
   "execution_count": 15,
   "id": "bb940609",
   "metadata": {},
   "outputs": [
    {
     "name": "stdout",
     "output_type": "stream",
     "text": [
      "enter the value :7\n",
      "prime no\n"
     ]
    }
   ],
   "source": [
    "num=int(input(\"enter the value :\"))\n",
    "count=0\n",
    "i=1\n",
    "while (i<=num):\n",
    "    if num%i==0:\n",
    "        count=count+1\n",
    "    i=i+1\n",
    "if count==2:\n",
    "     print(\"prime no\")\n",
    "elif count>2:\n",
    "    print(\"composit no\")\n",
    "else:\n",
    "    print(\"naither prime nor composit\")"
   ]
  },
  {
   "cell_type": "markdown",
   "id": "ac787169",
   "metadata": {},
   "source": [
    "# 13 python program to check whether a given string is palindrome or not"
   ]
  },
  {
   "cell_type": "code",
   "execution_count": 4,
   "id": "805879e9",
   "metadata": {},
   "outputs": [
    {
     "name": "stdout",
     "output_type": "stream",
     "text": [
      "enter any string:sdsea\n",
      "not palindrome\n"
     ]
    }
   ],
   "source": [
    "a=input(\"enter any string:\")\n",
    "b=a[-1::-1]\n",
    "if b==a:\n",
    "    print(\"palindrome string\")\n",
    "else:\n",
    "    print(\"not palindrome\")"
   ]
  },
  {
   "cell_type": "markdown",
   "id": "46241990",
   "metadata": {},
   "source": [
    "# 14Write a Python program to get the third side of right-angled triangle from two given sides"
   ]
  },
  {
   "cell_type": "code",
   "execution_count": 10,
   "id": "79b2e146",
   "metadata": {},
   "outputs": [
    {
     "name": "stdout",
     "output_type": "stream",
     "text": [
      "enter the vale base5\n",
      "enter the value of height20\n",
      "third side 20.615528128088304\n"
     ]
    }
   ],
   "source": [
    "import math\n",
    "a=int(input(\"enter the vale base\"))\n",
    "b=int(input(\"enter the value of height\"))\n",
    "x=int(input(\"enter the value of angle\"))\n",
    "c=math.sqrt(a**2+b**2)\n",
    "print(\"third side\",c)\n"
   ]
  },
  {
   "cell_type": "markdown",
   "id": "a229f5b6",
   "metadata": {},
   "source": [
    "# 15. Write a python program to print the frequency of each of the characters present in a given string."
   ]
  },
  {
   "cell_type": "code",
   "execution_count": 18,
   "id": "7b177eee",
   "metadata": {},
   "outputs": [
    {
     "name": "stdout",
     "output_type": "stream",
     "text": [
      "enter any string or character:look\n",
      "Character frequency table for 'look' is :\n",
      " {'k': 1, 'o': 2, 'l': 1}\n"
     ]
    }
   ],
   "source": [
    "\n",
    "\n",
    "input_string = input(\"enter any string or character:\")\n",
    "\n",
    "frequency_table = {char : input_string.count(char) for char in set(input_string)} \n",
    "\n",
    "\n",
    "print (\"Character frequency table for '{}' is :\\n {}\".format(input_string, str(frequency_table)))\n",
    "\n",
    "    \n",
    "    \n",
    "\n"
   ]
  },
  {
   "cell_type": "code",
   "execution_count": null,
   "id": "3364556b",
   "metadata": {},
   "outputs": [],
   "source": []
  }
 ],
 "metadata": {
  "kernelspec": {
   "display_name": "Python 3",
   "language": "python",
   "name": "python3"
  },
  "language_info": {
   "codemirror_mode": {
    "name": "ipython",
    "version": 3
   },
   "file_extension": ".py",
   "mimetype": "text/x-python",
   "name": "python",
   "nbconvert_exporter": "python",
   "pygments_lexer": "ipython3",
   "version": "3.8.8"
  }
 },
 "nbformat": 4,
 "nbformat_minor": 5
}
